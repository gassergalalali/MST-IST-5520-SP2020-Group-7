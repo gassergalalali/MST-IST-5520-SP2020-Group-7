{
 "cells": [
  {
   "cell_type": "markdown",
   "metadata": {},
   "source": [
    "#  Regression on Sale Price"
   ]
  },
  {
   "cell_type": "markdown",
   "metadata": {},
   "source": [
    "Notes: \n",
    " - Cleaned data is  stored in `./clean_data`"
   ]
  },
  {
   "cell_type": "code",
   "execution_count": 113,
   "metadata": {},
   "outputs": [],
   "source": [
    "import numpy as np\n",
    "import pandas as pd\n",
    "import matplotlib.pyplot as plt\n",
    "import seaborn as sns"
   ]
  },
  {
   "cell_type": "code",
   "execution_count": 114,
   "metadata": {},
   "outputs": [],
   "source": [
    "# Read cleaned Data\n",
    "dt = pd.read_csv(\"./clean_data/clean_data.csv\")"
   ]
  },
  {
   "cell_type": "code",
   "execution_count": 126,
   "metadata": {},
   "outputs": [
    {
     "name": "stdout",
     "output_type": "stream",
     "text": [
      "<class 'pandas.core.frame.DataFrame'>\n",
      "RangeIndex: 34127 entries, 0 to 34126\n",
      "Data columns (total 43 columns):\n",
      " #   Column                                Non-Null Count  Dtype  \n",
      "---  ------                                --------------  -----  \n",
      " 0   Unnamed: 0                            34127 non-null  int64  \n",
      " 1   CategoryCode                          34127 non-null  int64  \n",
      " 2   StartDate                             34127 non-null  int64  \n",
      " 3   CompletionDate                        34127 non-null  int64  \n",
      " 4   SaleDate                              34127 non-null  int64  \n",
      " 5   Division                              34127 non-null  int64  \n",
      " 6   MetropolitanArea                      34127 non-null  int64  \n",
      " 7   SalesPrice                            18734 non-null  float64\n",
      " 8   ContractPrice                         4787 non-null   float64\n",
      " 9   LotValue                              34127 non-null  int64  \n",
      " 10  ClosingCostsinSalesPrice              34127 non-null  int64  \n",
      " 11  TypeofFinancing                       28135 non-null  float64\n",
      " 12  SquareFootAreaoftheLot                30456 non-null  float64\n",
      " 13  FinishedBasement                      34127 non-null  int64  \n",
      " 14  SquareFootAreaofFinishedBasement      2113 non-null   float64\n",
      " 15  DesignofHouse                         34089 non-null  float64\n",
      " 16  Condominium                           34127 non-null  int64  \n",
      " 17  ConstructionMethod                    34008 non-null  float64\n",
      " 18  Bedrooms                              33416 non-null  float64\n",
      " 19  FullBathrooms                         34127 non-null  int64  \n",
      " 20  HalfBathrooms                         17606 non-null  float64\n",
      " 21  Stories                               33676 non-null  float64\n",
      " 22  Fireplace                             21963 non-null  float64\n",
      " 23  ParkingFacility                       34127 non-null  int64  \n",
      " 24  Foundation                            33780 non-null  float64\n",
      " 25  SecondaryExteriorWallMaterial         32976 non-null  float64\n",
      " 26  PrimaryExteriorWallMaterial           33293 non-null  float64\n",
      " 27  SecondaryExteriorWallMaterial.1       32936 non-null  float64\n",
      " 28  Deck                                  33052 non-null  float64\n",
      " 29  Patio                                 33078 non-null  float64\n",
      " 30  Porch                                 33145 non-null  float64\n",
      " 31  PrimarySpaceHeatingFuel               33307 non-null  float64\n",
      " 32  PrimarySpaceHeatingSystem             33109 non-null  float64\n",
      " 33  CentralAir-conditioning               33380 non-null  float64\n",
      " 34  SquareFootAreaofHouse                 33110 non-null  float64\n",
      " 35  Weight                                34127 non-null  int64  \n",
      " 36  SquareFootAreaoftheLotFlag            34127 non-null  int64  \n",
      " 37  SquareFootAreaofFinishedBasementFlag  34127 non-null  int64  \n",
      " 38  SalesPriceFlag                        34127 non-null  int64  \n",
      " 39  ContractPriceFlag                     34127 non-null  int64  \n",
      " 40  LotValueFlag                          34127 non-null  int64  \n",
      " 41  SquareFootAreaofHouseFlag             34127 non-null  int64  \n",
      " 42  PermitAuthorizationDate               34127 non-null  int64  \n",
      "dtypes: float64(22), int64(21)\n",
      "memory usage: 11.2 MB\n"
     ]
    }
   ],
   "source": [
    "dt.info()"
   ]
  },
  {
   "cell_type": "code",
   "execution_count": 127,
   "metadata": {},
   "outputs": [],
   "source": [
    "dfs=dt[dt['CategoryCode']==1]"
   ]
  },
  {
   "cell_type": "code",
   "execution_count": 128,
   "metadata": {},
   "outputs": [
    {
     "name": "stdout",
     "output_type": "stream",
     "text": [
      "<class 'pandas.core.frame.DataFrame'>\n",
      "Int64Index: 23292 entries, 0 to 33903\n",
      "Data columns (total 43 columns):\n",
      " #   Column                                Non-Null Count  Dtype  \n",
      "---  ------                                --------------  -----  \n",
      " 0   Unnamed: 0                            23292 non-null  int64  \n",
      " 1   CategoryCode                          23292 non-null  int64  \n",
      " 2   StartDate                             23292 non-null  int64  \n",
      " 3   CompletionDate                        23292 non-null  int64  \n",
      " 4   SaleDate                              23292 non-null  int64  \n",
      " 5   Division                              23292 non-null  int64  \n",
      " 6   MetropolitanArea                      23292 non-null  int64  \n",
      " 7   SalesPrice                            18734 non-null  float64\n",
      " 8   ContractPrice                         0 non-null      float64\n",
      " 9   LotValue                              23292 non-null  int64  \n",
      " 10  ClosingCostsinSalesPrice              23292 non-null  int64  \n",
      " 11  TypeofFinancing                       18741 non-null  float64\n",
      " 12  SquareFootAreaoftheLot                21016 non-null  float64\n",
      " 13  FinishedBasement                      23292 non-null  int64  \n",
      " 14  SquareFootAreaofFinishedBasement      1331 non-null   float64\n",
      " 15  DesignofHouse                         23287 non-null  float64\n",
      " 16  Condominium                           23292 non-null  int64  \n",
      " 17  ConstructionMethod                    23247 non-null  float64\n",
      " 18  Bedrooms                              23008 non-null  float64\n",
      " 19  FullBathrooms                         23292 non-null  int64  \n",
      " 20  HalfBathrooms                         12143 non-null  float64\n",
      " 21  Stories                               23140 non-null  float64\n",
      " 22  Fireplace                             15625 non-null  float64\n",
      " 23  ParkingFacility                       23292 non-null  int64  \n",
      " 24  Foundation                            23189 non-null  float64\n",
      " 25  SecondaryExteriorWallMaterial         22807 non-null  float64\n",
      " 26  PrimaryExteriorWallMaterial           22999 non-null  float64\n",
      " 27  SecondaryExteriorWallMaterial.1       22789 non-null  float64\n",
      " 28  Deck                                  22827 non-null  float64\n",
      " 29  Patio                                 22860 non-null  float64\n",
      " 30  Porch                                 22861 non-null  float64\n",
      " 31  PrimarySpaceHeatingFuel               23046 non-null  float64\n",
      " 32  PrimarySpaceHeatingSystem             23016 non-null  float64\n",
      " 33  CentralAir-conditioning               23005 non-null  float64\n",
      " 34  SquareFootAreaofHouse                 22800 non-null  float64\n",
      " 35  Weight                                23292 non-null  int64  \n",
      " 36  SquareFootAreaoftheLotFlag            23292 non-null  int64  \n",
      " 37  SquareFootAreaofFinishedBasementFlag  23292 non-null  int64  \n",
      " 38  SalesPriceFlag                        23292 non-null  int64  \n",
      " 39  ContractPriceFlag                     23292 non-null  int64  \n",
      " 40  LotValueFlag                          23292 non-null  int64  \n",
      " 41  SquareFootAreaofHouseFlag             23292 non-null  int64  \n",
      " 42  PermitAuthorizationDate               23292 non-null  int64  \n",
      "dtypes: float64(22), int64(21)\n",
      "memory usage: 7.8 MB\n"
     ]
    }
   ],
   "source": [
    "dfs.info()"
   ]
  },
  {
   "cell_type": "code",
   "execution_count": 129,
   "metadata": {},
   "outputs": [],
   "source": [
    "dfs=dfs.drop(['CategoryCode','StartDate','CompletionDate','ContractPrice','SquareFootAreaoftheLotFlag',\n",
    "              'SquareFootAreaofFinishedBasementFlag','SalesPriceFlag','ContractPriceFlag','LotValueFlag',\n",
    "              'SquareFootAreaofHouseFlag','PermitAuthorizationDate'], axis=1)"
   ]
  },
  {
   "cell_type": "code",
   "execution_count": 130,
   "metadata": {},
   "outputs": [
    {
     "name": "stdout",
     "output_type": "stream",
     "text": [
      "<class 'pandas.core.frame.DataFrame'>\n",
      "Int64Index: 23292 entries, 0 to 33903\n",
      "Data columns (total 32 columns):\n",
      " #   Column                            Non-Null Count  Dtype  \n",
      "---  ------                            --------------  -----  \n",
      " 0   Unnamed: 0                        23292 non-null  int64  \n",
      " 1   SaleDate                          23292 non-null  int64  \n",
      " 2   Division                          23292 non-null  int64  \n",
      " 3   MetropolitanArea                  23292 non-null  int64  \n",
      " 4   SalesPrice                        18734 non-null  float64\n",
      " 5   LotValue                          23292 non-null  int64  \n",
      " 6   ClosingCostsinSalesPrice          23292 non-null  int64  \n",
      " 7   TypeofFinancing                   18741 non-null  float64\n",
      " 8   SquareFootAreaoftheLot            21016 non-null  float64\n",
      " 9   FinishedBasement                  23292 non-null  int64  \n",
      " 10  SquareFootAreaofFinishedBasement  1331 non-null   float64\n",
      " 11  DesignofHouse                     23287 non-null  float64\n",
      " 12  Condominium                       23292 non-null  int64  \n",
      " 13  ConstructionMethod                23247 non-null  float64\n",
      " 14  Bedrooms                          23008 non-null  float64\n",
      " 15  FullBathrooms                     23292 non-null  int64  \n",
      " 16  HalfBathrooms                     12143 non-null  float64\n",
      " 17  Stories                           23140 non-null  float64\n",
      " 18  Fireplace                         15625 non-null  float64\n",
      " 19  ParkingFacility                   23292 non-null  int64  \n",
      " 20  Foundation                        23189 non-null  float64\n",
      " 21  SecondaryExteriorWallMaterial     22807 non-null  float64\n",
      " 22  PrimaryExteriorWallMaterial       22999 non-null  float64\n",
      " 23  SecondaryExteriorWallMaterial.1   22789 non-null  float64\n",
      " 24  Deck                              22827 non-null  float64\n",
      " 25  Patio                             22860 non-null  float64\n",
      " 26  Porch                             22861 non-null  float64\n",
      " 27  PrimarySpaceHeatingFuel           23046 non-null  float64\n",
      " 28  PrimarySpaceHeatingSystem         23016 non-null  float64\n",
      " 29  CentralAir-conditioning           23005 non-null  float64\n",
      " 30  SquareFootAreaofHouse             22800 non-null  float64\n",
      " 31  Weight                            23292 non-null  int64  \n",
      "dtypes: float64(21), int64(11)\n",
      "memory usage: 5.9 MB\n"
     ]
    }
   ],
   "source": [
    "dfs.info()"
   ]
  },
  {
   "cell_type": "code",
   "execution_count": 131,
   "metadata": {},
   "outputs": [
    {
     "data": {
      "text/plain": [
       "3.0    11381\n",
       "1.0     8752\n",
       "2.0     2709\n",
       "4.0      347\n",
       "Name: Foundation, dtype: int64"
      ]
     },
     "execution_count": 131,
     "metadata": {},
     "output_type": "execute_result"
    }
   ],
   "source": [
    "dfs['Foundation'].value_counts()"
   ]
  },
  {
   "cell_type": "code",
   "execution_count": 122,
   "metadata": {},
   "outputs": [],
   "source": [
    "#dfs['FinishedBasement'] = dfs[dfs['Foundation']==1 ,'FinishedBasement'].replace(0,np.NaN)"
   ]
  },
  {
   "cell_type": "code",
   "execution_count": 138,
   "metadata": {},
   "outputs": [
    {
     "ename": "AttributeError",
     "evalue": "'Series' object has no attribute 'columns'",
     "output_type": "error",
     "traceback": [
      "\u001b[1;31m---------------------------------------------------------------------------\u001b[0m",
      "\u001b[1;31mAttributeError\u001b[0m                            Traceback (most recent call last)",
      "\u001b[1;32m<ipython-input-138-36155e3ae384>\u001b[0m in \u001b[0;36m<module>\u001b[1;34m\u001b[0m\n\u001b[1;32m----> 1\u001b[1;33m \u001b[0mdfs\u001b[0m\u001b[1;33m.\u001b[0m\u001b[0mhead\u001b[0m\u001b[1;33m(\u001b[0m\u001b[1;33m)\u001b[0m\u001b[1;33m.\u001b[0m\u001b[0mapply\u001b[0m\u001b[1;33m(\u001b[0m\u001b[1;32mlambda\u001b[0m \u001b[0mx\u001b[0m\u001b[1;33m:\u001b[0m \u001b[0mx\u001b[0m\u001b[1;33m.\u001b[0m\u001b[0mcolumns\u001b[0m\u001b[1;33m)\u001b[0m\u001b[1;33m\u001b[0m\u001b[1;33m\u001b[0m\u001b[0m\n\u001b[0m",
      "\u001b[1;32mc:\\users\\toshiba\\appdata\\local\\programs\\python\\python37\\lib\\site-packages\\pandas\\core\\frame.py\u001b[0m in \u001b[0;36mapply\u001b[1;34m(self, func, axis, raw, result_type, args, **kwds)\u001b[0m\n\u001b[0;32m   6876\u001b[0m             \u001b[0mkwds\u001b[0m\u001b[1;33m=\u001b[0m\u001b[0mkwds\u001b[0m\u001b[1;33m,\u001b[0m\u001b[1;33m\u001b[0m\u001b[1;33m\u001b[0m\u001b[0m\n\u001b[0;32m   6877\u001b[0m         )\n\u001b[1;32m-> 6878\u001b[1;33m         \u001b[1;32mreturn\u001b[0m \u001b[0mop\u001b[0m\u001b[1;33m.\u001b[0m\u001b[0mget_result\u001b[0m\u001b[1;33m(\u001b[0m\u001b[1;33m)\u001b[0m\u001b[1;33m\u001b[0m\u001b[1;33m\u001b[0m\u001b[0m\n\u001b[0m\u001b[0;32m   6879\u001b[0m \u001b[1;33m\u001b[0m\u001b[0m\n\u001b[0;32m   6880\u001b[0m     \u001b[1;32mdef\u001b[0m \u001b[0mapplymap\u001b[0m\u001b[1;33m(\u001b[0m\u001b[0mself\u001b[0m\u001b[1;33m,\u001b[0m \u001b[0mfunc\u001b[0m\u001b[1;33m)\u001b[0m \u001b[1;33m->\u001b[0m \u001b[1;34m\"DataFrame\"\u001b[0m\u001b[1;33m:\u001b[0m\u001b[1;33m\u001b[0m\u001b[1;33m\u001b[0m\u001b[0m\n",
      "\u001b[1;32mc:\\users\\toshiba\\appdata\\local\\programs\\python\\python37\\lib\\site-packages\\pandas\\core\\apply.py\u001b[0m in \u001b[0;36mget_result\u001b[1;34m(self)\u001b[0m\n\u001b[0;32m    184\u001b[0m             \u001b[1;32mreturn\u001b[0m \u001b[0mself\u001b[0m\u001b[1;33m.\u001b[0m\u001b[0mapply_raw\u001b[0m\u001b[1;33m(\u001b[0m\u001b[1;33m)\u001b[0m\u001b[1;33m\u001b[0m\u001b[1;33m\u001b[0m\u001b[0m\n\u001b[0;32m    185\u001b[0m \u001b[1;33m\u001b[0m\u001b[0m\n\u001b[1;32m--> 186\u001b[1;33m         \u001b[1;32mreturn\u001b[0m \u001b[0mself\u001b[0m\u001b[1;33m.\u001b[0m\u001b[0mapply_standard\u001b[0m\u001b[1;33m(\u001b[0m\u001b[1;33m)\u001b[0m\u001b[1;33m\u001b[0m\u001b[1;33m\u001b[0m\u001b[0m\n\u001b[0m\u001b[0;32m    187\u001b[0m \u001b[1;33m\u001b[0m\u001b[0m\n\u001b[0;32m    188\u001b[0m     \u001b[1;32mdef\u001b[0m \u001b[0mapply_empty_result\u001b[0m\u001b[1;33m(\u001b[0m\u001b[0mself\u001b[0m\u001b[1;33m)\u001b[0m\u001b[1;33m:\u001b[0m\u001b[1;33m\u001b[0m\u001b[1;33m\u001b[0m\u001b[0m\n",
      "\u001b[1;32mc:\\users\\toshiba\\appdata\\local\\programs\\python\\python37\\lib\\site-packages\\pandas\\core\\apply.py\u001b[0m in \u001b[0;36mapply_standard\u001b[1;34m(self)\u001b[0m\n\u001b[0;32m    294\u001b[0m             \u001b[1;32mtry\u001b[0m\u001b[1;33m:\u001b[0m\u001b[1;33m\u001b[0m\u001b[1;33m\u001b[0m\u001b[0m\n\u001b[0;32m    295\u001b[0m                 result = libreduction.compute_reduction(\n\u001b[1;32m--> 296\u001b[1;33m                     \u001b[0mvalues\u001b[0m\u001b[1;33m,\u001b[0m \u001b[0mself\u001b[0m\u001b[1;33m.\u001b[0m\u001b[0mf\u001b[0m\u001b[1;33m,\u001b[0m \u001b[0maxis\u001b[0m\u001b[1;33m=\u001b[0m\u001b[0mself\u001b[0m\u001b[1;33m.\u001b[0m\u001b[0maxis\u001b[0m\u001b[1;33m,\u001b[0m \u001b[0mdummy\u001b[0m\u001b[1;33m=\u001b[0m\u001b[0mdummy\u001b[0m\u001b[1;33m,\u001b[0m \u001b[0mlabels\u001b[0m\u001b[1;33m=\u001b[0m\u001b[0mlabels\u001b[0m\u001b[1;33m\u001b[0m\u001b[1;33m\u001b[0m\u001b[0m\n\u001b[0m\u001b[0;32m    297\u001b[0m                 )\n\u001b[0;32m    298\u001b[0m             \u001b[1;32mexcept\u001b[0m \u001b[0mValueError\u001b[0m \u001b[1;32mas\u001b[0m \u001b[0merr\u001b[0m\u001b[1;33m:\u001b[0m\u001b[1;33m\u001b[0m\u001b[1;33m\u001b[0m\u001b[0m\n",
      "\u001b[1;32mpandas\\_libs\\reduction.pyx\u001b[0m in \u001b[0;36mpandas._libs.reduction.compute_reduction\u001b[1;34m()\u001b[0m\n",
      "\u001b[1;32mpandas\\_libs\\reduction.pyx\u001b[0m in \u001b[0;36mpandas._libs.reduction.Reducer.get_result\u001b[1;34m()\u001b[0m\n",
      "\u001b[1;32m<ipython-input-138-36155e3ae384>\u001b[0m in \u001b[0;36m<lambda>\u001b[1;34m(x)\u001b[0m\n\u001b[1;32m----> 1\u001b[1;33m \u001b[0mdfs\u001b[0m\u001b[1;33m.\u001b[0m\u001b[0mhead\u001b[0m\u001b[1;33m(\u001b[0m\u001b[1;33m)\u001b[0m\u001b[1;33m.\u001b[0m\u001b[0mapply\u001b[0m\u001b[1;33m(\u001b[0m\u001b[1;32mlambda\u001b[0m \u001b[0mx\u001b[0m\u001b[1;33m:\u001b[0m \u001b[0mx\u001b[0m\u001b[1;33m.\u001b[0m\u001b[0mcolumns\u001b[0m\u001b[1;33m)\u001b[0m\u001b[1;33m\u001b[0m\u001b[1;33m\u001b[0m\u001b[0m\n\u001b[0m",
      "\u001b[1;32mc:\\users\\toshiba\\appdata\\local\\programs\\python\\python37\\lib\\site-packages\\pandas\\core\\generic.py\u001b[0m in \u001b[0;36m__getattr__\u001b[1;34m(self, name)\u001b[0m\n\u001b[0;32m   5268\u001b[0m             \u001b[1;32mor\u001b[0m \u001b[0mname\u001b[0m \u001b[1;32min\u001b[0m \u001b[0mself\u001b[0m\u001b[1;33m.\u001b[0m\u001b[0m_accessors\u001b[0m\u001b[1;33m\u001b[0m\u001b[1;33m\u001b[0m\u001b[0m\n\u001b[0;32m   5269\u001b[0m         ):\n\u001b[1;32m-> 5270\u001b[1;33m             \u001b[1;32mreturn\u001b[0m \u001b[0mobject\u001b[0m\u001b[1;33m.\u001b[0m\u001b[0m__getattribute__\u001b[0m\u001b[1;33m(\u001b[0m\u001b[0mself\u001b[0m\u001b[1;33m,\u001b[0m \u001b[0mname\u001b[0m\u001b[1;33m)\u001b[0m\u001b[1;33m\u001b[0m\u001b[1;33m\u001b[0m\u001b[0m\n\u001b[0m\u001b[0;32m   5271\u001b[0m         \u001b[1;32melse\u001b[0m\u001b[1;33m:\u001b[0m\u001b[1;33m\u001b[0m\u001b[1;33m\u001b[0m\u001b[0m\n\u001b[0;32m   5272\u001b[0m             \u001b[1;32mif\u001b[0m \u001b[0mself\u001b[0m\u001b[1;33m.\u001b[0m\u001b[0m_info_axis\u001b[0m\u001b[1;33m.\u001b[0m\u001b[0m_can_hold_identifiers_and_holds_name\u001b[0m\u001b[1;33m(\u001b[0m\u001b[0mname\u001b[0m\u001b[1;33m)\u001b[0m\u001b[1;33m:\u001b[0m\u001b[1;33m\u001b[0m\u001b[1;33m\u001b[0m\u001b[0m\n",
      "\u001b[1;31mAttributeError\u001b[0m: 'Series' object has no attribute 'columns'"
     ]
    }
   ],
   "source": [
    "dfs.head().apply(lambda x: x)"
   ]
  },
  {
   "cell_type": "code",
   "execution_count": 124,
   "metadata": {},
   "outputs": [
    {
     "data": {
      "text/plain": [
       "Unnamed: 0                              0\n",
       "SaleDate                                0\n",
       "Division                                0\n",
       "MetropolitanArea                        0\n",
       "SalesPrice                           4558\n",
       "LotValue                                0\n",
       "ClosingCostsinSalesPrice                0\n",
       "TypeofFinancing                      4551\n",
       "SquareFootAreaoftheLot               2276\n",
       "FinishedBasement                    14699\n",
       "SquareFootAreaofFinishedBasement    21961\n",
       "DesignofHouse                           5\n",
       "Condominium                             0\n",
       "ConstructionMethod                     45\n",
       "Bedrooms                              284\n",
       "FullBathrooms                           0\n",
       "HalfBathrooms                       11149\n",
       "Stories                               152\n",
       "Fireplace                            7667\n",
       "ParkingFacility                         0\n",
       "Foundation                            103\n",
       "SecondaryExteriorWallMaterial         485\n",
       "PrimaryExteriorWallMaterial           293\n",
       "SecondaryExteriorWallMaterial.1       503\n",
       "Deck                                  465\n",
       "Patio                                 432\n",
       "Porch                                 431\n",
       "PrimarySpaceHeatingFuel               246\n",
       "PrimarySpaceHeatingSystem             276\n",
       "CentralAir-conditioning               287\n",
       "SquareFootAreaofHouse                 492\n",
       "Weight                                  0\n",
       "dtype: int64"
      ]
     },
     "execution_count": 124,
     "metadata": {},
     "output_type": "execute_result"
    }
   ],
   "source": [
    "dfs.isnull().sum()"
   ]
  },
  {
   "cell_type": "code",
   "execution_count": null,
   "metadata": {},
   "outputs": [],
   "source": []
  }
 ],
 "metadata": {
  "kernelspec": {
   "display_name": "Python 3",
   "language": "python",
   "name": "python3"
  },
  "language_info": {
   "codemirror_mode": {
    "name": "ipython",
    "version": 3
   },
   "file_extension": ".py",
   "mimetype": "text/x-python",
   "name": "python",
   "nbconvert_exporter": "python",
   "pygments_lexer": "ipython3",
   "version": "3.7.4"
  }
 },
 "nbformat": 4,
 "nbformat_minor": 2
}
