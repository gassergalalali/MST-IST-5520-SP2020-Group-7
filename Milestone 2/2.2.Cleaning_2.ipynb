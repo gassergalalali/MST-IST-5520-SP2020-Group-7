{
 "cells": [
  {
   "cell_type": "markdown",
   "metadata": {},
   "source": [
    "## Data Cleaning Stage 2"
   ]
  },
  {
   "cell_type": "markdown",
   "metadata": {},
   "source": [
    "Complete Data"
   ]
  },
  {
   "cell_type": "markdown",
   "metadata": {},
   "source": [
    "Notes: \n",
    " - Cleaned data is  stored in `./clean_data`"
   ]
  },
  {
   "cell_type": "code",
   "execution_count": 1,
   "metadata": {},
   "outputs": [],
   "source": [
    "import numpy as np\n",
    "import pandas as pd\n",
    "import matplotlib.pyplot as plt\n",
    "import seaborn as sns"
   ]
  },
  {
   "cell_type": "code",
   "execution_count": 2,
   "metadata": {},
   "outputs": [],
   "source": [
    "# Read cleaned Data\n",
    "dt = pd.read_csv(\"./clean_data/clean_dataComplete.csv\")"
   ]
  },
  {
   "cell_type": "code",
   "execution_count": 3,
   "metadata": {},
   "outputs": [
    {
     "name": "stdout",
     "output_type": "stream",
     "text": [
      "<class 'pandas.core.frame.DataFrame'>\n",
      "RangeIndex: 533609 entries, 0 to 533608\n",
      "Data columns (total 43 columns):\n",
      "Unnamed: 0                              533609 non-null int64\n",
      "CentralAir-conditioning                 518307 non-null float64\n",
      "Foundation                              526045 non-null float64\n",
      "CategoryCode                            533609 non-null int64\n",
      "ClosingCostsinSalesPrice                533609 non-null int64\n",
      "Condominium                             533609 non-null int64\n",
      "Deck                                    512504 non-null float64\n",
      "DesignofHouse                           532494 non-null float64\n",
      "Division                                533609 non-null int64\n",
      "TypeofFinancing                         373489 non-null float64\n",
      "FinishedBasement                        533609 non-null int64\n",
      "ParkingFacility                         533609 non-null int64\n",
      "PrimarySpaceHeatingSystem               512526 non-null float64\n",
      "MetropolitanArea                        533609 non-null int64\n",
      "ConstructionMethod                      530656 non-null float64\n",
      "Patio                                   511407 non-null float64\n",
      "Porch                                   515221 non-null float64\n",
      "Stories                                 523544 non-null float64\n",
      "PrimaryExteriorWallMaterial             514493 non-null float64\n",
      "SecondaryExteriorWallMaterial           414219 non-null float64\n",
      "SecondaryExteriorWallMaterial.1         508956 non-null float64\n",
      "Bedrooms                                514804 non-null float64\n",
      "CompletionDate                          533609 non-null int64\n",
      "Fireplace                               312733 non-null float64\n",
      "FullBathrooms                           533609 non-null int64\n",
      "HalfBathrooms                           285638 non-null float64\n",
      "SaleDate                                533609 non-null int64\n",
      "StartDate                               533609 non-null int64\n",
      "Weight                                  533609 non-null int64\n",
      "PrimarySpaceHeatingFuel                 511922 non-null float64\n",
      "SquareFootAreaoftheLotFlag              533609 non-null int64\n",
      "SquareFootAreaofFinishedBasementFlag    533609 non-null int64\n",
      "SalesPriceFlag                          533609 non-null int64\n",
      "ContractPriceFlag                       533609 non-null int64\n",
      "LotValueFlag                            533609 non-null int64\n",
      "SquareFootAreaofHouseFlag               533609 non-null int64\n",
      "ContractPrice                           64310 non-null float64\n",
      "SalesPrice                              279612 non-null float64\n",
      "SquareFootAreaofHouse                   509353 non-null float64\n",
      "LotValue                                533609 non-null int64\n",
      "SquareFootAreaofFinishedBasement        37174 non-null float64\n",
      "SquareFootAreaoftheLot                  427500 non-null float64\n",
      "PermitAuthorizationDate                 533609 non-null int64\n",
      "dtypes: float64(22), int64(21)\n",
      "memory usage: 175.1 MB\n"
     ]
    }
   ],
   "source": [
    "dt.info()"
   ]
  },
  {
   "cell_type": "code",
   "execution_count": 4,
   "metadata": {},
   "outputs": [],
   "source": [
    "#Beginning with the file for 2017, houses that are built for rent will be included in the \n",
    "#\"1-Built for Sale/Sold\" category rather than being shown separately.#\n",
    "\n",
    "#Joining categories 1 and 4 together as per description\n",
    "dt.loc[dt['CategoryCode']== 4, 'CategoryCode'] = 1"
   ]
  },
  {
   "cell_type": "code",
   "execution_count": 5,
   "metadata": {},
   "outputs": [],
   "source": [
    "# Choosing the houses of category = houses sold\n",
    "dfs=dt[dt['CategoryCode']==1]"
   ]
  },
  {
   "cell_type": "code",
   "execution_count": 6,
   "metadata": {},
   "outputs": [
    {
     "name": "stdout",
     "output_type": "stream",
     "text": [
      "<class 'pandas.core.frame.DataFrame'>\n",
      "Int64Index: 392286 entries, 0 to 533530\n",
      "Data columns (total 43 columns):\n",
      "Unnamed: 0                              392286 non-null int64\n",
      "CentralAir-conditioning                 384576 non-null float64\n",
      "Foundation                              388165 non-null float64\n",
      "CategoryCode                            392286 non-null int64\n",
      "ClosingCostsinSalesPrice                392286 non-null int64\n",
      "Condominium                             392286 non-null int64\n",
      "Deck                                    380805 non-null float64\n",
      "DesignofHouse                           391562 non-null float64\n",
      "Division                                392286 non-null int64\n",
      "TypeofFinancing                         262740 non-null float64\n",
      "FinishedBasement                        392286 non-null int64\n",
      "ParkingFacility                         392286 non-null int64\n",
      "PrimarySpaceHeatingSystem               382738 non-null float64\n",
      "MetropolitanArea                        392286 non-null int64\n",
      "ConstructionMethod                      390264 non-null float64\n",
      "Patio                                   380322 non-null float64\n",
      "Porch                                   382507 non-null float64\n",
      "Stories                                 387017 non-null float64\n",
      "PrimaryExteriorWallMaterial             382957 non-null float64\n",
      "SecondaryExteriorWallMaterial           315691 non-null float64\n",
      "SecondaryExteriorWallMaterial.1         379504 non-null float64\n",
      "Bedrooms                                382692 non-null float64\n",
      "CompletionDate                          392286 non-null int64\n",
      "Fireplace                               229670 non-null float64\n",
      "FullBathrooms                           392286 non-null int64\n",
      "HalfBathrooms                           214585 non-null float64\n",
      "SaleDate                                392286 non-null int64\n",
      "StartDate                               392286 non-null int64\n",
      "Weight                                  392286 non-null int64\n",
      "PrimarySpaceHeatingFuel                 381951 non-null float64\n",
      "SquareFootAreaoftheLotFlag              392286 non-null int64\n",
      "SquareFootAreaofFinishedBasementFlag    392286 non-null int64\n",
      "SalesPriceFlag                          392286 non-null int64\n",
      "ContractPriceFlag                       392286 non-null int64\n",
      "LotValueFlag                            392286 non-null int64\n",
      "SquareFootAreaofHouseFlag               392286 non-null int64\n",
      "ContractPrice                           0 non-null float64\n",
      "SalesPrice                              279612 non-null float64\n",
      "SquareFootAreaofHouse                   377660 non-null float64\n",
      "LotValue                                392286 non-null int64\n",
      "SquareFootAreaofFinishedBasement        24808 non-null float64\n",
      "SquareFootAreaoftheLot                  310627 non-null float64\n",
      "PermitAuthorizationDate                 392286 non-null int64\n",
      "dtypes: float64(22), int64(21)\n",
      "memory usage: 131.7 MB\n"
     ]
    }
   ],
   "source": [
    "dfs.info()"
   ]
  },
  {
   "cell_type": "code",
   "execution_count": 7,
   "metadata": {},
   "outputs": [],
   "source": [
    "#Dropping unecessary data \n",
    "dfs=dfs.drop(['CategoryCode','StartDate','CompletionDate','ContractPrice','SquareFootAreaoftheLotFlag',\n",
    "              'SquareFootAreaofFinishedBasementFlag','SalesPriceFlag','ContractPriceFlag','LotValueFlag',\n",
    "              'SquareFootAreaofHouseFlag','PermitAuthorizationDate','ClosingCostsinSalesPrice'], axis=1)"
   ]
  },
  {
   "cell_type": "code",
   "execution_count": 8,
   "metadata": {},
   "outputs": [],
   "source": [
    "# Dropping data samples having null sale price (Target)\n",
    "dfs = dfs.dropna(subset = {'SalesPrice'})\n",
    "dfs=dfs.reset_index(drop=True)"
   ]
  },
  {
   "cell_type": "markdown",
   "metadata": {},
   "source": [
    "## Nulls, Zeros, categories"
   ]
  },
  {
   "cell_type": "code",
   "execution_count": 9,
   "metadata": {},
   "outputs": [
    {
     "name": "stdout",
     "output_type": "stream",
     "text": [
      "<class 'pandas.core.frame.DataFrame'>\n",
      "RangeIndex: 279612 entries, 0 to 279611\n",
      "Data columns (total 31 columns):\n",
      "Unnamed: 0                          279612 non-null int64\n",
      "CentralAir-conditioning             277773 non-null float64\n",
      "Foundation                          278958 non-null float64\n",
      "Condominium                         279612 non-null int64\n",
      "Deck                                276964 non-null float64\n",
      "DesignofHouse                       279555 non-null float64\n",
      "Division                            279612 non-null int64\n",
      "TypeofFinancing                     247556 non-null float64\n",
      "FinishedBasement                    279612 non-null int64\n",
      "ParkingFacility                     279612 non-null int64\n",
      "PrimarySpaceHeatingSystem           277959 non-null float64\n",
      "MetropolitanArea                    279612 non-null int64\n",
      "ConstructionMethod                  279156 non-null float64\n",
      "Patio                               276908 non-null float64\n",
      "Porch                               277469 non-null float64\n",
      "Stories                             278960 non-null float64\n",
      "PrimaryExteriorWallMaterial         278014 non-null float64\n",
      "SecondaryExteriorWallMaterial       233333 non-null float64\n",
      "SecondaryExteriorWallMaterial.1     276561 non-null float64\n",
      "Bedrooms                            278208 non-null float64\n",
      "Fireplace                           164725 non-null float64\n",
      "FullBathrooms                       279612 non-null int64\n",
      "HalfBathrooms                       150804 non-null float64\n",
      "SaleDate                            279612 non-null int64\n",
      "Weight                              279612 non-null int64\n",
      "PrimarySpaceHeatingFuel             277856 non-null float64\n",
      "SalesPrice                          279612 non-null float64\n",
      "SquareFootAreaofHouse               276215 non-null float64\n",
      "LotValue                            279612 non-null int64\n",
      "SquareFootAreaofFinishedBasement    18681 non-null float64\n",
      "SquareFootAreaoftheLot              235534 non-null float64\n",
      "dtypes: float64(21), int64(10)\n",
      "memory usage: 66.1 MB\n"
     ]
    }
   ],
   "source": [
    "# Checking nulls\n",
    "dfs.info()"
   ]
  },
  {
   "cell_type": "code",
   "execution_count": 10,
   "metadata": {},
   "outputs": [
    {
     "data": {
      "text/plain": [
       "Unnamed: 0                               0\n",
       "CentralAir-conditioning               1839\n",
       "Foundation                             654\n",
       "Condominium                              0\n",
       "Deck                                  2648\n",
       "DesignofHouse                           57\n",
       "Division                                 0\n",
       "TypeofFinancing                      32056\n",
       "FinishedBasement                         0\n",
       "ParkingFacility                          0\n",
       "PrimarySpaceHeatingSystem             1653\n",
       "MetropolitanArea                         0\n",
       "ConstructionMethod                     456\n",
       "Patio                                 2704\n",
       "Porch                                 2143\n",
       "Stories                                652\n",
       "PrimaryExteriorWallMaterial           1598\n",
       "SecondaryExteriorWallMaterial        46279\n",
       "SecondaryExteriorWallMaterial.1       3051\n",
       "Bedrooms                              1404\n",
       "Fireplace                           114887\n",
       "FullBathrooms                            0\n",
       "HalfBathrooms                       128808\n",
       "SaleDate                                 0\n",
       "Weight                                   0\n",
       "PrimarySpaceHeatingFuel               1756\n",
       "SalesPrice                               0\n",
       "SquareFootAreaofHouse                 3397\n",
       "LotValue                                 0\n",
       "SquareFootAreaofFinishedBasement    260931\n",
       "SquareFootAreaoftheLot               44078\n",
       "dtype: int64"
      ]
     },
     "execution_count": 10,
     "metadata": {},
     "output_type": "execute_result"
    }
   ],
   "source": [
    "dfs.isnull().sum()"
   ]
  },
  {
   "cell_type": "markdown",
   "metadata": {},
   "source": [
    "Condominium variable"
   ]
  },
  {
   "cell_type": "code",
   "execution_count": 11,
   "metadata": {},
   "outputs": [
    {
     "data": {
      "text/plain": [
       "2    259334\n",
       "1     20027\n",
       "0       251\n",
       "Name: Condominium, dtype: int64"
      ]
     },
     "execution_count": 11,
     "metadata": {},
     "output_type": "execute_result"
    }
   ],
   "source": [
    "# Check condominium \n",
    "dfs['Condominium'].value_counts()\n",
    "# Condominium applies only to houses sold ==> All zeroes are nulls"
   ]
  },
  {
   "cell_type": "code",
   "execution_count": 12,
   "metadata": {},
   "outputs": [],
   "source": [
    "# Changing zeroes in cond. to nan\n",
    "dfs.loc[dfs['Condominium']==0, 'Condominium'] = dfs['Condominium'].replace(0,np.nan)"
   ]
  },
  {
   "cell_type": "markdown",
   "metadata": {},
   "source": [
    "Parking Facility Variable"
   ]
  },
  {
   "cell_type": "code",
   "execution_count": 13,
   "metadata": {},
   "outputs": [
    {
     "data": {
      "text/plain": [
       "2    187904\n",
       "3     60340\n",
       "1     17500\n",
       "4     12857\n",
       "0      1011\n",
       "Name: ParkingFacility, dtype: int64"
      ]
     },
     "execution_count": 13,
     "metadata": {},
     "output_type": "execute_result"
    }
   ],
   "source": [
    "# Zero indicates missing data\n",
    "dfs['ParkingFacility'].value_counts()"
   ]
  },
  {
   "cell_type": "code",
   "execution_count": 14,
   "metadata": {},
   "outputs": [],
   "source": [
    "# Changing zeroes in ParkFAC to nan\n",
    "dfs.loc[dfs['ParkingFacility']==0, 'ParkingFacility'] = dfs['ParkingFacility'].replace(0,np.nan)"
   ]
  },
  {
   "cell_type": "code",
   "execution_count": 15,
   "metadata": {},
   "outputs": [
    {
     "data": {
      "text/plain": [
       "Unnamed: 0                               0\n",
       "CentralAir-conditioning               1839\n",
       "Foundation                             654\n",
       "Condominium                            251\n",
       "Deck                                  2648\n",
       "DesignofHouse                           57\n",
       "Division                                 0\n",
       "TypeofFinancing                      32056\n",
       "FinishedBasement                         0\n",
       "ParkingFacility                       1011\n",
       "PrimarySpaceHeatingSystem             1653\n",
       "MetropolitanArea                         0\n",
       "ConstructionMethod                     456\n",
       "Patio                                 2704\n",
       "Porch                                 2143\n",
       "Stories                                652\n",
       "PrimaryExteriorWallMaterial           1598\n",
       "SecondaryExteriorWallMaterial        46279\n",
       "SecondaryExteriorWallMaterial.1       3051\n",
       "Bedrooms                              1404\n",
       "Fireplace                           114887\n",
       "FullBathrooms                            0\n",
       "HalfBathrooms                       128808\n",
       "SaleDate                                 0\n",
       "Weight                                   0\n",
       "PrimarySpaceHeatingFuel               1756\n",
       "SalesPrice                               0\n",
       "SquareFootAreaofHouse                 3397\n",
       "LotValue                                 0\n",
       "SquareFootAreaofFinishedBasement    260931\n",
       "SquareFootAreaoftheLot               44078\n",
       "dtype: int64"
      ]
     },
     "execution_count": 15,
     "metadata": {},
     "output_type": "execute_result"
    }
   ],
   "source": [
    "dfs.isnull().sum()"
   ]
  },
  {
   "cell_type": "markdown",
   "metadata": {},
   "source": [
    "PrimarySpaceHeatingSystem"
   ]
  },
  {
   "cell_type": "code",
   "execution_count": 16,
   "metadata": {},
   "outputs": [
    {
     "data": {
      "text/plain": [
       "2.0    187501\n",
       "1.0     79366\n",
       "3.0      6723\n",
       "4.0      3347\n",
       "5.0       919\n",
       "Name: PrimarySpaceHeatingFuel, dtype: int64"
      ]
     },
     "execution_count": 16,
     "metadata": {},
     "output_type": "execute_result"
    }
   ],
   "source": [
    "dfs['PrimarySpaceHeatingFuel'].value_counts()"
   ]
  },
  {
   "cell_type": "code",
   "execution_count": 17,
   "metadata": {},
   "outputs": [],
   "source": [
    "# turning category 3 into 2 as per description\n",
    "dfs.loc[dfs['PrimarySpaceHeatingFuel']==3, 'PrimarySpaceHeatingFuel'] = 2"
   ]
  },
  {
   "cell_type": "code",
   "execution_count": 18,
   "metadata": {},
   "outputs": [
    {
     "data": {
      "text/plain": [
       "2.0    194224\n",
       "1.0     79366\n",
       "4.0      3347\n",
       "5.0       919\n",
       "Name: PrimarySpaceHeatingFuel, dtype: int64"
      ]
     },
     "execution_count": 18,
     "metadata": {},
     "output_type": "execute_result"
    }
   ],
   "source": [
    "dfs['PrimarySpaceHeatingFuel'].value_counts()"
   ]
  },
  {
   "cell_type": "code",
   "execution_count": 19,
   "metadata": {},
   "outputs": [],
   "source": [
    "#Adjust the possible values and categories\n",
    "for i in range(4,6):\n",
    "    dfs.loc[dfs['PrimarySpaceHeatingFuel']== i, 'PrimarySpaceHeatingFuel'] = i-1"
   ]
  },
  {
   "cell_type": "markdown",
   "metadata": {},
   "source": [
    "SecondaryExteriorWallMaterial"
   ]
  },
  {
   "cell_type": "code",
   "execution_count": 20,
   "metadata": {},
   "outputs": [
    {
     "data": {
      "text/plain": [
       "1.0      6802\n",
       "2.0     48058\n",
       "3.0       270\n",
       "4.0      9607\n",
       "5.0     12223\n",
       "6.0       697\n",
       "7.0     41990\n",
       "8.0     17317\n",
       "9.0       816\n",
       "10.0    95553\n",
       "Name: SecondaryExteriorWallMaterial, dtype: int64"
      ]
     },
     "execution_count": 20,
     "metadata": {},
     "output_type": "execute_result"
    }
   ],
   "source": [
    "# Check values for secondary exteriod wall material\n",
    "dfs ['SecondaryExteriorWallMaterial'].value_counts().sort_index()"
   ]
  },
  {
   "cell_type": "code",
   "execution_count": 21,
   "metadata": {},
   "outputs": [],
   "source": [
    "##changing the NaN for SWEM into 0 for SWEM.1 =2\n",
    "dfs.loc[dfs['SecondaryExteriorWallMaterial.1']==2, 'SecondaryExteriorWallMaterial'] = dfs['SecondaryExteriorWallMaterial'].replace(np.NaN,0)"
   ]
  },
  {
   "cell_type": "code",
   "execution_count": 22,
   "metadata": {
    "scrolled": true
   },
   "outputs": [
    {
     "data": {
      "text/plain": [
       "Unnamed: 0                               0\n",
       "CentralAir-conditioning               1839\n",
       "Foundation                             654\n",
       "Condominium                            251\n",
       "Deck                                  2648\n",
       "DesignofHouse                           57\n",
       "Division                                 0\n",
       "TypeofFinancing                      32056\n",
       "FinishedBasement                         0\n",
       "ParkingFacility                       1011\n",
       "PrimarySpaceHeatingSystem             1653\n",
       "MetropolitanArea                         0\n",
       "ConstructionMethod                     456\n",
       "Patio                                 2704\n",
       "Porch                                 2143\n",
       "Stories                                652\n",
       "PrimaryExteriorWallMaterial           1598\n",
       "SecondaryExteriorWallMaterial         3151\n",
       "SecondaryExteriorWallMaterial.1       3051\n",
       "Bedrooms                              1404\n",
       "Fireplace                           114887\n",
       "FullBathrooms                            0\n",
       "HalfBathrooms                       128808\n",
       "SaleDate                                 0\n",
       "Weight                                   0\n",
       "PrimarySpaceHeatingFuel               1756\n",
       "SalesPrice                               0\n",
       "SquareFootAreaofHouse                 3397\n",
       "LotValue                                 0\n",
       "SquareFootAreaofFinishedBasement    260931\n",
       "SquareFootAreaoftheLot               44078\n",
       "dtype: int64"
      ]
     },
     "execution_count": 22,
     "metadata": {},
     "output_type": "execute_result"
    }
   ],
   "source": [
    "dfs.isnull().sum()"
   ]
  },
  {
   "cell_type": "code",
   "execution_count": 23,
   "metadata": {},
   "outputs": [],
   "source": [
    "# Joining 10 category with 0 as per description\n",
    "dfs.loc[dfs['SecondaryExteriorWallMaterial']== 10, 'SecondaryExteriorWallMaterial'] = 0"
   ]
  },
  {
   "cell_type": "code",
   "execution_count": 24,
   "metadata": {},
   "outputs": [
    {
     "data": {
      "text/plain": [
       "0.0    138681\n",
       "1.0      6802\n",
       "2.0     48058\n",
       "3.0       270\n",
       "4.0      9607\n",
       "5.0     12223\n",
       "6.0       697\n",
       "7.0     41990\n",
       "8.0     17317\n",
       "9.0       816\n",
       "Name: SecondaryExteriorWallMaterial, dtype: int64"
      ]
     },
     "execution_count": 24,
     "metadata": {},
     "output_type": "execute_result"
    }
   ],
   "source": [
    "dfs ['SecondaryExteriorWallMaterial'].value_counts().sort_index()"
   ]
  },
  {
   "cell_type": "markdown",
   "metadata": {},
   "source": [
    "Stories Variable"
   ]
  },
  {
   "cell_type": "code",
   "execution_count": 25,
   "metadata": {},
   "outputs": [
    {
     "data": {
      "text/plain": [
       "2.0    167172\n",
       "1.0    107965\n",
       "3.0      3823\n",
       "Name: Stories, dtype: int64"
      ]
     },
     "execution_count": 25,
     "metadata": {},
     "output_type": "execute_result"
    }
   ],
   "source": [
    "dfs['Stories'].value_counts()"
   ]
  },
  {
   "cell_type": "code",
   "execution_count": 26,
   "metadata": {},
   "outputs": [],
   "source": [
    "# Turning categories 3 to 2 as per description\n",
    "dfs.loc[dfs['Stories']== 3, 'Stories'] = 2"
   ]
  },
  {
   "cell_type": "markdown",
   "metadata": {},
   "source": [
    "primary exterial wall variable"
   ]
  },
  {
   "cell_type": "code",
   "execution_count": 27,
   "metadata": {},
   "outputs": [
    {
     "data": {
      "text/plain": [
       "5.0    89128\n",
       "4.0    68529\n",
       "2.0    60308\n",
       "8.0    29458\n",
       "1.0    16627\n",
       "6.0     8196\n",
       "7.0     2506\n",
       "9.0     1817\n",
       "3.0     1445\n",
       "Name: PrimaryExteriorWallMaterial, dtype: int64"
      ]
     },
     "execution_count": 27,
     "metadata": {},
     "output_type": "execute_result"
    }
   ],
   "source": [
    "dfs['PrimaryExteriorWallMaterial'].value_counts()"
   ]
  },
  {
   "cell_type": "code",
   "execution_count": 28,
   "metadata": {},
   "outputs": [],
   "source": [
    "# Turning categories 3 to 9 as per description\n",
    "dfs.loc[dfs['PrimaryExteriorWallMaterial']== 3, 'PrimaryExteriorWallMaterial'] = 9"
   ]
  },
  {
   "cell_type": "code",
   "execution_count": 29,
   "metadata": {},
   "outputs": [
    {
     "data": {
      "text/plain": [
       "1.0    16627\n",
       "2.0    60308\n",
       "4.0    68529\n",
       "5.0    89128\n",
       "6.0     8196\n",
       "7.0     2506\n",
       "8.0    29458\n",
       "9.0     3262\n",
       "Name: PrimaryExteriorWallMaterial, dtype: int64"
      ]
     },
     "execution_count": 29,
     "metadata": {},
     "output_type": "execute_result"
    }
   ],
   "source": [
    "dfs['PrimaryExteriorWallMaterial'].value_counts().sort_index()"
   ]
  },
  {
   "cell_type": "code",
   "execution_count": 30,
   "metadata": {},
   "outputs": [],
   "source": [
    "#Adjust the possible values and categories\n",
    "for i in range(4,10):\n",
    "    dfs.loc[dfs['PrimaryExteriorWallMaterial']== i, 'PrimaryExteriorWallMaterial'] = i-1"
   ]
  },
  {
   "cell_type": "code",
   "execution_count": 31,
   "metadata": {},
   "outputs": [
    {
     "data": {
      "text/plain": [
       "1.0    16627\n",
       "2.0    60308\n",
       "3.0    68529\n",
       "4.0    89128\n",
       "5.0     8196\n",
       "6.0     2506\n",
       "7.0    29458\n",
       "8.0     3262\n",
       "Name: PrimaryExteriorWallMaterial, dtype: int64"
      ]
     },
     "execution_count": 31,
     "metadata": {},
     "output_type": "execute_result"
    }
   ],
   "source": [
    "dfs['PrimaryExteriorWallMaterial'].value_counts().sort_index()"
   ]
  },
  {
   "cell_type": "markdown",
   "metadata": {},
   "source": [
    "Fireplace Variable"
   ]
  },
  {
   "cell_type": "code",
   "execution_count": 32,
   "metadata": {},
   "outputs": [],
   "source": [
    "# Turning Nan into 0 as per description\n",
    "dfs.loc[dfs['Fireplace'].isnull(), 'Fireplace'] = dfs['Fireplace'].replace(np.nan,0)"
   ]
  },
  {
   "cell_type": "code",
   "execution_count": 33,
   "metadata": {},
   "outputs": [],
   "source": [
    "# Turning 9 into nan as per description\n",
    "dfs.loc[dfs['Fireplace']==9, 'Fireplace'] = dfs['Fireplace'].replace(9, np.nan)"
   ]
  },
  {
   "cell_type": "code",
   "execution_count": 34,
   "metadata": {},
   "outputs": [
    {
     "data": {
      "text/plain": [
       "0.0    114887\n",
       "1.0    147415\n",
       "2.0     14035\n",
       "Name: Fireplace, dtype: int64"
      ]
     },
     "execution_count": 34,
     "metadata": {},
     "output_type": "execute_result"
    }
   ],
   "source": [
    "dfs['Fireplace'].value_counts().sort_index()"
   ]
  },
  {
   "cell_type": "markdown",
   "metadata": {},
   "source": [
    "Half and Full Bathroom"
   ]
  },
  {
   "cell_type": "code",
   "execution_count": 35,
   "metadata": {},
   "outputs": [],
   "source": [
    "# Turning 9 into nan as per description\n",
    "dfs.loc[dfs['FullBathrooms']==9, 'FullBathrooms'] = dfs['FullBathrooms'].replace(9, np.nan)"
   ]
  },
  {
   "cell_type": "code",
   "execution_count": 36,
   "metadata": {},
   "outputs": [],
   "source": [
    "# Turning nan into 0 as per description\n",
    "dfs.loc[dfs['HalfBathrooms'].isnull(), 'HalfBathrooms'] = dfs['HalfBathrooms'].replace(np.nan,0)"
   ]
  },
  {
   "cell_type": "code",
   "execution_count": 37,
   "metadata": {},
   "outputs": [],
   "source": [
    "# Turning 9 into nan as per description\n",
    "dfs.loc[dfs['HalfBathrooms']==9, 'HalfBathrooms'] = dfs['HalfBathrooms'].replace(9,np.nan)"
   ]
  },
  {
   "cell_type": "code",
   "execution_count": 38,
   "metadata": {},
   "outputs": [
    {
     "data": {
      "text/plain": [
       "Unnamed: 0                               0\n",
       "CentralAir-conditioning               1839\n",
       "Foundation                             654\n",
       "Condominium                            251\n",
       "Deck                                  2648\n",
       "DesignofHouse                           57\n",
       "Division                                 0\n",
       "TypeofFinancing                      32056\n",
       "FinishedBasement                         0\n",
       "ParkingFacility                       1011\n",
       "PrimarySpaceHeatingSystem             1653\n",
       "MetropolitanArea                         0\n",
       "ConstructionMethod                     456\n",
       "Patio                                 2704\n",
       "Porch                                 2143\n",
       "Stories                                652\n",
       "PrimaryExteriorWallMaterial           1598\n",
       "SecondaryExteriorWallMaterial         3151\n",
       "SecondaryExteriorWallMaterial.1       3051\n",
       "Bedrooms                              1404\n",
       "Fireplace                             3275\n",
       "FullBathrooms                         1380\n",
       "HalfBathrooms                         1525\n",
       "SaleDate                                 0\n",
       "Weight                                   0\n",
       "PrimarySpaceHeatingFuel               1756\n",
       "SalesPrice                               0\n",
       "SquareFootAreaofHouse                 3397\n",
       "LotValue                                 0\n",
       "SquareFootAreaofFinishedBasement    260931\n",
       "SquareFootAreaoftheLot               44078\n",
       "dtype: int64"
      ]
     },
     "execution_count": 38,
     "metadata": {},
     "output_type": "execute_result"
    }
   ],
   "source": [
    "dfs.isnull().sum()"
   ]
  },
  {
   "cell_type": "markdown",
   "metadata": {},
   "source": [
    "Lot value"
   ]
  },
  {
   "cell_type": "code",
   "execution_count": 39,
   "metadata": {},
   "outputs": [
    {
     "data": {
      "text/plain": [
       "85323"
      ]
     },
     "execution_count": 39,
     "metadata": {},
     "output_type": "execute_result"
    }
   ],
   "source": [
    "# Checking Lot Value\n",
    "len(dfs[dfs['LotValue']==0])\n",
    "# This is the number of houses not applicable and not reported\n",
    "# LotValue is applicable to all houses sold ==> All zeros are NaN"
   ]
  },
  {
   "cell_type": "markdown",
   "metadata": {},
   "source": [
    "Finished basement, Foundation, Square foot area"
   ]
  },
  {
   "cell_type": "code",
   "execution_count": 40,
   "metadata": {
    "scrolled": true
   },
   "outputs": [],
   "source": [
    "# changing 0 to NaN in Lot Value\n",
    "dfs.loc[dfs['LotValue']== 0, 'LotValue'] = dfs['LotValue'].replace(0,np.NaN)"
   ]
  },
  {
   "cell_type": "code",
   "execution_count": 41,
   "metadata": {},
   "outputs": [
    {
     "data": {
      "text/plain": [
       "0    189556\n",
       "2     69564\n",
       "1     20492\n",
       "Name: FinishedBasement, dtype: int64"
      ]
     },
     "execution_count": 41,
     "metadata": {},
     "output_type": "execute_result"
    }
   ],
   "source": [
    "#Finished Basment is 1 or 2 if Foundation == 1, otherwise it is a NaN\n",
    "# Check values iN finished Bsmnt\n",
    "dfs['FinishedBasement'].value_counts()"
   ]
  },
  {
   "cell_type": "code",
   "execution_count": 42,
   "metadata": {},
   "outputs": [],
   "source": [
    "##changing the 0 values for FN BS into NaN for foundation category 1, other 0s means not applicable\n",
    "dfs.loc[dfs['Foundation']== 1, 'FinishedBasement'] = dfs['FinishedBasement'].replace(0,np.NaN)"
   ]
  },
  {
   "cell_type": "code",
   "execution_count": 43,
   "metadata": {},
   "outputs": [
    {
     "data": {
      "text/plain": [
       "0.0    188675\n",
       "2.0     69564\n",
       "1.0     20492\n",
       "Name: FinishedBasement, dtype: int64"
      ]
     },
     "execution_count": 43,
     "metadata": {},
     "output_type": "execute_result"
    }
   ],
   "source": [
    "# Check values in finished Bsmnt\n",
    "dfs['FinishedBasement'].value_counts()"
   ]
  },
  {
   "cell_type": "code",
   "execution_count": 44,
   "metadata": {},
   "outputs": [
    {
     "data": {
      "text/plain": [
       "Unnamed: 0                               0\n",
       "CentralAir-conditioning               1839\n",
       "Foundation                             654\n",
       "Condominium                            251\n",
       "Deck                                  2648\n",
       "DesignofHouse                           57\n",
       "Division                                 0\n",
       "TypeofFinancing                      32056\n",
       "FinishedBasement                       881\n",
       "ParkingFacility                       1011\n",
       "PrimarySpaceHeatingSystem             1653\n",
       "MetropolitanArea                         0\n",
       "ConstructionMethod                     456\n",
       "Patio                                 2704\n",
       "Porch                                 2143\n",
       "Stories                                652\n",
       "PrimaryExteriorWallMaterial           1598\n",
       "SecondaryExteriorWallMaterial         3151\n",
       "SecondaryExteriorWallMaterial.1       3051\n",
       "Bedrooms                              1404\n",
       "Fireplace                             3275\n",
       "FullBathrooms                         1380\n",
       "HalfBathrooms                         1525\n",
       "SaleDate                                 0\n",
       "Weight                                   0\n",
       "PrimarySpaceHeatingFuel               1756\n",
       "SalesPrice                               0\n",
       "SquareFootAreaofHouse                 3397\n",
       "LotValue                             85323\n",
       "SquareFootAreaofFinishedBasement    260931\n",
       "SquareFootAreaoftheLot               44078\n",
       "dtype: int64"
      ]
     },
     "execution_count": 44,
     "metadata": {},
     "output_type": "execute_result"
    }
   ],
   "source": [
    "dfs.isnull().sum()"
   ]
  },
  {
   "cell_type": "code",
   "execution_count": 45,
   "metadata": {},
   "outputs": [],
   "source": [
    "# Transferring nulls in SquareFootAreaofFinishedBasement into zeros for foundation != 1\n",
    "dfs.loc[dfs['Foundation']!=1, 'SquareFootAreaofFinishedBasement'] = dfs['SquareFootAreaofFinishedBasement'].replace(np.NaN, 0)"
   ]
  },
  {
   "cell_type": "code",
   "execution_count": 46,
   "metadata": {},
   "outputs": [],
   "source": [
    "# Transferring nulls in SquareFootAreaofFinishedBasement into zeroes for FinishedBasement==2\n",
    "dfs.loc[dfs['FinishedBasement']==2, 'SquareFootAreaofFinishedBasement'] = dfs['SquareFootAreaofFinishedBasement'].replace(np.NaN, 0)"
   ]
  },
  {
   "cell_type": "code",
   "execution_count": 47,
   "metadata": {},
   "outputs": [
    {
     "data": {
      "text/plain": [
       "Unnamed: 0                              0\n",
       "CentralAir-conditioning              1839\n",
       "Foundation                            654\n",
       "Condominium                           251\n",
       "Deck                                 2648\n",
       "DesignofHouse                          57\n",
       "Division                                0\n",
       "TypeofFinancing                     32056\n",
       "FinishedBasement                      881\n",
       "ParkingFacility                      1011\n",
       "PrimarySpaceHeatingSystem            1653\n",
       "MetropolitanArea                        0\n",
       "ConstructionMethod                    456\n",
       "Patio                                2704\n",
       "Porch                                2143\n",
       "Stories                               652\n",
       "PrimaryExteriorWallMaterial          1598\n",
       "SecondaryExteriorWallMaterial        3151\n",
       "SecondaryExteriorWallMaterial.1      3051\n",
       "Bedrooms                             1404\n",
       "Fireplace                            3275\n",
       "FullBathrooms                        1380\n",
       "HalfBathrooms                        1525\n",
       "SaleDate                                0\n",
       "Weight                                  0\n",
       "PrimarySpaceHeatingFuel              1756\n",
       "SalesPrice                              0\n",
       "SquareFootAreaofHouse                3397\n",
       "LotValue                            85323\n",
       "SquareFootAreaofFinishedBasement     2693\n",
       "SquareFootAreaoftheLot              44078\n",
       "dtype: int64"
      ]
     },
     "execution_count": 47,
     "metadata": {},
     "output_type": "execute_result"
    }
   ],
   "source": [
    "dfs.isnull().sum() ##Bingo!!!!"
   ]
  },
  {
   "cell_type": "code",
   "execution_count": 48,
   "metadata": {},
   "outputs": [],
   "source": [
    "# Cross-check : if squarefootareaoffinishedbasement is equal to a non-zero then it is definitely FinishedBasement Category 1\n",
    "dfs.loc[dfs['SquareFootAreaofFinishedBasement']!=0, 'FinishedBasement'] = dfs['FinishedBasement'].replace(np.NaN, 1)"
   ]
  },
  {
   "cell_type": "code",
   "execution_count": 49,
   "metadata": {},
   "outputs": [
    {
     "data": {
      "text/plain": [
       "Unnamed: 0                              0\n",
       "CentralAir-conditioning              1839\n",
       "Foundation                            654\n",
       "Condominium                           251\n",
       "Deck                                 2648\n",
       "DesignofHouse                          57\n",
       "Division                                0\n",
       "TypeofFinancing                     32056\n",
       "FinishedBasement                        0\n",
       "ParkingFacility                      1011\n",
       "PrimarySpaceHeatingSystem            1653\n",
       "MetropolitanArea                        0\n",
       "ConstructionMethod                    456\n",
       "Patio                                2704\n",
       "Porch                                2143\n",
       "Stories                               652\n",
       "PrimaryExteriorWallMaterial          1598\n",
       "SecondaryExteriorWallMaterial        3151\n",
       "SecondaryExteriorWallMaterial.1      3051\n",
       "Bedrooms                             1404\n",
       "Fireplace                            3275\n",
       "FullBathrooms                        1380\n",
       "HalfBathrooms                        1525\n",
       "SaleDate                                0\n",
       "Weight                                  0\n",
       "PrimarySpaceHeatingFuel              1756\n",
       "SalesPrice                              0\n",
       "SquareFootAreaofHouse                3397\n",
       "LotValue                            85323\n",
       "SquareFootAreaofFinishedBasement     2693\n",
       "SquareFootAreaoftheLot              44078\n",
       "dtype: int64"
      ]
     },
     "execution_count": 49,
     "metadata": {},
     "output_type": "execute_result"
    }
   ],
   "source": [
    "dfs.isnull().sum() ##Bingo!!!"
   ]
  },
  {
   "cell_type": "code",
   "execution_count": 50,
   "metadata": {},
   "outputs": [],
   "source": [
    "# Logically speaking if the  Foundation nulls are unknown we would never knwo whether 0 means not applicable or not reported, as such let them be nulls\n",
    "dfs.loc[dfs['Foundation'].isnull(), 'FinishedBasement'] = dfs['FinishedBasement'].replace(0,np.nan)"
   ]
  },
  {
   "cell_type": "code",
   "execution_count": 51,
   "metadata": {},
   "outputs": [
    {
     "data": {
      "text/plain": [
       "Unnamed: 0                              0\n",
       "CentralAir-conditioning              1839\n",
       "Foundation                            654\n",
       "Condominium                           251\n",
       "Deck                                 2648\n",
       "DesignofHouse                          57\n",
       "Division                                0\n",
       "TypeofFinancing                     32056\n",
       "FinishedBasement                      654\n",
       "ParkingFacility                      1011\n",
       "PrimarySpaceHeatingSystem            1653\n",
       "MetropolitanArea                        0\n",
       "ConstructionMethod                    456\n",
       "Patio                                2704\n",
       "Porch                                2143\n",
       "Stories                               652\n",
       "PrimaryExteriorWallMaterial          1598\n",
       "SecondaryExteriorWallMaterial        3151\n",
       "SecondaryExteriorWallMaterial.1      3051\n",
       "Bedrooms                             1404\n",
       "Fireplace                            3275\n",
       "FullBathrooms                        1380\n",
       "HalfBathrooms                        1525\n",
       "SaleDate                                0\n",
       "Weight                                  0\n",
       "PrimarySpaceHeatingFuel              1756\n",
       "SalesPrice                              0\n",
       "SquareFootAreaofHouse                3397\n",
       "LotValue                            85323\n",
       "SquareFootAreaofFinishedBasement     2693\n",
       "SquareFootAreaoftheLot              44078\n",
       "dtype: int64"
      ]
     },
     "execution_count": 51,
     "metadata": {},
     "output_type": "execute_result"
    }
   ],
   "source": [
    "dfs.isnull().sum()"
   ]
  },
  {
   "cell_type": "code",
   "execution_count": 52,
   "metadata": {},
   "outputs": [],
   "source": [
    "dfdrop = dfs.dropna()\n",
    "dfdrop0=dfdrop.reset_index(drop=True)"
   ]
  },
  {
   "cell_type": "code",
   "execution_count": 53,
   "metadata": {},
   "outputs": [
    {
     "name": "stdout",
     "output_type": "stream",
     "text": [
      "<class 'pandas.core.frame.DataFrame'>\n",
      "Int64Index: 158470 entries, 0 to 279610\n",
      "Data columns (total 31 columns):\n",
      "Unnamed: 0                          158470 non-null int64\n",
      "CentralAir-conditioning             158470 non-null float64\n",
      "Foundation                          158470 non-null float64\n",
      "Condominium                         158470 non-null float64\n",
      "Deck                                158470 non-null float64\n",
      "DesignofHouse                       158470 non-null float64\n",
      "Division                            158470 non-null int64\n",
      "TypeofFinancing                     158470 non-null float64\n",
      "FinishedBasement                    158470 non-null float64\n",
      "ParkingFacility                     158470 non-null float64\n",
      "PrimarySpaceHeatingSystem           158470 non-null float64\n",
      "MetropolitanArea                    158470 non-null int64\n",
      "ConstructionMethod                  158470 non-null float64\n",
      "Patio                               158470 non-null float64\n",
      "Porch                               158470 non-null float64\n",
      "Stories                             158470 non-null float64\n",
      "PrimaryExteriorWallMaterial         158470 non-null float64\n",
      "SecondaryExteriorWallMaterial       158470 non-null float64\n",
      "SecondaryExteriorWallMaterial.1     158470 non-null float64\n",
      "Bedrooms                            158470 non-null float64\n",
      "Fireplace                           158470 non-null float64\n",
      "FullBathrooms                       158470 non-null float64\n",
      "HalfBathrooms                       158470 non-null float64\n",
      "SaleDate                            158470 non-null int64\n",
      "Weight                              158470 non-null int64\n",
      "PrimarySpaceHeatingFuel             158470 non-null float64\n",
      "SalesPrice                          158470 non-null float64\n",
      "SquareFootAreaofHouse               158470 non-null float64\n",
      "LotValue                            158470 non-null float64\n",
      "SquareFootAreaofFinishedBasement    158470 non-null float64\n",
      "SquareFootAreaoftheLot              158470 non-null float64\n",
      "dtypes: float64(26), int64(5)\n",
      "memory usage: 38.7 MB\n"
     ]
    }
   ],
   "source": [
    "dfdrop.info() # That's more than enough !!!"
   ]
  },
  {
   "cell_type": "code",
   "execution_count": 54,
   "metadata": {},
   "outputs": [],
   "source": [
    "dfs.to_csv(r\"./clean_data/cleanedDataPrice.csv\")"
   ]
  },
  {
   "cell_type": "code",
   "execution_count": 55,
   "metadata": {},
   "outputs": [],
   "source": [
    "dfdrop.to_csv(r\"./clean_data/cleanedDataPriceDr.csv\")"
   ]
  }
 ],
 "metadata": {
  "kernelspec": {
   "display_name": "Python 3",
   "language": "python",
   "name": "python3"
  },
  "language_info": {
   "codemirror_mode": {
    "name": "ipython",
    "version": 3
   },
   "file_extension": ".py",
   "mimetype": "text/x-python",
   "name": "python",
   "nbconvert_exporter": "python",
   "pygments_lexer": "ipython3",
   "version": "3.8.1"
  }
 },
 "nbformat": 4,
 "nbformat_minor": 4
}
