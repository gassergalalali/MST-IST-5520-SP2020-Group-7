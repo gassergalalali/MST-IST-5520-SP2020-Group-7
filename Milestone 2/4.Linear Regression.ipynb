{
 "cells": [
  {
   "cell_type": "markdown",
   "metadata": {},
   "source": [
    "# Linear Regression"
   ]
  },
  {
   "cell_type": "code",
   "execution_count": 1,
   "metadata": {},
   "outputs": [],
   "source": [
    "import pandas as pd\n",
    "import statsmodels.api as sm\n",
    "import matplotlib.pyplot as plt\n",
    "import IPython.display"
   ]
  },
  {
   "cell_type": "code",
   "execution_count": 2,
   "metadata": {},
   "outputs": [],
   "source": [
    "dt = pd.read_csv(\"./clean_data/cleanedDataPriceDr.csv\")"
   ]
  },
  {
   "cell_type": "code",
   "execution_count": 5,
   "metadata": {},
   "outputs": [],
   "source": [
    "area_vars = ['SquareFootAreaoftheLot', 'SquareFootAreaofFinishedBasement', 'SquareFootAreaofHouse']\n",
    "price_vars = ['SalesPrice']"
   ]
  },
  {
   "cell_type": "code",
   "execution_count": 6,
   "metadata": {},
   "outputs": [
    {
     "data": {
      "text/html": [
       "<h2>LM model for <b>SalesPrice</b> vs <b>SquareFootAreaoftheLot</b>:</h2>"
      ]
     },
     "metadata": {},
     "output_type": "display_data"
    },
    {
     "data": {
      "text/html": [
       "<table class=\"simpletable\">\n",
       "<caption>OLS Regression Results</caption>\n",
       "<tr>\n",
       "  <th>Dep. Variable:</th>       <td>SalesPrice</td>    <th>  R-squared:         </th>  <td>   0.032</td>  \n",
       "</tr>\n",
       "<tr>\n",
       "  <th>Model:</th>                   <td>OLS</td>       <th>  Adj. R-squared:    </th>  <td>   0.032</td>  \n",
       "</tr>\n",
       "<tr>\n",
       "  <th>Method:</th>             <td>Least Squares</td>  <th>  F-statistic:       </th>  <td>   5171.</td>  \n",
       "</tr>\n",
       "<tr>\n",
       "  <th>Date:</th>             <td>Thu, 09 Apr 2020</td> <th>  Prob (F-statistic):</th>   <td>  0.00</td>   \n",
       "</tr>\n",
       "<tr>\n",
       "  <th>Time:</th>                 <td>12:55:48</td>     <th>  Log-Likelihood:    </th> <td>-2.1162e+06</td>\n",
       "</tr>\n",
       "<tr>\n",
       "  <th>No. Observations:</th>      <td>158470</td>      <th>  AIC:               </th>  <td>4.232e+06</td> \n",
       "</tr>\n",
       "<tr>\n",
       "  <th>Df Residuals:</th>          <td>158468</td>      <th>  BIC:               </th>  <td>4.232e+06</td> \n",
       "</tr>\n",
       "<tr>\n",
       "  <th>Df Model:</th>              <td>     1</td>      <th>                     </th>      <td> </td>     \n",
       "</tr>\n",
       "<tr>\n",
       "  <th>Covariance Type:</th>      <td>nonrobust</td>    <th>                     </th>      <td> </td>     \n",
       "</tr>\n",
       "</table>\n",
       "<table class=\"simpletable\">\n",
       "<tr>\n",
       "             <td></td>               <th>coef</th>     <th>std err</th>      <th>t</th>      <th>P>|t|</th>  <th>[0.025</th>    <th>0.975]</th>  \n",
       "</tr>\n",
       "<tr>\n",
       "  <th>const</th>                  <td> 2.423e+05</td> <td>  507.189</td> <td>  477.780</td> <td> 0.000</td> <td> 2.41e+05</td> <td> 2.43e+05</td>\n",
       "</tr>\n",
       "<tr>\n",
       "  <th>SquareFootAreaoftheLot</th> <td>    1.6460</td> <td>    0.023</td> <td>   71.910</td> <td> 0.000</td> <td>    1.601</td> <td>    1.691</td>\n",
       "</tr>\n",
       "</table>\n",
       "<table class=\"simpletable\">\n",
       "<tr>\n",
       "  <th>Omnibus:</th>       <td>67700.653</td> <th>  Durbin-Watson:     </th>  <td>   1.395</td> \n",
       "</tr>\n",
       "<tr>\n",
       "  <th>Prob(Omnibus):</th>  <td> 0.000</td>   <th>  Jarque-Bera (JB):  </th> <td>412761.806</td>\n",
       "</tr>\n",
       "<tr>\n",
       "  <th>Skew:</th>           <td> 1.971</td>   <th>  Prob(JB):          </th>  <td>    0.00</td> \n",
       "</tr>\n",
       "<tr>\n",
       "  <th>Kurtosis:</th>       <td> 9.853</td>   <th>  Cond. No.          </th>  <td>2.93e+04</td> \n",
       "</tr>\n",
       "</table><br/><br/>Warnings:<br/>[1] Standard Errors assume that the covariance matrix of the errors is correctly specified.<br/>[2] The condition number is large, 2.93e+04. This might indicate that there are<br/>strong multicollinearity or other numerical problems."
      ],
      "text/plain": [
       "<class 'statsmodels.iolib.summary.Summary'>\n",
       "\"\"\"\n",
       "                            OLS Regression Results                            \n",
       "==============================================================================\n",
       "Dep. Variable:             SalesPrice   R-squared:                       0.032\n",
       "Model:                            OLS   Adj. R-squared:                  0.032\n",
       "Method:                 Least Squares   F-statistic:                     5171.\n",
       "Date:                Thu, 09 Apr 2020   Prob (F-statistic):               0.00\n",
       "Time:                        12:55:48   Log-Likelihood:            -2.1162e+06\n",
       "No. Observations:              158470   AIC:                         4.232e+06\n",
       "Df Residuals:                  158468   BIC:                         4.232e+06\n",
       "Df Model:                           1                                         \n",
       "Covariance Type:            nonrobust                                         \n",
       "==========================================================================================\n",
       "                             coef    std err          t      P>|t|      [0.025      0.975]\n",
       "------------------------------------------------------------------------------------------\n",
       "const                   2.423e+05    507.189    477.780      0.000    2.41e+05    2.43e+05\n",
       "SquareFootAreaoftheLot     1.6460      0.023     71.910      0.000       1.601       1.691\n",
       "==============================================================================\n",
       "Omnibus:                    67700.653   Durbin-Watson:                   1.395\n",
       "Prob(Omnibus):                  0.000   Jarque-Bera (JB):           412761.806\n",
       "Skew:                           1.971   Prob(JB):                         0.00\n",
       "Kurtosis:                       9.853   Cond. No.                     2.93e+04\n",
       "==============================================================================\n",
       "\n",
       "Warnings:\n",
       "[1] Standard Errors assume that the covariance matrix of the errors is correctly specified.\n",
       "[2] The condition number is large, 2.93e+04. This might indicate that there are\n",
       "strong multicollinearity or other numerical problems.\n",
       "\"\"\""
      ]
     },
     "metadata": {},
     "output_type": "display_data"
    },
    {
     "data": {
      "text/html": [
       "<h2>LM model for <b>SalesPrice</b> vs <b>SquareFootAreaofFinishedBasement</b>:</h2>"
      ]
     },
     "metadata": {},
     "output_type": "display_data"
    },
    {
     "data": {
      "text/html": [
       "<table class=\"simpletable\">\n",
       "<caption>OLS Regression Results</caption>\n",
       "<tr>\n",
       "  <th>Dep. Variable:</th>       <td>SalesPrice</td>    <th>  R-squared:         </th>  <td>   0.025</td>  \n",
       "</tr>\n",
       "<tr>\n",
       "  <th>Model:</th>                   <td>OLS</td>       <th>  Adj. R-squared:    </th>  <td>   0.025</td>  \n",
       "</tr>\n",
       "<tr>\n",
       "  <th>Method:</th>             <td>Least Squares</td>  <th>  F-statistic:       </th>  <td>   4045.</td>  \n",
       "</tr>\n",
       "<tr>\n",
       "  <th>Date:</th>             <td>Thu, 09 Apr 2020</td> <th>  Prob (F-statistic):</th>   <td>  0.00</td>   \n",
       "</tr>\n",
       "<tr>\n",
       "  <th>Time:</th>                 <td>12:55:48</td>     <th>  Log-Likelihood:    </th> <td>-2.1168e+06</td>\n",
       "</tr>\n",
       "<tr>\n",
       "  <th>No. Observations:</th>      <td>158470</td>      <th>  AIC:               </th>  <td>4.234e+06</td> \n",
       "</tr>\n",
       "<tr>\n",
       "  <th>Df Residuals:</th>          <td>158468</td>      <th>  BIC:               </th>  <td>4.234e+06</td> \n",
       "</tr>\n",
       "<tr>\n",
       "  <th>Df Model:</th>              <td>     1</td>      <th>                     </th>      <td> </td>     \n",
       "</tr>\n",
       "<tr>\n",
       "  <th>Covariance Type:</th>      <td>nonrobust</td>    <th>                     </th>      <td> </td>     \n",
       "</tr>\n",
       "</table>\n",
       "<table class=\"simpletable\">\n",
       "<tr>\n",
       "                  <td></td>                    <th>coef</th>     <th>std err</th>      <th>t</th>      <th>P>|t|</th>  <th>[0.025</th>    <th>0.975]</th>  \n",
       "</tr>\n",
       "<tr>\n",
       "  <th>const</th>                            <td> 2.605e+05</td> <td>  394.710</td> <td>  660.096</td> <td> 0.000</td> <td>  2.6e+05</td> <td> 2.61e+05</td>\n",
       "</tr>\n",
       "<tr>\n",
       "  <th>SquareFootAreaofFinishedBasement</th> <td>   95.2247</td> <td>    1.497</td> <td>   63.597</td> <td> 0.000</td> <td>   92.290</td> <td>   98.159</td>\n",
       "</tr>\n",
       "</table>\n",
       "<table class=\"simpletable\">\n",
       "<tr>\n",
       "  <th>Omnibus:</th>       <td>69929.385</td> <th>  Durbin-Watson:     </th>  <td>   1.398</td> \n",
       "</tr>\n",
       "<tr>\n",
       "  <th>Prob(Omnibus):</th>  <td> 0.000</td>   <th>  Jarque-Bera (JB):  </th> <td>448912.916</td>\n",
       "</tr>\n",
       "<tr>\n",
       "  <th>Skew:</th>           <td> 2.030</td>   <th>  Prob(JB):          </th>  <td>    0.00</td> \n",
       "</tr>\n",
       "<tr>\n",
       "  <th>Kurtosis:</th>       <td>10.177</td>   <th>  Cond. No.          </th>  <td>    271.</td> \n",
       "</tr>\n",
       "</table><br/><br/>Warnings:<br/>[1] Standard Errors assume that the covariance matrix of the errors is correctly specified."
      ],
      "text/plain": [
       "<class 'statsmodels.iolib.summary.Summary'>\n",
       "\"\"\"\n",
       "                            OLS Regression Results                            \n",
       "==============================================================================\n",
       "Dep. Variable:             SalesPrice   R-squared:                       0.025\n",
       "Model:                            OLS   Adj. R-squared:                  0.025\n",
       "Method:                 Least Squares   F-statistic:                     4045.\n",
       "Date:                Thu, 09 Apr 2020   Prob (F-statistic):               0.00\n",
       "Time:                        12:55:48   Log-Likelihood:            -2.1168e+06\n",
       "No. Observations:              158470   AIC:                         4.234e+06\n",
       "Df Residuals:                  158468   BIC:                         4.234e+06\n",
       "Df Model:                           1                                         \n",
       "Covariance Type:            nonrobust                                         \n",
       "====================================================================================================\n",
       "                                       coef    std err          t      P>|t|      [0.025      0.975]\n",
       "----------------------------------------------------------------------------------------------------\n",
       "const                             2.605e+05    394.710    660.096      0.000     2.6e+05    2.61e+05\n",
       "SquareFootAreaofFinishedBasement    95.2247      1.497     63.597      0.000      92.290      98.159\n",
       "==============================================================================\n",
       "Omnibus:                    69929.385   Durbin-Watson:                   1.398\n",
       "Prob(Omnibus):                  0.000   Jarque-Bera (JB):           448912.916\n",
       "Skew:                           2.030   Prob(JB):                         0.00\n",
       "Kurtosis:                      10.177   Cond. No.                         271.\n",
       "==============================================================================\n",
       "\n",
       "Warnings:\n",
       "[1] Standard Errors assume that the covariance matrix of the errors is correctly specified.\n",
       "\"\"\""
      ]
     },
     "metadata": {},
     "output_type": "display_data"
    },
    {
     "data": {
      "text/html": [
       "<h2>LM model for <b>SalesPrice</b> vs <b>SquareFootAreaofHouse</b>:</h2>"
      ]
     },
     "metadata": {},
     "output_type": "display_data"
    },
    {
     "data": {
      "text/html": [
       "<table class=\"simpletable\">\n",
       "<caption>OLS Regression Results</caption>\n",
       "<tr>\n",
       "  <th>Dep. Variable:</th>       <td>SalesPrice</td>    <th>  R-squared:         </th>  <td>   0.435</td>  \n",
       "</tr>\n",
       "<tr>\n",
       "  <th>Model:</th>                   <td>OLS</td>       <th>  Adj. R-squared:    </th>  <td>   0.435</td>  \n",
       "</tr>\n",
       "<tr>\n",
       "  <th>Method:</th>             <td>Least Squares</td>  <th>  F-statistic:       </th>  <td>1.222e+05</td> \n",
       "</tr>\n",
       "<tr>\n",
       "  <th>Date:</th>             <td>Thu, 09 Apr 2020</td> <th>  Prob (F-statistic):</th>   <td>  0.00</td>   \n",
       "</tr>\n",
       "<tr>\n",
       "  <th>Time:</th>                 <td>12:55:48</td>     <th>  Log-Likelihood:    </th> <td>-2.0735e+06</td>\n",
       "</tr>\n",
       "<tr>\n",
       "  <th>No. Observations:</th>      <td>158470</td>      <th>  AIC:               </th>  <td>4.147e+06</td> \n",
       "</tr>\n",
       "<tr>\n",
       "  <th>Df Residuals:</th>          <td>158468</td>      <th>  BIC:               </th>  <td>4.147e+06</td> \n",
       "</tr>\n",
       "<tr>\n",
       "  <th>Df Model:</th>              <td>     1</td>      <th>                     </th>      <td> </td>     \n",
       "</tr>\n",
       "<tr>\n",
       "  <th>Covariance Type:</th>      <td>nonrobust</td>    <th>                     </th>      <td> </td>     \n",
       "</tr>\n",
       "</table>\n",
       "<table class=\"simpletable\">\n",
       "<tr>\n",
       "            <td></td>               <th>coef</th>     <th>std err</th>      <th>t</th>      <th>P>|t|</th>  <th>[0.025</th>    <th>0.975]</th>  \n",
       "</tr>\n",
       "<tr>\n",
       "  <th>const</th>                 <td>-1.397e+04</td> <td>  853.159</td> <td>  -16.369</td> <td> 0.000</td> <td>-1.56e+04</td> <td>-1.23e+04</td>\n",
       "</tr>\n",
       "<tr>\n",
       "  <th>SquareFootAreaofHouse</th> <td>  113.7818</td> <td>    0.325</td> <td>  349.608</td> <td> 0.000</td> <td>  113.144</td> <td>  114.420</td>\n",
       "</tr>\n",
       "</table>\n",
       "<table class=\"simpletable\">\n",
       "<tr>\n",
       "  <th>Omnibus:</th>       <td>69941.573</td> <th>  Durbin-Watson:     </th>  <td>   1.318</td> \n",
       "</tr>\n",
       "<tr>\n",
       "  <th>Prob(Omnibus):</th>  <td> 0.000</td>   <th>  Jarque-Bera (JB):  </th> <td>643798.694</td>\n",
       "</tr>\n",
       "<tr>\n",
       "  <th>Skew:</th>           <td> 1.895</td>   <th>  Prob(JB):          </th>  <td>    0.00</td> \n",
       "</tr>\n",
       "<tr>\n",
       "  <th>Kurtosis:</th>       <td>12.118</td>   <th>  Cond. No.          </th>  <td>7.64e+03</td> \n",
       "</tr>\n",
       "</table><br/><br/>Warnings:<br/>[1] Standard Errors assume that the covariance matrix of the errors is correctly specified.<br/>[2] The condition number is large, 7.64e+03. This might indicate that there are<br/>strong multicollinearity or other numerical problems."
      ],
      "text/plain": [
       "<class 'statsmodels.iolib.summary.Summary'>\n",
       "\"\"\"\n",
       "                            OLS Regression Results                            \n",
       "==============================================================================\n",
       "Dep. Variable:             SalesPrice   R-squared:                       0.435\n",
       "Model:                            OLS   Adj. R-squared:                  0.435\n",
       "Method:                 Least Squares   F-statistic:                 1.222e+05\n",
       "Date:                Thu, 09 Apr 2020   Prob (F-statistic):               0.00\n",
       "Time:                        12:55:48   Log-Likelihood:            -2.0735e+06\n",
       "No. Observations:              158470   AIC:                         4.147e+06\n",
       "Df Residuals:                  158468   BIC:                         4.147e+06\n",
       "Df Model:                           1                                         \n",
       "Covariance Type:            nonrobust                                         \n",
       "=========================================================================================\n",
       "                            coef    std err          t      P>|t|      [0.025      0.975]\n",
       "-----------------------------------------------------------------------------------------\n",
       "const                 -1.397e+04    853.159    -16.369      0.000   -1.56e+04   -1.23e+04\n",
       "SquareFootAreaofHouse   113.7818      0.325    349.608      0.000     113.144     114.420\n",
       "==============================================================================\n",
       "Omnibus:                    69941.573   Durbin-Watson:                   1.318\n",
       "Prob(Omnibus):                  0.000   Jarque-Bera (JB):           643798.694\n",
       "Skew:                           1.895   Prob(JB):                         0.00\n",
       "Kurtosis:                      12.118   Cond. No.                     7.64e+03\n",
       "==============================================================================\n",
       "\n",
       "Warnings:\n",
       "[1] Standard Errors assume that the covariance matrix of the errors is correctly specified.\n",
       "[2] The condition number is large, 7.64e+03. This might indicate that there are\n",
       "strong multicollinearity or other numerical problems.\n",
       "\"\"\""
      ]
     },
     "metadata": {},
     "output_type": "display_data"
    }
   ],
   "source": [
    "# The following loop will create an OLS model for each x and y\n",
    "for x in area_vars:\n",
    "    for y in price_vars:\n",
    "        IPython.display.display_html(f\"<h2>LM model for <b>{y}</b> vs <b>{x}</b>:</h2>\", raw=True)\n",
    "        lm_data = dt[[x, y]].dropna() # Drop the na in this combination only\n",
    "        lm = sm.OLS(\n",
    "            endog=lm_data[y], \n",
    "            exog=sm.add_constant(lm_data[x])\n",
    "        ).fit()\n",
    "        IPython.display.display(lm.summary())"
   ]
  },
  {
   "cell_type": "code",
   "execution_count": null,
   "metadata": {},
   "outputs": [],
   "source": []
  }
 ],
 "metadata": {
  "kernelspec": {
   "display_name": "Python 3",
   "language": "python",
   "name": "python3"
  },
  "language_info": {
   "codemirror_mode": {
    "name": "ipython",
    "version": 3
   },
   "file_extension": ".py",
   "mimetype": "text/x-python",
   "name": "python",
   "nbconvert_exporter": "python",
   "pygments_lexer": "ipython3",
   "version": "3.6.8"
  }
 },
 "nbformat": 4,
 "nbformat_minor": 4
}
