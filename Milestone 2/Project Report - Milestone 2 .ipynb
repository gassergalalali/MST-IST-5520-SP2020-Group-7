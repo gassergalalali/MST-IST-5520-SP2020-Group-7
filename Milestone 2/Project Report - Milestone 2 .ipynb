{
 "cells": [
  {
   "cell_type": "markdown",
   "metadata": {},
   "source": [
    "<h1 align=\"center\"> Missouri University of Science and Technology </h1>\n",
    "<h2 align=\"center\"> IST 5520 – Data Science and Machine Learning with Python - Spring 2020</h2>\n",
    "<h2 align=\"center\"> An Exploratory and Predictive Analysis of Single-Family Houses Market</h2>\n",
    "<h3 align=\"center\"> Project Milestone 2</h3>\n",
    "<h3 align=\"center\"> Prepared By: Group 7</h3>\n",
    "<h3 align=\"center\"> Prepared for: Dr. Langtao Chen </h3>\n",
    "<h3 align=\"center\"> Submission Date: 04/10/2020 </h3>"
   ]
  },
  {
   "cell_type": "markdown",
   "metadata": {},
   "source": [
    "## Project Team Members"
   ]
  },
  {
   "cell_type": "markdown",
   "metadata": {},
   "source": [
    " - Amr Elsayegh\n",
    " - Gasser Ali\n",
    " - Mohamad Abdul Nabi\n",
    " - Muaz Ahmed\n",
    " - Ramy Khalef\n",
    " - Rayan Hassane Assaad"
   ]
  },
  {
   "cell_type": "markdown",
   "metadata": {},
   "source": [
    "## 1. Introduction"
   ]
  },
  {
   "cell_type": "markdown",
   "metadata": {},
   "source": [
    "#### 1.1. Business Problem"
   ]
  },
  {
   "cell_type": "markdown",
   "metadata": {},
   "source": [
    "Finding a solution for the affordable housing crisis is a challenge facing the United States (US). Aproximately, 66 percent of renters nationwide can not afford the price of purchasing a house (Sisson et al. 2019). Moreover, compared to the growth in wages, the prices of houses are increasing in a double rate (Sisson et al. 2019). This issue is more pronounced in single-family houses, which is one of the key real-estate markets in the US. As opposed to a multi-family residential dwellings, single-family houses are stand-alone houses; that is, free-standing residential buildings. This critical problem is affecting the business operations of many construction companies in the US. These companies include 'contrators' who are responsible for building the houses, real-estate developers who sell the houses, and buyers who purchase them."
   ]
  },
  {
   "cell_type": "markdown",
   "metadata": {},
   "source": [
    "#### 1.2. Introduction of the Business Scenario/Setting"
   ]
  },
  {
   "cell_type": "markdown",
   "metadata": {},
   "source": [
    "Single-family homes are common in rural and suburban and even some urban areas across the US. They are most common in low-density, high-income regions. In fact, there are about 95 million single family homes in the US as of 2019 (Moran 2019). For decades, land-use regulation across the US has emphasized single-family houses on large lots which priced many people out of the quintessential American dream: home ownership (Parker and Lewis 2020). As such, the goal of this project is to study the real-estate market behavior. In order to acheive that, the team will investigate methods to predict the sale price, completion time, and to identify many other patterns in the real-estate market of single-family houses in the US. "
   ]
  },
  {
   "cell_type": "markdown",
   "metadata": {},
   "source": [
    "#### 1.3. High Level Requirements and Research Questions"
   ]
  },
  {
   "cell_type": "markdown",
   "metadata": {},
   "source": [
    "The following bullet points reflect the high level requirements and research questions intended to be answered once the project is completed:\n",
    " - How to predict the construction price of single-family houses?\n",
    " - How to predict the sale prices of single-family houses?\n",
    " - Are there any patterns in the physical and financial properties of single-family houses?\n",
    " - How to predict the construction duration of single-family houses?"
   ]
  },
  {
   "cell_type": "markdown",
   "metadata": {},
   "source": [
    "## 2. Data Sources and Collection"
   ]
  },
  {
   "cell_type": "markdown",
   "metadata": {},
   "source": [
    "#### 2.1. Data Source"
   ]
  },
  {
   "cell_type": "markdown",
   "metadata": {},
   "source": [
    "The source of the data is the US Census Bureau. The data was collected by the Survey of Construction (SOC) which is a national sample survey of new houses in the US selected from building permits and a canvassing of areas not requiring permits. The original source of the data could be accesed at the following link: [https://www.census.gov/construction/chars/microdata.html](https://www.census.gov/construction/chars/microdata.html)\n",
    "\n",
    "The data meets all the requirements specified by Dr. Langtao Chen\n",
    "- It tells an interesting story about the market of the single-family houses in the US\n",
    "- It is in raw format since it has not be cleansed by other people and many values are missing (represented by zeros in the data set).\n",
    "- It has considerably more than 20 variables\n",
    "- It has huge number of observations (much more than 1,000)\n",
    "- The dataset and the research questions were never analyzed - neither fully nor partially - on the internet "
   ]
  },
  {
   "cell_type": "markdown",
   "metadata": {},
   "source": [
    "#### 2.2. Data Collection"
   ]
  },
  {
   "cell_type": "markdown",
   "metadata": {},
   "source": [
    "The data was collected from the builders and owners of the single-family houses through interviews about various information including: the start of the houses' construction, the hourses' sale prices, the houses' completion date, and more than 40 physical and financial characteristics describing the houses. That said, the data was collected as sample of the single-family houses that were started, sold, and/or completed during each year starting from 1999 and ending by 2018.\n",
    "\n",
    "The team will collect the data by downloading the excel files (.xls) for each single year (from 1999 to 2018) from the previously mentioned link. Afterwards, the data will be combined into a single csv file based on the common features or variables present in the collected/downloaded excel files."
   ]
  },
  {
   "cell_type": "markdown",
   "metadata": {},
   "source": [
    "#### 2.3. Key Information Available in the Data Set (Decription of Variables)"
   ]
  },
  {
   "cell_type": "markdown",
   "metadata": {},
   "source": [
    "Key information about the single-family houses is available in the data set including, but not limited to: type of financing, framing material, foundation type, parking facility, heating system, construction method, sewage disposal system, number of stories, wall material, square foot area, number of bedrooms, lot value, construction start and finish date, sales price, etc.\n",
    "\n",
    "The following link: https://github.com/gassergalalali/MST-IST-5520-SP2020-Group-7/blob/master/Milestone%202/1.2.Variables.ipynb shows all key information avaliable on all the variables present in the collected data set, a detailed description of each variable, possible values that could be taken by each variable, and any remarks associated with each variable."
   ]
  },
  {
   "cell_type": "markdown",
   "metadata": {},
   "source": [
    "#### 2.4. Project's Github Repository"
   ]
  },
  {
   "cell_type": "markdown",
   "metadata": {},
   "source": [
    "The team members have created a Github repository for the project. The created repository will be used to manage all project documents, including the project proposal. The link for this repository is: https://github.com/gassergalalali/MST-IST-5520-SP2020-Group-7"
   ]
  },
  {
   "cell_type": "markdown",
   "metadata": {},
   "source": [
    "## 3. Data Cleaning and Transformation"
   ]
  },
  {
   "cell_type": "markdown",
   "metadata": {},
   "source": [
    "The methodology of the data cleaning process is as follows:\n",
    " - There are many records in the raw data that had values that were missing. These values included:\n",
    "     - `0` where it was indicated that `0 = Not Reported`\n",
    "     - `9` where it was indicated that `9 = Not Reported`\n",
    "     - Price values of `0`\n",
    "     - Area values of `0`\n",
    " - The afformentioned values were replaced with `np.nan`.\n",
    " - Columns that had a noticeable high number of missing values were dropped.\n",
    " - Data where `0 = Not Applicable` were not replaced with `np.nan`.\n",
    " - Data where `0 = Not Reported or Not Applicable` were not replaced with `np.nan`.\n",
    " \n",
    "After finishing the cleaning process, the datasets are saved as `*.csv` files in the `./clean_data/` folder.\n",
    " - `./clean_data/cleanedDataPrice.csv` contains the dataset where records that have missing values in the sales price column only are dropped.\n",
    " - `./clean_data/cleanedDataPriceDr.csv` containts the dataset where all records with missing values are dropped.\n",
    "\n",
    "Detailed process is shown in the following links:\n",
    " - https://github.com/gassergalalali/MST-IST-5520-SP2020-Group-7/blob/master/Milestone%202/2.1.Cleaning_1.ipynb\n",
    " - https://github.com/gassergalalali/MST-IST-5520-SP2020-Group-7/blob/master/Milestone%202/2.2.Cleaning_2.ipynb"
   ]
  },
  {
   "cell_type": "markdown",
   "metadata": {},
   "source": [
    "## 4. Data Summarization and Visualization"
   ]
  },
  {
   "cell_type": "markdown",
   "metadata": {},
   "source": [
    "Data Summarization tasks:\n",
    " - Data Description\n",
    " - Correlation Table\n",
    " - Correlation Heat Map\n",
    "\n",
    "Data Visualization tasks:\n",
    " - Distribution for Sales Price\n",
    " - Sales price vs Areas Variables\n",
    " - Construction Method vs. Sales Price\n",
    " - Sale Year vs. Sales Price\n",
    " - Detecting Outliers in Sales Price according to Boxplot Rules\n",
    "\n",
    "Data Summarization and Visualization is shown in the following link:\n",
    " - https://github.com/gassergalalali/MST-IST-5520-SP2020-Group-7/blob/master/Milestone%202/3.SummarizationAndVisualization.ipynb"
   ]
  },
  {
   "cell_type": "markdown",
   "metadata": {},
   "source": [
    "## 5. Data Analysis"
   ]
  },
  {
   "cell_type": "markdown",
   "metadata": {},
   "source": [
    "Linear Regression\n",
    " - LM model for SalesPrice vs SquareFootAreaoftheLot\n",
    " - LM model for SalesPrice vs SquareFootAreaofFinishedBasement\n",
    " - LM model for SalesPrice vs SquareFootAreaofHouse\n",
    "\n",
    "Data Analysis is shown in the following link:\n",
    " - https://github.com/gassergalalali/MST-IST-5520-SP2020-Group-7/blob/master/Milestone%202/4.Linear%20Regression.ipynb"
   ]
  },
  {
   "cell_type": "markdown",
   "metadata": {},
   "source": [
    "## 6. Dimension Reduction and Principal Component Analysis"
   ]
  },
  {
   "cell_type": "markdown",
   "metadata": {},
   "source": [
    "Method 1: Feature selection based on correlation\n",
    " - Removing highly correlated features (with an absolute correlation greater than 0.6)\n",
    "\n",
    "Method 2: Principal Component Analysis\n",
    " - Normalize the data\n",
    " - Full Component Solution\n",
    " - A 21-components solution\n",
    " - A 2-components solution\n",
    "\n",
    "Dimension Reduction and Principal Component Analysis is shown in the following link:\n",
    " - https://github.com/gassergalalali/MST-IST-5520-SP2020-Group-7/blob/master/Milestone%202/5.%20Dimension%20Reduction%20and%20Feature%20Selection.ipynb"
   ]
  },
  {
   "cell_type": "markdown",
   "metadata": {},
   "source": [
    "## References "
   ]
  },
  {
   "cell_type": "markdown",
   "metadata": {},
   "source": [
    " - Sission, P., Andrews, J., and Bazeley, A. (2019). The affordable housing crisis, explained. <https://www.curbed.com/2019/5/15/18617763/affordable-housing-policy-rent-real-estate-apartment> \n",
    " - Moran, J. (2019). How many single-family homes are there in the US? https://www.quora.com/How-many-single-family-homes-are-there-in-the-US\n",
    " - Parker, R., and Lewis, R. (2020). Opinion: America’s love affair with the single-family house is slowly cooling. https://www.marketwatch.com/story/americas-love-affair-with-the-single-family-house-is-slowly-cooling-2020-01-02"
   ]
  }
 ],
 "metadata": {
  "kernelspec": {
   "display_name": "Python 3",
   "language": "python",
   "name": "python3"
  },
  "language_info": {
   "codemirror_mode": {
    "name": "ipython",
    "version": 3
   },
   "file_extension": ".py",
   "mimetype": "text/x-python",
   "name": "python",
   "nbconvert_exporter": "python",
   "pygments_lexer": "ipython3",
   "version": "3.8.1"
  }
 },
 "nbformat": 4,
 "nbformat_minor": 4
}
