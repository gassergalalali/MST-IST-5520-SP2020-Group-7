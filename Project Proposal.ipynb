{
 "cells": [
  {
   "cell_type": "markdown",
   "metadata": {},
   "source": [
    "<h1 align=\"center\"> Missouri University of Science and Technology </h1>\n",
    "<h2 align=\"center\"> IST 5520 – Data Science and Machine Learning with Python - Spring 2020</h2>\n",
    "<h2 align=\"center\"> Project Proposal</h2>\n",
    "<h3 align=\"center\"> By: Group 7</h3>\n",
    "<h3 align=\"center\"> To: Dr. Langtao Chen </h3>\n",
    "<h3 align=\"center\"> Submitted Date: 02/20/2020 </h3>"
   ]
  },
  {
   "cell_type": "markdown",
   "metadata": {},
   "source": [
    "## Project Team"
   ]
  },
  {
   "cell_type": "markdown",
   "metadata": {},
   "source": [
    " - Amr Elsayegh\n",
    " - Gasser Ali\n",
    " - Mohamad Abdul Nabi\n",
    " - Muaz Ahmed\n",
    " - Ramy Khalef\n",
    " - Rayan Hassane Assaad"
   ]
  },
  {
   "cell_type": "markdown",
   "metadata": {},
   "source": [
    "## 1. Introduction"
   ]
  },
  {
   "cell_type": "markdown",
   "metadata": {},
   "source": [
    "Finding a solution for the affordable housing crisis is a challenge facing the United States. Aproximately, 66 percent of renters nationwide can not afford the price of purchasing a house (Sisson et al. 2019). Moreover, as per Sisson et al. (2019), the prices of houses are increasing in a double rate compared the wage growth. >>>>>>>>>> (To be completed)."
   ]
  },
  {
   "cell_type": "markdown",
   "metadata": {},
   "source": [
    "### 1.1. Business Problem"
   ]
  },
  {
   "cell_type": "markdown",
   "metadata": {},
   "source": [
    "The goal of this project is to study the real estate market behavior. In order to avheive that, the team will investigate methods to predict pricing, demand, and patterns in the real estate market."
   ]
  },
  {
   "cell_type": "markdown",
   "metadata": {},
   "source": [
    "### 1.2. High Level Requirements and Research Questions"
   ]
  },
  {
   "cell_type": "markdown",
   "metadata": {},
   "source": [
    " - How to predict the construction price of a house?\n",
    " - How to predict the sale price of a house?\n",
    " - What are the year-round sales pattern of houses?\n",
    " - What are the specifications most demanded by buyers?\n",
    " - How can investors increase their profits by understanding the market behavior and requirements?"
   ]
  },
  {
   "cell_type": "markdown",
   "metadata": {},
   "source": [
    "## 2. Data "
   ]
  },
  {
   "cell_type": "markdown",
   "metadata": {},
   "source": [
    "### 2.1. Data Source"
   ]
  },
  {
   "cell_type": "markdown",
   "metadata": {},
   "source": [
    "The data is from [https://www.census.gov/construction/chars/microdata.html](https://www.census.gov/construction/chars/microdata.html)"
   ]
  },
  {
   "cell_type": "markdown",
   "metadata": {},
   "source": [
    "### 2.2. Decription of Variables"
   ]
  },
  {
   "cell_type": "markdown",
   "metadata": {},
   "source": [
    "The table in below link shows the varibales within the collected data, description of each variable, possible values, and any remarks associated with each variable."
   ]
  },
  {
   "cell_type": "markdown",
   "metadata": {},
   "source": [
    "[Refer to this file for Descipriton of the Variables in the data](https://github.com/gassergalalali/MST-IST-5520-SP2020-Group-7/blob/master/Variables.md)"
   ]
  },
  {
   "cell_type": "markdown",
   "metadata": {},
   "source": [
    "### 2.3. Preliminary Analysis of the Data"
   ]
  },
  {
   "cell_type": "markdown",
   "metadata": {},
   "source": [
    "[Refer to this Python Notebook for Preliminary Analysis of the Data](https://github.com/gassergalalali/MST-IST-5520-SP2020-Group-7/blob/master/Data%20Description.ipynb)"
   ]
  },
  {
   "cell_type": "markdown",
   "metadata": {},
   "source": [
    "## References "
   ]
  },
  {
   "cell_type": "markdown",
   "metadata": {},
   "source": [
    " - Sission, P., Andrews, J., and Bazeley, A. (2019). The affordable housing crisis, explained. <https://www.curbed.com/2019/5/15/18617763/affordable-housing-policy-rent-real-estate-apartment> (Accessed on 02/19/2020)"
   ]
  }
 ],
 "metadata": {
  "kernelspec": {
   "display_name": "Python 3",
   "language": "python",
   "name": "python3"
  },
  "language_info": {
   "codemirror_mode": {
    "name": "ipython",
    "version": 3
   },
   "file_extension": ".py",
   "mimetype": "text/x-python",
   "name": "python",
   "nbconvert_exporter": "python",
   "pygments_lexer": "ipython3",
   "version": "3.7.4"
  }
 },
 "nbformat": 4,
 "nbformat_minor": 4
}
