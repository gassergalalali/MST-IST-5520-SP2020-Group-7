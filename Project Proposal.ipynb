{
 "cells": [
  {
   "cell_type": "markdown",
   "metadata": {},
   "source": [
    "# Project Proposal"
   ]
  },
  {
   "cell_type": "markdown",
   "metadata": {},
   "source": [
    "Submitted Thursday 2020-02-19\n",
    "\n",
    "**Missouri University of Science and Technology**\n",
    "\n",
    "**IST  5520 – Data Science and Machine Learning with Python**\n",
    "\n",
    "**Group 7**\n",
    "\n",
    "***Spring  2020***"
   ]
  },
  {
   "cell_type": "markdown",
   "metadata": {},
   "source": [
    "## Project Team"
   ]
  },
  {
   "cell_type": "markdown",
   "metadata": {},
   "source": [
    " - Amr Elsayegh\n",
    " - Gasser Ali\n",
    " - Mohamad Abdul Nabi\n",
    " - Muaz Ahmed\n",
    " - Ramy Khalef\n",
    " - Rayan Hassane Assaad"
   ]
  },
  {
   "cell_type": "markdown",
   "metadata": {},
   "source": [
    "## Business Problem"
   ]
  },
  {
   "cell_type": "markdown",
   "metadata": {},
   "source": [
    "The goal of this project is to study the real estate market behavior. In order to avheive that, the team will investigate methods to predict pricing, demand, and patterns in the real estate market."
   ]
  },
  {
   "cell_type": "markdown",
   "metadata": {},
   "source": [
    "## High Level Requirements and Research Questions"
   ]
  },
  {
   "cell_type": "markdown",
   "metadata": {},
   "source": [
    " - How to predict the construction price of a house?\n",
    " - How to predict the sale price of a house?\n",
    " - What are the year-round sales pattern of houses?\n",
    " - What are the specifications most demanded by buyers?\n",
    " - How can investors increase their profits by understanding the market behavior and requirements?"
   ]
  },
  {
   "cell_type": "markdown",
   "metadata": {},
   "source": [
    "## Data Source"
   ]
  },
  {
   "cell_type": "markdown",
   "metadata": {},
   "source": [
    "The data is from [https://www.census.gov/construction/chars/microdata.html](https://www.census.gov/construction/chars/microdata.html)"
   ]
  },
  {
   "cell_type": "markdown",
   "metadata": {},
   "source": [
    "## Key Information"
   ]
  },
  {
   "cell_type": "markdown",
   "metadata": {},
   "source": [
    "#### Decription of Variables"
   ]
  },
  {
   "cell_type": "markdown",
   "metadata": {},
   "source": [
    "[Refer to this file for Descipriton of the Variables in the data](https://github.com/gassergalalali/MST-IST-5520-SP2020-Group-7/blob/master/Variables.md)"
   ]
  },
  {
   "cell_type": "markdown",
   "metadata": {},
   "source": [
    "#### Preliminary Analysis of the Data"
   ]
  },
  {
   "cell_type": "markdown",
   "metadata": {},
   "source": [
    "[Refer to this Python Notebook for Preliminary Analysis of the Data](https://github.com/gassergalalali/MST-IST-5520-SP2020-Group-7/blob/master/Data%20Description.ipynb)"
   ]
  }
 ],
 "metadata": {
  "kernelspec": {
   "display_name": "Python 3",
   "language": "python",
   "name": "python3"
  },
  "language_info": {
   "codemirror_mode": {
    "name": "ipython",
    "version": 3
   },
   "file_extension": ".py",
   "mimetype": "text/x-python",
   "name": "python",
   "nbconvert_exporter": "python",
   "pygments_lexer": "ipython3",
   "version": "3.7.4"
  }
 },
 "nbformat": 4,
 "nbformat_minor": 4
}
