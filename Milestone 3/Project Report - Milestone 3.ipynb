{
 "cells": [
  {
   "cell_type": "markdown",
   "metadata": {},
   "source": [
    "<h1 align=\"center\"> Missouri University of Science and Technology </h1>\n",
    "<h2 align=\"center\"> IST 5520 – Data Science and Machine Learning with Python - Spring 2020</h2>\n",
    "<h2 align=\"center\"> An Exploratory and Predictive Analysis of Single-Family Houses Market</h2>\n",
    "<h3 align=\"center\"> Project Report - Milestone 3</h3>\n",
    "<h3 align=\"center\"> Prepared By: Group 7</h3>\n",
    "<h3 align=\"center\"> Prepared for: Dr. Langtao Chen </h3>\n",
    "<h3 align=\"center\"> Submission Date: Monday May 4, 2020 </h3>"
   ]
  },
  {
   "cell_type": "markdown",
   "metadata": {},
   "source": [
    "# Project Team Members"
   ]
  },
  {
   "cell_type": "markdown",
   "metadata": {},
   "source": [
    " - Amr Elsayegh\n",
    " - Gasser Ali\n",
    " - Mohamad Abdul Nabi\n",
    " - Muaz Ahmed\n",
    " - Ramy Khalef\n",
    " - Rayan Hassane Assaad"
   ]
  },
  {
   "cell_type": "markdown",
   "metadata": {},
   "source": [
    "# 1. Introduction"
   ]
  },
  {
   "cell_type": "markdown",
   "metadata": {},
   "source": [
    "## 1.1. Business Problem"
   ]
  },
  {
   "cell_type": "markdown",
   "metadata": {},
   "source": [
    "Finding a solution for the affordable housing crisis is a challenge facing the United States (US). Aproximately, 66 percent of renters nationwide can not afford the price of purchasing a house (Sisson et al. 2019). Moreover, compared to the growth in wages, the prices of houses are increasing in a double rate (Sisson et al. 2019). This issue is more pronounced in single-family houses, which is one of the key real-estate markets in the US. As opposed to a multi-family residential dwellings, single-family houses are stand-alone houses; that is, free-standing residential buildings. This critical problem is affecting the business operations of many construction companies in the US. These companies include 'contrators' who are responsible for building the houses, real-estate developers who sell the houses, and buyers who purchase them."
   ]
  },
  {
   "cell_type": "markdown",
   "metadata": {},
   "source": [
    "## 1.2. Introduction of the Business Scenario/Setting"
   ]
  },
  {
   "cell_type": "markdown",
   "metadata": {},
   "source": [
    "Single-family homes are common in rural and suburban and even some urban areas across the US. They are most common in low-density, high-income regions. In fact, there are about 95 million single family homes in the US as of 2019 (Moran 2019). For decades, land-use regulation across the US has emphasized single-family houses on large lots which priced many people out of the quintessential American dream: home ownership (Parker and Lewis 2020). As such, the goal of this project is to study the real-estate market behavior. In order to acheive that, the team will investigate methods to predict the sale price, completion time, and to identify many other patterns in the real-estate market of single-family houses in the US. "
   ]
  },
  {
   "cell_type": "markdown",
   "metadata": {},
   "source": [
    "## 1.3. High Level Requirements and Research Questions"
   ]
  },
  {
   "cell_type": "markdown",
   "metadata": {},
   "source": [
    "The following bullet points reflect the high level requirements and research questions intended to be answered once the project is completed:\n",
    " - How to predict the construction price of single-family houses?\n",
    " - How to predict the sale prices of single-family houses?\n",
    " - Are there any patterns in the physical and financial properties of single-family houses?\n",
    " - How to predict the construction duration of single-family houses?"
   ]
  },
  {
   "cell_type": "markdown",
   "metadata": {},
   "source": [
    "# 2. Data Sources and Collection"
   ]
  },
  {
   "cell_type": "markdown",
   "metadata": {},
   "source": [
    "## 2.1. Data Source"
   ]
  },
  {
   "cell_type": "markdown",
   "metadata": {},
   "source": [
    "The source of the data is the US Census Bureau. The data was collected by the Survey of Construction (SOC) which is a national sample survey of new houses in the US selected from building permits and a canvassing of areas not requiring permits. The original source of the data could be accesed at the following link: [https://www.census.gov/construction/chars/microdata.html](https://www.census.gov/construction/chars/microdata.html)\n",
    "\n",
    "The data meets all the requirements specified by Dr. Langtao Chen\n",
    "- It tells an interesting story about the market of the single-family houses in the US\n",
    "- It is in raw format since it has not be cleansed by other people and many values are missing (represented by zeros in the data set).\n",
    "- It has considerably more than 20 variables\n",
    "- It has huge number of observations (much more than 1,000)\n",
    "- The dataset and the research questions were never analyzed - neither fully nor partially - on the internet "
   ]
  },
  {
   "cell_type": "markdown",
   "metadata": {},
   "source": [
    "## 2.2. Data Collection"
   ]
  },
  {
   "cell_type": "markdown",
   "metadata": {},
   "source": [
    "The data was collected from the builders and owners of the single-family houses through interviews about various information including: the start of the houses' construction, the hourses' sale prices, the houses' completion date, and more than 40 physical and financial characteristics describing the houses. That said, the data was collected as sample of the single-family houses that were started, sold, and/or completed during each year starting from 1999 and ending by 2018.\n",
    "\n",
    "The team will collect the data by downloading the excel files (.xls) for each single year (from 1999 to 2018) from the previously mentioned link. Afterwards, the data will be combined into a single csv file based on the common features or variables present in the collected/downloaded excel files."
   ]
  },
  {
   "cell_type": "markdown",
   "metadata": {},
   "source": [
    "## 2.3. Key Information Available in the Data Set (Decription of Variables)"
   ]
  },
  {
   "cell_type": "markdown",
   "metadata": {},
   "source": [
    "Key information about the single-family houses is available in the data set including, but not limited to: type of financing, framing material, foundation type, parking facility, heating system, construction method, sewage disposal system, number of stories, wall material, square foot area, number of bedrooms, lot value, construction start and finish date, sales price, etc.\n",
    "\n",
    "Due to the big number of variables, [the seperate notebook at this link](https://github.com/gassergalalali/MST-IST-5520-SP2020-Group-7/blob/master/Milestone%202/1.2.Variables.ipynb) shows all key information avaliable on all the variables present in the collected data set, a detailed description of each variable, possible values that could be taken by each variable, and any remarks associated with each variable."
   ]
  },
  {
   "cell_type": "markdown",
   "metadata": {},
   "source": [
    "## 2.4. Project's Github Repository"
   ]
  },
  {
   "cell_type": "markdown",
   "metadata": {},
   "source": [
    "The team members have created a Github repository for the project. The created repository will be used to manage all project documents, including the project proposal. The link for this repository is: https://github.com/gassergalalali/MST-IST-5520-SP2020-Group-7"
   ]
  },
  {
   "cell_type": "markdown",
   "metadata": {},
   "source": [
    "# 3. Data Cleaning and Transformation"
   ]
  },
  {
   "cell_type": "markdown",
   "metadata": {},
   "source": [
    "The methodology of the data cleaning process is as follows:\n",
    " - There are many records in the raw data that had values that were missing. These values included:\n",
    "     - `0` where it was indicated that `0 = Not Reported`\n",
    "     - `9` where it was indicated that `9 = Not Reported`\n",
    "     - Price values of `0`\n",
    "     - Area values of `0`\n",
    " - The afformentioned values were replaced with `np.nan`.\n",
    " - Columns that had a noticeable high number of missing values were dropped.\n",
    " - Data where `0 = Not Applicable` were not replaced with `np.nan`.\n",
    " - Data where `0 = Not Reported or Not Applicable` were not replaced with `np.nan`.\n",
    " \n",
    "After finishing the cleaning process, the datasets are saved as `*.csv` files in the `./clean_data/` folder.\n",
    " - `./clean_data/cleanedDataPrice.csv` contains the dataset where records that have missing values in the sales price column only are dropped.\n",
    " - `./clean_data/cleanedDataPriceDr.csv` containts the dataset where all records with missing values are dropped.\n",
    "\n",
    "Detailed process is shown in the following links: \n",
    " - [Data Cleaning Part 1](https://github.com/gassergalalali/MST-IST-5520-SP2020-Group-7/blob/master/Milestone%202/2.1.Cleaning_1.ipynb)\n",
    " - [Data Cleaning Part 2](https://github.com/gassergalalali/MST-IST-5520-SP2020-Group-7/blob/master/Milestone%202/2.2.Cleaning_2.ipynb)"
   ]
  },
  {
   "cell_type": "markdown",
   "metadata": {},
   "source": [
    "# 4. Data Summarization and Visualization"
   ]
  },
  {
   "cell_type": "markdown",
   "metadata": {},
   "source": [
    "Data Summarization tasks:\n",
    " - Data Description\n",
    " - Correlation Table\n",
    " - Correlation Heat Map\n",
    "\n",
    "Data Visualization tasks:\n",
    " - Distribution for Sales Price\n",
    " - Sales price vs Areas Variables\n",
    " - Construction Method vs. Sales Price\n",
    " - Sale Year vs. Sales Price\n",
    " - Detecting Outliers in Sales Price according to Boxplot Rules\n",
    "\n",
    "Data Summarization and Visualization was performed in <a href='https://github.com/gassergalalali/MST-IST-5520-SP2020-Group-7/blob/master/Milestone%202/Project%20Report%20-%20Milestone%202%20.ipynb'>Milestone 2</a>. Details the the Data Summarization and Visualization can be found [at this link](https://github.com/gassergalalali/MST-IST-5520-SP2020-Group-7/blob/master/Milestone%202/3.SummarizationAndVisualization.ipynb)."
   ]
  },
  {
   "cell_type": "markdown",
   "metadata": {},
   "source": [
    "# 5. Data Analysis"
   ]
  },
  {
   "cell_type": "markdown",
   "metadata": {},
   "source": [
    "Linear Regression\n",
    " - LM model for SalesPrice vs SquareFootAreaoftheLot\n",
    " - LM model for SalesPrice vs SquareFootAreaofFinishedBasement\n",
    " - LM model for SalesPrice vs SquareFootAreaofHouse\n",
    "\n",
    "Data Analysis is shown [at this link](https://github.com/gassergalalali/MST-IST-5520-SP2020-Group-7/blob/master/Milestone%202/4.Linear%20Regression.ipynb)."
   ]
  },
  {
   "cell_type": "markdown",
   "metadata": {},
   "source": [
    "## 5.1 Correlation Analysis"
   ]
  },
  {
   "cell_type": "markdown",
   "metadata": {},
   "source": [
    "<img src=\"data:image/png;base64,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%0A\">"
   ]
  },
  {
   "cell_type": "markdown",
   "metadata": {},
   "source": [
    "The correlation analysis shows that:\n",
    " - Many variables are correlated with the price of houses\n",
    " - There are multi-collinearity issues that will be removed in further analysis"
   ]
  },
  {
   "cell_type": "markdown",
   "metadata": {},
   "source": [
    "## 5.2 Histogram of Sales Price"
   ]
  },
  {
   "cell_type": "markdown",
   "metadata": {},
   "source": [
    "<img src=\"data:image/png;base64,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%0A\">"
   ]
  },
  {
   "cell_type": "markdown",
   "metadata": {},
   "source": [
    "Note: it is very clear that the \"Sales price\" data is skewed to the right"
   ]
  },
  {
   "cell_type": "markdown",
   "metadata": {},
   "source": [
    "## 5.3 Average Sales Price Compared to Construction method"
   ]
  },
  {
   "cell_type": "markdown",
   "metadata": {},
   "source": [
    "<img src=\"data:image/png;base64,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%0A\">"
   ]
  },
  {
   "cell_type": "markdown",
   "metadata": {},
   "source": [
    "The previous plot shows that using modular construction methods decreases the price of homes compared to other methods. From an architectural/ civil Engineering point of view, this is a much expected observation. Modular Construction expedites the construction of homes and lowers costs significantly."
   ]
  },
  {
   "cell_type": "markdown",
   "metadata": {},
   "source": [
    "<img src=\"data:image/png;base64,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%0A\">"
   ]
  },
  {
   "cell_type": "markdown",
   "metadata": {},
   "source": [
    "The Percentage distrubution of the sales price from 1998 to 2019, based on the construction method, is shown in the figure above."
   ]
  },
  {
   "cell_type": "markdown",
   "metadata": {},
   "source": [
    "## 5.4 Sale Year vs. Sales Price"
   ]
  },
  {
   "cell_type": "markdown",
   "metadata": {},
   "source": [
    "<img src=\"data:image/png;base64,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%0A\">"
   ]
  },
  {
   "cell_type": "markdown",
   "metadata": {},
   "source": [
    "As you can see in both figures above there is a major drop in values during the period of around 2008-2009. This is reasoned by the 2008 economic crisis"
   ]
  },
  {
   "cell_type": "markdown",
   "metadata": {},
   "source": [
    "## 5.5 Detecting Outliers"
   ]
  },
  {
   "cell_type": "markdown",
   "metadata": {},
   "source": [
    "<img src=\"data:image/png;base64,iVBORw0KGgoAAAANSUhEUgAAAZAAAAD4CAYAAADCb7BPAAAABHNCSVQICAgIfAhkiAAAAAlwSFlzAAALEgAACxIB0t1+/AAAADh0RVh0U29mdHdhcmUAbWF0cGxvdGxpYiB2ZXJzaW9uMy4xLjIsIGh0dHA6Ly9tYXRwbG90bGliLm9yZy8li6FKAAAVpElEQVR4nO3df4xd5Z3f8feX8WDDJAEbG4Q8gNnirgyzu7BMDau4TRxWxumuSqoSxVRqvMKqQ0RcqlYipN4t2SSWAlJLYXZBcmUXnFIbmu4SuhvXWMbblStKGEga/KOs3Y0JUyP/qA3FIzz2mG//mGfcO+PxeOYYz/Fl3i/p6t75nud5zjOjOB/Oec45NzITSZLG66K6JyBJak4GiCSpEgNEklSJASJJqsQAkSRVMqXuCUykmTNn5pw5c+qehiQ1lddff/1QZs4aXp9UATJnzhy6u7vrnoYkNZWIeHukuqewJEmVGCCSpEoMEElSJQaIJKkSA0SSVIkBItVo/fr1dHR00NLSQkdHB+vXr697StKYTarLeKULyfr161m5ciVr1qxhwYIFbNu2jWXLlgFwzz331Dw76exiMj3OvbOzM70PRBeKjo4Ourq6WLhw4ana1q1bWbFiBdu3b69xZtJQEfF6ZnaeVjdApHq0tLRw7NgxWltbT9VOnDjBtGnTOHnyZI0zk4Y6U4C4BiLVZN68eWzbtm1Ibdu2bcybN6+mGUnjY4BINVm5ciXLli1j69atnDhxgq1bt7Js2TJWrlxZ99SkMXERXarJ4EL5ihUr2LVrF/PmzWPVqlUuoKtpeAQiSarEAJFqsn79eh544AF6e3vJTHp7e3nggQe8F0RNwwCRavLggw/S0tLC2rVr6evrY+3atbS0tPDggw/WPTVpTAwQqSY9PT2sW7eOhQsX0traysKFC1m3bh09PT11T00aEwNEklSJASLVpL29naVLlw65jHfp0qW0t7fXPTVpTAwQqSaPPvoo/f393HvvvUybNo17772X/v5+Hn300bqnJo3JWQMkIq6JiK0RsSsidkTEA6U+IyI2R8Tu8j69oc+3ImJPRLwVEXc21G+NiDfLticiIkp9akQ8V+qvRsSchj5Lyz52R8TShvr1pe3u0vfij+dPIk2Me+65h8cff5y2tjYA2traePzxx70PRE1jLEcg/cA/z8x5wO3A/RFxI/AQsCUz5wJbys+UbUuAm4DFwJMR0VLGegpYDswtr8Wlvgw4kpk3AI8Bj5SxZgAPA7cB84GHG4LqEeCxsv8jZQxJ0gQ5a4Bk5ruZ+Ub5/AGwC5gN3AU8U5o9A3ypfL4L2JCZfZn5C2APMD8irgY+k5mv5MATHNcN6zM41g+BO8rRyZ3A5sw8nJlHgM3A4rLtC6Xt8P1LTWHwce5dXV0cO3aMrq4uVq5c6X0gahrjWgMpp5ZuAV4FrsrMd2EgZIArS7PZwDsN3XpKbXb5PLw+pE9m9gPvA1eMMtYVwHul7fCxhs95eUR0R0T3wYMHx/PrSufVqlWrWLNmzZDLeNesWcOqVavqnpo0JmMOkIj4FPCfgH+amf93tKYj1HKUepU+o401tJi5OjM7M7Nz1qxZIzWRarFr1y4WLFgwpLZgwQJ27dpV04yk8RlTgEREKwPh8Wxm/kkp7y+npSjvB0q9B7imoXs7sK/U20eoD+kTEVOAy4DDo4x1CLi8tB0+ltQUfJy7mt1YrsIKYA2wKzP/dcOmF4HBq6KWAj9qqC8pV1Zdz8Bi+U/Kaa4PIuL2MuZXh/UZHOtu4OWyTrIJWBQR08vi+SJgU9m2tbQdvn+pKfg4dzW7sTzO/bPAPwLejIifldq/AL4PPB8Ry4BfAl8GyMwdEfE8sJOBK7juz8zBr1f7OvA0cAmwsbxgIKB+EBF7GDjyWFLGOhwR3wVeK+2+k5mHy+dvAhsi4nvAT8sYUtPwce5qdn6lrSRpVH6lrSTpY2WASJIqMUAkSZUYIJKkSgwQSVIlBogkqRIDRJJUiQEiSarEAJEkVWKASDVav349HR0dtLS00NHR4XeBqKmM5VlYks6DwS+UWrNmDQsWLGDbtm0sWzbwxZo+D0vNwGdhSTXp6Oigq6uLhQsXnqpt3bqVFStWsH379hpnJg11pmdhGSBSTVpaWjh27Bitra2naidOnGDatGmcPHlylJ7SxPJhitIFxi+UUrNzDUSqycqVK/nKV75CW1sbb7/9Ntdddx29vb08/vjjdU9NGhOPQKQLwMCXdErNxQCRarJq1SqWL19OW1sbAG1tbSxfvpxVq1bVPDNpbDyFJdVk586dHDhwgLa2NjKT3t5eVq9ezaFDh+qemjQmHoFINWlpaeHkyZOsXbuWvr4+1q5dy8mTJ2lpaal7atKYGCBSTfr7+4dcwgvQ2tpKf39/TTOSxsdTWFKNZs+ezR133EFmEhHccsst7N+/v+5pSWPiEYhUk7a2Nt544w3uu+8+3nvvPe677z7eeOONU4vq0oXOAJFq0tfXR1tbGxs3bmTGjBls3LiRtrY2+vr66p6aNCYGiFST/v5+urq6hlzG29XV5RqImoYBItVk6tSpbNmyZUhty5YtTJ06taYZSePjIrpUk8997nM8++yzTJ8+HYB9+/axY8cOFi1aVPPMpLHxCESqyc6dO7n00ks5evQoH330EUePHuXSSy9l586ddU9NGhMDRKpJT08PL7zwAsePHyczOX78OC+88AI9PT11T00aEwNEklSJayBSTdrb20dc72hvb69hNtL4eQQi1eTIkSPjqksXGgNEqklvby8Rcep5WK2trUQEvb29Nc9MGhsDRKrRzJkz2bRpE8ePH2fTpk3MnDmz7ilJY+YaiFSjDz/8kC9+8Yv09fUxderU057OK13IDBCpRkePHj31ua+vz+dgqal4CkuSVIkBItXsoosuGvIuNQv/FyvVaMqUKVx77bVcdNFFXHvttUyZ4lllNY+zBkhErI2IAxGxvaH27Yj43xHxs/L6uw3bvhUReyLirYi4s6F+a0S8WbY9ERFR6lMj4rlSfzUi5jT0WRoRu8traUP9+tJ2d+l78bn/KaSJ19/fz969e/noo4/Yu3evj3JXUxnLEcjTwOIR6o9l5s3l9WOAiLgRWALcVPo8GREtpf1TwHJgbnkNjrkMOJKZNwCPAY+UsWYADwO3AfOBhyNieunzSNn/XOBIGUOSNIHOGiCZ+ZfA4TGOdxewITP7MvMXwB5gfkRcDXwmM1/JzATWAV9q6PNM+fxD4I5ydHInsDkzD2fmEWAzsLhs+0JpS+k7OJYkaYKcyxrINyLi5+UU1+CRwWzgnYY2PaU2u3weXh/SJzP7gfeBK0YZ6wrgvdJ2+FiniYjlEdEdEd0HDx4c/28pSRpR1QB5CvgbwM3Au8C/KvUYoW2OUq/SZ7SxTt+QuTozOzOzc9asWWdqJtXmqquuGvIuNYtKAZKZ+zPzZGZ+BPxbBtYoYOBo4JqGpu3AvlJvH6E+pE9ETAEuY+CU2ZnGOgRcXtoOH0tqOvv37x/yLjWLSgFS1jQG/X1g8AqtF4El5cqq6xlYLP9JZr4LfBARt5c1jK8CP2roM3iF1d3Ay2WdZBOwKCKml1Nki4BNZdvW0pbSd3AsSdIEOetF5xGxHvg8MDMiehi4MurzEXEzA6eO9gJfA8jMHRHxPLAT6Afuz8yTZaivM3BF1yXAxvICWAP8ICL2MHDksaSMdTgivgu8Vtp9JzMHF/O/CWyIiO8BPy1jSJImUAz8B/3k0NnZmd3d3XVPQwKg3Ao1osn071IXvoh4PTM7h9e9E12SVIkBIkmqxACRJFVigEiSKjFAJEmVGCCSpEoMEElSJQaIJKkSA0SSVIkBIkmqxACRJFVigEiSKjFAJEmVGCCSpEoMEElSJQaIJKkSA0SSVIkBIkmqxACRJFVigEiSKjFAJEmVGCCSpEoMEElSJQaIJKkSA0SSVIkBIkmqxACRJFVigEiSKjFAJEmVGCCSpEoMEElSJQaIJKkSA0SSVIkBIkmqxACRJFVigEiSKjFAJEmVGCCSpErOGiARsTYiDkTE9obajIjYHBG7y/v0hm3fiog9EfFWRNzZUL81It4s256IiCj1qRHxXKm/GhFzGvosLfvYHRFLG+rXl7a7S9+Lz/1PIUkaj7EcgTwNLB5WewjYkplzgS3lZyLiRmAJcFPp82REtJQ+TwHLgbnlNTjmMuBIZt4APAY8UsaaATwM3AbMBx5uCKpHgMfK/o+UMSRJE+isAZKZfwkcHla+C3imfH4G+FJDfUNm9mXmL4A9wPyIuBr4TGa+kpkJrBvWZ3CsHwJ3lKOTO4HNmXk4M48Am4HFZdsXStvh+5ckTZCqayBXZea7AOX9ylKfDbzT0K6n1GaXz8PrQ/pkZj/wPnDFKGNdAbxX2g4f6zQRsTwiuiOi++DBg+P8NSVJZ/JxL6LHCLUcpV6lz2hjnb4hc3VmdmZm56xZs87UTJI0TlUDZH85LUV5P1DqPcA1De3agX2l3j5CfUifiJgCXMbAKbMzjXUIuLy0HT6WJGmCVA2QF4HBq6KWAj9qqC8pV1Zdz8Bi+U/Kaa4PIuL2sobx1WF9Bse6G3i5rJNsAhZFxPSyeL4I2FS2bS1th+9fkjRBppytQUSsBz4PzIyIHgaujPo+8HxELAN+CXwZIDN3RMTzwE6gH7g/M0+Wob7OwBVdlwAbywtgDfCDiNjDwJHHkjLW4Yj4LvBaafedzBxczP8msCEivgf8tIwhSZpAMfAf9JNDZ2dndnd31z0NCYByK9SIJtO/S134IuL1zOwcXvdOdElSJQaIJKkSA0SSVIkBIkmqxACRJFVigEiSKjFAJEmVGCCSpEoMEElSJQaIJKkSA0SSVIkBIkmqxACRJFVigEiSKjFAJEmVGCCSpEoMEElSJQaIJKkSA0SSVIkBIkmqxACRJFVigEiSKjFAJEmVGCCSpEoMEElSJQaIJKkSA0SSVIkBIkmqxACRJFVigEiSKjFAJEmVGCCSpEoMEElSJQaIJKmSKXVPQPokiogJ6Z+Z57Qf6VwYINJ5MJb/Yx8tJAwGNQNPYUk1OVNIGB5qFgaIVKPMJDO57pt/duqz1CzOKUAiYm9EvBkRP4uI7lKbERGbI2J3eZ/e0P5bEbEnIt6KiDsb6reWcfZExBNRju0jYmpEPFfqr0bEnIY+S8s+dkfE0nP5PSRJ4/dxHIEszMybM7Oz/PwQsCUz5wJbys9ExI3AEuAmYDHwZES0lD5PAcuBueW1uNSXAUcy8wbgMeCRMtYM4GHgNmA+8HBjUEmSzr/zcQrrLuCZ8vkZ4EsN9Q2Z2ZeZvwD2APMj4mrgM5n5Sg4cv68b1mdwrB8Cd5SjkzuBzZl5ODOPAJv5/6EjSZoA5xogCbwUEa9HxPJSuyoz3wUo71eW+mzgnYa+PaU2u3weXh/SJzP7gfeBK0YZ6zQRsTwiuiOi++DBg5V+SUnS6c71Mt7PZua+iLgS2BwR/3OUtiNds5ij1Kv2GVrMXA2sBujs7HSFUpI+Jud0BJKZ+8r7AeBPGViP2F9OS1HeD5TmPcA1Dd3bgX2l3j5CfUifiJgCXAYcHmUsSdIEqRwgEdEWEZ8e/AwsArYDLwKDV0UtBX5UPr8ILClXVl3PwGL5T8pprg8i4vayvvHVYX0Gx7obeLmsk2wCFkXE9LJ4vqjUJEkT5FxOYV0F/Gm54nYK8B8y879ExGvA8xGxDPgl8GWAzNwREc8DO4F+4P7MPFnG+jrwNHAJsLG8ANYAP4iIPQwceSwpYx2OiO8Cr5V238nMw+fwu0iSxqlygGTmXwO/MUL9/wB3nKHPKmDVCPVuoGOE+jFKAI2wbS2wdnyzliR9XLwTXZJUiQEiSarEAJEkVWKASJIqMUAkSZUYIJKkSgwQSVIlBogkqRIDRJJUiQEiSarkXB/nLn3i/cYfvsT7H5447/uZ89Cfn9fxL7uklf/x8KLzug9NLgaIdBbvf3iCvd//nbqncc7Od0Bp8vEUliSpEgNEklSJASJJqsQAkSRVYoBIkioxQCRJlRggkqRKDBBJUiXeSCidxafnPcSvPfNQ3dM4Z5+eB9D8N0TqwmGASGfxwa7veye6NAJPYUmSKjFAJEmVGCCSpEoMEElSJS6iS2PwSViAvuyS1rqnoE8YA0Q6i4m4AmvOQ3/+ibjSS5OLp7AkSZUYIJKkSgwQSVIlBogkqRIDRJJUiQEiSarEAJEkVWKASJIqMUAkSZV4J7p0HkTE+Ps8Mv79ZOb4O0kfk6Y+AomIxRHxVkTsiYjm/8o4fWJk5oS8pDo1bYBERAvwx8AXgRuBeyLixnpnJUmTR9MGCDAf2JOZf52Zx4ENwF01z0mSJo1mDpDZwDsNP/eU2hARsTwiuiOi++DBgxM2OUn6pGvmABlplfK0k8KZuTozOzOzc9asWRMwLUmaHJo5QHqAaxp+bgf21TQXSZp0mjlAXgPmRsT1EXExsAR4seY5SdKk0bT3gWRmf0R8A9gEtABrM3NHzdOSpEmjaQMEIDN/DPy47nlI0mQUk+lmpIg4CLxd9zykEcwEDtU9CekMrsvM065CmlQBIl2oIqI7Mzvrnoc0Hs28iC5JqpEBIkmqxACRLgyr656ANF6ugUiSKvEIRJJUiQEiSarEAJHGICJWRsSOiPh5RPwsIm4bpe3TEXF3hX38XkQcLOPvjIh/fIZ2nRHxxHjHlz5uTX0nujQRIuK3gN8FfjMz+yJiJnDxedrdc5n5jYi4EtgRES9m5v6GuUzJzG6g+zztXxozj0Cks7saOJSZfQCZeSgz90XEv4yI1yJie0SsjhG+CD0ibo2I/xoRr0fEpoi4utT/STnK+HlEbBjeLzMPAP8LuC4ivl3GfwlYFxGfj4g/K+N8KiL+XUS8Wcb6B6W+KCJeiYg3IuI/RsSnzt+fR5OVASKd3UvANRHxVxHxZER8rtT/KDP/VmZ2AJcwcJRySkS0Al3A3Zl5K7AWWFU2PwTckpm/Dtw3fIcR8SvArwB7SulW4K7M/IfDmv4B8H5m/loZ6+VyhPT7wG9n5m8ycLTyz87lDyCNxFNY0llk5tGIuBX428BC4LmIeAj4ICIeBC4FZgA7gP/c0PVXgQ5gczk4aQHeLdt+DjwbES8ALzT0+UpELAD6gK9l5uHS98XM/HCE6f02A19lMDjXIxHxu8CNwH8rfS8GXjmHP4E0IgNEGoPMPAn8BfAXEfEm8DXg14HOzHwnIr4NTBvWLYAdmflbIwz5O8DfAf4e8AcRcVOpP5eZ3xihfe8Zphac/k2cAWzOzHtG/62kc+MpLOksIuJXI2JuQ+lm4K3y+VBZXxjpqqu3gFllEZ6IaI2ImyLiIuCazNwKPAhcDlRdo3gJOBU4ETEd+O/AZyPihlK7NCL+ZsXxpTPyCEQ6u08BXRFxOdDPwLrEcuA94E1gLwPfkDlEZh4vl/M+ERGXMfDv7d8AfwX8+1IL4LHMfG+ENfix+B7wxxGxHTgJ/GFm/klE/B6wPiKmlna/X/YrfWx8lIkkqRJPYUmSKjFAJEmVGCCSpEoMEElSJQaIJKkSA0SSVIkBIkmq5P8BA1HYI3b0R0AAAAAASUVORK5CYII=%0A\">"
   ]
  },
  {
   "cell_type": "markdown",
   "metadata": {},
   "source": [
    "After removing the outliers, the remaining number of entries is $7,122$ entries,"
   ]
  },
  {
   "cell_type": "markdown",
   "metadata": {},
   "source": [
    "# 6. Dimension Reduction and Principal Component Analysis"
   ]
  },
  {
   "cell_type": "markdown",
   "metadata": {},
   "source": [
    "**Method 1**: Feature selection based on correlation\n",
    " - Removing highly correlated features (with an absolute correlation greater than 0.6)"
   ]
  },
  {
   "cell_type": "markdown",
   "metadata": {},
   "source": [
    "The calculations for method 1 is repeated again in the predictive analysis section in this report."
   ]
  },
  {
   "cell_type": "markdown",
   "metadata": {},
   "source": [
    "**Method 2**: Principal Component Analysis\n",
    " - Normalize the data\n",
    " - Full Component Solution\n",
    " - A 21-components solution\n",
    " - A 2-components solution\n",
    "\n",
    "Dimension Reduction and Principal Component Analysis is shown [at this link](https://github.com/gassergalalali/MST-IST-5520-SP2020-Group-7/blob/master/Milestone%202/5.%20Dimension%20Reduction%20and%20Feature%20Selection.ipynb)."
   ]
  },
  {
   "cell_type": "markdown",
   "metadata": {},
   "source": [
    "<img src=\"data:image/png;base64,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%0A\">"
   ]
  },
  {
   "cell_type": "markdown",
   "metadata": {},
   "source": [
    "From the above plot, we can see that if we choose a 21-component solution, the explained variance would be > 90%. That is to say, 21 orthogonal (uncorrelated) components will be able to keep more than 90% variance of the 30 variables in the original dataset."
   ]
  },
  {
   "cell_type": "markdown",
   "metadata": {},
   "source": [
    "# 7. Predictive Analytics "
   ]
  },
  {
   "cell_type": "markdown",
   "metadata": {},
   "source": [
    "In this section, the detailed calculations and comparision of six predictive analytics techniques are shown."
   ]
  },
  {
   "cell_type": "markdown",
   "metadata": {},
   "source": [
    "The tested methods are:\n",
    " 1. KNN Regression\n",
    " 2. Random Forest\n",
    " 3. Artificial Neural Network\n",
    " 4. Support Vector Machine\n",
    " 5. Kernel Ridge Regression\n",
    " 6. Stochastic Gradient Descent"
   ]
  },
  {
   "cell_type": "markdown",
   "metadata": {},
   "source": [
    " "
   ]
  },
  {
   "cell_type": "markdown",
   "metadata": {},
   "source": [
    "## Importing Needed Packages"
   ]
  },
  {
   "cell_type": "code",
   "execution_count": 1,
   "metadata": {},
   "outputs": [],
   "source": [
    "import pandas as pd\n",
    "import numpy as np\n",
    "import matplotlib.pyplot as plt\n",
    "import seaborn as sns\n",
    "from sklearn.model_selection import GridSearchCV\n",
    "from sklearn import metrics\n",
    "import warnings\n",
    "warnings.filterwarnings('ignore')\n",
    "%matplotlib inline"
   ]
  },
  {
   "cell_type": "markdown",
   "metadata": {},
   "source": [
    "## Reading Cleaned Data and Selecting a Sample"
   ]
  },
  {
   "cell_type": "markdown",
   "metadata": {},
   "source": [
    "**Reading Data**\n",
    "The data was was cleaned in the previous milestones and saved in an csv at `./cleanedDataPriceDr.csv`. \n",
    "\n",
    "**Sampling:**\n",
    "In order to facilitate processing data and training different models within acceptable computational time and resourses, a random sample of $5,000$ entries is selected from the data."
   ]
  },
  {
   "cell_type": "code",
   "execution_count": 2,
   "metadata": {},
   "outputs": [
    {
     "name": "stdout",
     "output_type": "stream",
     "text": [
      "<class 'pandas.core.frame.DataFrame'>\n",
      "Int64Index: 5000 entries, 102737 to 149178\n",
      "Data columns (total 30 columns):\n",
      "CentralAir-conditioning             5000 non-null float64\n",
      "Foundation                          5000 non-null float64\n",
      "Condominium                         5000 non-null float64\n",
      "Deck                                5000 non-null float64\n",
      "DesignofHouse                       5000 non-null float64\n",
      "Division                            5000 non-null int64\n",
      "TypeofFinancing                     5000 non-null float64\n",
      "FinishedBasement                    5000 non-null float64\n",
      "ParkingFacility                     5000 non-null float64\n",
      "PrimarySpaceHeatingSystem           5000 non-null float64\n",
      "MetropolitanArea                    5000 non-null int64\n",
      "ConstructionMethod                  5000 non-null float64\n",
      "Patio                               5000 non-null float64\n",
      "Porch                               5000 non-null float64\n",
      "Stories                             5000 non-null float64\n",
      "PrimaryExteriorWallMaterial         5000 non-null float64\n",
      "SecondaryExteriorWallMaterial       5000 non-null float64\n",
      "SecondaryExteriorWallMaterial.1     5000 non-null float64\n",
      "Bedrooms                            5000 non-null float64\n",
      "Fireplace                           5000 non-null float64\n",
      "FullBathrooms                       5000 non-null float64\n",
      "HalfBathrooms                       5000 non-null float64\n",
      "SaleDate                            5000 non-null int64\n",
      "Weight                              5000 non-null int64\n",
      "PrimarySpaceHeatingFuel             5000 non-null float64\n",
      "SalesPrice                          5000 non-null float64\n",
      "SquareFootAreaofHouse               5000 non-null float64\n",
      "LotValue                            5000 non-null float64\n",
      "SquareFootAreaofFinishedBasement    5000 non-null float64\n",
      "SquareFootAreaoftheLot              5000 non-null float64\n",
      "dtypes: float64(26), int64(4)\n",
      "memory usage: 1.2 MB\n"
     ]
    }
   ],
   "source": [
    "data = pd.read_csv(\"./data/cleanedDataPriceDr.csv\")\n",
    "#dropping unecessary variables (stored indices)\n",
    "data=data.iloc[:,2:]\n",
    "#choosing 5000 readings randomly as to facilitate data processesing so that it will not take too much time to train\n",
    "data=data.sample(n=5000,random_state=1)\n",
    "data.info()"
   ]
  },
  {
   "cell_type": "markdown",
   "metadata": {},
   "source": [
    "## Data Preprocessing"
   ]
  },
  {
   "cell_type": "markdown",
   "metadata": {},
   "source": [
    "## Selecting Features Based on Correlation Analysis"
   ]
  },
  {
   "cell_type": "code",
   "execution_count": 3,
   "metadata": {},
   "outputs": [
    {
     "data": {
      "image/png": "[encoded data removed]",
      "text/plain": [
       "<Figure size 1440x1440 with 2 Axes>"
      ]
     },
     "metadata": {
      "needs_background": "light"
     },
     "output_type": "display_data"
    }
   ],
   "source": [
    "#dropping the response variable: SalesPrice so that to include only the independent variables\n",
    "data_features=data.drop(['SalesPrice'],axis=1)\n",
    "#Heat Map Showing correlations among the features\n",
    "corr = data_features.corr().round(2)\n",
    "f, ax = plt.subplots(figsize =(20, 20)) \n",
    "mask = np.zeros_like(corr)\n",
    "mask[np.triu_indices_from(mask)] = True\n",
    "sns.heatmap(corr, cmap='bwr', mask=mask, annot=True,square=True, linewidths = 0.1,vmin=-1, vmax=1)\n",
    "plt.title('Correlation Matrix Features Only')\n",
    "bottom, top = ax.get_ylim()\n",
    "ax.set_ylim(bottom + 0.5, top - 0.5)\n",
    "plt.show()"
   ]
  },
  {
   "cell_type": "markdown",
   "metadata": {},
   "source": [
    "Highly correlated features (with an absolute correlation greater than 0.6) will be removed. The threshold of 0.6 is recommended by:\n",
    "> Reddy, C., Balasubramanyam, P., & Subbarayudu, M. (2013). An effective approach to resolve multicollinearity in agriculture data. International journal of research in electronics and computer engineering, 1(1), 27-30."
   ]
  },
  {
   "cell_type": "code",
   "execution_count": 4,
   "metadata": {},
   "outputs": [],
   "source": [
    "#removing highly correlated features\n",
    "columns = np.full((corr.shape[0],), True, dtype=bool)\n",
    "for i in range(corr.shape[0]):\n",
    "    for j in range(i+1, corr.shape[0]):\n",
    "        if abs(corr.iloc[i,j]) >= 0.6:\n",
    "            if columns[j]:\n",
    "                columns[j] = False"
   ]
  },
  {
   "cell_type": "code",
   "execution_count": 5,
   "metadata": {},
   "outputs": [
    {
     "data": {
      "text/plain": [
       "Index(['FinishedBasement', 'SecondaryExteriorWallMaterial.1',\n",
       "       'PrimarySpaceHeatingFuel', 'SquareFootAreaofHouse'],\n",
       "      dtype='object')"
      ]
     },
     "execution_count": 5,
     "metadata": {},
     "output_type": "execute_result"
    }
   ],
   "source": [
    "#removed features\n",
    "removed_columns = data_features.columns[[not columns[i] for i in range(len(columns))]]\n",
    "removed_columns"
   ]
  },
  {
   "cell_type": "code",
   "execution_count": 6,
   "metadata": {},
   "outputs": [
    {
     "data": {
      "text/plain": [
       "Index(['CentralAir-conditioning', 'Foundation', 'Condominium', 'Deck',\n",
       "       'DesignofHouse', 'Division', 'TypeofFinancing', 'ParkingFacility',\n",
       "       'PrimarySpaceHeatingSystem', 'MetropolitanArea', 'ConstructionMethod',\n",
       "       'Patio', 'Porch', 'Stories', 'PrimaryExteriorWallMaterial',\n",
       "       'SecondaryExteriorWallMaterial', 'Bedrooms', 'Fireplace',\n",
       "       'FullBathrooms', 'HalfBathrooms', 'SaleDate', 'Weight', 'LotValue',\n",
       "       'SquareFootAreaofFinishedBasement', 'SquareFootAreaoftheLot'],\n",
       "      dtype='object')"
      ]
     },
     "execution_count": 6,
     "metadata": {},
     "output_type": "execute_result"
    }
   ],
   "source": [
    "#selected features\n",
    "selected_columns = data_features.columns[columns]\n",
    "selected_columns"
   ]
  },
  {
   "cell_type": "code",
   "execution_count": 7,
   "metadata": {},
   "outputs": [
    {
     "name": "stdout",
     "output_type": "stream",
     "text": [
      "<class 'pandas.core.frame.DataFrame'>\n",
      "Int64Index: 5000 entries, 102737 to 149178\n",
      "Data columns (total 26 columns):\n",
      "SalesPrice                          5000 non-null float64\n",
      "CentralAir-conditioning             5000 non-null float64\n",
      "Foundation                          5000 non-null float64\n",
      "Condominium                         5000 non-null float64\n",
      "Deck                                5000 non-null float64\n",
      "DesignofHouse                       5000 non-null float64\n",
      "Division                            5000 non-null int64\n",
      "TypeofFinancing                     5000 non-null float64\n",
      "ParkingFacility                     5000 non-null float64\n",
      "PrimarySpaceHeatingSystem           5000 non-null float64\n",
      "MetropolitanArea                    5000 non-null int64\n",
      "ConstructionMethod                  5000 non-null float64\n",
      "Patio                               5000 non-null float64\n",
      "Porch                               5000 non-null float64\n",
      "Stories                             5000 non-null float64\n",
      "PrimaryExteriorWallMaterial         5000 non-null float64\n",
      "SecondaryExteriorWallMaterial       5000 non-null float64\n",
      "Bedrooms                            5000 non-null float64\n",
      "Fireplace                           5000 non-null float64\n",
      "FullBathrooms                       5000 non-null float64\n",
      "HalfBathrooms                       5000 non-null float64\n",
      "SaleDate                            5000 non-null int64\n",
      "Weight                              5000 non-null int64\n",
      "LotValue                            5000 non-null float64\n",
      "SquareFootAreaofFinishedBasement    5000 non-null float64\n",
      "SquareFootAreaoftheLot              5000 non-null float64\n",
      "dtypes: float64(22), int64(4)\n",
      "memory usage: 1.0 MB\n"
     ]
    }
   ],
   "source": [
    "#concatinating the data\n",
    "data=pd.concat([data['SalesPrice'],data_features[selected_columns]],axis=1)\n",
    "data.info()"
   ]
  },
  {
   "cell_type": "markdown",
   "metadata": {},
   "source": [
    "## Hot Encoding Categorical Variables"
   ]
  },
  {
   "cell_type": "code",
   "execution_count": 8,
   "metadata": {},
   "outputs": [
    {
     "name": "stdout",
     "output_type": "stream",
     "text": [
      "<class 'pandas.core.frame.DataFrame'>\n",
      "Int64Index: 5000 entries, 102737 to 149178\n",
      "Data columns (total 67 columns):\n",
      "SalesPrice                          5000 non-null float64\n",
      "CentralAir-conditioning             5000 non-null float64\n",
      "Condominium                         5000 non-null float64\n",
      "Deck                                5000 non-null float64\n",
      "DesignofHouse                       5000 non-null float64\n",
      "MetropolitanArea                    5000 non-null int64\n",
      "Patio                               5000 non-null float64\n",
      "Porch                               5000 non-null float64\n",
      "SecondaryExteriorWallMaterial       5000 non-null float64\n",
      "SaleDate                            5000 non-null int64\n",
      "Weight                              5000 non-null int64\n",
      "LotValue                            5000 non-null float64\n",
      "SquareFootAreaofFinishedBasement    5000 non-null float64\n",
      "SquareFootAreaoftheLot              5000 non-null float64\n",
      "Foundation_1.0                      5000 non-null uint8\n",
      "Foundation_2.0                      5000 non-null uint8\n",
      "Foundation_3.0                      5000 non-null uint8\n",
      "Foundation_4.0                      5000 non-null uint8\n",
      "Division_1                          5000 non-null uint8\n",
      "Division_2                          5000 non-null uint8\n",
      "Division_3                          5000 non-null uint8\n",
      "Division_4                          5000 non-null uint8\n",
      "Division_5                          5000 non-null uint8\n",
      "Division_6                          5000 non-null uint8\n",
      "Division_7                          5000 non-null uint8\n",
      "Division_8                          5000 non-null uint8\n",
      "Division_9                          5000 non-null uint8\n",
      "TypeofFinancing_1.0                 5000 non-null uint8\n",
      "TypeofFinancing_2.0                 5000 non-null uint8\n",
      "TypeofFinancing_3.0                 5000 non-null uint8\n",
      "TypeofFinancing_4.0                 5000 non-null uint8\n",
      "TypeofFinancing_5.0                 5000 non-null uint8\n",
      "ParkingFacility_1.0                 5000 non-null uint8\n",
      "ParkingFacility_2.0                 5000 non-null uint8\n",
      "ParkingFacility_3.0                 5000 non-null uint8\n",
      "ParkingFacility_4.0                 5000 non-null uint8\n",
      "PrimarySpaceHeatingSystem_1.0       5000 non-null uint8\n",
      "PrimarySpaceHeatingSystem_2.0       5000 non-null uint8\n",
      "PrimarySpaceHeatingSystem_3.0       5000 non-null uint8\n",
      "PrimarySpaceHeatingSystem_4.0       5000 non-null uint8\n",
      "ConstructionMethod_1.0              5000 non-null uint8\n",
      "ConstructionMethod_2.0              5000 non-null uint8\n",
      "ConstructionMethod_3.0              5000 non-null uint8\n",
      "Stories_1.0                         5000 non-null uint8\n",
      "Stories_2.0                         5000 non-null uint8\n",
      "PrimaryExteriorWallMaterial_1.0     5000 non-null uint8\n",
      "PrimaryExteriorWallMaterial_2.0     5000 non-null uint8\n",
      "PrimaryExteriorWallMaterial_3.0     5000 non-null uint8\n",
      "PrimaryExteriorWallMaterial_4.0     5000 non-null uint8\n",
      "PrimaryExteriorWallMaterial_5.0     5000 non-null uint8\n",
      "PrimaryExteriorWallMaterial_6.0     5000 non-null uint8\n",
      "PrimaryExteriorWallMaterial_7.0     5000 non-null uint8\n",
      "PrimaryExteriorWallMaterial_8.0     5000 non-null uint8\n",
      "Bedrooms_2.0                        5000 non-null uint8\n",
      "Bedrooms_3.0                        5000 non-null uint8\n",
      "Bedrooms_4.0                        5000 non-null uint8\n",
      "Bedrooms_5.0                        5000 non-null uint8\n",
      "Fireplace_0.0                       5000 non-null uint8\n",
      "Fireplace_1.0                       5000 non-null uint8\n",
      "Fireplace_2.0                       5000 non-null uint8\n",
      "FullBathrooms_1.0                   5000 non-null uint8\n",
      "FullBathrooms_2.0                   5000 non-null uint8\n",
      "FullBathrooms_3.0                   5000 non-null uint8\n",
      "FullBathrooms_4.0                   5000 non-null uint8\n",
      "HalfBathrooms_0.0                   5000 non-null uint8\n",
      "HalfBathrooms_1.0                   5000 non-null uint8\n",
      "HalfBathrooms_2.0                   5000 non-null uint8\n",
      "dtypes: float64(11), int64(3), uint8(53)\n",
      "memory usage: 844.7 KB\n"
     ]
    }
   ],
   "source": [
    "data = pd.get_dummies(\n",
    "    data=data, \n",
    "    columns=['Foundation','Division', 'TypeofFinancing', 'ParkingFacility',\n",
    "                            'PrimarySpaceHeatingSystem', 'ConstructionMethod', \n",
    "                            'Stories', 'PrimaryExteriorWallMaterial', 'Bedrooms', \n",
    "                            'Fireplace','FullBathrooms', 'HalfBathrooms'],\n",
    "                   prefix =['Foundation','Division', 'TypeofFinancing', 'ParkingFacility',\n",
    "                            'PrimarySpaceHeatingSystem', 'ConstructionMethod', \n",
    "                            'Stories', 'PrimaryExteriorWallMaterial', 'Bedrooms', \n",
    "                            'Fireplace','FullBathrooms', 'HalfBathrooms'])\n",
    "data.info()"
   ]
  },
  {
   "cell_type": "markdown",
   "metadata": {},
   "source": [
    "## Data Partioning (Train Test Split)"
   ]
  },
  {
   "cell_type": "code",
   "execution_count": 9,
   "metadata": {},
   "outputs": [
    {
     "data": {
      "text/html": [
       "<div>\n",
       "<style scoped>\n",
       "    .dataframe tbody tr th:only-of-type {\n",
       "        vertical-align: middle;\n",
       "    }\n",
       "\n",
       "    .dataframe tbody tr th {\n",
       "        vertical-align: top;\n",
       "    }\n",
       "\n",
       "    .dataframe thead th {\n",
       "        text-align: right;\n",
       "    }\n",
       "</style>\n",
       "<table border=\"1\" class=\"dataframe\">\n",
       "  <thead>\n",
       "    <tr style=\"text-align: right;\">\n",
       "      <th></th>\n",
       "      <th>CentralAir-conditioning</th>\n",
       "      <th>Condominium</th>\n",
       "      <th>Deck</th>\n",
       "      <th>DesignofHouse</th>\n",
       "      <th>MetropolitanArea</th>\n",
       "      <th>Patio</th>\n",
       "      <th>Porch</th>\n",
       "      <th>SecondaryExteriorWallMaterial</th>\n",
       "      <th>SaleDate</th>\n",
       "      <th>Weight</th>\n",
       "      <th>...</th>\n",
       "      <th>Fireplace_0.0</th>\n",
       "      <th>Fireplace_1.0</th>\n",
       "      <th>Fireplace_2.0</th>\n",
       "      <th>FullBathrooms_1.0</th>\n",
       "      <th>FullBathrooms_2.0</th>\n",
       "      <th>FullBathrooms_3.0</th>\n",
       "      <th>FullBathrooms_4.0</th>\n",
       "      <th>HalfBathrooms_0.0</th>\n",
       "      <th>HalfBathrooms_1.0</th>\n",
       "      <th>HalfBathrooms_2.0</th>\n",
       "    </tr>\n",
       "  </thead>\n",
       "  <tbody>\n",
       "    <tr>\n",
       "      <td>102737</td>\n",
       "      <td>1.0</td>\n",
       "      <td>2.0</td>\n",
       "      <td>2.0</td>\n",
       "      <td>1.0</td>\n",
       "      <td>1</td>\n",
       "      <td>1.0</td>\n",
       "      <td>2.0</td>\n",
       "      <td>7.0</td>\n",
       "      <td>200601</td>\n",
       "      <td>69</td>\n",
       "      <td>...</td>\n",
       "      <td>0</td>\n",
       "      <td>0</td>\n",
       "      <td>1</td>\n",
       "      <td>0</td>\n",
       "      <td>0</td>\n",
       "      <td>1</td>\n",
       "      <td>0</td>\n",
       "      <td>0</td>\n",
       "      <td>1</td>\n",
       "      <td>0</td>\n",
       "    </tr>\n",
       "    <tr>\n",
       "      <td>76709</td>\n",
       "      <td>1.0</td>\n",
       "      <td>2.0</td>\n",
       "      <td>2.0</td>\n",
       "      <td>1.0</td>\n",
       "      <td>1</td>\n",
       "      <td>1.0</td>\n",
       "      <td>2.0</td>\n",
       "      <td>0.0</td>\n",
       "      <td>200408</td>\n",
       "      <td>97</td>\n",
       "      <td>...</td>\n",
       "      <td>0</td>\n",
       "      <td>1</td>\n",
       "      <td>0</td>\n",
       "      <td>0</td>\n",
       "      <td>0</td>\n",
       "      <td>1</td>\n",
       "      <td>0</td>\n",
       "      <td>1</td>\n",
       "      <td>0</td>\n",
       "      <td>0</td>\n",
       "    </tr>\n",
       "    <tr>\n",
       "      <td>21378</td>\n",
       "      <td>1.0</td>\n",
       "      <td>2.0</td>\n",
       "      <td>1.0</td>\n",
       "      <td>1.0</td>\n",
       "      <td>2</td>\n",
       "      <td>2.0</td>\n",
       "      <td>1.0</td>\n",
       "      <td>0.0</td>\n",
       "      <td>200008</td>\n",
       "      <td>97</td>\n",
       "      <td>...</td>\n",
       "      <td>1</td>\n",
       "      <td>0</td>\n",
       "      <td>0</td>\n",
       "      <td>0</td>\n",
       "      <td>1</td>\n",
       "      <td>0</td>\n",
       "      <td>0</td>\n",
       "      <td>1</td>\n",
       "      <td>0</td>\n",
       "      <td>0</td>\n",
       "    </tr>\n",
       "    <tr>\n",
       "      <td>37388</td>\n",
       "      <td>1.0</td>\n",
       "      <td>2.0</td>\n",
       "      <td>2.0</td>\n",
       "      <td>1.0</td>\n",
       "      <td>2</td>\n",
       "      <td>1.0</td>\n",
       "      <td>1.0</td>\n",
       "      <td>5.0</td>\n",
       "      <td>200112</td>\n",
       "      <td>44</td>\n",
       "      <td>...</td>\n",
       "      <td>0</td>\n",
       "      <td>1</td>\n",
       "      <td>0</td>\n",
       "      <td>0</td>\n",
       "      <td>1</td>\n",
       "      <td>0</td>\n",
       "      <td>0</td>\n",
       "      <td>1</td>\n",
       "      <td>0</td>\n",
       "      <td>0</td>\n",
       "    </tr>\n",
       "    <tr>\n",
       "      <td>49266</td>\n",
       "      <td>1.0</td>\n",
       "      <td>2.0</td>\n",
       "      <td>2.0</td>\n",
       "      <td>1.0</td>\n",
       "      <td>1</td>\n",
       "      <td>1.0</td>\n",
       "      <td>2.0</td>\n",
       "      <td>8.0</td>\n",
       "      <td>200207</td>\n",
       "      <td>63</td>\n",
       "      <td>...</td>\n",
       "      <td>0</td>\n",
       "      <td>1</td>\n",
       "      <td>0</td>\n",
       "      <td>0</td>\n",
       "      <td>1</td>\n",
       "      <td>0</td>\n",
       "      <td>0</td>\n",
       "      <td>0</td>\n",
       "      <td>1</td>\n",
       "      <td>0</td>\n",
       "    </tr>\n",
       "  </tbody>\n",
       "</table>\n",
       "<p>5 rows × 66 columns</p>\n",
       "</div>"
      ],
      "text/plain": [
       "        CentralAir-conditioning  Condominium  Deck  DesignofHouse  \\\n",
       "102737                      1.0          2.0   2.0            1.0   \n",
       "76709                       1.0          2.0   2.0            1.0   \n",
       "21378                       1.0          2.0   1.0            1.0   \n",
       "37388                       1.0          2.0   2.0            1.0   \n",
       "49266                       1.0          2.0   2.0            1.0   \n",
       "\n",
       "        MetropolitanArea  Patio  Porch  SecondaryExteriorWallMaterial  \\\n",
       "102737                 1    1.0    2.0                            7.0   \n",
       "76709                  1    1.0    2.0                            0.0   \n",
       "21378                  2    2.0    1.0                            0.0   \n",
       "37388                  2    1.0    1.0                            5.0   \n",
       "49266                  1    1.0    2.0                            8.0   \n",
       "\n",
       "        SaleDate  Weight  ...  Fireplace_0.0  Fireplace_1.0  Fireplace_2.0  \\\n",
       "102737    200601      69  ...              0              0              1   \n",
       "76709     200408      97  ...              0              1              0   \n",
       "21378     200008      97  ...              1              0              0   \n",
       "37388     200112      44  ...              0              1              0   \n",
       "49266     200207      63  ...              0              1              0   \n",
       "\n",
       "        FullBathrooms_1.0  FullBathrooms_2.0  FullBathrooms_3.0  \\\n",
       "102737                  0                  0                  1   \n",
       "76709                   0                  0                  1   \n",
       "21378                   0                  1                  0   \n",
       "37388                   0                  1                  0   \n",
       "49266                   0                  1                  0   \n",
       "\n",
       "        FullBathrooms_4.0  HalfBathrooms_0.0  HalfBathrooms_1.0  \\\n",
       "102737                  0                  0                  1   \n",
       "76709                   0                  1                  0   \n",
       "21378                   0                  1                  0   \n",
       "37388                   0                  1                  0   \n",
       "49266                   0                  0                  1   \n",
       "\n",
       "        HalfBathrooms_2.0  \n",
       "102737                  0  \n",
       "76709                   0  \n",
       "21378                   0  \n",
       "37388                   0  \n",
       "49266                   0  \n",
       "\n",
       "[5 rows x 66 columns]"
      ]
     },
     "execution_count": 9,
     "metadata": {},
     "output_type": "execute_result"
    }
   ],
   "source": [
    "X=data.drop('SalesPrice',axis=1)\n",
    "y=data['SalesPrice']\n",
    "X.head()"
   ]
  },
  {
   "cell_type": "code",
   "execution_count": 10,
   "metadata": {},
   "outputs": [],
   "source": [
    "from sklearn.model_selection import train_test_split\n",
    "# 20-80% simple split\n",
    "# To make the result reproducible, set the random_state\n",
    "train_y,test_y,train_X,test_X = train_test_split(\n",
    "    y, \n",
    "    X,\n",
    "    test_size=0.2,\n",
    "    random_state=123\n",
    ")"
   ]
  },
  {
   "cell_type": "code",
   "execution_count": 11,
   "metadata": {},
   "outputs": [
    {
     "data": {
      "text/plain": [
       "(4000, 66)"
      ]
     },
     "execution_count": 11,
     "metadata": {},
     "output_type": "execute_result"
    }
   ],
   "source": [
    "train_X.shape"
   ]
  },
  {
   "cell_type": "code",
   "execution_count": 12,
   "metadata": {},
   "outputs": [
    {
     "data": {
      "text/plain": [
       "(4000,)"
      ]
     },
     "execution_count": 12,
     "metadata": {},
     "output_type": "execute_result"
    }
   ],
   "source": [
    "train_y.shape"
   ]
  },
  {
   "cell_type": "code",
   "execution_count": 13,
   "metadata": {},
   "outputs": [
    {
     "data": {
      "text/plain": [
       "(1000,)"
      ]
     },
     "execution_count": 13,
     "metadata": {},
     "output_type": "execute_result"
    }
   ],
   "source": [
    "test_y.shape"
   ]
  },
  {
   "cell_type": "code",
   "execution_count": 14,
   "metadata": {},
   "outputs": [
    {
     "data": {
      "text/plain": [
       "(1000, 66)"
      ]
     },
     "execution_count": 14,
     "metadata": {},
     "output_type": "execute_result"
    }
   ],
   "source": [
    "test_X.shape"
   ]
  },
  {
   "cell_type": "markdown",
   "metadata": {},
   "source": [
    "## Normalize Data"
   ]
  },
  {
   "cell_type": "code",
   "execution_count": 15,
   "metadata": {},
   "outputs": [
    {
     "data": {
      "text/html": [
       "<div>\n",
       "<style scoped>\n",
       "    .dataframe tbody tr th:only-of-type {\n",
       "        vertical-align: middle;\n",
       "    }\n",
       "\n",
       "    .dataframe tbody tr th {\n",
       "        vertical-align: top;\n",
       "    }\n",
       "\n",
       "    .dataframe thead th {\n",
       "        text-align: right;\n",
       "    }\n",
       "</style>\n",
       "<table border=\"1\" class=\"dataframe\">\n",
       "  <thead>\n",
       "    <tr style=\"text-align: right;\">\n",
       "      <th></th>\n",
       "      <th>count</th>\n",
       "      <th>mean</th>\n",
       "      <th>std</th>\n",
       "      <th>min</th>\n",
       "      <th>25%</th>\n",
       "      <th>50%</th>\n",
       "      <th>75%</th>\n",
       "      <th>max</th>\n",
       "    </tr>\n",
       "  </thead>\n",
       "  <tbody>\n",
       "    <tr>\n",
       "      <td>CentralAir-conditioning</td>\n",
       "      <td>4000.0</td>\n",
       "      <td>0.08225</td>\n",
       "      <td>0.274780</td>\n",
       "      <td>0.0</td>\n",
       "      <td>0.0</td>\n",
       "      <td>0.0</td>\n",
       "      <td>0.0</td>\n",
       "      <td>1.0</td>\n",
       "    </tr>\n",
       "    <tr>\n",
       "      <td>Condominium</td>\n",
       "      <td>4000.0</td>\n",
       "      <td>0.97450</td>\n",
       "      <td>0.157658</td>\n",
       "      <td>0.0</td>\n",
       "      <td>1.0</td>\n",
       "      <td>1.0</td>\n",
       "      <td>1.0</td>\n",
       "      <td>1.0</td>\n",
       "    </tr>\n",
       "    <tr>\n",
       "      <td>Deck</td>\n",
       "      <td>4000.0</td>\n",
       "      <td>0.75525</td>\n",
       "      <td>0.429993</td>\n",
       "      <td>0.0</td>\n",
       "      <td>1.0</td>\n",
       "      <td>1.0</td>\n",
       "      <td>1.0</td>\n",
       "      <td>1.0</td>\n",
       "    </tr>\n",
       "    <tr>\n",
       "      <td>DesignofHouse</td>\n",
       "      <td>4000.0</td>\n",
       "      <td>0.06325</td>\n",
       "      <td>0.243443</td>\n",
       "      <td>0.0</td>\n",
       "      <td>0.0</td>\n",
       "      <td>0.0</td>\n",
       "      <td>0.0</td>\n",
       "      <td>1.0</td>\n",
       "    </tr>\n",
       "    <tr>\n",
       "      <td>MetropolitanArea</td>\n",
       "      <td>4000.0</td>\n",
       "      <td>0.07350</td>\n",
       "      <td>0.260988</td>\n",
       "      <td>0.0</td>\n",
       "      <td>0.0</td>\n",
       "      <td>0.0</td>\n",
       "      <td>0.0</td>\n",
       "      <td>1.0</td>\n",
       "    </tr>\n",
       "    <tr>\n",
       "      <td>...</td>\n",
       "      <td>...</td>\n",
       "      <td>...</td>\n",
       "      <td>...</td>\n",
       "      <td>...</td>\n",
       "      <td>...</td>\n",
       "      <td>...</td>\n",
       "      <td>...</td>\n",
       "      <td>...</td>\n",
       "    </tr>\n",
       "    <tr>\n",
       "      <td>FullBathrooms_3.0</td>\n",
       "      <td>4000.0</td>\n",
       "      <td>0.22675</td>\n",
       "      <td>0.418782</td>\n",
       "      <td>0.0</td>\n",
       "      <td>0.0</td>\n",
       "      <td>0.0</td>\n",
       "      <td>0.0</td>\n",
       "      <td>1.0</td>\n",
       "    </tr>\n",
       "    <tr>\n",
       "      <td>FullBathrooms_4.0</td>\n",
       "      <td>4000.0</td>\n",
       "      <td>0.04825</td>\n",
       "      <td>0.214321</td>\n",
       "      <td>0.0</td>\n",
       "      <td>0.0</td>\n",
       "      <td>0.0</td>\n",
       "      <td>0.0</td>\n",
       "      <td>1.0</td>\n",
       "    </tr>\n",
       "    <tr>\n",
       "      <td>HalfBathrooms_0.0</td>\n",
       "      <td>4000.0</td>\n",
       "      <td>0.49375</td>\n",
       "      <td>0.500023</td>\n",
       "      <td>0.0</td>\n",
       "      <td>0.0</td>\n",
       "      <td>0.0</td>\n",
       "      <td>1.0</td>\n",
       "      <td>1.0</td>\n",
       "    </tr>\n",
       "    <tr>\n",
       "      <td>HalfBathrooms_1.0</td>\n",
       "      <td>4000.0</td>\n",
       "      <td>0.49300</td>\n",
       "      <td>0.500014</td>\n",
       "      <td>0.0</td>\n",
       "      <td>0.0</td>\n",
       "      <td>0.0</td>\n",
       "      <td>1.0</td>\n",
       "      <td>1.0</td>\n",
       "    </tr>\n",
       "    <tr>\n",
       "      <td>HalfBathrooms_2.0</td>\n",
       "      <td>4000.0</td>\n",
       "      <td>0.01325</td>\n",
       "      <td>0.114358</td>\n",
       "      <td>0.0</td>\n",
       "      <td>0.0</td>\n",
       "      <td>0.0</td>\n",
       "      <td>0.0</td>\n",
       "      <td>1.0</td>\n",
       "    </tr>\n",
       "  </tbody>\n",
       "</table>\n",
       "<p>66 rows × 8 columns</p>\n",
       "</div>"
      ],
      "text/plain": [
       "                          count     mean       std  min  25%  50%  75%  max\n",
       "CentralAir-conditioning  4000.0  0.08225  0.274780  0.0  0.0  0.0  0.0  1.0\n",
       "Condominium              4000.0  0.97450  0.157658  0.0  1.0  1.0  1.0  1.0\n",
       "Deck                     4000.0  0.75525  0.429993  0.0  1.0  1.0  1.0  1.0\n",
       "DesignofHouse            4000.0  0.06325  0.243443  0.0  0.0  0.0  0.0  1.0\n",
       "MetropolitanArea         4000.0  0.07350  0.260988  0.0  0.0  0.0  0.0  1.0\n",
       "...                         ...      ...       ...  ...  ...  ...  ...  ...\n",
       "FullBathrooms_3.0        4000.0  0.22675  0.418782  0.0  0.0  0.0  0.0  1.0\n",
       "FullBathrooms_4.0        4000.0  0.04825  0.214321  0.0  0.0  0.0  0.0  1.0\n",
       "HalfBathrooms_0.0        4000.0  0.49375  0.500023  0.0  0.0  0.0  1.0  1.0\n",
       "HalfBathrooms_1.0        4000.0  0.49300  0.500014  0.0  0.0  0.0  1.0  1.0\n",
       "HalfBathrooms_2.0        4000.0  0.01325  0.114358  0.0  0.0  0.0  0.0  1.0\n",
       "\n",
       "[66 rows x 8 columns]"
      ]
     },
     "execution_count": 15,
     "metadata": {},
     "output_type": "execute_result"
    }
   ],
   "source": [
    "from sklearn import preprocessing\n",
    "\n",
    "# Create a scaler to do the transformation\n",
    "scaler = preprocessing.MinMaxScaler().fit(train_X)\n",
    "# Transform training X\n",
    "train_X_scale = scaler.transform(train_X)\n",
    "train_X_scale = pd.DataFrame(train_X_scale)\n",
    "train_X_scale.columns = train_X.columns\n",
    "\n",
    "train_X_scale.describe().transpose()"
   ]
  },
  {
   "cell_type": "code",
   "execution_count": 16,
   "metadata": {},
   "outputs": [
    {
     "data": {
      "text/html": [
       "<div>\n",
       "<style scoped>\n",
       "    .dataframe tbody tr th:only-of-type {\n",
       "        vertical-align: middle;\n",
       "    }\n",
       "\n",
       "    .dataframe tbody tr th {\n",
       "        vertical-align: top;\n",
       "    }\n",
       "\n",
       "    .dataframe thead th {\n",
       "        text-align: right;\n",
       "    }\n",
       "</style>\n",
       "<table border=\"1\" class=\"dataframe\">\n",
       "  <thead>\n",
       "    <tr style=\"text-align: right;\">\n",
       "      <th></th>\n",
       "      <th>count</th>\n",
       "      <th>mean</th>\n",
       "      <th>std</th>\n",
       "      <th>min</th>\n",
       "      <th>25%</th>\n",
       "      <th>50%</th>\n",
       "      <th>75%</th>\n",
       "      <th>max</th>\n",
       "    </tr>\n",
       "  </thead>\n",
       "  <tbody>\n",
       "    <tr>\n",
       "      <td>CentralAir-conditioning</td>\n",
       "      <td>1000.0</td>\n",
       "      <td>0.092</td>\n",
       "      <td>0.289171</td>\n",
       "      <td>0.0</td>\n",
       "      <td>0.0</td>\n",
       "      <td>0.0</td>\n",
       "      <td>0.0</td>\n",
       "      <td>1.0</td>\n",
       "    </tr>\n",
       "    <tr>\n",
       "      <td>Condominium</td>\n",
       "      <td>1000.0</td>\n",
       "      <td>0.981</td>\n",
       "      <td>0.136593</td>\n",
       "      <td>0.0</td>\n",
       "      <td>1.0</td>\n",
       "      <td>1.0</td>\n",
       "      <td>1.0</td>\n",
       "      <td>1.0</td>\n",
       "    </tr>\n",
       "    <tr>\n",
       "      <td>Deck</td>\n",
       "      <td>1000.0</td>\n",
       "      <td>0.736</td>\n",
       "      <td>0.441020</td>\n",
       "      <td>0.0</td>\n",
       "      <td>0.0</td>\n",
       "      <td>1.0</td>\n",
       "      <td>1.0</td>\n",
       "      <td>1.0</td>\n",
       "    </tr>\n",
       "    <tr>\n",
       "      <td>DesignofHouse</td>\n",
       "      <td>1000.0</td>\n",
       "      <td>0.064</td>\n",
       "      <td>0.244875</td>\n",
       "      <td>0.0</td>\n",
       "      <td>0.0</td>\n",
       "      <td>0.0</td>\n",
       "      <td>0.0</td>\n",
       "      <td>1.0</td>\n",
       "    </tr>\n",
       "    <tr>\n",
       "      <td>MetropolitanArea</td>\n",
       "      <td>1000.0</td>\n",
       "      <td>0.088</td>\n",
       "      <td>0.283437</td>\n",
       "      <td>0.0</td>\n",
       "      <td>0.0</td>\n",
       "      <td>0.0</td>\n",
       "      <td>0.0</td>\n",
       "      <td>1.0</td>\n",
       "    </tr>\n",
       "    <tr>\n",
       "      <td>...</td>\n",
       "      <td>...</td>\n",
       "      <td>...</td>\n",
       "      <td>...</td>\n",
       "      <td>...</td>\n",
       "      <td>...</td>\n",
       "      <td>...</td>\n",
       "      <td>...</td>\n",
       "      <td>...</td>\n",
       "    </tr>\n",
       "    <tr>\n",
       "      <td>FullBathrooms_3.0</td>\n",
       "      <td>1000.0</td>\n",
       "      <td>0.194</td>\n",
       "      <td>0.395627</td>\n",
       "      <td>0.0</td>\n",
       "      <td>0.0</td>\n",
       "      <td>0.0</td>\n",
       "      <td>0.0</td>\n",
       "      <td>1.0</td>\n",
       "    </tr>\n",
       "    <tr>\n",
       "      <td>FullBathrooms_4.0</td>\n",
       "      <td>1000.0</td>\n",
       "      <td>0.050</td>\n",
       "      <td>0.218054</td>\n",
       "      <td>0.0</td>\n",
       "      <td>0.0</td>\n",
       "      <td>0.0</td>\n",
       "      <td>0.0</td>\n",
       "      <td>1.0</td>\n",
       "    </tr>\n",
       "    <tr>\n",
       "      <td>HalfBathrooms_0.0</td>\n",
       "      <td>1000.0</td>\n",
       "      <td>0.478</td>\n",
       "      <td>0.499766</td>\n",
       "      <td>0.0</td>\n",
       "      <td>0.0</td>\n",
       "      <td>0.0</td>\n",
       "      <td>1.0</td>\n",
       "      <td>1.0</td>\n",
       "    </tr>\n",
       "    <tr>\n",
       "      <td>HalfBathrooms_1.0</td>\n",
       "      <td>1000.0</td>\n",
       "      <td>0.508</td>\n",
       "      <td>0.500186</td>\n",
       "      <td>0.0</td>\n",
       "      <td>0.0</td>\n",
       "      <td>1.0</td>\n",
       "      <td>1.0</td>\n",
       "      <td>1.0</td>\n",
       "    </tr>\n",
       "    <tr>\n",
       "      <td>HalfBathrooms_2.0</td>\n",
       "      <td>1000.0</td>\n",
       "      <td>0.014</td>\n",
       "      <td>0.117549</td>\n",
       "      <td>0.0</td>\n",
       "      <td>0.0</td>\n",
       "      <td>0.0</td>\n",
       "      <td>0.0</td>\n",
       "      <td>1.0</td>\n",
       "    </tr>\n",
       "  </tbody>\n",
       "</table>\n",
       "<p>66 rows × 8 columns</p>\n",
       "</div>"
      ],
      "text/plain": [
       "                          count   mean       std  min  25%  50%  75%  max\n",
       "CentralAir-conditioning  1000.0  0.092  0.289171  0.0  0.0  0.0  0.0  1.0\n",
       "Condominium              1000.0  0.981  0.136593  0.0  1.0  1.0  1.0  1.0\n",
       "Deck                     1000.0  0.736  0.441020  0.0  0.0  1.0  1.0  1.0\n",
       "DesignofHouse            1000.0  0.064  0.244875  0.0  0.0  0.0  0.0  1.0\n",
       "MetropolitanArea         1000.0  0.088  0.283437  0.0  0.0  0.0  0.0  1.0\n",
       "...                         ...    ...       ...  ...  ...  ...  ...  ...\n",
       "FullBathrooms_3.0        1000.0  0.194  0.395627  0.0  0.0  0.0  0.0  1.0\n",
       "FullBathrooms_4.0        1000.0  0.050  0.218054  0.0  0.0  0.0  0.0  1.0\n",
       "HalfBathrooms_0.0        1000.0  0.478  0.499766  0.0  0.0  0.0  1.0  1.0\n",
       "HalfBathrooms_1.0        1000.0  0.508  0.500186  0.0  0.0  1.0  1.0  1.0\n",
       "HalfBathrooms_2.0        1000.0  0.014  0.117549  0.0  0.0  0.0  0.0  1.0\n",
       "\n",
       "[66 rows x 8 columns]"
      ]
     },
     "execution_count": 16,
     "metadata": {},
     "output_type": "execute_result"
    }
   ],
   "source": [
    "# Transform test X\n",
    "test_X_scale = scaler.transform(test_X)\n",
    "test_X_scale = pd.DataFrame(test_X_scale)\n",
    "test_X_scale.columns = test_X.columns\n",
    "\n",
    "test_X_scale.describe().transpose()"
   ]
  },
  {
   "cell_type": "markdown",
   "metadata": {},
   "source": [
    "# Model 1: KNN Regressor"
   ]
  },
  {
   "cell_type": "markdown",
   "metadata": {},
   "source": [
    "### Model Building"
   ]
  },
  {
   "cell_type": "code",
   "execution_count": 17,
   "metadata": {},
   "outputs": [],
   "source": [
    "from sklearn import neighbors\n",
    "\n",
    "# KNN: K=5, default measure of distance (euclidean)\n",
    "knn5 = neighbors.KNeighborsRegressor(n_neighbors=5, \n",
    "                                      weights='uniform', \n",
    "                                      algorithm='auto')"
   ]
  },
  {
   "cell_type": "code",
   "execution_count": 18,
   "metadata": {},
   "outputs": [
    {
     "data": {
      "text/plain": [
       "KNeighborsRegressor(algorithm='auto', leaf_size=30, metric='minkowski',\n",
       "                    metric_params=None, n_jobs=None, n_neighbors=5, p=2,\n",
       "                    weights='uniform')"
      ]
     },
     "execution_count": 18,
     "metadata": {},
     "output_type": "execute_result"
    }
   ],
   "source": [
    "knn5.fit(train_X_scale, train_y)"
   ]
  },
  {
   "cell_type": "code",
   "execution_count": 19,
   "metadata": {},
   "outputs": [],
   "source": [
    "pred_y_knn5 = knn5.predict(test_X_scale)"
   ]
  },
  {
   "cell_type": "code",
   "execution_count": 20,
   "metadata": {},
   "outputs": [
    {
     "data": {
      "text/plain": [
       "70615.54"
      ]
     },
     "execution_count": 20,
     "metadata": {},
     "output_type": "execute_result"
    }
   ],
   "source": [
    "#Mean Absolute Error\n",
    "metrics.mean_absolute_error(test_y, pred_y_knn5)"
   ]
  },
  {
   "cell_type": "code",
   "execution_count": 21,
   "metadata": {},
   "outputs": [
    {
     "data": {
      "text/plain": [
       "10972395198.8"
      ]
     },
     "execution_count": 21,
     "metadata": {},
     "output_type": "execute_result"
    }
   ],
   "source": [
    "#Mean Squared Error\n",
    "metrics.mean_squared_error(test_y, pred_y_knn5)"
   ]
  },
  {
   "cell_type": "code",
   "execution_count": 22,
   "metadata": {},
   "outputs": [
    {
     "data": {
      "text/plain": [
       "0.5124793431125778"
      ]
     },
     "execution_count": 22,
     "metadata": {},
     "output_type": "execute_result"
    }
   ],
   "source": [
    "#R-squared\n",
    "metrics.r2_score(test_y, pred_y_knn5)"
   ]
  },
  {
   "cell_type": "code",
   "execution_count": 23,
   "metadata": {},
   "outputs": [
    {
     "data": {
      "text/plain": [
       "104749.20142320894"
      ]
     },
     "execution_count": 23,
     "metadata": {},
     "output_type": "execute_result"
    }
   ],
   "source": [
    "#Root Mean Squared Error\n",
    "np.sqrt(metrics.mean_squared_error(test_y, pred_y_knn5))"
   ]
  },
  {
   "cell_type": "code",
   "execution_count": 24,
   "metadata": {},
   "outputs": [
    {
     "data": {
      "text/plain": [
       "0.2761020261931243"
      ]
     },
     "execution_count": 24,
     "metadata": {},
     "output_type": "execute_result"
    }
   ],
   "source": [
    "#Mean Absolute Percentage Error\n",
    "np.mean(np.abs(pred_y_knn5 - test_y)/np.abs(test_y))"
   ]
  },
  {
   "cell_type": "markdown",
   "metadata": {},
   "source": [
    "### Model Tunning"
   ]
  },
  {
   "cell_type": "code",
   "execution_count": 25,
   "metadata": {},
   "outputs": [
    {
     "name": "stdout",
     "output_type": "stream",
     "text": [
      "MAE is  85375.2 for k = 1\n",
      "MAE is  75607.15 for k = 2\n",
      "MAE is  71487.43333333335 for k = 3\n",
      "MAE is  70700.425 for k = 4\n",
      "MAE is  70615.54 for k = 5\n",
      "MAE is  70564.86666666665 for k = 6\n",
      "MAE is  70878.17142857143 for k = 7\n",
      "MAE is  70659.7375 for k = 8\n",
      "MAE is  70108.65555555555 for k = 9\n",
      "MAE is  69697.44 for k = 10\n",
      "MAE is  69749.58181818182 for k = 11\n",
      "MAE is  69809.925 for k = 12\n",
      "MAE is  70027.39230769232 for k = 13\n",
      "MAE is  70214.0 for k = 14\n",
      "MAE is  70725.4 for k = 15\n",
      "MAE is  70973.2625 for k = 16\n",
      "MAE is  71147.32941176472 for k = 17\n",
      "MAE is  71046.03333333333 for k = 18\n",
      "MAE is  71122.48421052632 for k = 19\n",
      "MAE is  71026.82 for k = 20\n"
     ]
    }
   ],
   "source": [
    "#tunning the model based on Mean Absolute Error\n",
    "for k in range(20):\n",
    "    k = k + 1\n",
    "    knn = neighbors.KNeighborsRegressor(n_neighbors = k, \n",
    "                                         weights='uniform', \n",
    "                                         algorithm='auto')\n",
    "    knn.fit(train_X_scale, train_y)\n",
    "    pred_y = knn.predict(test_X_scale)\n",
    "    print(\"MAE is \", metrics.mean_absolute_error(test_y, pred_y),\"for k =\",k)"
   ]
  },
  {
   "cell_type": "markdown",
   "metadata": {},
   "source": [
    "### Model Testing"
   ]
  },
  {
   "cell_type": "markdown",
   "metadata": {},
   "source": [
    "We have the lowest MAE for k=10"
   ]
  },
  {
   "cell_type": "code",
   "execution_count": 26,
   "metadata": {},
   "outputs": [
    {
     "name": "stdout",
     "output_type": "stream",
     "text": [
      "Mean Absolute Error is 69697.44\n",
      "Mean Squared Error is 10496671118.8\n",
      "R-squared is 0.5336165070386574\n",
      "Root Mean Squared Error is 102453.26309493514\n",
      "Mean Absolute Percentage Error is 0.2769109554874558\n"
     ]
    }
   ],
   "source": [
    "knn_final = neighbors.KNeighborsRegressor(n_neighbors = 10, \n",
    "                                      weights='uniform',                                    \n",
    "                                      algorithm='auto')\n",
    "knn_final.fit(train_X_scale, train_y)\n",
    "pred_y_knn_final = knn_final.predict(test_X_scale)\n",
    "print('Mean Absolute Error is',metrics.mean_absolute_error(test_y, pred_y_knn_final))\n",
    "print('Mean Squared Error is',metrics.mean_squared_error(test_y, pred_y_knn_final))\n",
    "print('R-squared is',metrics.r2_score(test_y, pred_y_knn_final))\n",
    "print('Root Mean Squared Error is',np.sqrt(metrics.mean_squared_error(test_y, pred_y_knn_final)))\n",
    "print('Mean Absolute Percentage Error is',np.mean(np.abs(pred_y_knn_final - test_y)/np.abs(test_y)))"
   ]
  },
  {
   "cell_type": "markdown",
   "metadata": {},
   "source": [
    "# Model 2: Random Forest"
   ]
  },
  {
   "cell_type": "code",
   "execution_count": 27,
   "metadata": {},
   "outputs": [],
   "source": [
    "from sklearn.ensemble import RandomForestRegressor"
   ]
  },
  {
   "cell_type": "markdown",
   "metadata": {},
   "source": [
    "### Model Building"
   ]
  },
  {
   "cell_type": "code",
   "execution_count": 28,
   "metadata": {},
   "outputs": [],
   "source": [
    "# Train an RF Regressor\n",
    "rf = RandomForestRegressor(n_estimators=5, max_features=10, random_state=123)"
   ]
  },
  {
   "cell_type": "code",
   "execution_count": 29,
   "metadata": {},
   "outputs": [
    {
     "data": {
      "text/plain": [
       "RandomForestRegressor(bootstrap=True, criterion='mse', max_depth=None,\n",
       "                      max_features=10, max_leaf_nodes=None,\n",
       "                      min_impurity_decrease=0.0, min_impurity_split=None,\n",
       "                      min_samples_leaf=1, min_samples_split=2,\n",
       "                      min_weight_fraction_leaf=0.0, n_estimators=5, n_jobs=None,\n",
       "                      oob_score=False, random_state=123, verbose=0,\n",
       "                      warm_start=False)"
      ]
     },
     "execution_count": 29,
     "metadata": {},
     "output_type": "execute_result"
    }
   ],
   "source": [
    "rf.fit(train_X_scale,train_y)"
   ]
  },
  {
   "cell_type": "code",
   "execution_count": 30,
   "metadata": {},
   "outputs": [
    {
     "data": {
      "text/plain": [
       "array([4.33358102e-03, 2.02333605e-03, 7.19606559e-03, 1.14732895e-03,\n",
       "       2.27606993e-03, 7.11133319e-03, 8.19982293e-03, 1.68962500e-02,\n",
       "       7.03045010e-02, 3.33902285e-02, 3.07489854e-01, 8.88113612e-03,\n",
       "       6.18690566e-02, 6.98356274e-03, 2.50800753e-03, 7.75544612e-03,\n",
       "       4.91675511e-04, 5.85903328e-03, 1.60532511e-02, 6.74617529e-04,\n",
       "       2.85894423e-03, 6.18535133e-03, 1.78924830e-03, 2.61652811e-03,\n",
       "       2.95329712e-03, 1.18519557e-02, 4.53048723e-03, 2.86257333e-03,\n",
       "       7.50481459e-04, 2.22441567e-03, 6.24029459e-05, 9.82897502e-04,\n",
       "       6.31793552e-03, 2.51610482e-02, 3.80777745e-03, 8.25996133e-03,\n",
       "       5.99268357e-03, 6.04647012e-04, 3.08722291e-05, 1.75216836e-04,\n",
       "       1.59828986e-03, 7.18575378e-04, 7.68309124e-03, 2.46223459e-02,\n",
       "       2.52829407e-03, 7.68830331e-03, 7.03240493e-03, 5.02494965e-03,\n",
       "       7.39819979e-04, 4.65587658e-04, 7.05240077e-03, 3.58284425e-03,\n",
       "       1.42528081e-03, 2.49751422e-02, 1.29472343e-02, 6.73965114e-03,\n",
       "       1.04169201e-02, 4.49721360e-03, 8.06882070e-03, 3.48684573e-03,\n",
       "       7.05379840e-02, 3.88225609e-02, 3.93709434e-02, 1.10002625e-02,\n",
       "       3.66365922e-02, 8.74758753e-04])"
      ]
     },
     "execution_count": 30,
     "metadata": {},
     "output_type": "execute_result"
    }
   ],
   "source": [
    "# Show feature importance\n",
    "rf.feature_importances_"
   ]
  },
  {
   "cell_type": "code",
   "execution_count": 31,
   "metadata": {},
   "outputs": [
    {
     "data": {
      "text/html": [
       "<div>\n",
       "<style scoped>\n",
       "    .dataframe tbody tr th:only-of-type {\n",
       "        vertical-align: middle;\n",
       "    }\n",
       "\n",
       "    .dataframe tbody tr th {\n",
       "        vertical-align: top;\n",
       "    }\n",
       "\n",
       "    .dataframe thead th {\n",
       "        text-align: right;\n",
       "    }\n",
       "</style>\n",
       "<table border=\"1\" class=\"dataframe\">\n",
       "  <thead>\n",
       "    <tr style=\"text-align: right;\">\n",
       "      <th></th>\n",
       "      <th>importance</th>\n",
       "    </tr>\n",
       "  </thead>\n",
       "  <tbody>\n",
       "    <tr>\n",
       "      <td>LotValue</td>\n",
       "      <td>0.307490</td>\n",
       "    </tr>\n",
       "    <tr>\n",
       "      <td>FullBathrooms_2.0</td>\n",
       "      <td>0.070538</td>\n",
       "    </tr>\n",
       "    <tr>\n",
       "      <td>SaleDate</td>\n",
       "      <td>0.070305</td>\n",
       "    </tr>\n",
       "    <tr>\n",
       "      <td>SquareFootAreaoftheLot</td>\n",
       "      <td>0.061869</td>\n",
       "    </tr>\n",
       "    <tr>\n",
       "      <td>FullBathrooms_4.0</td>\n",
       "      <td>0.039371</td>\n",
       "    </tr>\n",
       "    <tr>\n",
       "      <td>...</td>\n",
       "      <td>...</td>\n",
       "    </tr>\n",
       "    <tr>\n",
       "      <td>Foundation_4.0</td>\n",
       "      <td>0.000492</td>\n",
       "    </tr>\n",
       "    <tr>\n",
       "      <td>PrimaryExteriorWallMaterial_6.0</td>\n",
       "      <td>0.000466</td>\n",
       "    </tr>\n",
       "    <tr>\n",
       "      <td>ConstructionMethod_1.0</td>\n",
       "      <td>0.000175</td>\n",
       "    </tr>\n",
       "    <tr>\n",
       "      <td>TypeofFinancing_5.0</td>\n",
       "      <td>0.000062</td>\n",
       "    </tr>\n",
       "    <tr>\n",
       "      <td>PrimarySpaceHeatingSystem_4.0</td>\n",
       "      <td>0.000031</td>\n",
       "    </tr>\n",
       "  </tbody>\n",
       "</table>\n",
       "<p>66 rows × 1 columns</p>\n",
       "</div>"
      ],
      "text/plain": [
       "                                 importance\n",
       "LotValue                           0.307490\n",
       "FullBathrooms_2.0                  0.070538\n",
       "SaleDate                           0.070305\n",
       "SquareFootAreaoftheLot             0.061869\n",
       "FullBathrooms_4.0                  0.039371\n",
       "...                                     ...\n",
       "Foundation_4.0                     0.000492\n",
       "PrimaryExteriorWallMaterial_6.0    0.000466\n",
       "ConstructionMethod_1.0             0.000175\n",
       "TypeofFinancing_5.0                0.000062\n",
       "PrimarySpaceHeatingSystem_4.0      0.000031\n",
       "\n",
       "[66 rows x 1 columns]"
      ]
     },
     "execution_count": 31,
     "metadata": {},
     "output_type": "execute_result"
    }
   ],
   "source": [
    "# Beautify the display of feature importance\n",
    "feature_importances = pd.DataFrame(rf.feature_importances_,\n",
    "                                   index = train_X.columns,\n",
    "                                   columns=['importance'])\n",
    "feature_importances = feature_importances.sort_values('importance',ascending=False)\n",
    "\n",
    "feature_importances"
   ]
  },
  {
   "cell_type": "code",
   "execution_count": 32,
   "metadata": {},
   "outputs": [
    {
     "data": {
      "text/plain": [
       "<matplotlib.axes._subplots.AxesSubplot at 0x1692c466748>"
      ]
     },
     "execution_count": 32,
     "metadata": {},
     "output_type": "execute_result"
    },
    {
     "data": {
      "image/png": "[encoded data removed]",
      "text/plain": [
       "<Figure size 1080x360 with 1 Axes>"
      ]
     },
     "metadata": {
      "needs_background": "light"
     },
     "output_type": "display_data"
    }
   ],
   "source": [
    "feature_importances.plot(kind = 'bar',figsize=(15,5),\n",
    "                         title='Feature Importance of Single-Family Houses Dataset')"
   ]
  },
  {
   "cell_type": "code",
   "execution_count": 33,
   "metadata": {},
   "outputs": [
    {
     "name": "stdout",
     "output_type": "stream",
     "text": [
      "Mean Absolute Error is 54905.0\n",
      "Mean Squared Error is 6574553984.8\n",
      "R-squared is 0.7078822974074014\n",
      "Root Mean Squared Error is 81083.62340694945\n",
      "Mean Absolute Percentage Error is 0.21628562836203638\n"
     ]
    }
   ],
   "source": [
    "# Predict on test set\n",
    "pred_y_rf = rf.predict(test_X_scale)\n",
    "print('Mean Absolute Error is',metrics.mean_absolute_error(test_y, pred_y_rf))\n",
    "print('Mean Squared Error is',metrics.mean_squared_error(test_y, pred_y_rf))\n",
    "print('R-squared is',metrics.r2_score(test_y, pred_y_rf))\n",
    "print('Root Mean Squared Error is',np.sqrt(metrics.mean_squared_error(test_y, pred_y_rf)))\n",
    "print('Mean Absolute Percentage Error is',np.mean(np.abs(pred_y_rf - test_y)/np.abs(test_y)))"
   ]
  },
  {
   "cell_type": "markdown",
   "metadata": {},
   "source": [
    "### Model Tunning"
   ]
  },
  {
   "cell_type": "code",
   "execution_count": 34,
   "metadata": {},
   "outputs": [],
   "source": [
    "parameters = {'criterion': ['mse','mae'],\n",
    "              'n_estimators':[10,20,30,40,50,60,70,80,90,100],\n",
    "              'random_state':[123]}"
   ]
  },
  {
   "cell_type": "code",
   "execution_count": 35,
   "metadata": {},
   "outputs": [],
   "source": [
    "rf2 = RandomForestRegressor()"
   ]
  },
  {
   "cell_type": "code",
   "execution_count": 36,
   "metadata": {},
   "outputs": [],
   "source": [
    "# Use a 5-fold cross-validation\n",
    "grid_rf = GridSearchCV(rf2, parameters, cv=5)"
   ]
  },
  {
   "cell_type": "code",
   "execution_count": 37,
   "metadata": {},
   "outputs": [
    {
     "name": "stdout",
     "output_type": "stream",
     "text": [
      "Time Sart:05/02/2020 13:47:45\n",
      "Time End:05/02/2020 14:22:08\n",
      "Execution Time (Seconds):2062.9733440876007\n"
     ]
    }
   ],
   "source": [
    "import time\n",
    "start = time.time()\n",
    "print('Time Sart:'+ time.strftime(\"%m/%d/%Y %H:%M:%S\"))\n",
    "\n",
    "grid_rf.fit(train_X_scale,train_y)\n",
    "\n",
    "end = time.time()\n",
    "print('Time End:'+ time.strftime(\"%m/%d/%Y %H:%M:%S\"))\n",
    "print('Execution Time (Seconds):' + str(end - start))"
   ]
  },
  {
   "cell_type": "code",
   "execution_count": 38,
   "metadata": {},
   "outputs": [
    {
     "data": {
      "text/plain": [
       "{'criterion': 'mae', 'n_estimators': 100, 'random_state': 123}"
      ]
     },
     "execution_count": 38,
     "metadata": {},
     "output_type": "execute_result"
    }
   ],
   "source": [
    "# Show best parameters\n",
    "grid_rf.best_params_"
   ]
  },
  {
   "cell_type": "markdown",
   "metadata": {},
   "source": [
    "### Model testing"
   ]
  },
  {
   "cell_type": "code",
   "execution_count": 39,
   "metadata": {},
   "outputs": [],
   "source": [
    "# Train a new RF with best parameters\n",
    "rf_final = RandomForestRegressor(criterion='mae',n_estimators=100, random_state=123)"
   ]
  },
  {
   "cell_type": "code",
   "execution_count": 40,
   "metadata": {},
   "outputs": [
    {
     "name": "stdout",
     "output_type": "stream",
     "text": [
      "Mean Absolute Error is 44351.835\n",
      "Mean Squared Error is 4200716654.3135\n",
      "R-squared is 0.813355597788455\n",
      "Root Mean Squared Error is 64812.93585630495\n",
      "Mean Absolute Percentage Error is 0.17351918558137924\n"
     ]
    }
   ],
   "source": [
    "rf_final.fit(train_X_scale,train_y)\n",
    "# Predict on test set\n",
    "pred_y_rf_final = grid_rf.predict(test_X_scale)\n",
    "print('Mean Absolute Error is',metrics.mean_absolute_error(test_y, pred_y_rf_final))\n",
    "print('Mean Squared Error is',metrics.mean_squared_error(test_y, pred_y_rf_final))\n",
    "print('R-squared is',metrics.r2_score(test_y, pred_y_rf_final))\n",
    "print('Root Mean Squared Error is',np.sqrt(metrics.mean_squared_error(test_y, pred_y_rf_final)))\n",
    "print('Mean Absolute Percentage Error is',np.mean(np.abs(pred_y_rf_final - test_y)/np.abs(test_y)))"
   ]
  },
  {
   "cell_type": "markdown",
   "metadata": {},
   "source": [
    "# Model 3: ANN"
   ]
  },
  {
   "cell_type": "markdown",
   "metadata": {},
   "source": [
    "### Model Building"
   ]
  },
  {
   "cell_type": "code",
   "execution_count": 41,
   "metadata": {},
   "outputs": [],
   "source": [
    "from sklearn import neural_network\n",
    "ann1 = neural_network.MLPRegressor(alpha=1e-5,max_iter=1000,\n",
    "                                   hidden_layer_sizes=(20),\n",
    "                                   random_state=1)"
   ]
  },
  {
   "cell_type": "code",
   "execution_count": 42,
   "metadata": {},
   "outputs": [
    {
     "data": {
      "text/plain": [
       "MLPRegressor(activation='relu', alpha=1e-05, batch_size='auto', beta_1=0.9,\n",
       "             beta_2=0.999, early_stopping=False, epsilon=1e-08,\n",
       "             hidden_layer_sizes=20, learning_rate='constant',\n",
       "             learning_rate_init=0.001, max_iter=1000, momentum=0.9,\n",
       "             n_iter_no_change=10, nesterovs_momentum=True, power_t=0.5,\n",
       "             random_state=1, shuffle=True, solver='adam', tol=0.0001,\n",
       "             validation_fraction=0.1, verbose=False, warm_start=False)"
      ]
     },
     "execution_count": 42,
     "metadata": {},
     "output_type": "execute_result"
    }
   ],
   "source": [
    "ann1.fit(train_X_scale, train_y)"
   ]
  },
  {
   "cell_type": "code",
   "execution_count": 43,
   "metadata": {},
   "outputs": [
    {
     "data": {
      "text/plain": [
       "count      1000.000000\n",
       "mean     120094.361628\n",
       "std        6847.332392\n",
       "min       96793.323782\n",
       "25%      115145.708273\n",
       "50%      119818.877427\n",
       "75%      124881.440873\n",
       "max      143903.881269\n",
       "dtype: float64"
      ]
     },
     "execution_count": 43,
     "metadata": {},
     "output_type": "execute_result"
    }
   ],
   "source": [
    "# Predict on test set\n",
    "pred_y1 = ann1.predict(test_X_scale)\n",
    "pd.Series(pred_y1).describe()"
   ]
  },
  {
   "cell_type": "markdown",
   "metadata": {},
   "source": [
    "### Model Tunning"
   ]
  },
  {
   "cell_type": "code",
   "execution_count": 44,
   "metadata": {},
   "outputs": [],
   "source": [
    "parameters = {'alpha': [1e-5],\n",
    "              'batch_size':[32,64,128],\n",
    "              'solver':['lbfgs'],\n",
    "              'learning_rate':['constant', 'adaptive'],\n",
    "              'hidden_layer_sizes':[2,3,4,5,6,7,8,9,10,(1, 1),(2, 2),(3, 3),(1, 1, 1),(2, 2, 2),(3, 3, 3)],\n",
    "              'random_state':[123]}"
   ]
  },
  {
   "cell_type": "code",
   "execution_count": 45,
   "metadata": {},
   "outputs": [],
   "source": [
    "ann2 = neural_network.MLPRegressor(max_iter=1000)"
   ]
  },
  {
   "cell_type": "code",
   "execution_count": 46,
   "metadata": {},
   "outputs": [],
   "source": [
    "# Use a 5-fold cross-validation\n",
    "grid_ann = GridSearchCV(ann2, parameters, cv=5)"
   ]
  },
  {
   "cell_type": "code",
   "execution_count": 47,
   "metadata": {},
   "outputs": [
    {
     "data": {
      "text/plain": [
       "GridSearchCV(cv=5, error_score='raise-deprecating',\n",
       "             estimator=MLPRegressor(activation='relu', alpha=0.0001,\n",
       "                                    batch_size='auto', beta_1=0.9, beta_2=0.999,\n",
       "                                    early_stopping=False, epsilon=1e-08,\n",
       "                                    hidden_layer_sizes=(100,),\n",
       "                                    learning_rate='constant',\n",
       "                                    learning_rate_init=0.001, max_iter=1000,\n",
       "                                    momentum=0.9, n_iter_no_change=10,\n",
       "                                    nesterovs_momentum=True, power_t=0.5,\n",
       "                                    random_sta...\n",
       "                                    validation_fraction=0.1, verbose=False,\n",
       "                                    warm_start=False),\n",
       "             iid='warn', n_jobs=None,\n",
       "             param_grid={'alpha': [1e-05], 'batch_size': [32, 64, 128],\n",
       "                         'hidden_layer_sizes': [2, 3, 4, 5, 6, 7, 8, 9, 10,\n",
       "                                                (1, 1), (2, 2), (3, 3),\n",
       "                                                (1, 1, 1), (2, 2, 2),\n",
       "                                                (3, 3, 3)],\n",
       "                         'learning_rate': ['constant', 'adaptive'],\n",
       "                         'random_state': [123], 'solver': ['lbfgs']},\n",
       "             pre_dispatch='2*n_jobs', refit=True, return_train_score=False,\n",
       "             scoring=None, verbose=0)"
      ]
     },
     "execution_count": 47,
     "metadata": {},
     "output_type": "execute_result"
    }
   ],
   "source": [
    "grid_ann.fit(train_X_scale,train_y)"
   ]
  },
  {
   "cell_type": "code",
   "execution_count": 48,
   "metadata": {},
   "outputs": [
    {
     "data": {
      "text/plain": [
       "{'alpha': 1e-05,\n",
       " 'batch_size': 32,\n",
       " 'hidden_layer_sizes': (3, 3),\n",
       " 'learning_rate': 'constant',\n",
       " 'random_state': 123,\n",
       " 'solver': 'lbfgs'}"
      ]
     },
     "execution_count": 48,
     "metadata": {},
     "output_type": "execute_result"
    }
   ],
   "source": [
    "# Show best parameters\n",
    "grid_ann.best_params_"
   ]
  },
  {
   "cell_type": "markdown",
   "metadata": {},
   "source": [
    "### Model Testing"
   ]
  },
  {
   "cell_type": "code",
   "execution_count": 49,
   "metadata": {},
   "outputs": [
    {
     "data": {
      "text/plain": [
       "MLPRegressor(activation='relu', alpha=1e-05, batch_size=32, beta_1=0.9,\n",
       "             beta_2=0.999, early_stopping=False, epsilon=1e-08,\n",
       "             hidden_layer_sizes=10, learning_rate='constant',\n",
       "             learning_rate_init=0.001, max_iter=1000, momentum=0.9,\n",
       "             n_iter_no_change=10, nesterovs_momentum=True, power_t=0.5,\n",
       "             random_state=123, shuffle=True, solver='lbfgs', tol=0.0001,\n",
       "             validation_fraction=0.1, verbose=False, warm_start=False)"
      ]
     },
     "execution_count": 49,
     "metadata": {},
     "output_type": "execute_result"
    }
   ],
   "source": [
    "# Train a new RF with best parameters\n",
    "ann_final = neural_network.MLPRegressor(max_iter=1000,alpha= 1e-05,\n",
    " batch_size= 32,\n",
    " hidden_layer_sizes= 10,\n",
    " learning_rate= 'constant',\n",
    " random_state= 123,\n",
    " solver= 'lbfgs')\n",
    "ann_final.fit(train_X_scale, train_y)"
   ]
  },
  {
   "cell_type": "code",
   "execution_count": 50,
   "metadata": {},
   "outputs": [
    {
     "name": "stdout",
     "output_type": "stream",
     "text": [
      "Mean Absolute Error is 44941.99353621046\n",
      "Mean Squared Error is 4390426382.816254\n",
      "R-squared is 0.8049264982361793\n",
      "Root Mean Squared Error is 66260.2926556792\n",
      "Mean Absolute Percentage Error is 0.1768599856865813\n"
     ]
    }
   ],
   "source": [
    "pred_y_ann_final = ann_final.predict(test_X_scale)\n",
    "print('Mean Absolute Error is',metrics.mean_absolute_error(test_y, pred_y_ann_final))\n",
    "print('Mean Squared Error is',metrics.mean_squared_error(test_y, pred_y_ann_final))\n",
    "print('R-squared is',metrics.r2_score(test_y, pred_y_ann_final))\n",
    "print('Root Mean Squared Error is',np.sqrt(metrics.mean_squared_error(test_y, pred_y_ann_final)))\n",
    "print('Mean Absolute Percentage Error is',np.mean(np.abs(pred_y_ann_final - test_y)/np.abs(test_y)))"
   ]
  },
  {
   "cell_type": "markdown",
   "metadata": {},
   "source": [
    "# Model 4: Support Vector Machine"
   ]
  },
  {
   "cell_type": "markdown",
   "metadata": {},
   "source": [
    "### Model Building"
   ]
  },
  {
   "cell_type": "code",
   "execution_count": 51,
   "metadata": {},
   "outputs": [
    {
     "data": {
      "text/plain": [
       "SVR(C=1.0, cache_size=200, coef0=0.0, degree=3, epsilon=0.1,\n",
       "    gamma='auto_deprecated', kernel='linear', max_iter=-1, shrinking=True,\n",
       "    tol=0.001, verbose=False)"
      ]
     },
     "execution_count": 51,
     "metadata": {},
     "output_type": "execute_result"
    }
   ],
   "source": [
    "from sklearn import svm\n",
    "\n",
    "\n",
    "#First, let's build a support vector Regressor with linear kernel. We manually set the parameter C as 1.0. \n",
    "#Then we use the test set to evaluate performance of the SVC.\n",
    "\n",
    "\n",
    "\n",
    "# Train an SVR with linear kernel\n",
    "svm_linear = svm.SVR(kernel='linear', C=1.0)\n",
    "svm_linear.fit(train_X_scale,train_y)\n"
   ]
  },
  {
   "cell_type": "code",
   "execution_count": 52,
   "metadata": {},
   "outputs": [
    {
     "name": "stdout",
     "output_type": "stream",
     "text": [
      "Mean Absolute Error is 104375.67866013596\n",
      "Mean Squared Error is 23542023740.847115\n",
      "R-squared is -0.04600888599530961\n",
      "Root Mean Squared Error is 153434.10227471308\n",
      "Mean Absolute Percentage Error is 0.4181552681640018\n"
     ]
    }
   ],
   "source": [
    "# Predict on test set\n",
    "pred_y_svm = svm_linear.predict(test_X_scale)\n",
    "print('Mean Absolute Error is',metrics.mean_absolute_error(test_y, pred_y_svm))\n",
    "print('Mean Squared Error is',metrics.mean_squared_error(test_y, pred_y_svm))\n",
    "print('R-squared is',metrics.r2_score(test_y, pred_y_svm))\n",
    "print('Root Mean Squared Error is',np.sqrt(metrics.mean_squared_error(test_y, pred_y_svm)))\n",
    "print('Mean Absolute Percentage Error is',np.mean(np.abs(pred_y_svm - test_y)/np.abs(test_y)))"
   ]
  },
  {
   "cell_type": "markdown",
   "metadata": {},
   "source": [
    "### Model Tunning"
   ]
  },
  {
   "cell_type": "code",
   "execution_count": 53,
   "metadata": {},
   "outputs": [
    {
     "data": {
      "text/plain": [
       "{'kernel': ['linear'], 'C': [0.001, 0.01, 0.1, 1, 5, 10]}"
      ]
     },
     "execution_count": 53,
     "metadata": {},
     "output_type": "execute_result"
    }
   ],
   "source": [
    "parameters = {'kernel':['linear'],\n",
    "              'C':[0.001,0.01,0.1,1,5,10]}\n",
    "parameters"
   ]
  },
  {
   "cell_type": "markdown",
   "metadata": {},
   "source": [
    "Note: We tried only linear kernel as it provides faster implementation with large datasets"
   ]
  },
  {
   "cell_type": "code",
   "execution_count": 54,
   "metadata": {},
   "outputs": [],
   "source": [
    "svr = svm.SVR()"
   ]
  },
  {
   "cell_type": "code",
   "execution_count": 55,
   "metadata": {},
   "outputs": [],
   "source": [
    "grid_svm = GridSearchCV(svr, parameters, cv=5)"
   ]
  },
  {
   "cell_type": "code",
   "execution_count": 56,
   "metadata": {},
   "outputs": [
    {
     "data": {
      "text/plain": [
       "GridSearchCV(cv=5, error_score='raise-deprecating',\n",
       "             estimator=SVR(C=1.0, cache_size=200, coef0=0.0, degree=3,\n",
       "                           epsilon=0.1, gamma='auto_deprecated', kernel='rbf',\n",
       "                           max_iter=-1, shrinking=True, tol=0.001,\n",
       "                           verbose=False),\n",
       "             iid='warn', n_jobs=None,\n",
       "             param_grid={'C': [0.001, 0.01, 0.1, 1, 5, 10],\n",
       "                         'kernel': ['linear']},\n",
       "             pre_dispatch='2*n_jobs', refit=True, return_train_score=False,\n",
       "             scoring=None, verbose=0)"
      ]
     },
     "execution_count": 56,
     "metadata": {},
     "output_type": "execute_result"
    }
   ],
   "source": [
    "grid_svm.fit(train_X_scale,train_y)"
   ]
  },
  {
   "cell_type": "code",
   "execution_count": 57,
   "metadata": {},
   "outputs": [
    {
     "data": {
      "text/plain": [
       "{'C': 10, 'kernel': 'linear'}"
      ]
     },
     "execution_count": 57,
     "metadata": {},
     "output_type": "execute_result"
    }
   ],
   "source": [
    "# Show best parameters\n",
    "grid_svm.best_params_"
   ]
  },
  {
   "cell_type": "markdown",
   "metadata": {},
   "source": [
    "### Model Testing"
   ]
  },
  {
   "cell_type": "code",
   "execution_count": 58,
   "metadata": {},
   "outputs": [],
   "source": [
    "# Train a new SVM with best parameters\n",
    "svm_final = svm.SVR(kernel='linear', C=10)"
   ]
  },
  {
   "cell_type": "code",
   "execution_count": 59,
   "metadata": {},
   "outputs": [
    {
     "data": {
      "text/plain": [
       "SVR(C=10, cache_size=200, coef0=0.0, degree=3, epsilon=0.1,\n",
       "    gamma='auto_deprecated', kernel='linear', max_iter=-1, shrinking=True,\n",
       "    tol=0.001, verbose=False)"
      ]
     },
     "execution_count": 59,
     "metadata": {},
     "output_type": "execute_result"
    }
   ],
   "source": [
    "svm_final.fit(train_X_scale,train_y)"
   ]
  },
  {
   "cell_type": "code",
   "execution_count": 60,
   "metadata": {},
   "outputs": [
    {
     "name": "stdout",
     "output_type": "stream",
     "text": [
      "Mean Absolute Error is 96817.1591702381\n",
      "Mean Squared Error is 21127706447.26044\n",
      "R-squared is 0.061263002373490916\n",
      "Root Mean Squared Error is 145353.72870091925\n",
      "Mean Absolute Percentage Error is 0.37888275909976965\n"
     ]
    }
   ],
   "source": [
    "# Predict on test set\n",
    "pred_y_svm_final = svm_final.predict(test_X_scale)\n",
    "print('Mean Absolute Error is',metrics.mean_absolute_error(test_y, pred_y_svm_final))\n",
    "print('Mean Squared Error is',metrics.mean_squared_error(test_y, pred_y_svm_final))\n",
    "print('R-squared is',metrics.r2_score(test_y, pred_y_svm_final))\n",
    "print('Root Mean Squared Error is',np.sqrt(metrics.mean_squared_error(test_y, pred_y_svm_final)))\n",
    "print('Mean Absolute Percentage Error is',np.mean(np.abs(pred_y_svm_final - test_y)/np.abs(test_y)))"
   ]
  },
  {
   "cell_type": "markdown",
   "metadata": {},
   "source": [
    "# Model 5: Kernel Ridge Regression"
   ]
  },
  {
   "cell_type": "markdown",
   "metadata": {},
   "source": [
    "### Model Building"
   ]
  },
  {
   "cell_type": "code",
   "execution_count": 61,
   "metadata": {},
   "outputs": [],
   "source": [
    "from sklearn.kernel_ridge import KernelRidge"
   ]
  },
  {
   "cell_type": "code",
   "execution_count": 62,
   "metadata": {},
   "outputs": [
    {
     "data": {
      "text/plain": [
       "KernelRidge(alpha=1, coef0=1, degree=3, gamma=None, kernel='linear',\n",
       "            kernel_params=None)"
      ]
     },
     "execution_count": 62,
     "metadata": {},
     "output_type": "execute_result"
    }
   ],
   "source": [
    "# Train using linear kernel\n",
    "KRR_linear = KernelRidge(kernel='linear')\n",
    "KRR_linear.fit(train_X_scale,train_y)"
   ]
  },
  {
   "cell_type": "code",
   "execution_count": 63,
   "metadata": {},
   "outputs": [
    {
     "name": "stdout",
     "output_type": "stream",
     "text": [
      "Mean Absolute Error is 47316.29104734483\n",
      "Mean Squared Error is 4351863676.597223\n",
      "R-squared is 0.8066398995060602\n",
      "Root Mean Squared Error is 65968.65677423804\n",
      "Mean Absolute Percentage Error is 0.19386456286055823\n"
     ]
    }
   ],
   "source": [
    "# Predict on test set\n",
    "pred_y_KRR = KRR_linear.predict(test_X_scale)\n",
    "print('Mean Absolute Error is',metrics.mean_absolute_error(test_y, pred_y_KRR))\n",
    "print('Mean Squared Error is',metrics.mean_squared_error(test_y, pred_y_KRR))\n",
    "print('R-squared is',metrics.r2_score(test_y, pred_y_KRR))\n",
    "print('Root Mean Squared Error is',np.sqrt(metrics.mean_squared_error(test_y, pred_y_KRR)))\n",
    "print('Mean Absolute Percentage Error is',np.mean(np.abs(pred_y_KRR - test_y)/np.abs(test_y)))"
   ]
  },
  {
   "cell_type": "markdown",
   "metadata": {},
   "source": [
    "### Model Tunning"
   ]
  },
  {
   "cell_type": "code",
   "execution_count": 64,
   "metadata": {},
   "outputs": [
    {
     "data": {
      "text/plain": [
       "{'coef0': [0.001, 0.005, 0.01, 0.025, 0.05, 1, 5, 10, 50]}"
      ]
     },
     "execution_count": 64,
     "metadata": {},
     "output_type": "execute_result"
    }
   ],
   "source": [
    "parameters = {'coef0':[0.001,0.005,0.01,0.025,0.05,1,5,10,50]}\n",
    "parameters"
   ]
  },
  {
   "cell_type": "markdown",
   "metadata": {},
   "source": [
    "Note: We tried only linear kernel as it provides faster implementation with large datasets"
   ]
  },
  {
   "cell_type": "code",
   "execution_count": 65,
   "metadata": {},
   "outputs": [],
   "source": [
    "KRR = KernelRidge()"
   ]
  },
  {
   "cell_type": "code",
   "execution_count": 66,
   "metadata": {},
   "outputs": [],
   "source": [
    "grid_KRR = GridSearchCV(KRR, parameters, cv=5)"
   ]
  },
  {
   "cell_type": "code",
   "execution_count": 67,
   "metadata": {},
   "outputs": [
    {
     "data": {
      "text/plain": [
       "GridSearchCV(cv=5, error_score='raise-deprecating',\n",
       "             estimator=KernelRidge(alpha=1, coef0=1, degree=3, gamma=None,\n",
       "                                   kernel='linear', kernel_params=None),\n",
       "             iid='warn', n_jobs=None,\n",
       "             param_grid={'coef0': [0.001, 0.005, 0.01, 0.025, 0.05, 1, 5, 10,\n",
       "                                   50]},\n",
       "             pre_dispatch='2*n_jobs', refit=True, return_train_score=False,\n",
       "             scoring=None, verbose=0)"
      ]
     },
     "execution_count": 67,
     "metadata": {},
     "output_type": "execute_result"
    }
   ],
   "source": [
    "grid_KRR.fit(train_X_scale,train_y)"
   ]
  },
  {
   "cell_type": "code",
   "execution_count": 68,
   "metadata": {},
   "outputs": [
    {
     "data": {
      "text/plain": [
       "{'coef0': 0.001}"
      ]
     },
     "execution_count": 68,
     "metadata": {},
     "output_type": "execute_result"
    }
   ],
   "source": [
    "# Show best parameters\n",
    "grid_KRR.best_params_"
   ]
  },
  {
   "cell_type": "markdown",
   "metadata": {},
   "source": [
    "### Model Testing"
   ]
  },
  {
   "cell_type": "code",
   "execution_count": 69,
   "metadata": {},
   "outputs": [],
   "source": [
    "# Train a new SVM with best parameters\n",
    "KRR_final = KernelRidge(kernel='linear', coef0= 0.001)"
   ]
  },
  {
   "cell_type": "code",
   "execution_count": 70,
   "metadata": {},
   "outputs": [
    {
     "data": {
      "text/plain": [
       "KernelRidge(alpha=1, coef0=0.001, degree=3, gamma=None, kernel='linear',\n",
       "            kernel_params=None)"
      ]
     },
     "execution_count": 70,
     "metadata": {},
     "output_type": "execute_result"
    }
   ],
   "source": [
    "KRR_final.fit(train_X_scale,train_y)"
   ]
  },
  {
   "cell_type": "code",
   "execution_count": 71,
   "metadata": {},
   "outputs": [
    {
     "name": "stdout",
     "output_type": "stream",
     "text": [
      "Mean Absolute Error is 47316.29104734483\n",
      "Mean Squared Error is 4351863676.597223\n",
      "R-squared is 0.8066398995060602\n",
      "Root Mean Squared Error is 65968.65677423804\n",
      "Mean Absolute Percentage Error is 0.19386456286055823\n"
     ]
    }
   ],
   "source": [
    "# Predict on test set\n",
    "pred_y_KRR_final = KRR_final.predict(test_X_scale)\n",
    "print('Mean Absolute Error is',metrics.mean_absolute_error(test_y, pred_y_KRR_final))\n",
    "print('Mean Squared Error is',metrics.mean_squared_error(test_y, pred_y_KRR_final))\n",
    "print('R-squared is',metrics.r2_score(test_y, pred_y_KRR_final))\n",
    "print('Root Mean Squared Error is',np.sqrt(metrics.mean_squared_error(test_y, pred_y_KRR_final)))\n",
    "print('Mean Absolute Percentage Error is',np.mean(np.abs(pred_y_KRR_final - test_y)/np.abs(test_y)))"
   ]
  },
  {
   "cell_type": "markdown",
   "metadata": {},
   "source": [
    "# Model 6: SGD Regression"
   ]
  },
  {
   "cell_type": "code",
   "execution_count": 72,
   "metadata": {},
   "outputs": [],
   "source": [
    "from sklearn import linear_model"
   ]
  },
  {
   "cell_type": "code",
   "execution_count": 73,
   "metadata": {},
   "outputs": [
    {
     "data": {
      "text/plain": [
       "SGDRegressor(alpha=0.0001, average=False, early_stopping=False, epsilon=0.1,\n",
       "             eta0=0.01, fit_intercept=True, l1_ratio=0.15,\n",
       "             learning_rate='invscaling', loss='squared_loss', max_iter=1000,\n",
       "             n_iter_no_change=5, penalty='l2', power_t=0.25, random_state=None,\n",
       "             shuffle=True, tol=0.001, validation_fraction=0.1, verbose=0,\n",
       "             warm_start=False)"
      ]
     },
     "execution_count": 73,
     "metadata": {},
     "output_type": "execute_result"
    }
   ],
   "source": [
    "# Training SGD\n",
    "SGD = linear_model.SGDRegressor(max_iter=1000, tol=1e-3)\n",
    "SGD.fit(train_X_scale,train_y)"
   ]
  },
  {
   "cell_type": "code",
   "execution_count": 74,
   "metadata": {},
   "outputs": [
    {
     "name": "stdout",
     "output_type": "stream",
     "text": [
      "Mean Absolute Error is 47556.55989041406\n",
      "Mean Squared Error is 4347351364.948236\n",
      "R-squared is 0.8068403885605773\n",
      "Root Mean Squared Error is 65934.44748345311\n",
      "Mean Absolute Percentage Error is 0.19620409731112204\n"
     ]
    }
   ],
   "source": [
    "# Predict on test set\n",
    "pred_y_SGD = SGD.predict(test_X_scale)\n",
    "print('Mean Absolute Error is',metrics.mean_absolute_error(test_y, pred_y_SGD))\n",
    "print('Mean Squared Error is',metrics.mean_squared_error(test_y, pred_y_SGD))\n",
    "print('R-squared is',metrics.r2_score(test_y, pred_y_SGD))\n",
    "print('Root Mean Squared Error is',np.sqrt(metrics.mean_squared_error(test_y, pred_y_SGD)))\n",
    "print('Mean Absolute Percentage Error is',np.mean(np.abs(pred_y_SGD - test_y)/np.abs(test_y)))"
   ]
  },
  {
   "cell_type": "markdown",
   "metadata": {},
   "source": [
    "### Model Tunning"
   ]
  },
  {
   "cell_type": "code",
   "execution_count": 75,
   "metadata": {},
   "outputs": [
    {
     "data": {
      "text/plain": [
       "{'max_iter': [200, 500, 1000, 1500, 2000],\n",
       " 'tol': [0.0001, 0.001, 0.01, 0.025, 0.05, 1, 5, 10, 50]}"
      ]
     },
     "execution_count": 75,
     "metadata": {},
     "output_type": "execute_result"
    }
   ],
   "source": [
    "parameters = {'max_iter':[200, 500, 1000, 1500, 2000],\n",
    "              'tol':[0.0001,0.001,0.01,0.025,0.05,1,5,10,50]}\n",
    "parameters"
   ]
  },
  {
   "cell_type": "code",
   "execution_count": 76,
   "metadata": {},
   "outputs": [],
   "source": [
    "SGD1 = linear_model.SGDRegressor()"
   ]
  },
  {
   "cell_type": "code",
   "execution_count": 77,
   "metadata": {},
   "outputs": [],
   "source": [
    "grid_SGD = GridSearchCV(SGD1, parameters, cv=5)"
   ]
  },
  {
   "cell_type": "code",
   "execution_count": 78,
   "metadata": {},
   "outputs": [
    {
     "data": {
      "text/plain": [
       "GridSearchCV(cv=5, error_score='raise-deprecating',\n",
       "             estimator=SGDRegressor(alpha=0.0001, average=False,\n",
       "                                    early_stopping=False, epsilon=0.1,\n",
       "                                    eta0=0.01, fit_intercept=True,\n",
       "                                    l1_ratio=0.15, learning_rate='invscaling',\n",
       "                                    loss='squared_loss', max_iter=1000,\n",
       "                                    n_iter_no_change=5, penalty='l2',\n",
       "                                    power_t=0.25, random_state=None,\n",
       "                                    shuffle=True, tol=0.001,\n",
       "                                    validation_fraction=0.1, verbose=0,\n",
       "                                    warm_start=False),\n",
       "             iid='warn', n_jobs=None,\n",
       "             param_grid={'max_iter': [200, 500, 1000, 1500, 2000],\n",
       "                         'tol': [0.0001, 0.001, 0.01, 0.025, 0.05, 1, 5, 10,\n",
       "                                 50]},\n",
       "             pre_dispatch='2*n_jobs', refit=True, return_train_score=False,\n",
       "             scoring=None, verbose=0)"
      ]
     },
     "execution_count": 78,
     "metadata": {},
     "output_type": "execute_result"
    }
   ],
   "source": [
    "grid_SGD.fit(train_X_scale,train_y)"
   ]
  },
  {
   "cell_type": "code",
   "execution_count": 79,
   "metadata": {},
   "outputs": [
    {
     "data": {
      "text/plain": [
       "{'max_iter': 500, 'tol': 0.01}"
      ]
     },
     "execution_count": 79,
     "metadata": {},
     "output_type": "execute_result"
    }
   ],
   "source": [
    "# Show best parameters\n",
    "grid_SGD.best_params_"
   ]
  },
  {
   "cell_type": "markdown",
   "metadata": {},
   "source": [
    "### Model Testing"
   ]
  },
  {
   "cell_type": "code",
   "execution_count": 80,
   "metadata": {},
   "outputs": [
    {
     "data": {
      "text/plain": [
       "SGDRegressor(alpha=0.0001, average=False, early_stopping=False, epsilon=0.1,\n",
       "             eta0=0.01, fit_intercept=True, l1_ratio=0.15,\n",
       "             learning_rate='invscaling', loss='squared_loss', max_iter=500,\n",
       "             n_iter_no_change=5, penalty='l2', power_t=0.25, random_state=None,\n",
       "             shuffle=True, tol=0.001, validation_fraction=0.1, verbose=0,\n",
       "             warm_start=False)"
      ]
     },
     "execution_count": 80,
     "metadata": {},
     "output_type": "execute_result"
    }
   ],
   "source": [
    "# Train a new SGD with best parameters\n",
    "SGD_final = linear_model.SGDRegressor(max_iter=500, tol=0.001)\n",
    "SGD_final.fit(train_X_scale,train_y)"
   ]
  },
  {
   "cell_type": "code",
   "execution_count": 81,
   "metadata": {},
   "outputs": [
    {
     "name": "stdout",
     "output_type": "stream",
     "text": [
      "Mean Absolute Error is 47596.659280776046\n",
      "Mean Squared Error is 4340060430.858784\n",
      "R-squared is 0.8071643361501611\n",
      "Root Mean Squared Error is 65879.13501905427\n",
      "Mean Absolute Percentage Error is 0.19701884282878968\n"
     ]
    }
   ],
   "source": [
    "# Predict on test set\n",
    "pred_y_SGD_final = SGD_final.predict(test_X_scale)\n",
    "print('Mean Absolute Error is',metrics.mean_absolute_error(test_y, pred_y_SGD_final))\n",
    "print('Mean Squared Error is',metrics.mean_squared_error(test_y, pred_y_SGD_final))\n",
    "print('R-squared is',metrics.r2_score(test_y, pred_y_SGD_final))\n",
    "print('Root Mean Squared Error is',np.sqrt(metrics.mean_squared_error(test_y, pred_y_SGD_final)))\n",
    "print('Mean Absolute Percentage Error is',np.mean(np.abs(pred_y_SGD_final - test_y)/np.abs(test_y)))"
   ]
  },
  {
   "cell_type": "markdown",
   "metadata": {},
   "source": [
    "# Summary of all Models"
   ]
  },
  {
   "cell_type": "code",
   "execution_count": 82,
   "metadata": {},
   "outputs": [],
   "source": [
    "MAE = [metrics.mean_absolute_error(test_y, pred_y_knn_final),\n",
    "       metrics.mean_absolute_error(test_y, pred_y_rf_final),\n",
    "       metrics.mean_absolute_error(test_y, pred_y_ann_final),\n",
    "       metrics.mean_absolute_error(test_y, pred_y_svm_final),\n",
    "       metrics.mean_absolute_error(test_y, pred_y_KRR_final),\n",
    "       metrics.mean_absolute_error(test_y, pred_y_SGD_final)]\n",
    "\n",
    "MSE=[metrics.mean_squared_error(test_y, pred_y_knn_final),\n",
    "     metrics.mean_squared_error(test_y, pred_y_rf_final),\n",
    "     metrics.mean_squared_error(test_y, pred_y_ann_final),\n",
    "     metrics.mean_squared_error(test_y, pred_y_svm_final),\n",
    "     metrics.mean_squared_error(test_y, pred_y_KRR_final),\n",
    "     metrics.mean_squared_error(test_y, pred_y_SGD_final)]\n",
    "\n",
    "RSquared=[metrics.r2_score(test_y, pred_y_knn_final),\n",
    "          metrics.r2_score(test_y, pred_y_rf_final),\n",
    "          metrics.r2_score(test_y, pred_y_ann_final),\n",
    "          metrics.r2_score(test_y, pred_y_svm_final),\n",
    "          metrics.r2_score(test_y, pred_y_KRR_final),\n",
    "          metrics.r2_score(test_y, pred_y_SGD_final)]\n",
    "\n",
    "RMSE=[np.sqrt(metrics.mean_squared_error(test_y, pred_y_knn_final)),\n",
    "      np.sqrt(metrics.mean_squared_error(test_y, pred_y_rf_final)),\n",
    "      np.sqrt(metrics.mean_squared_error(test_y, pred_y_ann_final)),\n",
    "      np.sqrt(metrics.mean_squared_error(test_y, pred_y_svm_final)),\n",
    "      np.sqrt(metrics.mean_squared_error(test_y, pred_y_KRR_final)),\n",
    "      np.sqrt(metrics.mean_squared_error(test_y, pred_y_SGD_final))]\n",
    "\n",
    "MAPE=[np.mean(np.abs(pred_y_knn_final - test_y)/np.abs(test_y)),\n",
    "      np.mean(np.abs(pred_y_rf_final - test_y)/np.abs(test_y)),\n",
    "      np.mean(np.abs(pred_y_ann_final - test_y)/np.abs(test_y)),\n",
    "      np.mean(np.abs(pred_y_svm_final - test_y)/np.abs(test_y)),\n",
    "      np.mean(np.abs(pred_y_KRR_final - test_y)/np.abs(test_y)),\n",
    "      np.mean(np.abs(pred_y_SGD_final - test_y)/np.abs(test_y))]"
   ]
  },
  {
   "cell_type": "code",
   "execution_count": 83,
   "metadata": {},
   "outputs": [
    {
     "data": {
      "text/html": [
       "<div>\n",
       "<style scoped>\n",
       "    .dataframe tbody tr th:only-of-type {\n",
       "        vertical-align: middle;\n",
       "    }\n",
       "\n",
       "    .dataframe tbody tr th {\n",
       "        vertical-align: top;\n",
       "    }\n",
       "\n",
       "    .dataframe thead th {\n",
       "        text-align: right;\n",
       "    }\n",
       "</style>\n",
       "<table border=\"1\" class=\"dataframe\">\n",
       "  <thead>\n",
       "    <tr style=\"text-align: right;\">\n",
       "      <th></th>\n",
       "      <th>MAE</th>\n",
       "      <th>MSE</th>\n",
       "      <th>RSquared</th>\n",
       "      <th>RMSE</th>\n",
       "      <th>MAPE</th>\n",
       "    </tr>\n",
       "  </thead>\n",
       "  <tbody>\n",
       "    <tr>\n",
       "      <td>k-Nearest Neigbhor</td>\n",
       "      <td>69697.440000</td>\n",
       "      <td>1.049667e+10</td>\n",
       "      <td>0.533617</td>\n",
       "      <td>102453.263095</td>\n",
       "      <td>0.276911</td>\n",
       "    </tr>\n",
       "    <tr>\n",
       "      <td>Random Forest</td>\n",
       "      <td>44351.835000</td>\n",
       "      <td>4.200717e+09</td>\n",
       "      <td>0.813356</td>\n",
       "      <td>64812.935856</td>\n",
       "      <td>0.173519</td>\n",
       "    </tr>\n",
       "    <tr>\n",
       "      <td>Artificial Neural Network</td>\n",
       "      <td>44941.993536</td>\n",
       "      <td>4.390426e+09</td>\n",
       "      <td>0.804926</td>\n",
       "      <td>66260.292656</td>\n",
       "      <td>0.176860</td>\n",
       "    </tr>\n",
       "    <tr>\n",
       "      <td>Support Vector Machine</td>\n",
       "      <td>96817.159170</td>\n",
       "      <td>2.112771e+10</td>\n",
       "      <td>0.061263</td>\n",
       "      <td>145353.728701</td>\n",
       "      <td>0.378883</td>\n",
       "    </tr>\n",
       "    <tr>\n",
       "      <td>Kernel Ridge Regression</td>\n",
       "      <td>47316.291047</td>\n",
       "      <td>4.351864e+09</td>\n",
       "      <td>0.806640</td>\n",
       "      <td>65968.656774</td>\n",
       "      <td>0.193865</td>\n",
       "    </tr>\n",
       "    <tr>\n",
       "      <td>SGD Regression</td>\n",
       "      <td>47596.659281</td>\n",
       "      <td>4.340060e+09</td>\n",
       "      <td>0.807164</td>\n",
       "      <td>65879.135019</td>\n",
       "      <td>0.197019</td>\n",
       "    </tr>\n",
       "  </tbody>\n",
       "</table>\n",
       "</div>"
      ],
      "text/plain": [
       "                                    MAE           MSE  RSquared  \\\n",
       "k-Nearest Neigbhor         69697.440000  1.049667e+10  0.533617   \n",
       "Random Forest              44351.835000  4.200717e+09  0.813356   \n",
       "Artificial Neural Network  44941.993536  4.390426e+09  0.804926   \n",
       "Support Vector Machine     96817.159170  2.112771e+10  0.061263   \n",
       "Kernel Ridge Regression    47316.291047  4.351864e+09  0.806640   \n",
       "SGD Regression             47596.659281  4.340060e+09  0.807164   \n",
       "\n",
       "                                    RMSE      MAPE  \n",
       "k-Nearest Neigbhor         102453.263095  0.276911  \n",
       "Random Forest               64812.935856  0.173519  \n",
       "Artificial Neural Network   66260.292656  0.176860  \n",
       "Support Vector Machine     145353.728701  0.378883  \n",
       "Kernel Ridge Regression     65968.656774  0.193865  \n",
       "SGD Regression              65879.135019  0.197019  "
      ]
     },
     "execution_count": 83,
     "metadata": {},
     "output_type": "execute_result"
    }
   ],
   "source": [
    "pd.DataFrame({'MAE':MAE, 'MSE':MSE, 'RSquared':RSquared, 'RMSE':RMSE,'MAPE': MAPE},\n",
    "             index = ['k-Nearest Neigbhor',\n",
    "                      'Random Forest',\n",
    "                      'Artificial Neural Network',\n",
    "                      'Support Vector Machine',\n",
    "                      'Kernel Ridge Regression',\n",
    "                      'SGD Regression'])"
   ]
  },
  {
   "cell_type": "markdown",
   "metadata": {},
   "source": [
    "The best model so far is the Random Forest"
   ]
  },
  {
   "cell_type": "code",
   "execution_count": 84,
   "metadata": {},
   "outputs": [
    {
     "data": {
      "image/png": "[encoded data removed]",
      "text/plain": [
       "<Figure size 576x360 with 1 Axes>"
      ]
     },
     "metadata": {
      "needs_background": "light"
     },
     "output_type": "display_data"
    }
   ],
   "source": [
    "plt.figure(figsize=(8,5))\n",
    "plt.scatter(test_y, pred_y_rf_final)\n",
    "plt.xlabel('Actual Price',fontsize=16)\n",
    "plt.ylabel('Predicted Price',fontsize=16)\n",
    "plt.xticks(fontsize=16,rotation=90)\n",
    "plt.yticks(fontsize=16)\n",
    "plt.show()"
   ]
  },
  {
   "cell_type": "markdown",
   "metadata": {},
   "source": [
    "## References "
   ]
  },
  {
   "cell_type": "markdown",
   "metadata": {},
   "source": [
    " - Sission, P., Andrews, J., and Bazeley, A. (2019). The affordable housing crisis, explained. <https://www.curbed.com/2019/5/15/18617763/affordable-housing-policy-rent-real-estate-apartment> \n",
    " - Moran, J. (2019). How many single-family homes are there in the US? https://www.quora.com/How-many-single-family-homes-are-there-in-the-US\n",
    " - Parker, R., and Lewis, R. (2020). Opinion: America’s love affair with the single-family house is slowly cooling. https://www.marketwatch.com/story/americas-love-affair-with-the-single-family-house-is-slowly-cooling-2020-01-02"
   ]
  }
 ],
 "metadata": {
  "kernelspec": {
   "display_name": "Python 3",
   "language": "python",
   "name": "python3"
  },
  "language_info": {
   "codemirror_mode": {
    "name": "ipython",
    "version": 3
   },
   "file_extension": ".py",
   "mimetype": "text/x-python",
   "name": "python",
   "nbconvert_exporter": "python",
   "pygments_lexer": "ipython3",
   "version": "3.7.4"
  }
 },
 "nbformat": 4,
 "nbformat_minor": 4
}
