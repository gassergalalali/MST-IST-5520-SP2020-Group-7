{
 "cells": [
  {
   "cell_type": "markdown",
   "metadata": {},
   "source": [
    "<h1 align=\"center\"> Predictive Analytics </h1>"
   ]
  },
  {
   "cell_type": "markdown",
   "metadata": {},
   "source": [
    "# Importing Needed Packages"
   ]
  },
  {
   "cell_type": "code",
   "execution_count": 1,
   "metadata": {},
   "outputs": [],
   "source": [
    "import pandas as pd\n",
    "import numpy as np\n",
    "import matplotlib.pyplot as plt\n",
    "import seaborn as sns\n",
    "from sklearn.model_selection import GridSearchCV\n",
    "from sklearn import metrics\n",
    "%matplotlib inline\n",
    "\n",
    "import warnings\n",
    "warnings.filterwarnings('ignore')"
   ]
  },
  {
   "cell_type": "markdown",
   "metadata": {},
   "source": [
    "# Reading Cleaned Data"
   ]
  },
  {
   "cell_type": "code",
   "execution_count": 2,
   "metadata": {},
   "outputs": [],
   "source": [
    "data = pd.read_csv(\"./cleanedDataPriceDr.csv\")"
   ]
  },
  {
   "cell_type": "code",
   "execution_count": 3,
   "metadata": {},
   "outputs": [
    {
     "name": "stdout",
     "output_type": "stream",
     "text": [
      "<class 'pandas.core.frame.DataFrame'>\n",
      "RangeIndex: 158470 entries, 0 to 158469\n",
      "Data columns (total 32 columns):\n",
      " #   Column                            Non-Null Count   Dtype  \n",
      "---  ------                            --------------   -----  \n",
      " 0   Unnamed: 0                        158470 non-null  int64  \n",
      " 1   Unnamed: 0.1                      158470 non-null  int64  \n",
      " 2   CentralAir-conditioning           158470 non-null  float64\n",
      " 3   Foundation                        158470 non-null  float64\n",
      " 4   Condominium                       158470 non-null  float64\n",
      " 5   Deck                              158470 non-null  float64\n",
      " 6   DesignofHouse                     158470 non-null  float64\n",
      " 7   Division                          158470 non-null  int64  \n",
      " 8   TypeofFinancing                   158470 non-null  float64\n",
      " 9   FinishedBasement                  158470 non-null  float64\n",
      " 10  ParkingFacility                   158470 non-null  float64\n",
      " 11  PrimarySpaceHeatingSystem         158470 non-null  float64\n",
      " 12  MetropolitanArea                  158470 non-null  int64  \n",
      " 13  ConstructionMethod                158470 non-null  float64\n",
      " 14  Patio                             158470 non-null  float64\n",
      " 15  Porch                             158470 non-null  float64\n",
      " 16  Stories                           158470 non-null  float64\n",
      " 17  PrimaryExteriorWallMaterial       158470 non-null  float64\n",
      " 18  SecondaryExteriorWallMaterial     158470 non-null  float64\n",
      " 19  SecondaryExteriorWallMaterial.1   158470 non-null  float64\n",
      " 20  Bedrooms                          158470 non-null  float64\n",
      " 21  Fireplace                         158470 non-null  float64\n",
      " 22  FullBathrooms                     158470 non-null  float64\n",
      " 23  HalfBathrooms                     158470 non-null  float64\n",
      " 24  SaleDate                          158470 non-null  int64  \n",
      " 25  Weight                            158470 non-null  int64  \n",
      " 26  PrimarySpaceHeatingFuel           158470 non-null  float64\n",
      " 27  SalesPrice                        158470 non-null  float64\n",
      " 28  SquareFootAreaofHouse             158470 non-null  float64\n",
      " 29  LotValue                          158470 non-null  float64\n",
      " 30  SquareFootAreaofFinishedBasement  158470 non-null  float64\n",
      " 31  SquareFootAreaoftheLot            158470 non-null  float64\n",
      "dtypes: float64(26), int64(6)\n",
      "memory usage: 38.7 MB\n"
     ]
    }
   ],
   "source": [
    "data.info()"
   ]
  },
  {
   "cell_type": "code",
   "execution_count": 4,
   "metadata": {},
   "outputs": [
    {
     "data": {
      "text/html": [
       "<div>\n",
       "<style scoped>\n",
       "    .dataframe tbody tr th:only-of-type {\n",
       "        vertical-align: middle;\n",
       "    }\n",
       "\n",
       "    .dataframe tbody tr th {\n",
       "        vertical-align: top;\n",
       "    }\n",
       "\n",
       "    .dataframe thead th {\n",
       "        text-align: right;\n",
       "    }\n",
       "</style>\n",
       "<table border=\"1\" class=\"dataframe\">\n",
       "  <thead>\n",
       "    <tr style=\"text-align: right;\">\n",
       "      <th></th>\n",
       "      <th>Unnamed: 0</th>\n",
       "      <th>Unnamed: 0.1</th>\n",
       "      <th>CentralAir-conditioning</th>\n",
       "      <th>Foundation</th>\n",
       "      <th>Condominium</th>\n",
       "      <th>Deck</th>\n",
       "      <th>DesignofHouse</th>\n",
       "      <th>Division</th>\n",
       "      <th>TypeofFinancing</th>\n",
       "      <th>FinishedBasement</th>\n",
       "      <th>...</th>\n",
       "      <th>FullBathrooms</th>\n",
       "      <th>HalfBathrooms</th>\n",
       "      <th>SaleDate</th>\n",
       "      <th>Weight</th>\n",
       "      <th>PrimarySpaceHeatingFuel</th>\n",
       "      <th>SalesPrice</th>\n",
       "      <th>SquareFootAreaofHouse</th>\n",
       "      <th>LotValue</th>\n",
       "      <th>SquareFootAreaofFinishedBasement</th>\n",
       "      <th>SquareFootAreaoftheLot</th>\n",
       "    </tr>\n",
       "  </thead>\n",
       "  <tbody>\n",
       "    <tr>\n",
       "      <th>102737</th>\n",
       "      <td>152329</td>\n",
       "      <td>30725</td>\n",
       "      <td>1.0</td>\n",
       "      <td>3.0</td>\n",
       "      <td>2.0</td>\n",
       "      <td>2.0</td>\n",
       "      <td>1.0</td>\n",
       "      <td>9</td>\n",
       "      <td>1.0</td>\n",
       "      <td>0.0</td>\n",
       "      <td>...</td>\n",
       "      <td>3.0</td>\n",
       "      <td>1.0</td>\n",
       "      <td>200601</td>\n",
       "      <td>69</td>\n",
       "      <td>2.0</td>\n",
       "      <td>944200.0</td>\n",
       "      <td>4104.0</td>\n",
       "      <td>94000.0</td>\n",
       "      <td>0.0</td>\n",
       "      <td>8537.0</td>\n",
       "    </tr>\n",
       "    <tr>\n",
       "      <th>76709</th>\n",
       "      <td>109797</td>\n",
       "      <td>26495</td>\n",
       "      <td>1.0</td>\n",
       "      <td>3.0</td>\n",
       "      <td>2.0</td>\n",
       "      <td>2.0</td>\n",
       "      <td>1.0</td>\n",
       "      <td>7</td>\n",
       "      <td>1.0</td>\n",
       "      <td>0.0</td>\n",
       "      <td>...</td>\n",
       "      <td>3.0</td>\n",
       "      <td>0.0</td>\n",
       "      <td>200408</td>\n",
       "      <td>97</td>\n",
       "      <td>2.0</td>\n",
       "      <td>260000.0</td>\n",
       "      <td>2592.0</td>\n",
       "      <td>34000.0</td>\n",
       "      <td>0.0</td>\n",
       "      <td>9300.0</td>\n",
       "    </tr>\n",
       "    <tr>\n",
       "      <th>21378</th>\n",
       "      <td>29189</td>\n",
       "      <td>19016</td>\n",
       "      <td>1.0</td>\n",
       "      <td>2.0</td>\n",
       "      <td>2.0</td>\n",
       "      <td>1.0</td>\n",
       "      <td>1.0</td>\n",
       "      <td>5</td>\n",
       "      <td>5.0</td>\n",
       "      <td>0.0</td>\n",
       "      <td>...</td>\n",
       "      <td>2.0</td>\n",
       "      <td>0.0</td>\n",
       "      <td>200008</td>\n",
       "      <td>97</td>\n",
       "      <td>1.0</td>\n",
       "      <td>117900.0</td>\n",
       "      <td>1363.0</td>\n",
       "      <td>22000.0</td>\n",
       "      <td>0.0</td>\n",
       "      <td>43560.0</td>\n",
       "    </tr>\n",
       "    <tr>\n",
       "      <th>37388</th>\n",
       "      <td>51336</td>\n",
       "      <td>25807</td>\n",
       "      <td>1.0</td>\n",
       "      <td>3.0</td>\n",
       "      <td>2.0</td>\n",
       "      <td>2.0</td>\n",
       "      <td>1.0</td>\n",
       "      <td>7</td>\n",
       "      <td>2.0</td>\n",
       "      <td>0.0</td>\n",
       "      <td>...</td>\n",
       "      <td>2.0</td>\n",
       "      <td>0.0</td>\n",
       "      <td>200112</td>\n",
       "      <td>44</td>\n",
       "      <td>2.0</td>\n",
       "      <td>90000.0</td>\n",
       "      <td>1566.0</td>\n",
       "      <td>10000.0</td>\n",
       "      <td>0.0</td>\n",
       "      <td>22500.0</td>\n",
       "    </tr>\n",
       "    <tr>\n",
       "      <th>49266</th>\n",
       "      <td>68630</td>\n",
       "      <td>23716</td>\n",
       "      <td>1.0</td>\n",
       "      <td>3.0</td>\n",
       "      <td>2.0</td>\n",
       "      <td>2.0</td>\n",
       "      <td>1.0</td>\n",
       "      <td>7</td>\n",
       "      <td>2.0</td>\n",
       "      <td>0.0</td>\n",
       "      <td>...</td>\n",
       "      <td>2.0</td>\n",
       "      <td>1.0</td>\n",
       "      <td>200207</td>\n",
       "      <td>63</td>\n",
       "      <td>2.0</td>\n",
       "      <td>155500.0</td>\n",
       "      <td>2985.0</td>\n",
       "      <td>15000.0</td>\n",
       "      <td>0.0</td>\n",
       "      <td>10368.0</td>\n",
       "    </tr>\n",
       "  </tbody>\n",
       "</table>\n",
       "<p>5 rows × 32 columns</p>\n",
       "</div>"
      ],
      "text/plain": [
       "        Unnamed: 0  Unnamed: 0.1  CentralAir-conditioning  Foundation  \\\n",
       "102737      152329         30725                      1.0         3.0   \n",
       "76709       109797         26495                      1.0         3.0   \n",
       "21378        29189         19016                      1.0         2.0   \n",
       "37388        51336         25807                      1.0         3.0   \n",
       "49266        68630         23716                      1.0         3.0   \n",
       "\n",
       "        Condominium  Deck  DesignofHouse  Division  TypeofFinancing  \\\n",
       "102737          2.0   2.0            1.0         9              1.0   \n",
       "76709           2.0   2.0            1.0         7              1.0   \n",
       "21378           2.0   1.0            1.0         5              5.0   \n",
       "37388           2.0   2.0            1.0         7              2.0   \n",
       "49266           2.0   2.0            1.0         7              2.0   \n",
       "\n",
       "        FinishedBasement  ...  FullBathrooms  HalfBathrooms  SaleDate  Weight  \\\n",
       "102737               0.0  ...            3.0            1.0    200601      69   \n",
       "76709                0.0  ...            3.0            0.0    200408      97   \n",
       "21378                0.0  ...            2.0            0.0    200008      97   \n",
       "37388                0.0  ...            2.0            0.0    200112      44   \n",
       "49266                0.0  ...            2.0            1.0    200207      63   \n",
       "\n",
       "        PrimarySpaceHeatingFuel  SalesPrice  SquareFootAreaofHouse  LotValue  \\\n",
       "102737                      2.0    944200.0                 4104.0   94000.0   \n",
       "76709                       2.0    260000.0                 2592.0   34000.0   \n",
       "21378                       1.0    117900.0                 1363.0   22000.0   \n",
       "37388                       2.0     90000.0                 1566.0   10000.0   \n",
       "49266                       2.0    155500.0                 2985.0   15000.0   \n",
       "\n",
       "        SquareFootAreaofFinishedBasement  SquareFootAreaoftheLot  \n",
       "102737                               0.0                  8537.0  \n",
       "76709                                0.0                  9300.0  \n",
       "21378                                0.0                 43560.0  \n",
       "37388                                0.0                 22500.0  \n",
       "49266                                0.0                 10368.0  \n",
       "\n",
       "[5 rows x 32 columns]"
      ]
     },
     "execution_count": 4,
     "metadata": {},
     "output_type": "execute_result"
    }
   ],
   "source": [
    "#choosing 5000 readings randomly as to facilitate data processesing so that it will not take too much time to train\n",
    "data=data.sample(n=5000,random_state=1)\n",
    "data.head()"
   ]
  },
  {
   "cell_type": "code",
   "execution_count": 5,
   "metadata": {},
   "outputs": [
    {
     "name": "stdout",
     "output_type": "stream",
     "text": [
      "<class 'pandas.core.frame.DataFrame'>\n",
      "Int64Index: 5000 entries, 102737 to 149178\n",
      "Data columns (total 32 columns):\n",
      " #   Column                            Non-Null Count  Dtype  \n",
      "---  ------                            --------------  -----  \n",
      " 0   Unnamed: 0                        5000 non-null   int64  \n",
      " 1   Unnamed: 0.1                      5000 non-null   int64  \n",
      " 2   CentralAir-conditioning           5000 non-null   float64\n",
      " 3   Foundation                        5000 non-null   float64\n",
      " 4   Condominium                       5000 non-null   float64\n",
      " 5   Deck                              5000 non-null   float64\n",
      " 6   DesignofHouse                     5000 non-null   float64\n",
      " 7   Division                          5000 non-null   int64  \n",
      " 8   TypeofFinancing                   5000 non-null   float64\n",
      " 9   FinishedBasement                  5000 non-null   float64\n",
      " 10  ParkingFacility                   5000 non-null   float64\n",
      " 11  PrimarySpaceHeatingSystem         5000 non-null   float64\n",
      " 12  MetropolitanArea                  5000 non-null   int64  \n",
      " 13  ConstructionMethod                5000 non-null   float64\n",
      " 14  Patio                             5000 non-null   float64\n",
      " 15  Porch                             5000 non-null   float64\n",
      " 16  Stories                           5000 non-null   float64\n",
      " 17  PrimaryExteriorWallMaterial       5000 non-null   float64\n",
      " 18  SecondaryExteriorWallMaterial     5000 non-null   float64\n",
      " 19  SecondaryExteriorWallMaterial.1   5000 non-null   float64\n",
      " 20  Bedrooms                          5000 non-null   float64\n",
      " 21  Fireplace                         5000 non-null   float64\n",
      " 22  FullBathrooms                     5000 non-null   float64\n",
      " 23  HalfBathrooms                     5000 non-null   float64\n",
      " 24  SaleDate                          5000 non-null   int64  \n",
      " 25  Weight                            5000 non-null   int64  \n",
      " 26  PrimarySpaceHeatingFuel           5000 non-null   float64\n",
      " 27  SalesPrice                        5000 non-null   float64\n",
      " 28  SquareFootAreaofHouse             5000 non-null   float64\n",
      " 29  LotValue                          5000 non-null   float64\n",
      " 30  SquareFootAreaofFinishedBasement  5000 non-null   float64\n",
      " 31  SquareFootAreaoftheLot            5000 non-null   float64\n",
      "dtypes: float64(26), int64(6)\n",
      "memory usage: 1.3 MB\n"
     ]
    }
   ],
   "source": [
    "data.info()"
   ]
  },
  {
   "cell_type": "code",
   "execution_count": 6,
   "metadata": {},
   "outputs": [],
   "source": [
    "#dropping unecessary variables\n",
    "data=data.iloc[:,2:]"
   ]
  },
  {
   "cell_type": "markdown",
   "metadata": {},
   "source": [
    "# Data Preprocessing"
   ]
  },
  {
   "cell_type": "markdown",
   "metadata": {},
   "source": [
    "## Feature Selection based on Correlation"
   ]
  },
  {
   "cell_type": "code",
   "execution_count": 7,
   "metadata": {},
   "outputs": [],
   "source": [
    "#dropping the response variable: SalesPrice so that to include only the independent variables\n",
    "data_features=data.drop(['SalesPrice'],axis=1)"
   ]
  },
  {
   "cell_type": "code",
   "execution_count": 8,
   "metadata": {},
   "outputs": [
    {
     "data": {
      "image/png": "[encoded data removed]",
      "text/plain": [
       "<Figure size 1440x1440 with 2 Axes>"
      ]
     },
     "metadata": {
      "needs_background": "light"
     },
     "output_type": "display_data"
    }
   ],
   "source": [
    "#Heat Map Showing correlations among the features\n",
    "corr = data_features.corr().round(2)\n",
    "f, ax = plt.subplots(figsize =(20, 20)) \n",
    "mask = np.zeros_like(corr)\n",
    "mask[np.triu_indices_from(mask)] = True\n",
    "sns.heatmap(corr, cmap='bwr', mask=mask, annot=True,square=True, linewidths = 0.1,vmin=-1, vmax=1)\n",
    "plt.title('Correlation Matrix Features Only')\n",
    "bottom, top = ax.get_ylim()\n",
    "ax.set_ylim(bottom + 0.5, top - 0.5)\n",
    "plt.show()"
   ]
  },
  {
   "cell_type": "markdown",
   "metadata": {},
   "source": [
    "Removing highly correlated features (with an absolute correlation greater than 0.6)\n",
    "\n",
    "<u>The threshold of 0.6 is recommended by:</u> Reddy, C., Balasubramanyam, P., & Subbarayudu, M. (2013). An effective approach to resolve multicollinearity in agriculture data. International journal of research in electronics and computer engineering, 1(1), 27-30."
   ]
  },
  {
   "cell_type": "code",
   "execution_count": 9,
   "metadata": {},
   "outputs": [],
   "source": [
    "#removing highly correlated features\n",
    "columns = np.full((corr.shape[0],), True, dtype=bool)\n",
    "for i in range(corr.shape[0]):\n",
    "    for j in range(i+1, corr.shape[0]):\n",
    "        if abs(corr.iloc[i,j]) >= 0.6:\n",
    "            if columns[j]:\n",
    "                columns[j] = False"
   ]
  },
  {
   "cell_type": "code",
   "execution_count": 10,
   "metadata": {},
   "outputs": [
    {
     "data": {
      "text/plain": [
       "Index(['FinishedBasement', 'SecondaryExteriorWallMaterial.1',\n",
       "       'PrimarySpaceHeatingFuel', 'SquareFootAreaofHouse'],\n",
       "      dtype='object')"
      ]
     },
     "execution_count": 10,
     "metadata": {},
     "output_type": "execute_result"
    }
   ],
   "source": [
    "#removed features\n",
    "removed_columns = data_features.columns[[not columns[i] for i in range(len(columns))]]\n",
    "removed_columns"
   ]
  },
  {
   "cell_type": "code",
   "execution_count": 11,
   "metadata": {},
   "outputs": [
    {
     "data": {
      "text/plain": [
       "Index(['CentralAir-conditioning', 'Foundation', 'Condominium', 'Deck',\n",
       "       'DesignofHouse', 'Division', 'TypeofFinancing', 'ParkingFacility',\n",
       "       'PrimarySpaceHeatingSystem', 'MetropolitanArea', 'ConstructionMethod',\n",
       "       'Patio', 'Porch', 'Stories', 'PrimaryExteriorWallMaterial',\n",
       "       'SecondaryExteriorWallMaterial', 'Bedrooms', 'Fireplace',\n",
       "       'FullBathrooms', 'HalfBathrooms', 'SaleDate', 'Weight', 'LotValue',\n",
       "       'SquareFootAreaofFinishedBasement', 'SquareFootAreaoftheLot'],\n",
       "      dtype='object')"
      ]
     },
     "execution_count": 11,
     "metadata": {},
     "output_type": "execute_result"
    }
   ],
   "source": [
    "#selected features\n",
    "selected_columns = data_features.columns[columns]\n",
    "selected_columns"
   ]
  },
  {
   "cell_type": "code",
   "execution_count": 12,
   "metadata": {},
   "outputs": [],
   "source": [
    "#concatinating the data\n",
    "data=pd.concat([data['SalesPrice'],data_features[selected_columns]],axis=1)"
   ]
  },
  {
   "cell_type": "code",
   "execution_count": 13,
   "metadata": {},
   "outputs": [
    {
     "name": "stdout",
     "output_type": "stream",
     "text": [
      "<class 'pandas.core.frame.DataFrame'>\n",
      "Int64Index: 5000 entries, 102737 to 149178\n",
      "Data columns (total 26 columns):\n",
      " #   Column                            Non-Null Count  Dtype  \n",
      "---  ------                            --------------  -----  \n",
      " 0   SalesPrice                        5000 non-null   float64\n",
      " 1   CentralAir-conditioning           5000 non-null   float64\n",
      " 2   Foundation                        5000 non-null   float64\n",
      " 3   Condominium                       5000 non-null   float64\n",
      " 4   Deck                              5000 non-null   float64\n",
      " 5   DesignofHouse                     5000 non-null   float64\n",
      " 6   Division                          5000 non-null   int64  \n",
      " 7   TypeofFinancing                   5000 non-null   float64\n",
      " 8   ParkingFacility                   5000 non-null   float64\n",
      " 9   PrimarySpaceHeatingSystem         5000 non-null   float64\n",
      " 10  MetropolitanArea                  5000 non-null   int64  \n",
      " 11  ConstructionMethod                5000 non-null   float64\n",
      " 12  Patio                             5000 non-null   float64\n",
      " 13  Porch                             5000 non-null   float64\n",
      " 14  Stories                           5000 non-null   float64\n",
      " 15  PrimaryExteriorWallMaterial       5000 non-null   float64\n",
      " 16  SecondaryExteriorWallMaterial     5000 non-null   float64\n",
      " 17  Bedrooms                          5000 non-null   float64\n",
      " 18  Fireplace                         5000 non-null   float64\n",
      " 19  FullBathrooms                     5000 non-null   float64\n",
      " 20  HalfBathrooms                     5000 non-null   float64\n",
      " 21  SaleDate                          5000 non-null   int64  \n",
      " 22  Weight                            5000 non-null   int64  \n",
      " 23  LotValue                          5000 non-null   float64\n",
      " 24  SquareFootAreaofFinishedBasement  5000 non-null   float64\n",
      " 25  SquareFootAreaoftheLot            5000 non-null   float64\n",
      "dtypes: float64(22), int64(4)\n",
      "memory usage: 1.0 MB\n"
     ]
    }
   ],
   "source": [
    "data.info()"
   ]
  },
  {
   "cell_type": "markdown",
   "metadata": {},
   "source": [
    "## One Hot Encoding Method"
   ]
  },
  {
   "cell_type": "markdown",
   "metadata": {},
   "source": [
    "The categorical/string columns cannot be directly used as input for most algorithms. We used one-hot encoding method for these categorical variables with more than two categories."
   ]
  },
  {
   "cell_type": "code",
   "execution_count": 14,
   "metadata": {},
   "outputs": [
    {
     "name": "stdout",
     "output_type": "stream",
     "text": [
      "<class 'pandas.core.frame.DataFrame'>\n",
      "Int64Index: 5000 entries, 102737 to 149178\n",
      "Data columns (total 67 columns):\n",
      " #   Column                            Non-Null Count  Dtype  \n",
      "---  ------                            --------------  -----  \n",
      " 0   SalesPrice                        5000 non-null   float64\n",
      " 1   CentralAir-conditioning           5000 non-null   float64\n",
      " 2   Condominium                       5000 non-null   float64\n",
      " 3   Deck                              5000 non-null   float64\n",
      " 4   DesignofHouse                     5000 non-null   float64\n",
      " 5   MetropolitanArea                  5000 non-null   int64  \n",
      " 6   Patio                             5000 non-null   float64\n",
      " 7   Porch                             5000 non-null   float64\n",
      " 8   SecondaryExteriorWallMaterial     5000 non-null   float64\n",
      " 9   SaleDate                          5000 non-null   int64  \n",
      " 10  Weight                            5000 non-null   int64  \n",
      " 11  LotValue                          5000 non-null   float64\n",
      " 12  SquareFootAreaofFinishedBasement  5000 non-null   float64\n",
      " 13  SquareFootAreaoftheLot            5000 non-null   float64\n",
      " 14  Foundation_1.0                    5000 non-null   uint8  \n",
      " 15  Foundation_2.0                    5000 non-null   uint8  \n",
      " 16  Foundation_3.0                    5000 non-null   uint8  \n",
      " 17  Foundation_4.0                    5000 non-null   uint8  \n",
      " 18  Division_1                        5000 non-null   uint8  \n",
      " 19  Division_2                        5000 non-null   uint8  \n",
      " 20  Division_3                        5000 non-null   uint8  \n",
      " 21  Division_4                        5000 non-null   uint8  \n",
      " 22  Division_5                        5000 non-null   uint8  \n",
      " 23  Division_6                        5000 non-null   uint8  \n",
      " 24  Division_7                        5000 non-null   uint8  \n",
      " 25  Division_8                        5000 non-null   uint8  \n",
      " 26  Division_9                        5000 non-null   uint8  \n",
      " 27  TypeofFinancing_1.0               5000 non-null   uint8  \n",
      " 28  TypeofFinancing_2.0               5000 non-null   uint8  \n",
      " 29  TypeofFinancing_3.0               5000 non-null   uint8  \n",
      " 30  TypeofFinancing_4.0               5000 non-null   uint8  \n",
      " 31  TypeofFinancing_5.0               5000 non-null   uint8  \n",
      " 32  ParkingFacility_1.0               5000 non-null   uint8  \n",
      " 33  ParkingFacility_2.0               5000 non-null   uint8  \n",
      " 34  ParkingFacility_3.0               5000 non-null   uint8  \n",
      " 35  ParkingFacility_4.0               5000 non-null   uint8  \n",
      " 36  PrimarySpaceHeatingSystem_1.0     5000 non-null   uint8  \n",
      " 37  PrimarySpaceHeatingSystem_2.0     5000 non-null   uint8  \n",
      " 38  PrimarySpaceHeatingSystem_3.0     5000 non-null   uint8  \n",
      " 39  PrimarySpaceHeatingSystem_4.0     5000 non-null   uint8  \n",
      " 40  ConstructionMethod_1.0            5000 non-null   uint8  \n",
      " 41  ConstructionMethod_2.0            5000 non-null   uint8  \n",
      " 42  ConstructionMethod_3.0            5000 non-null   uint8  \n",
      " 43  Stories_1.0                       5000 non-null   uint8  \n",
      " 44  Stories_2.0                       5000 non-null   uint8  \n",
      " 45  PrimaryExteriorWallMaterial_1.0   5000 non-null   uint8  \n",
      " 46  PrimaryExteriorWallMaterial_2.0   5000 non-null   uint8  \n",
      " 47  PrimaryExteriorWallMaterial_3.0   5000 non-null   uint8  \n",
      " 48  PrimaryExteriorWallMaterial_4.0   5000 non-null   uint8  \n",
      " 49  PrimaryExteriorWallMaterial_5.0   5000 non-null   uint8  \n",
      " 50  PrimaryExteriorWallMaterial_6.0   5000 non-null   uint8  \n",
      " 51  PrimaryExteriorWallMaterial_7.0   5000 non-null   uint8  \n",
      " 52  PrimaryExteriorWallMaterial_8.0   5000 non-null   uint8  \n",
      " 53  Bedrooms_2.0                      5000 non-null   uint8  \n",
      " 54  Bedrooms_3.0                      5000 non-null   uint8  \n",
      " 55  Bedrooms_4.0                      5000 non-null   uint8  \n",
      " 56  Bedrooms_5.0                      5000 non-null   uint8  \n",
      " 57  Fireplace_0.0                     5000 non-null   uint8  \n",
      " 58  Fireplace_1.0                     5000 non-null   uint8  \n",
      " 59  Fireplace_2.0                     5000 non-null   uint8  \n",
      " 60  FullBathrooms_1.0                 5000 non-null   uint8  \n",
      " 61  FullBathrooms_2.0                 5000 non-null   uint8  \n",
      " 62  FullBathrooms_3.0                 5000 non-null   uint8  \n",
      " 63  FullBathrooms_4.0                 5000 non-null   uint8  \n",
      " 64  HalfBathrooms_0.0                 5000 non-null   uint8  \n",
      " 65  HalfBathrooms_1.0                 5000 non-null   uint8  \n",
      " 66  HalfBathrooms_2.0                 5000 non-null   uint8  \n",
      "dtypes: float64(11), int64(3), uint8(53)\n",
      "memory usage: 844.7 KB\n"
     ]
    }
   ],
   "source": [
    "data = pd.get_dummies(data=data, \n",
    "                   columns=['Foundation','Division', 'TypeofFinancing', 'ParkingFacility',\n",
    "                            'PrimarySpaceHeatingSystem', 'ConstructionMethod', \n",
    "                            'Stories', 'PrimaryExteriorWallMaterial', 'Bedrooms', \n",
    "                            'Fireplace','FullBathrooms', 'HalfBathrooms'],\n",
    "                   prefix =['Foundation','Division', 'TypeofFinancing', 'ParkingFacility',\n",
    "                            'PrimarySpaceHeatingSystem', 'ConstructionMethod', \n",
    "                            'Stories', 'PrimaryExteriorWallMaterial', 'Bedrooms', \n",
    "                            'Fireplace','FullBathrooms', 'HalfBathrooms'])\n",
    "data.info()"
   ]
  },
  {
   "cell_type": "markdown",
   "metadata": {},
   "source": [
    "## Data Partition"
   ]
  },
  {
   "cell_type": "code",
   "execution_count": 15,
   "metadata": {},
   "outputs": [
    {
     "data": {
      "text/html": [
       "<div>\n",
       "<style scoped>\n",
       "    .dataframe tbody tr th:only-of-type {\n",
       "        vertical-align: middle;\n",
       "    }\n",
       "\n",
       "    .dataframe tbody tr th {\n",
       "        vertical-align: top;\n",
       "    }\n",
       "\n",
       "    .dataframe thead th {\n",
       "        text-align: right;\n",
       "    }\n",
       "</style>\n",
       "<table border=\"1\" class=\"dataframe\">\n",
       "  <thead>\n",
       "    <tr style=\"text-align: right;\">\n",
       "      <th></th>\n",
       "      <th>CentralAir-conditioning</th>\n",
       "      <th>Condominium</th>\n",
       "      <th>Deck</th>\n",
       "      <th>DesignofHouse</th>\n",
       "      <th>MetropolitanArea</th>\n",
       "      <th>Patio</th>\n",
       "      <th>Porch</th>\n",
       "      <th>SecondaryExteriorWallMaterial</th>\n",
       "      <th>SaleDate</th>\n",
       "      <th>Weight</th>\n",
       "      <th>...</th>\n",
       "      <th>Fireplace_0.0</th>\n",
       "      <th>Fireplace_1.0</th>\n",
       "      <th>Fireplace_2.0</th>\n",
       "      <th>FullBathrooms_1.0</th>\n",
       "      <th>FullBathrooms_2.0</th>\n",
       "      <th>FullBathrooms_3.0</th>\n",
       "      <th>FullBathrooms_4.0</th>\n",
       "      <th>HalfBathrooms_0.0</th>\n",
       "      <th>HalfBathrooms_1.0</th>\n",
       "      <th>HalfBathrooms_2.0</th>\n",
       "    </tr>\n",
       "  </thead>\n",
       "  <tbody>\n",
       "    <tr>\n",
       "      <th>102737</th>\n",
       "      <td>1.0</td>\n",
       "      <td>2.0</td>\n",
       "      <td>2.0</td>\n",
       "      <td>1.0</td>\n",
       "      <td>1</td>\n",
       "      <td>1.0</td>\n",
       "      <td>2.0</td>\n",
       "      <td>7.0</td>\n",
       "      <td>200601</td>\n",
       "      <td>69</td>\n",
       "      <td>...</td>\n",
       "      <td>0</td>\n",
       "      <td>0</td>\n",
       "      <td>1</td>\n",
       "      <td>0</td>\n",
       "      <td>0</td>\n",
       "      <td>1</td>\n",
       "      <td>0</td>\n",
       "      <td>0</td>\n",
       "      <td>1</td>\n",
       "      <td>0</td>\n",
       "    </tr>\n",
       "    <tr>\n",
       "      <th>76709</th>\n",
       "      <td>1.0</td>\n",
       "      <td>2.0</td>\n",
       "      <td>2.0</td>\n",
       "      <td>1.0</td>\n",
       "      <td>1</td>\n",
       "      <td>1.0</td>\n",
       "      <td>2.0</td>\n",
       "      <td>0.0</td>\n",
       "      <td>200408</td>\n",
       "      <td>97</td>\n",
       "      <td>...</td>\n",
       "      <td>0</td>\n",
       "      <td>1</td>\n",
       "      <td>0</td>\n",
       "      <td>0</td>\n",
       "      <td>0</td>\n",
       "      <td>1</td>\n",
       "      <td>0</td>\n",
       "      <td>1</td>\n",
       "      <td>0</td>\n",
       "      <td>0</td>\n",
       "    </tr>\n",
       "    <tr>\n",
       "      <th>21378</th>\n",
       "      <td>1.0</td>\n",
       "      <td>2.0</td>\n",
       "      <td>1.0</td>\n",
       "      <td>1.0</td>\n",
       "      <td>2</td>\n",
       "      <td>2.0</td>\n",
       "      <td>1.0</td>\n",
       "      <td>0.0</td>\n",
       "      <td>200008</td>\n",
       "      <td>97</td>\n",
       "      <td>...</td>\n",
       "      <td>1</td>\n",
       "      <td>0</td>\n",
       "      <td>0</td>\n",
       "      <td>0</td>\n",
       "      <td>1</td>\n",
       "      <td>0</td>\n",
       "      <td>0</td>\n",
       "      <td>1</td>\n",
       "      <td>0</td>\n",
       "      <td>0</td>\n",
       "    </tr>\n",
       "    <tr>\n",
       "      <th>37388</th>\n",
       "      <td>1.0</td>\n",
       "      <td>2.0</td>\n",
       "      <td>2.0</td>\n",
       "      <td>1.0</td>\n",
       "      <td>2</td>\n",
       "      <td>1.0</td>\n",
       "      <td>1.0</td>\n",
       "      <td>5.0</td>\n",
       "      <td>200112</td>\n",
       "      <td>44</td>\n",
       "      <td>...</td>\n",
       "      <td>0</td>\n",
       "      <td>1</td>\n",
       "      <td>0</td>\n",
       "      <td>0</td>\n",
       "      <td>1</td>\n",
       "      <td>0</td>\n",
       "      <td>0</td>\n",
       "      <td>1</td>\n",
       "      <td>0</td>\n",
       "      <td>0</td>\n",
       "    </tr>\n",
       "    <tr>\n",
       "      <th>49266</th>\n",
       "      <td>1.0</td>\n",
       "      <td>2.0</td>\n",
       "      <td>2.0</td>\n",
       "      <td>1.0</td>\n",
       "      <td>1</td>\n",
       "      <td>1.0</td>\n",
       "      <td>2.0</td>\n",
       "      <td>8.0</td>\n",
       "      <td>200207</td>\n",
       "      <td>63</td>\n",
       "      <td>...</td>\n",
       "      <td>0</td>\n",
       "      <td>1</td>\n",
       "      <td>0</td>\n",
       "      <td>0</td>\n",
       "      <td>1</td>\n",
       "      <td>0</td>\n",
       "      <td>0</td>\n",
       "      <td>0</td>\n",
       "      <td>1</td>\n",
       "      <td>0</td>\n",
       "    </tr>\n",
       "  </tbody>\n",
       "</table>\n",
       "<p>5 rows × 66 columns</p>\n",
       "</div>"
      ],
      "text/plain": [
       "        CentralAir-conditioning  Condominium  Deck  DesignofHouse  \\\n",
       "102737                      1.0          2.0   2.0            1.0   \n",
       "76709                       1.0          2.0   2.0            1.0   \n",
       "21378                       1.0          2.0   1.0            1.0   \n",
       "37388                       1.0          2.0   2.0            1.0   \n",
       "49266                       1.0          2.0   2.0            1.0   \n",
       "\n",
       "        MetropolitanArea  Patio  Porch  SecondaryExteriorWallMaterial  \\\n",
       "102737                 1    1.0    2.0                            7.0   \n",
       "76709                  1    1.0    2.0                            0.0   \n",
       "21378                  2    2.0    1.0                            0.0   \n",
       "37388                  2    1.0    1.0                            5.0   \n",
       "49266                  1    1.0    2.0                            8.0   \n",
       "\n",
       "        SaleDate  Weight  ...  Fireplace_0.0  Fireplace_1.0  Fireplace_2.0  \\\n",
       "102737    200601      69  ...              0              0              1   \n",
       "76709     200408      97  ...              0              1              0   \n",
       "21378     200008      97  ...              1              0              0   \n",
       "37388     200112      44  ...              0              1              0   \n",
       "49266     200207      63  ...              0              1              0   \n",
       "\n",
       "        FullBathrooms_1.0  FullBathrooms_2.0  FullBathrooms_3.0  \\\n",
       "102737                  0                  0                  1   \n",
       "76709                   0                  0                  1   \n",
       "21378                   0                  1                  0   \n",
       "37388                   0                  1                  0   \n",
       "49266                   0                  1                  0   \n",
       "\n",
       "        FullBathrooms_4.0  HalfBathrooms_0.0  HalfBathrooms_1.0  \\\n",
       "102737                  0                  0                  1   \n",
       "76709                   0                  1                  0   \n",
       "21378                   0                  1                  0   \n",
       "37388                   0                  1                  0   \n",
       "49266                   0                  0                  1   \n",
       "\n",
       "        HalfBathrooms_2.0  \n",
       "102737                  0  \n",
       "76709                   0  \n",
       "21378                   0  \n",
       "37388                   0  \n",
       "49266                   0  \n",
       "\n",
       "[5 rows x 66 columns]"
      ]
     },
     "execution_count": 15,
     "metadata": {},
     "output_type": "execute_result"
    }
   ],
   "source": [
    "X=data.drop('SalesPrice',axis=1)\n",
    "X.head()"
   ]
  },
  {
   "cell_type": "code",
   "execution_count": 16,
   "metadata": {},
   "outputs": [],
   "source": [
    "y=data['SalesPrice']"
   ]
  },
  {
   "cell_type": "code",
   "execution_count": 17,
   "metadata": {},
   "outputs": [],
   "source": [
    "from sklearn.model_selection import train_test_split\n",
    "# 20-80% simple split\n",
    "# To make the result reproducible, set the random_state\n",
    "train_y,test_y,train_X,test_X = train_test_split(y, X,\n",
    "                                                 test_size=0.2,\n",
    "                                                 random_state=123)"
   ]
  },
  {
   "cell_type": "code",
   "execution_count": 18,
   "metadata": {},
   "outputs": [
    {
     "data": {
      "text/plain": [
       "(4000, 66)"
      ]
     },
     "execution_count": 18,
     "metadata": {},
     "output_type": "execute_result"
    }
   ],
   "source": [
    "train_X.shape"
   ]
  },
  {
   "cell_type": "code",
   "execution_count": 19,
   "metadata": {},
   "outputs": [
    {
     "data": {
      "text/plain": [
       "(4000,)"
      ]
     },
     "execution_count": 19,
     "metadata": {},
     "output_type": "execute_result"
    }
   ],
   "source": [
    "train_y.shape"
   ]
  },
  {
   "cell_type": "code",
   "execution_count": 20,
   "metadata": {},
   "outputs": [
    {
     "data": {
      "text/plain": [
       "(1000,)"
      ]
     },
     "execution_count": 20,
     "metadata": {},
     "output_type": "execute_result"
    }
   ],
   "source": [
    "test_y.shape"
   ]
  },
  {
   "cell_type": "code",
   "execution_count": 21,
   "metadata": {},
   "outputs": [
    {
     "data": {
      "text/plain": [
       "(1000, 66)"
      ]
     },
     "execution_count": 21,
     "metadata": {},
     "output_type": "execute_result"
    }
   ],
   "source": [
    "test_X.shape"
   ]
  },
  {
   "cell_type": "markdown",
   "metadata": {},
   "source": [
    "## Normalize Data"
   ]
  },
  {
   "cell_type": "code",
   "execution_count": 22,
   "metadata": {},
   "outputs": [],
   "source": [
    "from sklearn import preprocessing\n",
    "\n",
    "# Create a scaler to do the transformation\n",
    "scaler = preprocessing.MinMaxScaler().fit(train_X)"
   ]
  },
  {
   "cell_type": "code",
   "execution_count": 23,
   "metadata": {},
   "outputs": [
    {
     "data": {
      "text/html": [
       "<div>\n",
       "<style scoped>\n",
       "    .dataframe tbody tr th:only-of-type {\n",
       "        vertical-align: middle;\n",
       "    }\n",
       "\n",
       "    .dataframe tbody tr th {\n",
       "        vertical-align: top;\n",
       "    }\n",
       "\n",
       "    .dataframe thead th {\n",
       "        text-align: right;\n",
       "    }\n",
       "</style>\n",
       "<table border=\"1\" class=\"dataframe\">\n",
       "  <thead>\n",
       "    <tr style=\"text-align: right;\">\n",
       "      <th></th>\n",
       "      <th>count</th>\n",
       "      <th>mean</th>\n",
       "      <th>std</th>\n",
       "      <th>min</th>\n",
       "      <th>25%</th>\n",
       "      <th>50%</th>\n",
       "      <th>75%</th>\n",
       "      <th>max</th>\n",
       "    </tr>\n",
       "  </thead>\n",
       "  <tbody>\n",
       "    <tr>\n",
       "      <th>CentralAir-conditioning</th>\n",
       "      <td>4000.0</td>\n",
       "      <td>0.08225</td>\n",
       "      <td>0.274780</td>\n",
       "      <td>0.0</td>\n",
       "      <td>0.0</td>\n",
       "      <td>0.0</td>\n",
       "      <td>0.0</td>\n",
       "      <td>1.0</td>\n",
       "    </tr>\n",
       "    <tr>\n",
       "      <th>Condominium</th>\n",
       "      <td>4000.0</td>\n",
       "      <td>0.97450</td>\n",
       "      <td>0.157658</td>\n",
       "      <td>0.0</td>\n",
       "      <td>1.0</td>\n",
       "      <td>1.0</td>\n",
       "      <td>1.0</td>\n",
       "      <td>1.0</td>\n",
       "    </tr>\n",
       "    <tr>\n",
       "      <th>Deck</th>\n",
       "      <td>4000.0</td>\n",
       "      <td>0.75525</td>\n",
       "      <td>0.429993</td>\n",
       "      <td>0.0</td>\n",
       "      <td>1.0</td>\n",
       "      <td>1.0</td>\n",
       "      <td>1.0</td>\n",
       "      <td>1.0</td>\n",
       "    </tr>\n",
       "    <tr>\n",
       "      <th>DesignofHouse</th>\n",
       "      <td>4000.0</td>\n",
       "      <td>0.06325</td>\n",
       "      <td>0.243443</td>\n",
       "      <td>0.0</td>\n",
       "      <td>0.0</td>\n",
       "      <td>0.0</td>\n",
       "      <td>0.0</td>\n",
       "      <td>1.0</td>\n",
       "    </tr>\n",
       "    <tr>\n",
       "      <th>MetropolitanArea</th>\n",
       "      <td>4000.0</td>\n",
       "      <td>0.07350</td>\n",
       "      <td>0.260988</td>\n",
       "      <td>0.0</td>\n",
       "      <td>0.0</td>\n",
       "      <td>0.0</td>\n",
       "      <td>0.0</td>\n",
       "      <td>1.0</td>\n",
       "    </tr>\n",
       "    <tr>\n",
       "      <th>...</th>\n",
       "      <td>...</td>\n",
       "      <td>...</td>\n",
       "      <td>...</td>\n",
       "      <td>...</td>\n",
       "      <td>...</td>\n",
       "      <td>...</td>\n",
       "      <td>...</td>\n",
       "      <td>...</td>\n",
       "    </tr>\n",
       "    <tr>\n",
       "      <th>FullBathrooms_3.0</th>\n",
       "      <td>4000.0</td>\n",
       "      <td>0.22675</td>\n",
       "      <td>0.418782</td>\n",
       "      <td>0.0</td>\n",
       "      <td>0.0</td>\n",
       "      <td>0.0</td>\n",
       "      <td>0.0</td>\n",
       "      <td>1.0</td>\n",
       "    </tr>\n",
       "    <tr>\n",
       "      <th>FullBathrooms_4.0</th>\n",
       "      <td>4000.0</td>\n",
       "      <td>0.04825</td>\n",
       "      <td>0.214321</td>\n",
       "      <td>0.0</td>\n",
       "      <td>0.0</td>\n",
       "      <td>0.0</td>\n",
       "      <td>0.0</td>\n",
       "      <td>1.0</td>\n",
       "    </tr>\n",
       "    <tr>\n",
       "      <th>HalfBathrooms_0.0</th>\n",
       "      <td>4000.0</td>\n",
       "      <td>0.49375</td>\n",
       "      <td>0.500023</td>\n",
       "      <td>0.0</td>\n",
       "      <td>0.0</td>\n",
       "      <td>0.0</td>\n",
       "      <td>1.0</td>\n",
       "      <td>1.0</td>\n",
       "    </tr>\n",
       "    <tr>\n",
       "      <th>HalfBathrooms_1.0</th>\n",
       "      <td>4000.0</td>\n",
       "      <td>0.49300</td>\n",
       "      <td>0.500014</td>\n",
       "      <td>0.0</td>\n",
       "      <td>0.0</td>\n",
       "      <td>0.0</td>\n",
       "      <td>1.0</td>\n",
       "      <td>1.0</td>\n",
       "    </tr>\n",
       "    <tr>\n",
       "      <th>HalfBathrooms_2.0</th>\n",
       "      <td>4000.0</td>\n",
       "      <td>0.01325</td>\n",
       "      <td>0.114358</td>\n",
       "      <td>0.0</td>\n",
       "      <td>0.0</td>\n",
       "      <td>0.0</td>\n",
       "      <td>0.0</td>\n",
       "      <td>1.0</td>\n",
       "    </tr>\n",
       "  </tbody>\n",
       "</table>\n",
       "<p>66 rows × 8 columns</p>\n",
       "</div>"
      ],
      "text/plain": [
       "                          count     mean       std  min  25%  50%  75%  max\n",
       "CentralAir-conditioning  4000.0  0.08225  0.274780  0.0  0.0  0.0  0.0  1.0\n",
       "Condominium              4000.0  0.97450  0.157658  0.0  1.0  1.0  1.0  1.0\n",
       "Deck                     4000.0  0.75525  0.429993  0.0  1.0  1.0  1.0  1.0\n",
       "DesignofHouse            4000.0  0.06325  0.243443  0.0  0.0  0.0  0.0  1.0\n",
       "MetropolitanArea         4000.0  0.07350  0.260988  0.0  0.0  0.0  0.0  1.0\n",
       "...                         ...      ...       ...  ...  ...  ...  ...  ...\n",
       "FullBathrooms_3.0        4000.0  0.22675  0.418782  0.0  0.0  0.0  0.0  1.0\n",
       "FullBathrooms_4.0        4000.0  0.04825  0.214321  0.0  0.0  0.0  0.0  1.0\n",
       "HalfBathrooms_0.0        4000.0  0.49375  0.500023  0.0  0.0  0.0  1.0  1.0\n",
       "HalfBathrooms_1.0        4000.0  0.49300  0.500014  0.0  0.0  0.0  1.0  1.0\n",
       "HalfBathrooms_2.0        4000.0  0.01325  0.114358  0.0  0.0  0.0  0.0  1.0\n",
       "\n",
       "[66 rows x 8 columns]"
      ]
     },
     "execution_count": 23,
     "metadata": {},
     "output_type": "execute_result"
    }
   ],
   "source": [
    "# Transform training X\n",
    "train_X_scale = scaler.transform(train_X)\n",
    "train_X_scale = pd.DataFrame(train_X_scale)\n",
    "train_X_scale.columns = train_X.columns\n",
    "\n",
    "train_X_scale.describe().transpose()"
   ]
  },
  {
   "cell_type": "code",
   "execution_count": 24,
   "metadata": {},
   "outputs": [
    {
     "data": {
      "text/html": [
       "<div>\n",
       "<style scoped>\n",
       "    .dataframe tbody tr th:only-of-type {\n",
       "        vertical-align: middle;\n",
       "    }\n",
       "\n",
       "    .dataframe tbody tr th {\n",
       "        vertical-align: top;\n",
       "    }\n",
       "\n",
       "    .dataframe thead th {\n",
       "        text-align: right;\n",
       "    }\n",
       "</style>\n",
       "<table border=\"1\" class=\"dataframe\">\n",
       "  <thead>\n",
       "    <tr style=\"text-align: right;\">\n",
       "      <th></th>\n",
       "      <th>count</th>\n",
       "      <th>mean</th>\n",
       "      <th>std</th>\n",
       "      <th>min</th>\n",
       "      <th>25%</th>\n",
       "      <th>50%</th>\n",
       "      <th>75%</th>\n",
       "      <th>max</th>\n",
       "    </tr>\n",
       "  </thead>\n",
       "  <tbody>\n",
       "    <tr>\n",
       "      <th>CentralAir-conditioning</th>\n",
       "      <td>1000.0</td>\n",
       "      <td>0.092</td>\n",
       "      <td>0.289171</td>\n",
       "      <td>0.0</td>\n",
       "      <td>0.0</td>\n",
       "      <td>0.0</td>\n",
       "      <td>0.0</td>\n",
       "      <td>1.0</td>\n",
       "    </tr>\n",
       "    <tr>\n",
       "      <th>Condominium</th>\n",
       "      <td>1000.0</td>\n",
       "      <td>0.981</td>\n",
       "      <td>0.136593</td>\n",
       "      <td>0.0</td>\n",
       "      <td>1.0</td>\n",
       "      <td>1.0</td>\n",
       "      <td>1.0</td>\n",
       "      <td>1.0</td>\n",
       "    </tr>\n",
       "    <tr>\n",
       "      <th>Deck</th>\n",
       "      <td>1000.0</td>\n",
       "      <td>0.736</td>\n",
       "      <td>0.441020</td>\n",
       "      <td>0.0</td>\n",
       "      <td>0.0</td>\n",
       "      <td>1.0</td>\n",
       "      <td>1.0</td>\n",
       "      <td>1.0</td>\n",
       "    </tr>\n",
       "    <tr>\n",
       "      <th>DesignofHouse</th>\n",
       "      <td>1000.0</td>\n",
       "      <td>0.064</td>\n",
       "      <td>0.244875</td>\n",
       "      <td>0.0</td>\n",
       "      <td>0.0</td>\n",
       "      <td>0.0</td>\n",
       "      <td>0.0</td>\n",
       "      <td>1.0</td>\n",
       "    </tr>\n",
       "    <tr>\n",
       "      <th>MetropolitanArea</th>\n",
       "      <td>1000.0</td>\n",
       "      <td>0.088</td>\n",
       "      <td>0.283437</td>\n",
       "      <td>0.0</td>\n",
       "      <td>0.0</td>\n",
       "      <td>0.0</td>\n",
       "      <td>0.0</td>\n",
       "      <td>1.0</td>\n",
       "    </tr>\n",
       "    <tr>\n",
       "      <th>...</th>\n",
       "      <td>...</td>\n",
       "      <td>...</td>\n",
       "      <td>...</td>\n",
       "      <td>...</td>\n",
       "      <td>...</td>\n",
       "      <td>...</td>\n",
       "      <td>...</td>\n",
       "      <td>...</td>\n",
       "    </tr>\n",
       "    <tr>\n",
       "      <th>FullBathrooms_3.0</th>\n",
       "      <td>1000.0</td>\n",
       "      <td>0.194</td>\n",
       "      <td>0.395627</td>\n",
       "      <td>0.0</td>\n",
       "      <td>0.0</td>\n",
       "      <td>0.0</td>\n",
       "      <td>0.0</td>\n",
       "      <td>1.0</td>\n",
       "    </tr>\n",
       "    <tr>\n",
       "      <th>FullBathrooms_4.0</th>\n",
       "      <td>1000.0</td>\n",
       "      <td>0.050</td>\n",
       "      <td>0.218054</td>\n",
       "      <td>0.0</td>\n",
       "      <td>0.0</td>\n",
       "      <td>0.0</td>\n",
       "      <td>0.0</td>\n",
       "      <td>1.0</td>\n",
       "    </tr>\n",
       "    <tr>\n",
       "      <th>HalfBathrooms_0.0</th>\n",
       "      <td>1000.0</td>\n",
       "      <td>0.478</td>\n",
       "      <td>0.499766</td>\n",
       "      <td>0.0</td>\n",
       "      <td>0.0</td>\n",
       "      <td>0.0</td>\n",
       "      <td>1.0</td>\n",
       "      <td>1.0</td>\n",
       "    </tr>\n",
       "    <tr>\n",
       "      <th>HalfBathrooms_1.0</th>\n",
       "      <td>1000.0</td>\n",
       "      <td>0.508</td>\n",
       "      <td>0.500186</td>\n",
       "      <td>0.0</td>\n",
       "      <td>0.0</td>\n",
       "      <td>1.0</td>\n",
       "      <td>1.0</td>\n",
       "      <td>1.0</td>\n",
       "    </tr>\n",
       "    <tr>\n",
       "      <th>HalfBathrooms_2.0</th>\n",
       "      <td>1000.0</td>\n",
       "      <td>0.014</td>\n",
       "      <td>0.117549</td>\n",
       "      <td>0.0</td>\n",
       "      <td>0.0</td>\n",
       "      <td>0.0</td>\n",
       "      <td>0.0</td>\n",
       "      <td>1.0</td>\n",
       "    </tr>\n",
       "  </tbody>\n",
       "</table>\n",
       "<p>66 rows × 8 columns</p>\n",
       "</div>"
      ],
      "text/plain": [
       "                          count   mean       std  min  25%  50%  75%  max\n",
       "CentralAir-conditioning  1000.0  0.092  0.289171  0.0  0.0  0.0  0.0  1.0\n",
       "Condominium              1000.0  0.981  0.136593  0.0  1.0  1.0  1.0  1.0\n",
       "Deck                     1000.0  0.736  0.441020  0.0  0.0  1.0  1.0  1.0\n",
       "DesignofHouse            1000.0  0.064  0.244875  0.0  0.0  0.0  0.0  1.0\n",
       "MetropolitanArea         1000.0  0.088  0.283437  0.0  0.0  0.0  0.0  1.0\n",
       "...                         ...    ...       ...  ...  ...  ...  ...  ...\n",
       "FullBathrooms_3.0        1000.0  0.194  0.395627  0.0  0.0  0.0  0.0  1.0\n",
       "FullBathrooms_4.0        1000.0  0.050  0.218054  0.0  0.0  0.0  0.0  1.0\n",
       "HalfBathrooms_0.0        1000.0  0.478  0.499766  0.0  0.0  0.0  1.0  1.0\n",
       "HalfBathrooms_1.0        1000.0  0.508  0.500186  0.0  0.0  1.0  1.0  1.0\n",
       "HalfBathrooms_2.0        1000.0  0.014  0.117549  0.0  0.0  0.0  0.0  1.0\n",
       "\n",
       "[66 rows x 8 columns]"
      ]
     },
     "execution_count": 24,
     "metadata": {},
     "output_type": "execute_result"
    }
   ],
   "source": [
    "# Transform test X\n",
    "test_X_scale = scaler.transform(test_X)\n",
    "test_X_scale = pd.DataFrame(test_X_scale)\n",
    "test_X_scale.columns = test_X.columns\n",
    "\n",
    "test_X_scale.describe().transpose()"
   ]
  },
  {
   "cell_type": "markdown",
   "metadata": {},
   "source": [
    "# Model 1: KNN Regressor"
   ]
  },
  {
   "cell_type": "markdown",
   "metadata": {},
   "source": [
    "### Model Building"
   ]
  },
  {
   "cell_type": "code",
   "execution_count": 25,
   "metadata": {},
   "outputs": [],
   "source": [
    "from sklearn import neighbors\n",
    "\n",
    "# KNN: K=5, default measure of distance (euclidean)\n",
    "knn5 = neighbors.KNeighborsRegressor(n_neighbors=5, \n",
    "                                      weights='uniform', \n",
    "                                      algorithm='auto')"
   ]
  },
  {
   "cell_type": "code",
   "execution_count": 26,
   "metadata": {},
   "outputs": [
    {
     "data": {
      "text/plain": [
       "KNeighborsRegressor(algorithm='auto', leaf_size=30, metric='minkowski',\n",
       "                    metric_params=None, n_jobs=None, n_neighbors=5, p=2,\n",
       "                    weights='uniform')"
      ]
     },
     "execution_count": 26,
     "metadata": {},
     "output_type": "execute_result"
    }
   ],
   "source": [
    "knn5.fit(train_X_scale, train_y)"
   ]
  },
  {
   "cell_type": "code",
   "execution_count": 27,
   "metadata": {},
   "outputs": [],
   "source": [
    "pred_y_knn5 = knn5.predict(test_X_scale)"
   ]
  },
  {
   "cell_type": "code",
   "execution_count": 28,
   "metadata": {},
   "outputs": [
    {
     "data": {
      "text/plain": [
       "70615.54"
      ]
     },
     "execution_count": 28,
     "metadata": {},
     "output_type": "execute_result"
    }
   ],
   "source": [
    "#Mean Absolute Error\n",
    "metrics.mean_absolute_error(test_y, pred_y_knn5)"
   ]
  },
  {
   "cell_type": "code",
   "execution_count": 29,
   "metadata": {},
   "outputs": [
    {
     "data": {
      "text/plain": [
       "10972395198.8"
      ]
     },
     "execution_count": 29,
     "metadata": {},
     "output_type": "execute_result"
    }
   ],
   "source": [
    "#Mean Squared Error\n",
    "metrics.mean_squared_error(test_y, pred_y_knn5)"
   ]
  },
  {
   "cell_type": "code",
   "execution_count": 30,
   "metadata": {},
   "outputs": [
    {
     "data": {
      "text/plain": [
       "0.5124793431125778"
      ]
     },
     "execution_count": 30,
     "metadata": {},
     "output_type": "execute_result"
    }
   ],
   "source": [
    "#R-squared\n",
    "metrics.r2_score(test_y, pred_y_knn5)"
   ]
  },
  {
   "cell_type": "code",
   "execution_count": 31,
   "metadata": {},
   "outputs": [
    {
     "data": {
      "text/plain": [
       "104749.20142320894"
      ]
     },
     "execution_count": 31,
     "metadata": {},
     "output_type": "execute_result"
    }
   ],
   "source": [
    "#Root Mean Squared Error\n",
    "np.sqrt(metrics.mean_squared_error(test_y, pred_y_knn5))"
   ]
  },
  {
   "cell_type": "code",
   "execution_count": 32,
   "metadata": {},
   "outputs": [
    {
     "data": {
      "text/plain": [
       "0.2761020261931243"
      ]
     },
     "execution_count": 32,
     "metadata": {},
     "output_type": "execute_result"
    }
   ],
   "source": [
    "#Mean Absolute Percentage Error\n",
    "np.mean(np.abs(pred_y_knn5 - test_y)/np.abs(test_y))"
   ]
  },
  {
   "cell_type": "markdown",
   "metadata": {},
   "source": [
    "### Model Tunning"
   ]
  },
  {
   "cell_type": "code",
   "execution_count": 33,
   "metadata": {},
   "outputs": [
    {
     "name": "stdout",
     "output_type": "stream",
     "text": [
      "MAE is  85375.2 for k = 1\n",
      "MAE is  75607.15 for k = 2\n",
      "MAE is  71487.43333333335 for k = 3\n",
      "MAE is  70700.425 for k = 4\n",
      "MAE is  70615.54 for k = 5\n",
      "MAE is  70564.86666666665 for k = 6\n",
      "MAE is  70878.17142857143 for k = 7\n",
      "MAE is  70659.7375 for k = 8\n",
      "MAE is  70108.65555555555 for k = 9\n",
      "MAE is  69697.44 for k = 10\n",
      "MAE is  69749.58181818182 for k = 11\n",
      "MAE is  69809.925 for k = 12\n",
      "MAE is  70027.39230769232 for k = 13\n",
      "MAE is  70214.0 for k = 14\n",
      "MAE is  70725.4 for k = 15\n",
      "MAE is  70973.2625 for k = 16\n",
      "MAE is  71147.32941176472 for k = 17\n",
      "MAE is  71046.03333333333 for k = 18\n",
      "MAE is  71122.48421052632 for k = 19\n",
      "MAE is  71026.82 for k = 20\n"
     ]
    }
   ],
   "source": [
    "#tunning the model based on Mean Absolute Error\n",
    "for k in range(20):\n",
    "    k = k + 1\n",
    "    knn = neighbors.KNeighborsRegressor(n_neighbors = k, \n",
    "                                         weights='uniform', \n",
    "                                         algorithm='auto')\n",
    "    knn.fit(train_X_scale, train_y)\n",
    "    pred_y = knn.predict(test_X_scale)\n",
    "    print(\"MAE is \", metrics.mean_absolute_error(test_y, pred_y),\"for k =\",k)"
   ]
  },
  {
   "cell_type": "markdown",
   "metadata": {},
   "source": [
    "### Model Testing"
   ]
  },
  {
   "cell_type": "markdown",
   "metadata": {},
   "source": [
    "We have the lowest MAE for k=10"
   ]
  },
  {
   "cell_type": "code",
   "execution_count": 34,
   "metadata": {},
   "outputs": [
    {
     "name": "stdout",
     "output_type": "stream",
     "text": [
      "Mean Absolute Error is 69697.44\n",
      "Mean Squared Error is 10496671118.8\n",
      "R-squared is 0.5336165070386574\n",
      "Root Mean Squared Error is 102453.26309493514\n",
      "Mean Absolute Percentage Error is 0.2769109554874558\n"
     ]
    }
   ],
   "source": [
    "knn_final = neighbors.KNeighborsRegressor(n_neighbors = 10, \n",
    "                                      weights='uniform',                                    \n",
    "                                      algorithm='auto')\n",
    "knn_final.fit(train_X_scale, train_y)\n",
    "pred_y_knn_final = knn_final.predict(test_X_scale)\n",
    "print('Mean Absolute Error is',metrics.mean_absolute_error(test_y, pred_y_knn_final))\n",
    "print('Mean Squared Error is',metrics.mean_squared_error(test_y, pred_y_knn_final))\n",
    "print('R-squared is',metrics.r2_score(test_y, pred_y_knn_final))\n",
    "print('Root Mean Squared Error is',np.sqrt(metrics.mean_squared_error(test_y, pred_y_knn_final)))\n",
    "print('Mean Absolute Percentage Error is',np.mean(np.abs(pred_y_knn_final - test_y)/np.abs(test_y)))"
   ]
  },
  {
   "cell_type": "markdown",
   "metadata": {},
   "source": [
    "# Model 2: Random Forest"
   ]
  },
  {
   "cell_type": "code",
   "execution_count": 35,
   "metadata": {},
   "outputs": [],
   "source": [
    "from sklearn.ensemble import RandomForestRegressor"
   ]
  },
  {
   "cell_type": "markdown",
   "metadata": {},
   "source": [
    "### Model Building"
   ]
  },
  {
   "cell_type": "code",
   "execution_count": 36,
   "metadata": {},
   "outputs": [],
   "source": [
    "# Train an RF Regressor\n",
    "rf = RandomForestRegressor(n_estimators=5, max_features=10, random_state=123)"
   ]
  },
  {
   "cell_type": "code",
   "execution_count": 37,
   "metadata": {},
   "outputs": [
    {
     "data": {
      "text/plain": [
       "RandomForestRegressor(bootstrap=True, ccp_alpha=0.0, criterion='mse',\n",
       "                      max_depth=None, max_features=10, max_leaf_nodes=None,\n",
       "                      max_samples=None, min_impurity_decrease=0.0,\n",
       "                      min_impurity_split=None, min_samples_leaf=1,\n",
       "                      min_samples_split=2, min_weight_fraction_leaf=0.0,\n",
       "                      n_estimators=5, n_jobs=None, oob_score=False,\n",
       "                      random_state=123, verbose=0, warm_start=False)"
      ]
     },
     "execution_count": 37,
     "metadata": {},
     "output_type": "execute_result"
    }
   ],
   "source": [
    "rf.fit(train_X_scale,train_y)"
   ]
  },
  {
   "cell_type": "code",
   "execution_count": 38,
   "metadata": {},
   "outputs": [
    {
     "data": {
      "text/plain": [
       "array([4.33358102e-03, 2.02333605e-03, 7.19606559e-03, 1.14732895e-03,\n",
       "       2.27606993e-03, 7.11133319e-03, 8.19982293e-03, 1.68962500e-02,\n",
       "       7.03045010e-02, 3.33902285e-02, 3.07489854e-01, 8.88113612e-03,\n",
       "       6.18690566e-02, 6.98356274e-03, 2.50800753e-03, 7.75544612e-03,\n",
       "       4.91675511e-04, 5.85903328e-03, 1.60532511e-02, 6.74617529e-04,\n",
       "       2.85894423e-03, 6.18535133e-03, 1.78924830e-03, 2.61652811e-03,\n",
       "       2.95329712e-03, 1.18519557e-02, 4.53048723e-03, 2.86257333e-03,\n",
       "       7.50481459e-04, 2.22441567e-03, 6.24029459e-05, 9.82897502e-04,\n",
       "       6.31793552e-03, 2.51610482e-02, 3.80777745e-03, 8.25996133e-03,\n",
       "       5.99268357e-03, 6.04647012e-04, 3.08722291e-05, 1.75216836e-04,\n",
       "       1.59828986e-03, 7.18575378e-04, 7.68309124e-03, 2.46223459e-02,\n",
       "       2.52829407e-03, 7.68830331e-03, 7.03240493e-03, 5.02494965e-03,\n",
       "       7.39819979e-04, 4.65587658e-04, 7.05240077e-03, 3.58284425e-03,\n",
       "       1.42528081e-03, 2.49751422e-02, 1.29472343e-02, 6.73965114e-03,\n",
       "       1.04169201e-02, 4.49721360e-03, 8.06882070e-03, 3.48684573e-03,\n",
       "       7.05379840e-02, 3.88225609e-02, 3.93709434e-02, 1.10002625e-02,\n",
       "       3.66365922e-02, 8.74758753e-04])"
      ]
     },
     "execution_count": 38,
     "metadata": {},
     "output_type": "execute_result"
    }
   ],
   "source": [
    "# Show feature importance\n",
    "rf.feature_importances_"
   ]
  },
  {
   "cell_type": "code",
   "execution_count": 39,
   "metadata": {},
   "outputs": [
    {
     "data": {
      "text/html": [
       "<div>\n",
       "<style scoped>\n",
       "    .dataframe tbody tr th:only-of-type {\n",
       "        vertical-align: middle;\n",
       "    }\n",
       "\n",
       "    .dataframe tbody tr th {\n",
       "        vertical-align: top;\n",
       "    }\n",
       "\n",
       "    .dataframe thead th {\n",
       "        text-align: right;\n",
       "    }\n",
       "</style>\n",
       "<table border=\"1\" class=\"dataframe\">\n",
       "  <thead>\n",
       "    <tr style=\"text-align: right;\">\n",
       "      <th></th>\n",
       "      <th>importance</th>\n",
       "    </tr>\n",
       "  </thead>\n",
       "  <tbody>\n",
       "    <tr>\n",
       "      <th>LotValue</th>\n",
       "      <td>0.307490</td>\n",
       "    </tr>\n",
       "    <tr>\n",
       "      <th>FullBathrooms_2.0</th>\n",
       "      <td>0.070538</td>\n",
       "    </tr>\n",
       "    <tr>\n",
       "      <th>SaleDate</th>\n",
       "      <td>0.070305</td>\n",
       "    </tr>\n",
       "    <tr>\n",
       "      <th>SquareFootAreaoftheLot</th>\n",
       "      <td>0.061869</td>\n",
       "    </tr>\n",
       "    <tr>\n",
       "      <th>FullBathrooms_4.0</th>\n",
       "      <td>0.039371</td>\n",
       "    </tr>\n",
       "    <tr>\n",
       "      <th>...</th>\n",
       "      <td>...</td>\n",
       "    </tr>\n",
       "    <tr>\n",
       "      <th>Foundation_4.0</th>\n",
       "      <td>0.000492</td>\n",
       "    </tr>\n",
       "    <tr>\n",
       "      <th>PrimaryExteriorWallMaterial_6.0</th>\n",
       "      <td>0.000466</td>\n",
       "    </tr>\n",
       "    <tr>\n",
       "      <th>ConstructionMethod_1.0</th>\n",
       "      <td>0.000175</td>\n",
       "    </tr>\n",
       "    <tr>\n",
       "      <th>TypeofFinancing_5.0</th>\n",
       "      <td>0.000062</td>\n",
       "    </tr>\n",
       "    <tr>\n",
       "      <th>PrimarySpaceHeatingSystem_4.0</th>\n",
       "      <td>0.000031</td>\n",
       "    </tr>\n",
       "  </tbody>\n",
       "</table>\n",
       "<p>66 rows × 1 columns</p>\n",
       "</div>"
      ],
      "text/plain": [
       "                                 importance\n",
       "LotValue                           0.307490\n",
       "FullBathrooms_2.0                  0.070538\n",
       "SaleDate                           0.070305\n",
       "SquareFootAreaoftheLot             0.061869\n",
       "FullBathrooms_4.0                  0.039371\n",
       "...                                     ...\n",
       "Foundation_4.0                     0.000492\n",
       "PrimaryExteriorWallMaterial_6.0    0.000466\n",
       "ConstructionMethod_1.0             0.000175\n",
       "TypeofFinancing_5.0                0.000062\n",
       "PrimarySpaceHeatingSystem_4.0      0.000031\n",
       "\n",
       "[66 rows x 1 columns]"
      ]
     },
     "execution_count": 39,
     "metadata": {},
     "output_type": "execute_result"
    }
   ],
   "source": [
    "# Beautify the display of feature importance\n",
    "feature_importances = pd.DataFrame(rf.feature_importances_,\n",
    "                                   index = train_X.columns,\n",
    "                                   columns=['importance'])\n",
    "feature_importances = feature_importances.sort_values('importance',ascending=False)\n",
    "\n",
    "feature_importances"
   ]
  },
  {
   "cell_type": "code",
   "execution_count": 40,
   "metadata": {},
   "outputs": [
    {
     "data": {
      "text/plain": [
       "<matplotlib.axes._subplots.AxesSubplot at 0x1e174064d30>"
      ]
     },
     "execution_count": 40,
     "metadata": {},
     "output_type": "execute_result"
    },
    {
     "data": {
      "image/png": "[encoded data removed]",
      "text/plain": [
       "<Figure size 1080x360 with 1 Axes>"
      ]
     },
     "metadata": {
      "needs_background": "light"
     },
     "output_type": "display_data"
    }
   ],
   "source": [
    "feature_importances.plot(kind = 'bar',figsize=(15,5),\n",
    "                         title='Feature Importance of Single-Family Houses Dataset')"
   ]
  },
  {
   "cell_type": "code",
   "execution_count": 41,
   "metadata": {},
   "outputs": [
    {
     "name": "stdout",
     "output_type": "stream",
     "text": [
      "Mean Absolute Error is 54905.0\n",
      "Mean Squared Error is 6574553984.8\n",
      "R-squared is 0.7078822974074014\n",
      "Root Mean Squared Error is 81083.62340694945\n",
      "Mean Absolute Percentage Error is 0.21628562836203638\n"
     ]
    }
   ],
   "source": [
    "# Predict on test set\n",
    "pred_y_rf = rf.predict(test_X_scale)\n",
    "print('Mean Absolute Error is',metrics.mean_absolute_error(test_y, pred_y_rf))\n",
    "print('Mean Squared Error is',metrics.mean_squared_error(test_y, pred_y_rf))\n",
    "print('R-squared is',metrics.r2_score(test_y, pred_y_rf))\n",
    "print('Root Mean Squared Error is',np.sqrt(metrics.mean_squared_error(test_y, pred_y_rf)))\n",
    "print('Mean Absolute Percentage Error is',np.mean(np.abs(pred_y_rf - test_y)/np.abs(test_y)))"
   ]
  },
  {
   "cell_type": "markdown",
   "metadata": {},
   "source": [
    "### Model Tunning"
   ]
  },
  {
   "cell_type": "code",
   "execution_count": 42,
   "metadata": {},
   "outputs": [],
   "source": [
    "parameters = {'criterion': ['mse','mae'],\n",
    "              'n_estimators':[10,20,30,40,50,60,70,80,90,100],\n",
    "              'random_state':[123]}"
   ]
  },
  {
   "cell_type": "code",
   "execution_count": 43,
   "metadata": {},
   "outputs": [],
   "source": [
    "rf2 = RandomForestRegressor()"
   ]
  },
  {
   "cell_type": "code",
   "execution_count": 44,
   "metadata": {},
   "outputs": [],
   "source": [
    "# Use a 5-fold cross-validation\n",
    "grid_rf = GridSearchCV(rf2, parameters, cv=5)"
   ]
  },
  {
   "cell_type": "code",
   "execution_count": 45,
   "metadata": {},
   "outputs": [
    {
     "name": "stdout",
     "output_type": "stream",
     "text": [
      "Time Sart:04/30/2020 19:10:40\n",
      "Time End:04/30/2020 19:39:29\n",
      "Execution Time (Seconds):1728.8935451507568\n"
     ]
    }
   ],
   "source": [
    "import time\n",
    "start = time.time()\n",
    "print('Time Sart:'+ time.strftime(\"%m/%d/%Y %H:%M:%S\"))\n",
    "\n",
    "grid_rf.fit(train_X_scale,train_y)\n",
    "\n",
    "end = time.time()\n",
    "print('Time End:'+ time.strftime(\"%m/%d/%Y %H:%M:%S\"))\n",
    "print('Execution Time (Seconds):' + str(end - start))"
   ]
  },
  {
   "cell_type": "code",
   "execution_count": 46,
   "metadata": {},
   "outputs": [
    {
     "data": {
      "text/plain": [
       "{'criterion': 'mae', 'n_estimators': 100, 'random_state': 123}"
      ]
     },
     "execution_count": 46,
     "metadata": {},
     "output_type": "execute_result"
    }
   ],
   "source": [
    "# Show best parameters\n",
    "grid_rf.best_params_"
   ]
  },
  {
   "cell_type": "markdown",
   "metadata": {},
   "source": [
    "### Model testing"
   ]
  },
  {
   "cell_type": "code",
   "execution_count": 47,
   "metadata": {},
   "outputs": [],
   "source": [
    "# Train a new RF with best parameters\n",
    "rf_final = RandomForestRegressor(criterion='mae',n_estimators=100, random_state=123)"
   ]
  },
  {
   "cell_type": "code",
   "execution_count": 48,
   "metadata": {},
   "outputs": [
    {
     "name": "stdout",
     "output_type": "stream",
     "text": [
      "Mean Absolute Error is 44351.835\n",
      "Mean Squared Error is 4200716654.3135\n",
      "R-squared is 0.813355597788455\n",
      "Root Mean Squared Error is 64812.93585630495\n",
      "Mean Absolute Percentage Error is 0.17351918558137924\n"
     ]
    }
   ],
   "source": [
    "rf_final.fit(train_X_scale,train_y)\n",
    "# Predict on test set\n",
    "pred_y_rf_final = grid_rf.predict(test_X_scale)\n",
    "print('Mean Absolute Error is',metrics.mean_absolute_error(test_y, pred_y_rf_final))\n",
    "print('Mean Squared Error is',metrics.mean_squared_error(test_y, pred_y_rf_final))\n",
    "print('R-squared is',metrics.r2_score(test_y, pred_y_rf_final))\n",
    "print('Root Mean Squared Error is',np.sqrt(metrics.mean_squared_error(test_y, pred_y_rf_final)))\n",
    "print('Mean Absolute Percentage Error is',np.mean(np.abs(pred_y_rf_final - test_y)/np.abs(test_y)))"
   ]
  },
  {
   "cell_type": "markdown",
   "metadata": {},
   "source": [
    "# Model 3: ANN"
   ]
  },
  {
   "cell_type": "markdown",
   "metadata": {},
   "source": [
    "### Model Building"
   ]
  },
  {
   "cell_type": "code",
   "execution_count": 49,
   "metadata": {},
   "outputs": [],
   "source": [
    "from sklearn import neural_network\n",
    "ann1 = neural_network.MLPRegressor(alpha=1e-5,max_iter=1000,\n",
    "                                   hidden_layer_sizes=(20),\n",
    "                                   random_state=1)"
   ]
  },
  {
   "cell_type": "code",
   "execution_count": 50,
   "metadata": {},
   "outputs": [
    {
     "data": {
      "text/plain": [
       "MLPRegressor(activation='relu', alpha=1e-05, batch_size='auto', beta_1=0.9,\n",
       "             beta_2=0.999, early_stopping=False, epsilon=1e-08,\n",
       "             hidden_layer_sizes=20, learning_rate='constant',\n",
       "             learning_rate_init=0.001, max_fun=15000, max_iter=1000,\n",
       "             momentum=0.9, n_iter_no_change=10, nesterovs_momentum=True,\n",
       "             power_t=0.5, random_state=1, shuffle=True, solver='adam',\n",
       "             tol=0.0001, validation_fraction=0.1, verbose=False,\n",
       "             warm_start=False)"
      ]
     },
     "execution_count": 50,
     "metadata": {},
     "output_type": "execute_result"
    }
   ],
   "source": [
    "ann1.fit(train_X_scale, train_y)"
   ]
  },
  {
   "cell_type": "code",
   "execution_count": 51,
   "metadata": {},
   "outputs": [
    {
     "data": {
      "text/plain": [
       "count      1000.000000\n",
       "mean     120094.361628\n",
       "std        6847.332392\n",
       "min       96793.323782\n",
       "25%      115145.708273\n",
       "50%      119818.877427\n",
       "75%      124881.440873\n",
       "max      143903.881269\n",
       "dtype: float64"
      ]
     },
     "execution_count": 51,
     "metadata": {},
     "output_type": "execute_result"
    }
   ],
   "source": [
    "# Predict on test set\n",
    "pred_y1 = ann1.predict(test_X_scale)\n",
    "pd.Series(pred_y1).describe()"
   ]
  },
  {
   "cell_type": "markdown",
   "metadata": {},
   "source": [
    "### Model Tunning"
   ]
  },
  {
   "cell_type": "code",
   "execution_count": 52,
   "metadata": {},
   "outputs": [],
   "source": [
    "parameters = {'alpha': [1e-5],\n",
    "              'batch_size':[32,64,128],\n",
    "              'solver':['lbfgs'],\n",
    "              'learning_rate':['constant', 'adaptive'],\n",
    "              'hidden_layer_sizes':[2,3,4,5,6,7,8,9,10,(1, 1),(2, 2),(3, 3),(1, 1, 1),(2, 2, 2),(3, 3, 3)],\n",
    "              'random_state':[123]}"
   ]
  },
  {
   "cell_type": "code",
   "execution_count": 53,
   "metadata": {},
   "outputs": [],
   "source": [
    "ann2 = neural_network.MLPRegressor(max_iter=1000)"
   ]
  },
  {
   "cell_type": "code",
   "execution_count": 54,
   "metadata": {},
   "outputs": [],
   "source": [
    "# Use a 5-fold cross-validation\n",
    "grid_ann = GridSearchCV(ann2, parameters, cv=5)"
   ]
  },
  {
   "cell_type": "code",
   "execution_count": 55,
   "metadata": {},
   "outputs": [
    {
     "data": {
      "text/plain": [
       "GridSearchCV(cv=5, error_score=nan,\n",
       "             estimator=MLPRegressor(activation='relu', alpha=0.0001,\n",
       "                                    batch_size='auto', beta_1=0.9, beta_2=0.999,\n",
       "                                    early_stopping=False, epsilon=1e-08,\n",
       "                                    hidden_layer_sizes=(100,),\n",
       "                                    learning_rate='constant',\n",
       "                                    learning_rate_init=0.001, max_fun=15000,\n",
       "                                    max_iter=1000, momentum=0.9,\n",
       "                                    n_iter_no_change=10,\n",
       "                                    nesterovs_momentum=True, power_t=0.5,\n",
       "                                    random_state...\n",
       "                                    validation_fraction=0.1, verbose=False,\n",
       "                                    warm_start=False),\n",
       "             iid='deprecated', n_jobs=None,\n",
       "             param_grid={'alpha': [1e-05], 'batch_size': [32, 64, 128],\n",
       "                         'hidden_layer_sizes': [2, 3, 4, 5, 6, 7, 8, 9, 10,\n",
       "                                                (1, 1), (2, 2), (3, 3),\n",
       "                                                (1, 1, 1), (2, 2, 2),\n",
       "                                                (3, 3, 3)],\n",
       "                         'learning_rate': ['constant', 'adaptive'],\n",
       "                         'random_state': [123], 'solver': ['lbfgs']},\n",
       "             pre_dispatch='2*n_jobs', refit=True, return_train_score=False,\n",
       "             scoring=None, verbose=0)"
      ]
     },
     "execution_count": 55,
     "metadata": {},
     "output_type": "execute_result"
    }
   ],
   "source": [
    "grid_ann.fit(train_X_scale,train_y)"
   ]
  },
  {
   "cell_type": "code",
   "execution_count": 56,
   "metadata": {},
   "outputs": [
    {
     "data": {
      "text/plain": [
       "{'alpha': 1e-05,\n",
       " 'batch_size': 32,\n",
       " 'hidden_layer_sizes': (3, 3),\n",
       " 'learning_rate': 'constant',\n",
       " 'random_state': 123,\n",
       " 'solver': 'lbfgs'}"
      ]
     },
     "execution_count": 56,
     "metadata": {},
     "output_type": "execute_result"
    }
   ],
   "source": [
    "# Show best parameters\n",
    "grid_ann.best_params_"
   ]
  },
  {
   "cell_type": "markdown",
   "metadata": {},
   "source": [
    "### Model Testing"
   ]
  },
  {
   "cell_type": "code",
   "execution_count": 57,
   "metadata": {},
   "outputs": [
    {
     "data": {
      "text/plain": [
       "MLPRegressor(activation='relu', alpha=1e-05, batch_size=32, beta_1=0.9,\n",
       "             beta_2=0.999, early_stopping=False, epsilon=1e-08,\n",
       "             hidden_layer_sizes=10, learning_rate='constant',\n",
       "             learning_rate_init=0.001, max_fun=15000, max_iter=1000,\n",
       "             momentum=0.9, n_iter_no_change=10, nesterovs_momentum=True,\n",
       "             power_t=0.5, random_state=123, shuffle=True, solver='lbfgs',\n",
       "             tol=0.0001, validation_fraction=0.1, verbose=False,\n",
       "             warm_start=False)"
      ]
     },
     "execution_count": 57,
     "metadata": {},
     "output_type": "execute_result"
    }
   ],
   "source": [
    "# Train a new RF with best parameters\n",
    "ann_final = neural_network.MLPRegressor(max_iter=1000,alpha= 1e-05,\n",
    " batch_size= 32,\n",
    " hidden_layer_sizes= 10,\n",
    " learning_rate= 'constant',\n",
    " random_state= 123,\n",
    " solver= 'lbfgs')\n",
    "ann_final.fit(train_X_scale, train_y)"
   ]
  },
  {
   "cell_type": "code",
   "execution_count": 58,
   "metadata": {},
   "outputs": [
    {
     "name": "stdout",
     "output_type": "stream",
     "text": [
      "Mean Absolute Error is 44440.226469922454\n",
      "Mean Squared Error is 4348900722.357438\n",
      "R-squared is 0.8067715481908857\n",
      "Root Mean Squared Error is 65946.19566250534\n",
      "Mean Absolute Percentage Error is 0.1746688482487331\n"
     ]
    }
   ],
   "source": [
    "pred_y_ann_final = ann_final.predict(test_X_scale)\n",
    "print('Mean Absolute Error is',metrics.mean_absolute_error(test_y, pred_y_ann_final))\n",
    "print('Mean Squared Error is',metrics.mean_squared_error(test_y, pred_y_ann_final))\n",
    "print('R-squared is',metrics.r2_score(test_y, pred_y_ann_final))\n",
    "print('Root Mean Squared Error is',np.sqrt(metrics.mean_squared_error(test_y, pred_y_ann_final)))\n",
    "print('Mean Absolute Percentage Error is',np.mean(np.abs(pred_y_ann_final - test_y)/np.abs(test_y)))"
   ]
  },
  {
   "cell_type": "markdown",
   "metadata": {},
   "source": [
    "# Model 4: Support Vector Machine"
   ]
  },
  {
   "cell_type": "markdown",
   "metadata": {},
   "source": [
    "### Model Building"
   ]
  },
  {
   "cell_type": "code",
   "execution_count": 59,
   "metadata": {},
   "outputs": [
    {
     "data": {
      "text/plain": [
       "SVR(C=1.0, cache_size=200, coef0=0.0, degree=3, epsilon=0.1, gamma='scale',\n",
       "    kernel='linear', max_iter=-1, shrinking=True, tol=0.001, verbose=False)"
      ]
     },
     "execution_count": 59,
     "metadata": {},
     "output_type": "execute_result"
    }
   ],
   "source": [
    "from sklearn import svm\n",
    "\n",
    "\n",
    "#First, let's build a support vector Regressor with linear kernel. We manually set the parameter C as 1.0. \n",
    "#Then we use the test set to evaluate performance of the SVC.\n",
    "\n",
    "\n",
    "\n",
    "# Train an SVR with linear kernel\n",
    "svm_linear = svm.SVR(kernel='linear', C=1.0)\n",
    "svm_linear.fit(train_X_scale,train_y)\n"
   ]
  },
  {
   "cell_type": "code",
   "execution_count": 60,
   "metadata": {},
   "outputs": [
    {
     "name": "stdout",
     "output_type": "stream",
     "text": [
      "Mean Absolute Error is 104375.67866013596\n",
      "Mean Squared Error is 23542023740.847115\n",
      "R-squared is -0.04600888599530961\n",
      "Root Mean Squared Error is 153434.10227471308\n",
      "Mean Absolute Percentage Error is 0.4181552681640018\n"
     ]
    }
   ],
   "source": [
    "# Predict on test set\n",
    "pred_y_svm = svm_linear.predict(test_X_scale)\n",
    "print('Mean Absolute Error is',metrics.mean_absolute_error(test_y, pred_y_svm))\n",
    "print('Mean Squared Error is',metrics.mean_squared_error(test_y, pred_y_svm))\n",
    "print('R-squared is',metrics.r2_score(test_y, pred_y_svm))\n",
    "print('Root Mean Squared Error is',np.sqrt(metrics.mean_squared_error(test_y, pred_y_svm)))\n",
    "print('Mean Absolute Percentage Error is',np.mean(np.abs(pred_y_svm - test_y)/np.abs(test_y)))"
   ]
  },
  {
   "cell_type": "markdown",
   "metadata": {},
   "source": [
    "### Model Tunning"
   ]
  },
  {
   "cell_type": "code",
   "execution_count": 61,
   "metadata": {},
   "outputs": [
    {
     "data": {
      "text/plain": [
       "{'kernel': ['linear'], 'C': [0.001, 0.01, 0.1, 1, 5, 10]}"
      ]
     },
     "execution_count": 61,
     "metadata": {},
     "output_type": "execute_result"
    }
   ],
   "source": [
    "parameters = {'kernel':['linear'],\n",
    "              'C':[0.001,0.01,0.1,1,5,10]}\n",
    "parameters"
   ]
  },
  {
   "cell_type": "markdown",
   "metadata": {},
   "source": [
    "Note: We tried only linear kernel as it provides faster implementation with large datasets"
   ]
  },
  {
   "cell_type": "code",
   "execution_count": 62,
   "metadata": {},
   "outputs": [],
   "source": [
    "svr = svm.SVR()"
   ]
  },
  {
   "cell_type": "code",
   "execution_count": 63,
   "metadata": {},
   "outputs": [],
   "source": [
    "grid_svm = GridSearchCV(svr, parameters, cv=5)"
   ]
  },
  {
   "cell_type": "code",
   "execution_count": 64,
   "metadata": {},
   "outputs": [
    {
     "data": {
      "text/plain": [
       "GridSearchCV(cv=5, error_score=nan,\n",
       "             estimator=SVR(C=1.0, cache_size=200, coef0=0.0, degree=3,\n",
       "                           epsilon=0.1, gamma='scale', kernel='rbf',\n",
       "                           max_iter=-1, shrinking=True, tol=0.001,\n",
       "                           verbose=False),\n",
       "             iid='deprecated', n_jobs=None,\n",
       "             param_grid={'C': [0.001, 0.01, 0.1, 1, 5, 10],\n",
       "                         'kernel': ['linear']},\n",
       "             pre_dispatch='2*n_jobs', refit=True, return_train_score=False,\n",
       "             scoring=None, verbose=0)"
      ]
     },
     "execution_count": 64,
     "metadata": {},
     "output_type": "execute_result"
    }
   ],
   "source": [
    "grid_svm.fit(train_X_scale,train_y)"
   ]
  },
  {
   "cell_type": "code",
   "execution_count": 65,
   "metadata": {},
   "outputs": [
    {
     "data": {
      "text/plain": [
       "{'C': 10, 'kernel': 'linear'}"
      ]
     },
     "execution_count": 65,
     "metadata": {},
     "output_type": "execute_result"
    }
   ],
   "source": [
    "# Show best parameters\n",
    "grid_svm.best_params_"
   ]
  },
  {
   "cell_type": "markdown",
   "metadata": {},
   "source": [
    "### Model Testing"
   ]
  },
  {
   "cell_type": "code",
   "execution_count": 66,
   "metadata": {},
   "outputs": [],
   "source": [
    "# Train a new SVM with best parameters\n",
    "svm_final = svm.SVR(kernel='linear', C=10)"
   ]
  },
  {
   "cell_type": "code",
   "execution_count": 67,
   "metadata": {},
   "outputs": [
    {
     "data": {
      "text/plain": [
       "SVR(C=10, cache_size=200, coef0=0.0, degree=3, epsilon=0.1, gamma='scale',\n",
       "    kernel='linear', max_iter=-1, shrinking=True, tol=0.001, verbose=False)"
      ]
     },
     "execution_count": 67,
     "metadata": {},
     "output_type": "execute_result"
    }
   ],
   "source": [
    "svm_final.fit(train_X_scale,train_y)"
   ]
  },
  {
   "cell_type": "code",
   "execution_count": 68,
   "metadata": {},
   "outputs": [
    {
     "name": "stdout",
     "output_type": "stream",
     "text": [
      "Mean Absolute Error is 96817.1591702381\n",
      "Mean Squared Error is 21127706447.26044\n",
      "R-squared is 0.061263002373490916\n",
      "Root Mean Squared Error is 145353.72870091925\n",
      "Mean Absolute Percentage Error is 0.37888275909976965\n"
     ]
    }
   ],
   "source": [
    "# Predict on test set\n",
    "pred_y_svm_final = svm_final.predict(test_X_scale)\n",
    "print('Mean Absolute Error is',metrics.mean_absolute_error(test_y, pred_y_svm_final))\n",
    "print('Mean Squared Error is',metrics.mean_squared_error(test_y, pred_y_svm_final))\n",
    "print('R-squared is',metrics.r2_score(test_y, pred_y_svm_final))\n",
    "print('Root Mean Squared Error is',np.sqrt(metrics.mean_squared_error(test_y, pred_y_svm_final)))\n",
    "print('Mean Absolute Percentage Error is',np.mean(np.abs(pred_y_svm_final - test_y)/np.abs(test_y)))"
   ]
  },
  {
   "cell_type": "markdown",
   "metadata": {},
   "source": [
    "# Model 5: Kernel Ridge Regression"
   ]
  },
  {
   "cell_type": "markdown",
   "metadata": {},
   "source": [
    "### Model Building"
   ]
  },
  {
   "cell_type": "code",
   "execution_count": 69,
   "metadata": {},
   "outputs": [],
   "source": [
    "from sklearn.kernel_ridge import KernelRidge"
   ]
  },
  {
   "cell_type": "code",
   "execution_count": 70,
   "metadata": {},
   "outputs": [
    {
     "data": {
      "text/plain": [
       "KernelRidge(alpha=1, coef0=1, degree=3, gamma=None, kernel='linear',\n",
       "            kernel_params=None)"
      ]
     },
     "execution_count": 70,
     "metadata": {},
     "output_type": "execute_result"
    }
   ],
   "source": [
    "# Train using linear kernel\n",
    "KRR_linear = KernelRidge(kernel='linear')\n",
    "KRR_linear.fit(train_X_scale,train_y)"
   ]
  },
  {
   "cell_type": "code",
   "execution_count": 71,
   "metadata": {},
   "outputs": [
    {
     "name": "stdout",
     "output_type": "stream",
     "text": [
      "Mean Absolute Error is 47316.29104734227\n",
      "Mean Squared Error is 4351863676.597148\n",
      "R-squared is 0.8066398995060635\n",
      "Root Mean Squared Error is 65968.65677423748\n",
      "Mean Absolute Percentage Error is 0.19386456286054393\n"
     ]
    }
   ],
   "source": [
    "# Predict on test set\n",
    "pred_y_KRR = KRR_linear.predict(test_X_scale)\n",
    "print('Mean Absolute Error is',metrics.mean_absolute_error(test_y, pred_y_KRR))\n",
    "print('Mean Squared Error is',metrics.mean_squared_error(test_y, pred_y_KRR))\n",
    "print('R-squared is',metrics.r2_score(test_y, pred_y_KRR))\n",
    "print('Root Mean Squared Error is',np.sqrt(metrics.mean_squared_error(test_y, pred_y_KRR)))\n",
    "print('Mean Absolute Percentage Error is',np.mean(np.abs(pred_y_KRR - test_y)/np.abs(test_y)))"
   ]
  },
  {
   "cell_type": "markdown",
   "metadata": {},
   "source": [
    "### Model Tunning"
   ]
  },
  {
   "cell_type": "code",
   "execution_count": 72,
   "metadata": {},
   "outputs": [
    {
     "data": {
      "text/plain": [
       "{'coef0': [0.001, 0.005, 0.01, 0.025, 0.05, 1, 5, 10, 50]}"
      ]
     },
     "execution_count": 72,
     "metadata": {},
     "output_type": "execute_result"
    }
   ],
   "source": [
    "parameters = {'coef0':[0.001,0.005,0.01,0.025,0.05,1,5,10,50]}\n",
    "parameters"
   ]
  },
  {
   "cell_type": "markdown",
   "metadata": {},
   "source": [
    "Note: We tried only linear kernel as it provides faster implementation with large datasets"
   ]
  },
  {
   "cell_type": "code",
   "execution_count": 73,
   "metadata": {},
   "outputs": [],
   "source": [
    "KRR = KernelRidge()"
   ]
  },
  {
   "cell_type": "code",
   "execution_count": 74,
   "metadata": {},
   "outputs": [],
   "source": [
    "grid_KRR = GridSearchCV(KRR, parameters, cv=5)"
   ]
  },
  {
   "cell_type": "code",
   "execution_count": 75,
   "metadata": {},
   "outputs": [
    {
     "data": {
      "text/plain": [
       "GridSearchCV(cv=5, error_score=nan,\n",
       "             estimator=KernelRidge(alpha=1, coef0=1, degree=3, gamma=None,\n",
       "                                   kernel='linear', kernel_params=None),\n",
       "             iid='deprecated', n_jobs=None,\n",
       "             param_grid={'coef0': [0.001, 0.005, 0.01, 0.025, 0.05, 1, 5, 10,\n",
       "                                   50]},\n",
       "             pre_dispatch='2*n_jobs', refit=True, return_train_score=False,\n",
       "             scoring=None, verbose=0)"
      ]
     },
     "execution_count": 75,
     "metadata": {},
     "output_type": "execute_result"
    }
   ],
   "source": [
    "grid_KRR.fit(train_X_scale,train_y)"
   ]
  },
  {
   "cell_type": "code",
   "execution_count": 76,
   "metadata": {},
   "outputs": [
    {
     "data": {
      "text/plain": [
       "{'coef0': 0.001}"
      ]
     },
     "execution_count": 76,
     "metadata": {},
     "output_type": "execute_result"
    }
   ],
   "source": [
    "# Show best parameters\n",
    "grid_KRR.best_params_"
   ]
  },
  {
   "cell_type": "markdown",
   "metadata": {},
   "source": [
    "### Model Testing"
   ]
  },
  {
   "cell_type": "code",
   "execution_count": 77,
   "metadata": {},
   "outputs": [],
   "source": [
    "# Train a new SVM with best parameters\n",
    "KRR_final = KernelRidge(kernel='linear', coef0= 0.001)"
   ]
  },
  {
   "cell_type": "code",
   "execution_count": 78,
   "metadata": {},
   "outputs": [
    {
     "data": {
      "text/plain": [
       "KernelRidge(alpha=1, coef0=0.001, degree=3, gamma=None, kernel='linear',\n",
       "            kernel_params=None)"
      ]
     },
     "execution_count": 78,
     "metadata": {},
     "output_type": "execute_result"
    }
   ],
   "source": [
    "KRR_final.fit(train_X_scale,train_y)"
   ]
  },
  {
   "cell_type": "code",
   "execution_count": 79,
   "metadata": {},
   "outputs": [
    {
     "name": "stdout",
     "output_type": "stream",
     "text": [
      "Mean Absolute Error is 47316.29104734227\n",
      "Mean Squared Error is 4351863676.597148\n",
      "R-squared is 0.8066398995060635\n",
      "Root Mean Squared Error is 65968.65677423748\n",
      "Mean Absolute Percentage Error is 0.19386456286054393\n"
     ]
    }
   ],
   "source": [
    "# Predict on test set\n",
    "pred_y_KRR_final = KRR_final.predict(test_X_scale)\n",
    "print('Mean Absolute Error is',metrics.mean_absolute_error(test_y, pred_y_KRR_final))\n",
    "print('Mean Squared Error is',metrics.mean_squared_error(test_y, pred_y_KRR_final))\n",
    "print('R-squared is',metrics.r2_score(test_y, pred_y_KRR_final))\n",
    "print('Root Mean Squared Error is',np.sqrt(metrics.mean_squared_error(test_y, pred_y_KRR_final)))\n",
    "print('Mean Absolute Percentage Error is',np.mean(np.abs(pred_y_KRR_final - test_y)/np.abs(test_y)))"
   ]
  },
  {
   "cell_type": "markdown",
   "metadata": {},
   "source": [
    "# Model 6: SGD Regression"
   ]
  },
  {
   "cell_type": "code",
   "execution_count": 80,
   "metadata": {},
   "outputs": [],
   "source": [
    "from sklearn import linear_model"
   ]
  },
  {
   "cell_type": "code",
   "execution_count": 81,
   "metadata": {},
   "outputs": [
    {
     "data": {
      "text/plain": [
       "SGDRegressor(alpha=0.0001, average=False, early_stopping=False, epsilon=0.1,\n",
       "             eta0=0.01, fit_intercept=True, l1_ratio=0.15,\n",
       "             learning_rate='invscaling', loss='squared_loss', max_iter=1000,\n",
       "             n_iter_no_change=5, penalty='l2', power_t=0.25, random_state=None,\n",
       "             shuffle=True, tol=0.001, validation_fraction=0.1, verbose=0,\n",
       "             warm_start=False)"
      ]
     },
     "execution_count": 81,
     "metadata": {},
     "output_type": "execute_result"
    }
   ],
   "source": [
    "# Training SGD\n",
    "SGD = linear_model.SGDRegressor(max_iter=1000, tol=1e-3)\n",
    "SGD.fit(train_X_scale,train_y)"
   ]
  },
  {
   "cell_type": "code",
   "execution_count": 82,
   "metadata": {},
   "outputs": [
    {
     "name": "stdout",
     "output_type": "stream",
     "text": [
      "Mean Absolute Error is 48413.16726075855\n",
      "Mean Squared Error is 4431072042.1939\n",
      "R-squared is 0.8031205481040168\n",
      "Root Mean Squared Error is 66566.29809591261\n",
      "Mean Absolute Percentage Error is 0.20318297888288744\n"
     ]
    }
   ],
   "source": [
    "# Predict on test set\n",
    "pred_y_SGD = SGD.predict(test_X_scale)\n",
    "print('Mean Absolute Error is',metrics.mean_absolute_error(test_y, pred_y_SGD))\n",
    "print('Mean Squared Error is',metrics.mean_squared_error(test_y, pred_y_SGD))\n",
    "print('R-squared is',metrics.r2_score(test_y, pred_y_SGD))\n",
    "print('Root Mean Squared Error is',np.sqrt(metrics.mean_squared_error(test_y, pred_y_SGD)))\n",
    "print('Mean Absolute Percentage Error is',np.mean(np.abs(pred_y_SGD - test_y)/np.abs(test_y)))"
   ]
  },
  {
   "cell_type": "markdown",
   "metadata": {},
   "source": [
    "### Model Tunning"
   ]
  },
  {
   "cell_type": "code",
   "execution_count": 83,
   "metadata": {},
   "outputs": [
    {
     "data": {
      "text/plain": [
       "{'max_iter': [200, 500, 1000, 1500, 2000],\n",
       " 'tol': [0.0001, 0.001, 0.01, 0.025, 0.05, 1, 5, 10, 50]}"
      ]
     },
     "execution_count": 83,
     "metadata": {},
     "output_type": "execute_result"
    }
   ],
   "source": [
    "parameters = {'max_iter':[200, 500, 1000, 1500, 2000],\n",
    "              'tol':[0.0001,0.001,0.01,0.025,0.05,1,5,10,50]}\n",
    "parameters"
   ]
  },
  {
   "cell_type": "code",
   "execution_count": 84,
   "metadata": {},
   "outputs": [],
   "source": [
    "SGD1 = linear_model.SGDRegressor()"
   ]
  },
  {
   "cell_type": "code",
   "execution_count": 85,
   "metadata": {},
   "outputs": [],
   "source": [
    "grid_SGD = GridSearchCV(SGD1, parameters, cv=5)"
   ]
  },
  {
   "cell_type": "code",
   "execution_count": 86,
   "metadata": {},
   "outputs": [
    {
     "data": {
      "text/plain": [
       "GridSearchCV(cv=5, error_score=nan,\n",
       "             estimator=SGDRegressor(alpha=0.0001, average=False,\n",
       "                                    early_stopping=False, epsilon=0.1,\n",
       "                                    eta0=0.01, fit_intercept=True,\n",
       "                                    l1_ratio=0.15, learning_rate='invscaling',\n",
       "                                    loss='squared_loss', max_iter=1000,\n",
       "                                    n_iter_no_change=5, penalty='l2',\n",
       "                                    power_t=0.25, random_state=None,\n",
       "                                    shuffle=True, tol=0.001,\n",
       "                                    validation_fraction=0.1, verbose=0,\n",
       "                                    warm_start=False),\n",
       "             iid='deprecated', n_jobs=None,\n",
       "             param_grid={'max_iter': [200, 500, 1000, 1500, 2000],\n",
       "                         'tol': [0.0001, 0.001, 0.01, 0.025, 0.05, 1, 5, 10,\n",
       "                                 50]},\n",
       "             pre_dispatch='2*n_jobs', refit=True, return_train_score=False,\n",
       "             scoring=None, verbose=0)"
      ]
     },
     "execution_count": 86,
     "metadata": {},
     "output_type": "execute_result"
    }
   ],
   "source": [
    "grid_SGD.fit(train_X_scale,train_y)"
   ]
  },
  {
   "cell_type": "code",
   "execution_count": 87,
   "metadata": {},
   "outputs": [
    {
     "data": {
      "text/plain": [
       "{'max_iter': 1500, 'tol': 0.0001}"
      ]
     },
     "execution_count": 87,
     "metadata": {},
     "output_type": "execute_result"
    }
   ],
   "source": [
    "# Show best parameters\n",
    "grid_SGD.best_params_"
   ]
  },
  {
   "cell_type": "markdown",
   "metadata": {},
   "source": [
    "### Model Testing"
   ]
  },
  {
   "cell_type": "code",
   "execution_count": 88,
   "metadata": {},
   "outputs": [
    {
     "data": {
      "text/plain": [
       "SGDRegressor(alpha=0.0001, average=False, early_stopping=False, epsilon=0.1,\n",
       "             eta0=0.01, fit_intercept=True, l1_ratio=0.15,\n",
       "             learning_rate='invscaling', loss='squared_loss', max_iter=500,\n",
       "             n_iter_no_change=5, penalty='l2', power_t=0.25, random_state=None,\n",
       "             shuffle=True, tol=0.001, validation_fraction=0.1, verbose=0,\n",
       "             warm_start=False)"
      ]
     },
     "execution_count": 88,
     "metadata": {},
     "output_type": "execute_result"
    }
   ],
   "source": [
    "# Train a new SGD with best parameters\n",
    "SGD_final = linear_model.SGDRegressor(max_iter=500, tol=0.001)\n",
    "SGD_final.fit(train_X_scale,train_y)"
   ]
  },
  {
   "cell_type": "code",
   "execution_count": 89,
   "metadata": {},
   "outputs": [
    {
     "name": "stdout",
     "output_type": "stream",
     "text": [
      "Mean Absolute Error is 48631.31205101234\n",
      "Mean Squared Error is 4408827217.710265\n",
      "R-squared is 0.8041089204008689\n",
      "Root Mean Squared Error is 66399.0001258322\n",
      "Mean Absolute Percentage Error is 0.20554819803391136\n"
     ]
    }
   ],
   "source": [
    "# Predict on test set\n",
    "pred_y_SGD_final = SGD_final.predict(test_X_scale)\n",
    "print('Mean Absolute Error is',metrics.mean_absolute_error(test_y, pred_y_SGD_final))\n",
    "print('Mean Squared Error is',metrics.mean_squared_error(test_y, pred_y_SGD_final))\n",
    "print('R-squared is',metrics.r2_score(test_y, pred_y_SGD_final))\n",
    "print('Root Mean Squared Error is',np.sqrt(metrics.mean_squared_error(test_y, pred_y_SGD_final)))\n",
    "print('Mean Absolute Percentage Error is',np.mean(np.abs(pred_y_SGD_final - test_y)/np.abs(test_y)))"
   ]
  },
  {
   "cell_type": "markdown",
   "metadata": {},
   "source": [
    "# Summary of all Models"
   ]
  },
  {
   "cell_type": "code",
   "execution_count": 90,
   "metadata": {},
   "outputs": [],
   "source": [
    "MAE = [metrics.mean_absolute_error(test_y, pred_y_knn_final),\n",
    "       metrics.mean_absolute_error(test_y, pred_y_rf_final),\n",
    "       metrics.mean_absolute_error(test_y, pred_y_ann_final),\n",
    "       metrics.mean_absolute_error(test_y, pred_y_svm_final),\n",
    "       metrics.mean_absolute_error(test_y, pred_y_KRR_final),\n",
    "       metrics.mean_absolute_error(test_y, pred_y_SGD_final)]\n",
    "\n",
    "MSE=[metrics.mean_squared_error(test_y, pred_y_knn_final),\n",
    "     metrics.mean_squared_error(test_y, pred_y_rf_final),\n",
    "     metrics.mean_squared_error(test_y, pred_y_ann_final),\n",
    "     metrics.mean_squared_error(test_y, pred_y_svm_final),\n",
    "     metrics.mean_squared_error(test_y, pred_y_KRR_final),\n",
    "     metrics.mean_squared_error(test_y, pred_y_SGD_final)]\n",
    "\n",
    "RSquared=[metrics.r2_score(test_y, pred_y_knn_final),\n",
    "          metrics.r2_score(test_y, pred_y_rf_final),\n",
    "          metrics.r2_score(test_y, pred_y_ann_final),\n",
    "          metrics.r2_score(test_y, pred_y_svm_final),\n",
    "          metrics.r2_score(test_y, pred_y_KRR_final),\n",
    "          metrics.r2_score(test_y, pred_y_SGD_final)]\n",
    "\n",
    "RMSE=[np.sqrt(metrics.mean_squared_error(test_y, pred_y_knn_final)),\n",
    "      np.sqrt(metrics.mean_squared_error(test_y, pred_y_rf_final)),\n",
    "      np.sqrt(metrics.mean_squared_error(test_y, pred_y_ann_final)),\n",
    "      np.sqrt(metrics.mean_squared_error(test_y, pred_y_svm_final)),\n",
    "      np.sqrt(metrics.mean_squared_error(test_y, pred_y_KRR_final)),\n",
    "      np.sqrt(metrics.mean_squared_error(test_y, pred_y_SGD_final))]\n",
    "\n",
    "MAPE=[np.mean(np.abs(pred_y_knn_final - test_y)/np.abs(test_y)),\n",
    "      np.mean(np.abs(pred_y_rf_final - test_y)/np.abs(test_y)),\n",
    "      np.mean(np.abs(pred_y_ann_final - test_y)/np.abs(test_y)),\n",
    "      np.mean(np.abs(pred_y_svm_final - test_y)/np.abs(test_y)),\n",
    "      np.mean(np.abs(pred_y_KRR_final - test_y)/np.abs(test_y)),\n",
    "      np.mean(np.abs(pred_y_SGD_final - test_y)/np.abs(test_y))]"
   ]
  },
  {
   "cell_type": "code",
   "execution_count": 91,
   "metadata": {},
   "outputs": [
    {
     "data": {
      "text/html": [
       "<div>\n",
       "<style scoped>\n",
       "    .dataframe tbody tr th:only-of-type {\n",
       "        vertical-align: middle;\n",
       "    }\n",
       "\n",
       "    .dataframe tbody tr th {\n",
       "        vertical-align: top;\n",
       "    }\n",
       "\n",
       "    .dataframe thead th {\n",
       "        text-align: right;\n",
       "    }\n",
       "</style>\n",
       "<table border=\"1\" class=\"dataframe\">\n",
       "  <thead>\n",
       "    <tr style=\"text-align: right;\">\n",
       "      <th></th>\n",
       "      <th>MAE</th>\n",
       "      <th>MSE</th>\n",
       "      <th>RSquared</th>\n",
       "      <th>RMSE</th>\n",
       "      <th>MAPE</th>\n",
       "    </tr>\n",
       "  </thead>\n",
       "  <tbody>\n",
       "    <tr>\n",
       "      <th>k-Nearest Neigbhor</th>\n",
       "      <td>69697.440000</td>\n",
       "      <td>1.049667e+10</td>\n",
       "      <td>0.533617</td>\n",
       "      <td>102453.263095</td>\n",
       "      <td>0.276911</td>\n",
       "    </tr>\n",
       "    <tr>\n",
       "      <th>Random Forest</th>\n",
       "      <td>44351.835000</td>\n",
       "      <td>4.200717e+09</td>\n",
       "      <td>0.813356</td>\n",
       "      <td>64812.935856</td>\n",
       "      <td>0.173519</td>\n",
       "    </tr>\n",
       "    <tr>\n",
       "      <th>Artificial Neural Network</th>\n",
       "      <td>44440.226470</td>\n",
       "      <td>4.348901e+09</td>\n",
       "      <td>0.806772</td>\n",
       "      <td>65946.195663</td>\n",
       "      <td>0.174669</td>\n",
       "    </tr>\n",
       "    <tr>\n",
       "      <th>Support Vector Machine</th>\n",
       "      <td>96817.159170</td>\n",
       "      <td>2.112771e+10</td>\n",
       "      <td>0.061263</td>\n",
       "      <td>145353.728701</td>\n",
       "      <td>0.378883</td>\n",
       "    </tr>\n",
       "    <tr>\n",
       "      <th>Kernel Ridge Regression</th>\n",
       "      <td>47316.291047</td>\n",
       "      <td>4.351864e+09</td>\n",
       "      <td>0.806640</td>\n",
       "      <td>65968.656774</td>\n",
       "      <td>0.193865</td>\n",
       "    </tr>\n",
       "    <tr>\n",
       "      <th>SGD Regression</th>\n",
       "      <td>48631.312051</td>\n",
       "      <td>4.408827e+09</td>\n",
       "      <td>0.804109</td>\n",
       "      <td>66399.000126</td>\n",
       "      <td>0.205548</td>\n",
       "    </tr>\n",
       "  </tbody>\n",
       "</table>\n",
       "</div>"
      ],
      "text/plain": [
       "                                    MAE           MSE  RSquared  \\\n",
       "k-Nearest Neigbhor         69697.440000  1.049667e+10  0.533617   \n",
       "Random Forest              44351.835000  4.200717e+09  0.813356   \n",
       "Artificial Neural Network  44440.226470  4.348901e+09  0.806772   \n",
       "Support Vector Machine     96817.159170  2.112771e+10  0.061263   \n",
       "Kernel Ridge Regression    47316.291047  4.351864e+09  0.806640   \n",
       "SGD Regression             48631.312051  4.408827e+09  0.804109   \n",
       "\n",
       "                                    RMSE      MAPE  \n",
       "k-Nearest Neigbhor         102453.263095  0.276911  \n",
       "Random Forest               64812.935856  0.173519  \n",
       "Artificial Neural Network   65946.195663  0.174669  \n",
       "Support Vector Machine     145353.728701  0.378883  \n",
       "Kernel Ridge Regression     65968.656774  0.193865  \n",
       "SGD Regression              66399.000126  0.205548  "
      ]
     },
     "execution_count": 91,
     "metadata": {},
     "output_type": "execute_result"
    }
   ],
   "source": [
    "pd.DataFrame({'MAE':MAE, 'MSE':MSE, 'RSquared':RSquared, 'RMSE':RMSE,'MAPE': MAPE},\n",
    "             index = ['k-Nearest Neigbhor',\n",
    "                      'Random Forest',\n",
    "                      'Artificial Neural Network',\n",
    "                      'Support Vector Machine',\n",
    "                      'Kernel Ridge Regression',\n",
    "                      'SGD Regression'])"
   ]
  },
  {
   "cell_type": "markdown",
   "metadata": {},
   "source": [
    "The best model so far is the Random Forest"
   ]
  },
  {
   "cell_type": "code",
   "execution_count": 92,
   "metadata": {},
   "outputs": [
    {
     "data": {
      "image/png": "[encoded data removed]",
      "text/plain": [
       "<Figure size 576x360 with 1 Axes>"
      ]
     },
     "metadata": {
      "needs_background": "light"
     },
     "output_type": "display_data"
    }
   ],
   "source": [
    "plt.figure(figsize=(8,5))\n",
    "plt.scatter(test_y, pred_y_rf_final)\n",
    "plt.xlabel('Actual Price',fontsize=16)\n",
    "plt.ylabel('Predicted Price',fontsize=16)\n",
    "plt.xticks(fontsize=16,rotation=90)\n",
    "plt.yticks(fontsize=16)\n",
    "plt.show()"
   ]
  }
 ],
 "metadata": {
  "kernelspec": {
   "display_name": "Python 3",
   "language": "python",
   "name": "python3"
  },
  "language_info": {
   "codemirror_mode": {
    "name": "ipython",
    "version": 3
   },
   "file_extension": ".py",
   "mimetype": "text/x-python",
   "name": "python",
   "nbconvert_exporter": "python",
   "pygments_lexer": "ipython3",
   "version": "3.6.8"
  }
 },
 "nbformat": 4,
 "nbformat_minor": 2
}
