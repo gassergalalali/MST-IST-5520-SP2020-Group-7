{
 "cells": [
  {
   "cell_type": "markdown",
   "metadata": {},
   "source": [
    "# Importing Needed Packages"
   ]
  },
  {
   "cell_type": "code",
   "execution_count": 1,
   "metadata": {},
   "outputs": [],
   "source": [
    "import pandas as pd\n",
    "import numpy as np\n",
    "import matplotlib.pyplot as plt\n",
    "import seaborn as sns\n",
    "from sklearn.model_selection import GridSearchCV\n",
    "from sklearn import metrics\n",
    "%matplotlib inline"
   ]
  },
  {
   "cell_type": "markdown",
   "metadata": {},
   "source": [
    "# Reading Cleaned Data"
   ]
  },
  {
   "cell_type": "code",
   "execution_count": 2,
   "metadata": {},
   "outputs": [],
   "source": [
    "data = pd.read_csv(\"./cleanedDataPriceDr.csv\")"
   ]
  },
  {
   "cell_type": "code",
   "execution_count": 3,
   "metadata": {},
   "outputs": [
    {
     "data": {
      "text/html": [
       "<div>\n",
       "<style scoped>\n",
       "    .dataframe tbody tr th:only-of-type {\n",
       "        vertical-align: middle;\n",
       "    }\n",
       "\n",
       "    .dataframe tbody tr th {\n",
       "        vertical-align: top;\n",
       "    }\n",
       "\n",
       "    .dataframe thead th {\n",
       "        text-align: right;\n",
       "    }\n",
       "</style>\n",
       "<table border=\"1\" class=\"dataframe\">\n",
       "  <thead>\n",
       "    <tr style=\"text-align: right;\">\n",
       "      <th></th>\n",
       "      <th>Unnamed: 0</th>\n",
       "      <th>Unnamed: 0.1</th>\n",
       "      <th>CentralAir-conditioning</th>\n",
       "      <th>Foundation</th>\n",
       "      <th>Condominium</th>\n",
       "      <th>Deck</th>\n",
       "      <th>DesignofHouse</th>\n",
       "      <th>Division</th>\n",
       "      <th>TypeofFinancing</th>\n",
       "      <th>FinishedBasement</th>\n",
       "      <th>...</th>\n",
       "      <th>FullBathrooms</th>\n",
       "      <th>HalfBathrooms</th>\n",
       "      <th>SaleDate</th>\n",
       "      <th>Weight</th>\n",
       "      <th>PrimarySpaceHeatingFuel</th>\n",
       "      <th>SalesPrice</th>\n",
       "      <th>SquareFootAreaofHouse</th>\n",
       "      <th>LotValue</th>\n",
       "      <th>SquareFootAreaofFinishedBasement</th>\n",
       "      <th>SquareFootAreaoftheLot</th>\n",
       "    </tr>\n",
       "  </thead>\n",
       "  <tbody>\n",
       "    <tr>\n",
       "      <th>102737</th>\n",
       "      <td>152329</td>\n",
       "      <td>30725</td>\n",
       "      <td>1.0</td>\n",
       "      <td>3.0</td>\n",
       "      <td>2.0</td>\n",
       "      <td>2.0</td>\n",
       "      <td>1.0</td>\n",
       "      <td>9</td>\n",
       "      <td>1.0</td>\n",
       "      <td>0.0</td>\n",
       "      <td>...</td>\n",
       "      <td>3.0</td>\n",
       "      <td>1.0</td>\n",
       "      <td>200601</td>\n",
       "      <td>69</td>\n",
       "      <td>2.0</td>\n",
       "      <td>944200.0</td>\n",
       "      <td>4104.0</td>\n",
       "      <td>94000.0</td>\n",
       "      <td>0.0</td>\n",
       "      <td>8537.0</td>\n",
       "    </tr>\n",
       "    <tr>\n",
       "      <th>76709</th>\n",
       "      <td>109797</td>\n",
       "      <td>26495</td>\n",
       "      <td>1.0</td>\n",
       "      <td>3.0</td>\n",
       "      <td>2.0</td>\n",
       "      <td>2.0</td>\n",
       "      <td>1.0</td>\n",
       "      <td>7</td>\n",
       "      <td>1.0</td>\n",
       "      <td>0.0</td>\n",
       "      <td>...</td>\n",
       "      <td>3.0</td>\n",
       "      <td>0.0</td>\n",
       "      <td>200408</td>\n",
       "      <td>97</td>\n",
       "      <td>2.0</td>\n",
       "      <td>260000.0</td>\n",
       "      <td>2592.0</td>\n",
       "      <td>34000.0</td>\n",
       "      <td>0.0</td>\n",
       "      <td>9300.0</td>\n",
       "    </tr>\n",
       "    <tr>\n",
       "      <th>21378</th>\n",
       "      <td>29189</td>\n",
       "      <td>19016</td>\n",
       "      <td>1.0</td>\n",
       "      <td>2.0</td>\n",
       "      <td>2.0</td>\n",
       "      <td>1.0</td>\n",
       "      <td>1.0</td>\n",
       "      <td>5</td>\n",
       "      <td>5.0</td>\n",
       "      <td>0.0</td>\n",
       "      <td>...</td>\n",
       "      <td>2.0</td>\n",
       "      <td>0.0</td>\n",
       "      <td>200008</td>\n",
       "      <td>97</td>\n",
       "      <td>1.0</td>\n",
       "      <td>117900.0</td>\n",
       "      <td>1363.0</td>\n",
       "      <td>22000.0</td>\n",
       "      <td>0.0</td>\n",
       "      <td>43560.0</td>\n",
       "    </tr>\n",
       "    <tr>\n",
       "      <th>37388</th>\n",
       "      <td>51336</td>\n",
       "      <td>25807</td>\n",
       "      <td>1.0</td>\n",
       "      <td>3.0</td>\n",
       "      <td>2.0</td>\n",
       "      <td>2.0</td>\n",
       "      <td>1.0</td>\n",
       "      <td>7</td>\n",
       "      <td>2.0</td>\n",
       "      <td>0.0</td>\n",
       "      <td>...</td>\n",
       "      <td>2.0</td>\n",
       "      <td>0.0</td>\n",
       "      <td>200112</td>\n",
       "      <td>44</td>\n",
       "      <td>2.0</td>\n",
       "      <td>90000.0</td>\n",
       "      <td>1566.0</td>\n",
       "      <td>10000.0</td>\n",
       "      <td>0.0</td>\n",
       "      <td>22500.0</td>\n",
       "    </tr>\n",
       "    <tr>\n",
       "      <th>49266</th>\n",
       "      <td>68630</td>\n",
       "      <td>23716</td>\n",
       "      <td>1.0</td>\n",
       "      <td>3.0</td>\n",
       "      <td>2.0</td>\n",
       "      <td>2.0</td>\n",
       "      <td>1.0</td>\n",
       "      <td>7</td>\n",
       "      <td>2.0</td>\n",
       "      <td>0.0</td>\n",
       "      <td>...</td>\n",
       "      <td>2.0</td>\n",
       "      <td>1.0</td>\n",
       "      <td>200207</td>\n",
       "      <td>63</td>\n",
       "      <td>2.0</td>\n",
       "      <td>155500.0</td>\n",
       "      <td>2985.0</td>\n",
       "      <td>15000.0</td>\n",
       "      <td>0.0</td>\n",
       "      <td>10368.0</td>\n",
       "    </tr>\n",
       "  </tbody>\n",
       "</table>\n",
       "<p>5 rows × 32 columns</p>\n",
       "</div>"
      ],
      "text/plain": [
       "        Unnamed: 0  Unnamed: 0.1  CentralAir-conditioning  Foundation  \\\n",
       "102737      152329         30725                      1.0         3.0   \n",
       "76709       109797         26495                      1.0         3.0   \n",
       "21378        29189         19016                      1.0         2.0   \n",
       "37388        51336         25807                      1.0         3.0   \n",
       "49266        68630         23716                      1.0         3.0   \n",
       "\n",
       "        Condominium  Deck  DesignofHouse  Division  TypeofFinancing  \\\n",
       "102737          2.0   2.0            1.0         9              1.0   \n",
       "76709           2.0   2.0            1.0         7              1.0   \n",
       "21378           2.0   1.0            1.0         5              5.0   \n",
       "37388           2.0   2.0            1.0         7              2.0   \n",
       "49266           2.0   2.0            1.0         7              2.0   \n",
       "\n",
       "        FinishedBasement  ...  FullBathrooms  HalfBathrooms  SaleDate  Weight  \\\n",
       "102737               0.0  ...            3.0            1.0    200601      69   \n",
       "76709                0.0  ...            3.0            0.0    200408      97   \n",
       "21378                0.0  ...            2.0            0.0    200008      97   \n",
       "37388                0.0  ...            2.0            0.0    200112      44   \n",
       "49266                0.0  ...            2.0            1.0    200207      63   \n",
       "\n",
       "        PrimarySpaceHeatingFuel  SalesPrice  SquareFootAreaofHouse  LotValue  \\\n",
       "102737                      2.0    944200.0                 4104.0   94000.0   \n",
       "76709                       2.0    260000.0                 2592.0   34000.0   \n",
       "21378                       1.0    117900.0                 1363.0   22000.0   \n",
       "37388                       2.0     90000.0                 1566.0   10000.0   \n",
       "49266                       2.0    155500.0                 2985.0   15000.0   \n",
       "\n",
       "        SquareFootAreaofFinishedBasement  SquareFootAreaoftheLot  \n",
       "102737                               0.0                  8537.0  \n",
       "76709                                0.0                  9300.0  \n",
       "21378                                0.0                 43560.0  \n",
       "37388                                0.0                 22500.0  \n",
       "49266                                0.0                 10368.0  \n",
       "\n",
       "[5 rows x 32 columns]"
      ]
     },
     "execution_count": 3,
     "metadata": {},
     "output_type": "execute_result"
    }
   ],
   "source": [
    "# choosing 5000 readings as to facilitate data processesing so that it will not take too much time to train\n",
    "data=data.sample(n=5000,random_state=1)\n",
    "data.head()"
   ]
  },
  {
   "cell_type": "code",
   "execution_count": 4,
   "metadata": {},
   "outputs": [
    {
     "name": "stdout",
     "output_type": "stream",
     "text": [
      "<class 'pandas.core.frame.DataFrame'>\n",
      "Int64Index: 5000 entries, 102737 to 149178\n",
      "Data columns (total 32 columns):\n",
      "Unnamed: 0                          5000 non-null int64\n",
      "Unnamed: 0.1                        5000 non-null int64\n",
      "CentralAir-conditioning             5000 non-null float64\n",
      "Foundation                          5000 non-null float64\n",
      "Condominium                         5000 non-null float64\n",
      "Deck                                5000 non-null float64\n",
      "DesignofHouse                       5000 non-null float64\n",
      "Division                            5000 non-null int64\n",
      "TypeofFinancing                     5000 non-null float64\n",
      "FinishedBasement                    5000 non-null float64\n",
      "ParkingFacility                     5000 non-null float64\n",
      "PrimarySpaceHeatingSystem           5000 non-null float64\n",
      "MetropolitanArea                    5000 non-null int64\n",
      "ConstructionMethod                  5000 non-null float64\n",
      "Patio                               5000 non-null float64\n",
      "Porch                               5000 non-null float64\n",
      "Stories                             5000 non-null float64\n",
      "PrimaryExteriorWallMaterial         5000 non-null float64\n",
      "SecondaryExteriorWallMaterial       5000 non-null float64\n",
      "SecondaryExteriorWallMaterial.1     5000 non-null float64\n",
      "Bedrooms                            5000 non-null float64\n",
      "Fireplace                           5000 non-null float64\n",
      "FullBathrooms                       5000 non-null float64\n",
      "HalfBathrooms                       5000 non-null float64\n",
      "SaleDate                            5000 non-null int64\n",
      "Weight                              5000 non-null int64\n",
      "PrimarySpaceHeatingFuel             5000 non-null float64\n",
      "SalesPrice                          5000 non-null float64\n",
      "SquareFootAreaofHouse               5000 non-null float64\n",
      "LotValue                            5000 non-null float64\n",
      "SquareFootAreaofFinishedBasement    5000 non-null float64\n",
      "SquareFootAreaoftheLot              5000 non-null float64\n",
      "dtypes: float64(26), int64(6)\n",
      "memory usage: 1.3 MB\n"
     ]
    }
   ],
   "source": [
    "data.info()"
   ]
  },
  {
   "cell_type": "code",
   "execution_count": 5,
   "metadata": {},
   "outputs": [],
   "source": [
    "#dropping unecessary variables\n",
    "data=data.iloc[:,2:]"
   ]
  },
  {
   "cell_type": "markdown",
   "metadata": {},
   "source": [
    "# Data Preprocessing"
   ]
  },
  {
   "cell_type": "markdown",
   "metadata": {},
   "source": [
    "## Feature Selection based on Correlation"
   ]
  },
  {
   "cell_type": "code",
   "execution_count": 6,
   "metadata": {},
   "outputs": [],
   "source": [
    "#dropping the response variable: SalesPrice so that to include only the independent variables\n",
    "data_features=data.drop(['SalesPrice'],axis=1)"
   ]
  },
  {
   "cell_type": "code",
   "execution_count": 7,
   "metadata": {},
   "outputs": [
    {
     "data": {
      "image/png": "[encoded data removed]",
      "text/plain": [
       "<Figure size 1440x1440 with 2 Axes>"
      ]
     },
     "metadata": {
      "needs_background": "light"
     },
     "output_type": "display_data"
    }
   ],
   "source": [
    "#Heat Map Showing correlations among the features\n",
    "corr = data_features.corr().round(2)\n",
    "f, ax = plt.subplots(figsize =(20, 20)) \n",
    "mask = np.zeros_like(corr)\n",
    "mask[np.triu_indices_from(mask)] = True\n",
    "sns.heatmap(corr, cmap='bwr', mask=mask, annot=True,square=True, linewidths = 0.1,vmin=-1, vmax=1)\n",
    "plt.title('Correlation Matrix Features Only')\n",
    "bottom, top = ax.get_ylim()\n",
    "ax.set_ylim(bottom + 0.5, top - 0.5)\n",
    "plt.show()"
   ]
  },
  {
   "cell_type": "markdown",
   "metadata": {},
   "source": [
    "Removing highly correlated features (with an absolute correlation greater than 0.6)\n",
    "\n",
    "<u>The threshold of 0.6 is recommended by:</u> Reddy, C., Balasubramanyam, P., & Subbarayudu, M. (2013). An effective approach to resolve multicollinearity in agriculture data. International journal of research in electronics and computer engineering, 1(1), 27-30."
   ]
  },
  {
   "cell_type": "code",
   "execution_count": 8,
   "metadata": {},
   "outputs": [],
   "source": [
    "#removing highly correlated features\n",
    "columns = np.full((corr.shape[0],), True, dtype=bool)\n",
    "for i in range(corr.shape[0]):\n",
    "    for j in range(i+1, corr.shape[0]):\n",
    "        if abs(corr.iloc[i,j]) >= 0.6:\n",
    "            if columns[j]:\n",
    "                columns[j] = False"
   ]
  },
  {
   "cell_type": "code",
   "execution_count": 9,
   "metadata": {},
   "outputs": [
    {
     "data": {
      "text/plain": [
       "Index(['FinishedBasement', 'SecondaryExteriorWallMaterial.1',\n",
       "       'PrimarySpaceHeatingFuel', 'SquareFootAreaofHouse'],\n",
       "      dtype='object')"
      ]
     },
     "execution_count": 9,
     "metadata": {},
     "output_type": "execute_result"
    }
   ],
   "source": [
    "#removed features\n",
    "removed_columns = data_features.columns[[not columns[i] for i in range(len(columns))]]\n",
    "removed_columns"
   ]
  },
  {
   "cell_type": "code",
   "execution_count": 10,
   "metadata": {},
   "outputs": [
    {
     "data": {
      "text/plain": [
       "Index(['CentralAir-conditioning', 'Foundation', 'Condominium', 'Deck',\n",
       "       'DesignofHouse', 'Division', 'TypeofFinancing', 'ParkingFacility',\n",
       "       'PrimarySpaceHeatingSystem', 'MetropolitanArea', 'ConstructionMethod',\n",
       "       'Patio', 'Porch', 'Stories', 'PrimaryExteriorWallMaterial',\n",
       "       'SecondaryExteriorWallMaterial', 'Bedrooms', 'Fireplace',\n",
       "       'FullBathrooms', 'HalfBathrooms', 'SaleDate', 'Weight', 'LotValue',\n",
       "       'SquareFootAreaofFinishedBasement', 'SquareFootAreaoftheLot'],\n",
       "      dtype='object')"
      ]
     },
     "execution_count": 10,
     "metadata": {},
     "output_type": "execute_result"
    }
   ],
   "source": [
    "#selected features\n",
    "selected_columns = data_features.columns[columns]\n",
    "selected_columns"
   ]
  },
  {
   "cell_type": "code",
   "execution_count": 11,
   "metadata": {},
   "outputs": [],
   "source": [
    "#concatinating the data\n",
    "data=pd.concat([data['SalesPrice'],data_features[selected_columns]],axis=1)"
   ]
  },
  {
   "cell_type": "code",
   "execution_count": 12,
   "metadata": {},
   "outputs": [
    {
     "name": "stdout",
     "output_type": "stream",
     "text": [
      "<class 'pandas.core.frame.DataFrame'>\n",
      "Int64Index: 5000 entries, 102737 to 149178\n",
      "Data columns (total 26 columns):\n",
      "SalesPrice                          5000 non-null float64\n",
      "CentralAir-conditioning             5000 non-null float64\n",
      "Foundation                          5000 non-null float64\n",
      "Condominium                         5000 non-null float64\n",
      "Deck                                5000 non-null float64\n",
      "DesignofHouse                       5000 non-null float64\n",
      "Division                            5000 non-null int64\n",
      "TypeofFinancing                     5000 non-null float64\n",
      "ParkingFacility                     5000 non-null float64\n",
      "PrimarySpaceHeatingSystem           5000 non-null float64\n",
      "MetropolitanArea                    5000 non-null int64\n",
      "ConstructionMethod                  5000 non-null float64\n",
      "Patio                               5000 non-null float64\n",
      "Porch                               5000 non-null float64\n",
      "Stories                             5000 non-null float64\n",
      "PrimaryExteriorWallMaterial         5000 non-null float64\n",
      "SecondaryExteriorWallMaterial       5000 non-null float64\n",
      "Bedrooms                            5000 non-null float64\n",
      "Fireplace                           5000 non-null float64\n",
      "FullBathrooms                       5000 non-null float64\n",
      "HalfBathrooms                       5000 non-null float64\n",
      "SaleDate                            5000 non-null int64\n",
      "Weight                              5000 non-null int64\n",
      "LotValue                            5000 non-null float64\n",
      "SquareFootAreaofFinishedBasement    5000 non-null float64\n",
      "SquareFootAreaoftheLot              5000 non-null float64\n",
      "dtypes: float64(22), int64(4)\n",
      "memory usage: 1.0 MB\n"
     ]
    }
   ],
   "source": [
    "data.info()"
   ]
  },
  {
   "cell_type": "markdown",
   "metadata": {},
   "source": [
    "## Data Partition"
   ]
  },
  {
   "cell_type": "code",
   "execution_count": 13,
   "metadata": {},
   "outputs": [
    {
     "data": {
      "text/html": [
       "<div>\n",
       "<style scoped>\n",
       "    .dataframe tbody tr th:only-of-type {\n",
       "        vertical-align: middle;\n",
       "    }\n",
       "\n",
       "    .dataframe tbody tr th {\n",
       "        vertical-align: top;\n",
       "    }\n",
       "\n",
       "    .dataframe thead th {\n",
       "        text-align: right;\n",
       "    }\n",
       "</style>\n",
       "<table border=\"1\" class=\"dataframe\">\n",
       "  <thead>\n",
       "    <tr style=\"text-align: right;\">\n",
       "      <th></th>\n",
       "      <th>CentralAir-conditioning</th>\n",
       "      <th>Foundation</th>\n",
       "      <th>Condominium</th>\n",
       "      <th>Deck</th>\n",
       "      <th>DesignofHouse</th>\n",
       "      <th>Division</th>\n",
       "      <th>TypeofFinancing</th>\n",
       "      <th>ParkingFacility</th>\n",
       "      <th>PrimarySpaceHeatingSystem</th>\n",
       "      <th>MetropolitanArea</th>\n",
       "      <th>...</th>\n",
       "      <th>SecondaryExteriorWallMaterial</th>\n",
       "      <th>Bedrooms</th>\n",
       "      <th>Fireplace</th>\n",
       "      <th>FullBathrooms</th>\n",
       "      <th>HalfBathrooms</th>\n",
       "      <th>SaleDate</th>\n",
       "      <th>Weight</th>\n",
       "      <th>LotValue</th>\n",
       "      <th>SquareFootAreaofFinishedBasement</th>\n",
       "      <th>SquareFootAreaoftheLot</th>\n",
       "    </tr>\n",
       "  </thead>\n",
       "  <tbody>\n",
       "    <tr>\n",
       "      <th>102737</th>\n",
       "      <td>1.0</td>\n",
       "      <td>3.0</td>\n",
       "      <td>2.0</td>\n",
       "      <td>2.0</td>\n",
       "      <td>1.0</td>\n",
       "      <td>9</td>\n",
       "      <td>1.0</td>\n",
       "      <td>3.0</td>\n",
       "      <td>2.0</td>\n",
       "      <td>1</td>\n",
       "      <td>...</td>\n",
       "      <td>7.0</td>\n",
       "      <td>4.0</td>\n",
       "      <td>2.0</td>\n",
       "      <td>3.0</td>\n",
       "      <td>1.0</td>\n",
       "      <td>200601</td>\n",
       "      <td>69</td>\n",
       "      <td>94000.0</td>\n",
       "      <td>0.0</td>\n",
       "      <td>8537.0</td>\n",
       "    </tr>\n",
       "    <tr>\n",
       "      <th>76709</th>\n",
       "      <td>1.0</td>\n",
       "      <td>3.0</td>\n",
       "      <td>2.0</td>\n",
       "      <td>2.0</td>\n",
       "      <td>1.0</td>\n",
       "      <td>7</td>\n",
       "      <td>1.0</td>\n",
       "      <td>3.0</td>\n",
       "      <td>2.0</td>\n",
       "      <td>1</td>\n",
       "      <td>...</td>\n",
       "      <td>0.0</td>\n",
       "      <td>4.0</td>\n",
       "      <td>1.0</td>\n",
       "      <td>3.0</td>\n",
       "      <td>0.0</td>\n",
       "      <td>200408</td>\n",
       "      <td>97</td>\n",
       "      <td>34000.0</td>\n",
       "      <td>0.0</td>\n",
       "      <td>9300.0</td>\n",
       "    </tr>\n",
       "    <tr>\n",
       "      <th>21378</th>\n",
       "      <td>1.0</td>\n",
       "      <td>2.0</td>\n",
       "      <td>2.0</td>\n",
       "      <td>1.0</td>\n",
       "      <td>1.0</td>\n",
       "      <td>5</td>\n",
       "      <td>5.0</td>\n",
       "      <td>4.0</td>\n",
       "      <td>1.0</td>\n",
       "      <td>2</td>\n",
       "      <td>...</td>\n",
       "      <td>0.0</td>\n",
       "      <td>3.0</td>\n",
       "      <td>0.0</td>\n",
       "      <td>2.0</td>\n",
       "      <td>0.0</td>\n",
       "      <td>200008</td>\n",
       "      <td>97</td>\n",
       "      <td>22000.0</td>\n",
       "      <td>0.0</td>\n",
       "      <td>43560.0</td>\n",
       "    </tr>\n",
       "    <tr>\n",
       "      <th>37388</th>\n",
       "      <td>1.0</td>\n",
       "      <td>3.0</td>\n",
       "      <td>2.0</td>\n",
       "      <td>2.0</td>\n",
       "      <td>1.0</td>\n",
       "      <td>7</td>\n",
       "      <td>2.0</td>\n",
       "      <td>2.0</td>\n",
       "      <td>2.0</td>\n",
       "      <td>2</td>\n",
       "      <td>...</td>\n",
       "      <td>5.0</td>\n",
       "      <td>3.0</td>\n",
       "      <td>1.0</td>\n",
       "      <td>2.0</td>\n",
       "      <td>0.0</td>\n",
       "      <td>200112</td>\n",
       "      <td>44</td>\n",
       "      <td>10000.0</td>\n",
       "      <td>0.0</td>\n",
       "      <td>22500.0</td>\n",
       "    </tr>\n",
       "    <tr>\n",
       "      <th>49266</th>\n",
       "      <td>1.0</td>\n",
       "      <td>3.0</td>\n",
       "      <td>2.0</td>\n",
       "      <td>2.0</td>\n",
       "      <td>1.0</td>\n",
       "      <td>7</td>\n",
       "      <td>2.0</td>\n",
       "      <td>2.0</td>\n",
       "      <td>2.0</td>\n",
       "      <td>1</td>\n",
       "      <td>...</td>\n",
       "      <td>8.0</td>\n",
       "      <td>4.0</td>\n",
       "      <td>1.0</td>\n",
       "      <td>2.0</td>\n",
       "      <td>1.0</td>\n",
       "      <td>200207</td>\n",
       "      <td>63</td>\n",
       "      <td>15000.0</td>\n",
       "      <td>0.0</td>\n",
       "      <td>10368.0</td>\n",
       "    </tr>\n",
       "  </tbody>\n",
       "</table>\n",
       "<p>5 rows × 25 columns</p>\n",
       "</div>"
      ],
      "text/plain": [
       "        CentralAir-conditioning  Foundation  Condominium  Deck  DesignofHouse  \\\n",
       "102737                      1.0         3.0          2.0   2.0            1.0   \n",
       "76709                       1.0         3.0          2.0   2.0            1.0   \n",
       "21378                       1.0         2.0          2.0   1.0            1.0   \n",
       "37388                       1.0         3.0          2.0   2.0            1.0   \n",
       "49266                       1.0         3.0          2.0   2.0            1.0   \n",
       "\n",
       "        Division  TypeofFinancing  ParkingFacility  PrimarySpaceHeatingSystem  \\\n",
       "102737         9              1.0              3.0                        2.0   \n",
       "76709          7              1.0              3.0                        2.0   \n",
       "21378          5              5.0              4.0                        1.0   \n",
       "37388          7              2.0              2.0                        2.0   \n",
       "49266          7              2.0              2.0                        2.0   \n",
       "\n",
       "        MetropolitanArea  ...  SecondaryExteriorWallMaterial  Bedrooms  \\\n",
       "102737                 1  ...                            7.0       4.0   \n",
       "76709                  1  ...                            0.0       4.0   \n",
       "21378                  2  ...                            0.0       3.0   \n",
       "37388                  2  ...                            5.0       3.0   \n",
       "49266                  1  ...                            8.0       4.0   \n",
       "\n",
       "        Fireplace  FullBathrooms  HalfBathrooms  SaleDate  Weight  LotValue  \\\n",
       "102737        2.0            3.0            1.0    200601      69   94000.0   \n",
       "76709         1.0            3.0            0.0    200408      97   34000.0   \n",
       "21378         0.0            2.0            0.0    200008      97   22000.0   \n",
       "37388         1.0            2.0            0.0    200112      44   10000.0   \n",
       "49266         1.0            2.0            1.0    200207      63   15000.0   \n",
       "\n",
       "        SquareFootAreaofFinishedBasement  SquareFootAreaoftheLot  \n",
       "102737                               0.0                  8537.0  \n",
       "76709                                0.0                  9300.0  \n",
       "21378                                0.0                 43560.0  \n",
       "37388                                0.0                 22500.0  \n",
       "49266                                0.0                 10368.0  \n",
       "\n",
       "[5 rows x 25 columns]"
      ]
     },
     "execution_count": 13,
     "metadata": {},
     "output_type": "execute_result"
    }
   ],
   "source": [
    "X=data.drop('SalesPrice',axis=1)\n",
    "X.head()"
   ]
  },
  {
   "cell_type": "code",
   "execution_count": 14,
   "metadata": {},
   "outputs": [],
   "source": [
    "y=data['SalesPrice']"
   ]
  },
  {
   "cell_type": "code",
   "execution_count": 15,
   "metadata": {},
   "outputs": [],
   "source": [
    "from sklearn.model_selection import train_test_split\n",
    "# 20-80% simple split\n",
    "# To make the result reproducible, set the random_state\n",
    "train_y,test_y,train_X,test_X = train_test_split(y, X,\n",
    "                                                 test_size=0.2,\n",
    "                                                 random_state=123)"
   ]
  },
  {
   "cell_type": "code",
   "execution_count": 16,
   "metadata": {},
   "outputs": [
    {
     "data": {
      "text/plain": [
       "(4000, 25)"
      ]
     },
     "execution_count": 16,
     "metadata": {},
     "output_type": "execute_result"
    }
   ],
   "source": [
    "train_X.shape"
   ]
  },
  {
   "cell_type": "code",
   "execution_count": 17,
   "metadata": {},
   "outputs": [
    {
     "data": {
      "text/plain": [
       "(4000,)"
      ]
     },
     "execution_count": 17,
     "metadata": {},
     "output_type": "execute_result"
    }
   ],
   "source": [
    "train_y.shape"
   ]
  },
  {
   "cell_type": "code",
   "execution_count": 18,
   "metadata": {},
   "outputs": [
    {
     "data": {
      "text/plain": [
       "(1000,)"
      ]
     },
     "execution_count": 18,
     "metadata": {},
     "output_type": "execute_result"
    }
   ],
   "source": [
    "test_y.shape"
   ]
  },
  {
   "cell_type": "code",
   "execution_count": 19,
   "metadata": {},
   "outputs": [
    {
     "data": {
      "text/plain": [
       "(1000, 25)"
      ]
     },
     "execution_count": 19,
     "metadata": {},
     "output_type": "execute_result"
    }
   ],
   "source": [
    "test_X.shape"
   ]
  },
  {
   "cell_type": "markdown",
   "metadata": {},
   "source": [
    "## Normalize Data"
   ]
  },
  {
   "cell_type": "code",
   "execution_count": 20,
   "metadata": {},
   "outputs": [],
   "source": [
    "from sklearn import preprocessing\n",
    "\n",
    "# Create a scaler to do the transformation\n",
    "scaler = preprocessing.MinMaxScaler().fit(train_X)"
   ]
  },
  {
   "cell_type": "code",
   "execution_count": 21,
   "metadata": {},
   "outputs": [
    {
     "data": {
      "text/html": [
       "<div>\n",
       "<style scoped>\n",
       "    .dataframe tbody tr th:only-of-type {\n",
       "        vertical-align: middle;\n",
       "    }\n",
       "\n",
       "    .dataframe tbody tr th {\n",
       "        vertical-align: top;\n",
       "    }\n",
       "\n",
       "    .dataframe thead th {\n",
       "        text-align: right;\n",
       "    }\n",
       "</style>\n",
       "<table border=\"1\" class=\"dataframe\">\n",
       "  <thead>\n",
       "    <tr style=\"text-align: right;\">\n",
       "      <th></th>\n",
       "      <th>count</th>\n",
       "      <th>mean</th>\n",
       "      <th>std</th>\n",
       "      <th>min</th>\n",
       "      <th>25%</th>\n",
       "      <th>50%</th>\n",
       "      <th>75%</th>\n",
       "      <th>max</th>\n",
       "    </tr>\n",
       "  </thead>\n",
       "  <tbody>\n",
       "    <tr>\n",
       "      <th>CentralAir-conditioning</th>\n",
       "      <td>4000.0</td>\n",
       "      <td>0.082250</td>\n",
       "      <td>0.274780</td>\n",
       "      <td>0.0</td>\n",
       "      <td>0.000000</td>\n",
       "      <td>0.000000</td>\n",
       "      <td>0.000000</td>\n",
       "      <td>1.0</td>\n",
       "    </tr>\n",
       "    <tr>\n",
       "      <th>Foundation</th>\n",
       "      <td>4000.0</td>\n",
       "      <td>0.405583</td>\n",
       "      <td>0.307044</td>\n",
       "      <td>0.0</td>\n",
       "      <td>0.000000</td>\n",
       "      <td>0.666667</td>\n",
       "      <td>0.666667</td>\n",
       "      <td>1.0</td>\n",
       "    </tr>\n",
       "    <tr>\n",
       "      <th>Condominium</th>\n",
       "      <td>4000.0</td>\n",
       "      <td>0.974500</td>\n",
       "      <td>0.157658</td>\n",
       "      <td>0.0</td>\n",
       "      <td>1.000000</td>\n",
       "      <td>1.000000</td>\n",
       "      <td>1.000000</td>\n",
       "      <td>1.0</td>\n",
       "    </tr>\n",
       "    <tr>\n",
       "      <th>Deck</th>\n",
       "      <td>4000.0</td>\n",
       "      <td>0.755250</td>\n",
       "      <td>0.429993</td>\n",
       "      <td>0.0</td>\n",
       "      <td>1.000000</td>\n",
       "      <td>1.000000</td>\n",
       "      <td>1.000000</td>\n",
       "      <td>1.0</td>\n",
       "    </tr>\n",
       "    <tr>\n",
       "      <th>DesignofHouse</th>\n",
       "      <td>4000.0</td>\n",
       "      <td>0.063250</td>\n",
       "      <td>0.243443</td>\n",
       "      <td>0.0</td>\n",
       "      <td>0.000000</td>\n",
       "      <td>0.000000</td>\n",
       "      <td>0.000000</td>\n",
       "      <td>1.0</td>\n",
       "    </tr>\n",
       "    <tr>\n",
       "      <th>Division</th>\n",
       "      <td>4000.0</td>\n",
       "      <td>0.581406</td>\n",
       "      <td>0.265761</td>\n",
       "      <td>0.0</td>\n",
       "      <td>0.375000</td>\n",
       "      <td>0.500000</td>\n",
       "      <td>0.750000</td>\n",
       "      <td>1.0</td>\n",
       "    </tr>\n",
       "    <tr>\n",
       "      <th>TypeofFinancing</th>\n",
       "      <td>4000.0</td>\n",
       "      <td>0.092188</td>\n",
       "      <td>0.213007</td>\n",
       "      <td>0.0</td>\n",
       "      <td>0.000000</td>\n",
       "      <td>0.000000</td>\n",
       "      <td>0.000000</td>\n",
       "      <td>1.0</td>\n",
       "    </tr>\n",
       "    <tr>\n",
       "      <th>ParkingFacility</th>\n",
       "      <td>4000.0</td>\n",
       "      <td>0.420500</td>\n",
       "      <td>0.201580</td>\n",
       "      <td>0.0</td>\n",
       "      <td>0.333333</td>\n",
       "      <td>0.333333</td>\n",
       "      <td>0.666667</td>\n",
       "      <td>1.0</td>\n",
       "    </tr>\n",
       "    <tr>\n",
       "      <th>PrimarySpaceHeatingSystem</th>\n",
       "      <td>4000.0</td>\n",
       "      <td>0.247417</td>\n",
       "      <td>0.169437</td>\n",
       "      <td>0.0</td>\n",
       "      <td>0.000000</td>\n",
       "      <td>0.333333</td>\n",
       "      <td>0.333333</td>\n",
       "      <td>1.0</td>\n",
       "    </tr>\n",
       "    <tr>\n",
       "      <th>MetropolitanArea</th>\n",
       "      <td>4000.0</td>\n",
       "      <td>0.073500</td>\n",
       "      <td>0.260988</td>\n",
       "      <td>0.0</td>\n",
       "      <td>0.000000</td>\n",
       "      <td>0.000000</td>\n",
       "      <td>0.000000</td>\n",
       "      <td>1.0</td>\n",
       "    </tr>\n",
       "    <tr>\n",
       "      <th>ConstructionMethod</th>\n",
       "      <td>4000.0</td>\n",
       "      <td>0.981875</td>\n",
       "      <td>0.115053</td>\n",
       "      <td>0.0</td>\n",
       "      <td>1.000000</td>\n",
       "      <td>1.000000</td>\n",
       "      <td>1.000000</td>\n",
       "      <td>1.0</td>\n",
       "    </tr>\n",
       "    <tr>\n",
       "      <th>Patio</th>\n",
       "      <td>4000.0</td>\n",
       "      <td>0.473000</td>\n",
       "      <td>0.499333</td>\n",
       "      <td>0.0</td>\n",
       "      <td>0.000000</td>\n",
       "      <td>0.000000</td>\n",
       "      <td>1.000000</td>\n",
       "      <td>1.0</td>\n",
       "    </tr>\n",
       "    <tr>\n",
       "      <th>Porch</th>\n",
       "      <td>4000.0</td>\n",
       "      <td>0.456500</td>\n",
       "      <td>0.498166</td>\n",
       "      <td>0.0</td>\n",
       "      <td>0.000000</td>\n",
       "      <td>0.000000</td>\n",
       "      <td>1.000000</td>\n",
       "      <td>1.0</td>\n",
       "    </tr>\n",
       "    <tr>\n",
       "      <th>Stories</th>\n",
       "      <td>4000.0</td>\n",
       "      <td>0.578750</td>\n",
       "      <td>0.493821</td>\n",
       "      <td>0.0</td>\n",
       "      <td>0.000000</td>\n",
       "      <td>1.000000</td>\n",
       "      <td>1.000000</td>\n",
       "      <td>1.0</td>\n",
       "    </tr>\n",
       "    <tr>\n",
       "      <th>PrimaryExteriorWallMaterial</th>\n",
       "      <td>4000.0</td>\n",
       "      <td>0.353929</td>\n",
       "      <td>0.230290</td>\n",
       "      <td>0.0</td>\n",
       "      <td>0.142857</td>\n",
       "      <td>0.285714</td>\n",
       "      <td>0.428571</td>\n",
       "      <td>1.0</td>\n",
       "    </tr>\n",
       "    <tr>\n",
       "      <th>SecondaryExteriorWallMaterial</th>\n",
       "      <td>4000.0</td>\n",
       "      <td>0.262306</td>\n",
       "      <td>0.328695</td>\n",
       "      <td>0.0</td>\n",
       "      <td>0.000000</td>\n",
       "      <td>0.111111</td>\n",
       "      <td>0.555556</td>\n",
       "      <td>1.0</td>\n",
       "    </tr>\n",
       "    <tr>\n",
       "      <th>Bedrooms</th>\n",
       "      <td>4000.0</td>\n",
       "      <td>0.499083</td>\n",
       "      <td>0.244524</td>\n",
       "      <td>0.0</td>\n",
       "      <td>0.333333</td>\n",
       "      <td>0.333333</td>\n",
       "      <td>0.666667</td>\n",
       "      <td>1.0</td>\n",
       "    </tr>\n",
       "    <tr>\n",
       "      <th>Fireplace</th>\n",
       "      <td>4000.0</td>\n",
       "      <td>0.322000</td>\n",
       "      <td>0.280777</td>\n",
       "      <td>0.0</td>\n",
       "      <td>0.000000</td>\n",
       "      <td>0.500000</td>\n",
       "      <td>0.500000</td>\n",
       "      <td>1.0</td>\n",
       "    </tr>\n",
       "    <tr>\n",
       "      <th>FullBathrooms</th>\n",
       "      <td>4000.0</td>\n",
       "      <td>0.432750</td>\n",
       "      <td>0.198854</td>\n",
       "      <td>0.0</td>\n",
       "      <td>0.333333</td>\n",
       "      <td>0.333333</td>\n",
       "      <td>0.666667</td>\n",
       "      <td>1.0</td>\n",
       "    </tr>\n",
       "    <tr>\n",
       "      <th>HalfBathrooms</th>\n",
       "      <td>4000.0</td>\n",
       "      <td>0.259750</td>\n",
       "      <td>0.262768</td>\n",
       "      <td>0.0</td>\n",
       "      <td>0.000000</td>\n",
       "      <td>0.500000</td>\n",
       "      <td>0.500000</td>\n",
       "      <td>1.0</td>\n",
       "    </tr>\n",
       "    <tr>\n",
       "      <th>SaleDate</th>\n",
       "      <td>4000.0</td>\n",
       "      <td>0.370288</td>\n",
       "      <td>0.262972</td>\n",
       "      <td>0.0</td>\n",
       "      <td>0.147073</td>\n",
       "      <td>0.289386</td>\n",
       "      <td>0.527487</td>\n",
       "      <td>1.0</td>\n",
       "    </tr>\n",
       "    <tr>\n",
       "      <th>Weight</th>\n",
       "      <td>4000.0</td>\n",
       "      <td>0.203544</td>\n",
       "      <td>0.163750</td>\n",
       "      <td>0.0</td>\n",
       "      <td>0.089965</td>\n",
       "      <td>0.148789</td>\n",
       "      <td>0.280277</td>\n",
       "      <td>1.0</td>\n",
       "    </tr>\n",
       "    <tr>\n",
       "      <th>LotValue</th>\n",
       "      <td>4000.0</td>\n",
       "      <td>0.099372</td>\n",
       "      <td>0.089575</td>\n",
       "      <td>0.0</td>\n",
       "      <td>0.044147</td>\n",
       "      <td>0.068753</td>\n",
       "      <td>0.129202</td>\n",
       "      <td>1.0</td>\n",
       "    </tr>\n",
       "    <tr>\n",
       "      <th>SquareFootAreaofFinishedBasement</th>\n",
       "      <td>4000.0</td>\n",
       "      <td>0.024155</td>\n",
       "      <td>0.105856</td>\n",
       "      <td>0.0</td>\n",
       "      <td>0.000000</td>\n",
       "      <td>0.000000</td>\n",
       "      <td>0.000000</td>\n",
       "      <td>1.0</td>\n",
       "    </tr>\n",
       "    <tr>\n",
       "      <th>SquareFootAreaoftheLot</th>\n",
       "      <td>4000.0</td>\n",
       "      <td>0.147023</td>\n",
       "      <td>0.191155</td>\n",
       "      <td>0.0</td>\n",
       "      <td>0.051504</td>\n",
       "      <td>0.082237</td>\n",
       "      <td>0.145383</td>\n",
       "      <td>1.0</td>\n",
       "    </tr>\n",
       "  </tbody>\n",
       "</table>\n",
       "</div>"
      ],
      "text/plain": [
       "                                   count      mean       std  min       25%  \\\n",
       "CentralAir-conditioning           4000.0  0.082250  0.274780  0.0  0.000000   \n",
       "Foundation                        4000.0  0.405583  0.307044  0.0  0.000000   \n",
       "Condominium                       4000.0  0.974500  0.157658  0.0  1.000000   \n",
       "Deck                              4000.0  0.755250  0.429993  0.0  1.000000   \n",
       "DesignofHouse                     4000.0  0.063250  0.243443  0.0  0.000000   \n",
       "Division                          4000.0  0.581406  0.265761  0.0  0.375000   \n",
       "TypeofFinancing                   4000.0  0.092188  0.213007  0.0  0.000000   \n",
       "ParkingFacility                   4000.0  0.420500  0.201580  0.0  0.333333   \n",
       "PrimarySpaceHeatingSystem         4000.0  0.247417  0.169437  0.0  0.000000   \n",
       "MetropolitanArea                  4000.0  0.073500  0.260988  0.0  0.000000   \n",
       "ConstructionMethod                4000.0  0.981875  0.115053  0.0  1.000000   \n",
       "Patio                             4000.0  0.473000  0.499333  0.0  0.000000   \n",
       "Porch                             4000.0  0.456500  0.498166  0.0  0.000000   \n",
       "Stories                           4000.0  0.578750  0.493821  0.0  0.000000   \n",
       "PrimaryExteriorWallMaterial       4000.0  0.353929  0.230290  0.0  0.142857   \n",
       "SecondaryExteriorWallMaterial     4000.0  0.262306  0.328695  0.0  0.000000   \n",
       "Bedrooms                          4000.0  0.499083  0.244524  0.0  0.333333   \n",
       "Fireplace                         4000.0  0.322000  0.280777  0.0  0.000000   \n",
       "FullBathrooms                     4000.0  0.432750  0.198854  0.0  0.333333   \n",
       "HalfBathrooms                     4000.0  0.259750  0.262768  0.0  0.000000   \n",
       "SaleDate                          4000.0  0.370288  0.262972  0.0  0.147073   \n",
       "Weight                            4000.0  0.203544  0.163750  0.0  0.089965   \n",
       "LotValue                          4000.0  0.099372  0.089575  0.0  0.044147   \n",
       "SquareFootAreaofFinishedBasement  4000.0  0.024155  0.105856  0.0  0.000000   \n",
       "SquareFootAreaoftheLot            4000.0  0.147023  0.191155  0.0  0.051504   \n",
       "\n",
       "                                       50%       75%  max  \n",
       "CentralAir-conditioning           0.000000  0.000000  1.0  \n",
       "Foundation                        0.666667  0.666667  1.0  \n",
       "Condominium                       1.000000  1.000000  1.0  \n",
       "Deck                              1.000000  1.000000  1.0  \n",
       "DesignofHouse                     0.000000  0.000000  1.0  \n",
       "Division                          0.500000  0.750000  1.0  \n",
       "TypeofFinancing                   0.000000  0.000000  1.0  \n",
       "ParkingFacility                   0.333333  0.666667  1.0  \n",
       "PrimarySpaceHeatingSystem         0.333333  0.333333  1.0  \n",
       "MetropolitanArea                  0.000000  0.000000  1.0  \n",
       "ConstructionMethod                1.000000  1.000000  1.0  \n",
       "Patio                             0.000000  1.000000  1.0  \n",
       "Porch                             0.000000  1.000000  1.0  \n",
       "Stories                           1.000000  1.000000  1.0  \n",
       "PrimaryExteriorWallMaterial       0.285714  0.428571  1.0  \n",
       "SecondaryExteriorWallMaterial     0.111111  0.555556  1.0  \n",
       "Bedrooms                          0.333333  0.666667  1.0  \n",
       "Fireplace                         0.500000  0.500000  1.0  \n",
       "FullBathrooms                     0.333333  0.666667  1.0  \n",
       "HalfBathrooms                     0.500000  0.500000  1.0  \n",
       "SaleDate                          0.289386  0.527487  1.0  \n",
       "Weight                            0.148789  0.280277  1.0  \n",
       "LotValue                          0.068753  0.129202  1.0  \n",
       "SquareFootAreaofFinishedBasement  0.000000  0.000000  1.0  \n",
       "SquareFootAreaoftheLot            0.082237  0.145383  1.0  "
      ]
     },
     "execution_count": 21,
     "metadata": {},
     "output_type": "execute_result"
    }
   ],
   "source": [
    "# Transform training X\n",
    "train_X_scale = scaler.transform(train_X)\n",
    "train_X_scale = pd.DataFrame(train_X_scale)\n",
    "train_X_scale.columns = train_X.columns\n",
    "\n",
    "train_X_scale.describe().transpose()"
   ]
  },
  {
   "cell_type": "code",
   "execution_count": 22,
   "metadata": {},
   "outputs": [
    {
     "data": {
      "text/html": [
       "<div>\n",
       "<style scoped>\n",
       "    .dataframe tbody tr th:only-of-type {\n",
       "        vertical-align: middle;\n",
       "    }\n",
       "\n",
       "    .dataframe tbody tr th {\n",
       "        vertical-align: top;\n",
       "    }\n",
       "\n",
       "    .dataframe thead th {\n",
       "        text-align: right;\n",
       "    }\n",
       "</style>\n",
       "<table border=\"1\" class=\"dataframe\">\n",
       "  <thead>\n",
       "    <tr style=\"text-align: right;\">\n",
       "      <th></th>\n",
       "      <th>count</th>\n",
       "      <th>mean</th>\n",
       "      <th>std</th>\n",
       "      <th>min</th>\n",
       "      <th>25%</th>\n",
       "      <th>50%</th>\n",
       "      <th>75%</th>\n",
       "      <th>max</th>\n",
       "    </tr>\n",
       "  </thead>\n",
       "  <tbody>\n",
       "    <tr>\n",
       "      <th>CentralAir-conditioning</th>\n",
       "      <td>1000.0</td>\n",
       "      <td>0.092000</td>\n",
       "      <td>0.289171</td>\n",
       "      <td>0.000000</td>\n",
       "      <td>0.000000</td>\n",
       "      <td>0.000000</td>\n",
       "      <td>0.000000</td>\n",
       "      <td>1.000000</td>\n",
       "    </tr>\n",
       "    <tr>\n",
       "      <th>Foundation</th>\n",
       "      <td>1000.0</td>\n",
       "      <td>0.404667</td>\n",
       "      <td>0.306785</td>\n",
       "      <td>0.000000</td>\n",
       "      <td>0.000000</td>\n",
       "      <td>0.666667</td>\n",
       "      <td>0.666667</td>\n",
       "      <td>1.000000</td>\n",
       "    </tr>\n",
       "    <tr>\n",
       "      <th>Condominium</th>\n",
       "      <td>1000.0</td>\n",
       "      <td>0.981000</td>\n",
       "      <td>0.136593</td>\n",
       "      <td>0.000000</td>\n",
       "      <td>1.000000</td>\n",
       "      <td>1.000000</td>\n",
       "      <td>1.000000</td>\n",
       "      <td>1.000000</td>\n",
       "    </tr>\n",
       "    <tr>\n",
       "      <th>Deck</th>\n",
       "      <td>1000.0</td>\n",
       "      <td>0.736000</td>\n",
       "      <td>0.441020</td>\n",
       "      <td>0.000000</td>\n",
       "      <td>0.000000</td>\n",
       "      <td>1.000000</td>\n",
       "      <td>1.000000</td>\n",
       "      <td>1.000000</td>\n",
       "    </tr>\n",
       "    <tr>\n",
       "      <th>DesignofHouse</th>\n",
       "      <td>1000.0</td>\n",
       "      <td>0.064000</td>\n",
       "      <td>0.244875</td>\n",
       "      <td>0.000000</td>\n",
       "      <td>0.000000</td>\n",
       "      <td>0.000000</td>\n",
       "      <td>0.000000</td>\n",
       "      <td>1.000000</td>\n",
       "    </tr>\n",
       "    <tr>\n",
       "      <th>Division</th>\n",
       "      <td>1000.0</td>\n",
       "      <td>0.572875</td>\n",
       "      <td>0.269831</td>\n",
       "      <td>0.000000</td>\n",
       "      <td>0.375000</td>\n",
       "      <td>0.500000</td>\n",
       "      <td>0.750000</td>\n",
       "      <td>1.000000</td>\n",
       "    </tr>\n",
       "    <tr>\n",
       "      <th>TypeofFinancing</th>\n",
       "      <td>1000.0</td>\n",
       "      <td>0.083500</td>\n",
       "      <td>0.201726</td>\n",
       "      <td>0.000000</td>\n",
       "      <td>0.000000</td>\n",
       "      <td>0.000000</td>\n",
       "      <td>0.000000</td>\n",
       "      <td>1.000000</td>\n",
       "    </tr>\n",
       "    <tr>\n",
       "      <th>ParkingFacility</th>\n",
       "      <td>1000.0</td>\n",
       "      <td>0.420000</td>\n",
       "      <td>0.205691</td>\n",
       "      <td>0.000000</td>\n",
       "      <td>0.333333</td>\n",
       "      <td>0.333333</td>\n",
       "      <td>0.666667</td>\n",
       "      <td>1.000000</td>\n",
       "    </tr>\n",
       "    <tr>\n",
       "      <th>PrimarySpaceHeatingSystem</th>\n",
       "      <td>1000.0</td>\n",
       "      <td>0.244667</td>\n",
       "      <td>0.171759</td>\n",
       "      <td>0.000000</td>\n",
       "      <td>0.000000</td>\n",
       "      <td>0.333333</td>\n",
       "      <td>0.333333</td>\n",
       "      <td>1.000000</td>\n",
       "    </tr>\n",
       "    <tr>\n",
       "      <th>MetropolitanArea</th>\n",
       "      <td>1000.0</td>\n",
       "      <td>0.088000</td>\n",
       "      <td>0.283437</td>\n",
       "      <td>0.000000</td>\n",
       "      <td>0.000000</td>\n",
       "      <td>0.000000</td>\n",
       "      <td>0.000000</td>\n",
       "      <td>1.000000</td>\n",
       "    </tr>\n",
       "    <tr>\n",
       "      <th>ConstructionMethod</th>\n",
       "      <td>1000.0</td>\n",
       "      <td>0.982500</td>\n",
       "      <td>0.109342</td>\n",
       "      <td>0.000000</td>\n",
       "      <td>1.000000</td>\n",
       "      <td>1.000000</td>\n",
       "      <td>1.000000</td>\n",
       "      <td>1.000000</td>\n",
       "    </tr>\n",
       "    <tr>\n",
       "      <th>Patio</th>\n",
       "      <td>1000.0</td>\n",
       "      <td>0.479000</td>\n",
       "      <td>0.499809</td>\n",
       "      <td>0.000000</td>\n",
       "      <td>0.000000</td>\n",
       "      <td>0.000000</td>\n",
       "      <td>1.000000</td>\n",
       "      <td>1.000000</td>\n",
       "    </tr>\n",
       "    <tr>\n",
       "      <th>Porch</th>\n",
       "      <td>1000.0</td>\n",
       "      <td>0.457000</td>\n",
       "      <td>0.498397</td>\n",
       "      <td>0.000000</td>\n",
       "      <td>0.000000</td>\n",
       "      <td>0.000000</td>\n",
       "      <td>1.000000</td>\n",
       "      <td>1.000000</td>\n",
       "    </tr>\n",
       "    <tr>\n",
       "      <th>Stories</th>\n",
       "      <td>1000.0</td>\n",
       "      <td>0.578000</td>\n",
       "      <td>0.494126</td>\n",
       "      <td>0.000000</td>\n",
       "      <td>0.000000</td>\n",
       "      <td>1.000000</td>\n",
       "      <td>1.000000</td>\n",
       "      <td>1.000000</td>\n",
       "    </tr>\n",
       "    <tr>\n",
       "      <th>PrimaryExteriorWallMaterial</th>\n",
       "      <td>1000.0</td>\n",
       "      <td>0.359429</td>\n",
       "      <td>0.221043</td>\n",
       "      <td>0.000000</td>\n",
       "      <td>0.142857</td>\n",
       "      <td>0.285714</td>\n",
       "      <td>0.428571</td>\n",
       "      <td>1.000000</td>\n",
       "    </tr>\n",
       "    <tr>\n",
       "      <th>SecondaryExteriorWallMaterial</th>\n",
       "      <td>1000.0</td>\n",
       "      <td>0.245111</td>\n",
       "      <td>0.321415</td>\n",
       "      <td>0.000000</td>\n",
       "      <td>0.000000</td>\n",
       "      <td>0.000000</td>\n",
       "      <td>0.472222</td>\n",
       "      <td>1.000000</td>\n",
       "    </tr>\n",
       "    <tr>\n",
       "      <th>Bedrooms</th>\n",
       "      <td>1000.0</td>\n",
       "      <td>0.493667</td>\n",
       "      <td>0.243624</td>\n",
       "      <td>0.000000</td>\n",
       "      <td>0.333333</td>\n",
       "      <td>0.333333</td>\n",
       "      <td>0.666667</td>\n",
       "      <td>1.000000</td>\n",
       "    </tr>\n",
       "    <tr>\n",
       "      <th>Fireplace</th>\n",
       "      <td>1000.0</td>\n",
       "      <td>0.311500</td>\n",
       "      <td>0.278020</td>\n",
       "      <td>0.000000</td>\n",
       "      <td>0.000000</td>\n",
       "      <td>0.500000</td>\n",
       "      <td>0.500000</td>\n",
       "      <td>1.000000</td>\n",
       "    </tr>\n",
       "    <tr>\n",
       "      <th>FullBathrooms</th>\n",
       "      <td>1000.0</td>\n",
       "      <td>0.421000</td>\n",
       "      <td>0.198938</td>\n",
       "      <td>0.000000</td>\n",
       "      <td>0.333333</td>\n",
       "      <td>0.333333</td>\n",
       "      <td>0.333333</td>\n",
       "      <td>1.000000</td>\n",
       "    </tr>\n",
       "    <tr>\n",
       "      <th>HalfBathrooms</th>\n",
       "      <td>1000.0</td>\n",
       "      <td>0.268000</td>\n",
       "      <td>0.263145</td>\n",
       "      <td>0.000000</td>\n",
       "      <td>0.000000</td>\n",
       "      <td>0.500000</td>\n",
       "      <td>0.500000</td>\n",
       "      <td>1.000000</td>\n",
       "    </tr>\n",
       "    <tr>\n",
       "      <th>SaleDate</th>\n",
       "      <td>1000.0</td>\n",
       "      <td>0.363641</td>\n",
       "      <td>0.264773</td>\n",
       "      <td>0.002380</td>\n",
       "      <td>0.146002</td>\n",
       "      <td>0.288434</td>\n",
       "      <td>0.524036</td>\n",
       "      <td>1.000000</td>\n",
       "    </tr>\n",
       "    <tr>\n",
       "      <th>Weight</th>\n",
       "      <td>1000.0</td>\n",
       "      <td>0.202616</td>\n",
       "      <td>0.161038</td>\n",
       "      <td>-0.031142</td>\n",
       "      <td>0.096886</td>\n",
       "      <td>0.148789</td>\n",
       "      <td>0.276817</td>\n",
       "      <td>0.930796</td>\n",
       "    </tr>\n",
       "    <tr>\n",
       "      <th>LotValue</th>\n",
       "      <td>1000.0</td>\n",
       "      <td>0.096881</td>\n",
       "      <td>0.092846</td>\n",
       "      <td>0.000810</td>\n",
       "      <td>0.044147</td>\n",
       "      <td>0.068449</td>\n",
       "      <td>0.119077</td>\n",
       "      <td>1.303362</td>\n",
       "    </tr>\n",
       "    <tr>\n",
       "      <th>SquareFootAreaofFinishedBasement</th>\n",
       "      <td>1000.0</td>\n",
       "      <td>0.021975</td>\n",
       "      <td>0.107451</td>\n",
       "      <td>0.000000</td>\n",
       "      <td>0.000000</td>\n",
       "      <td>0.000000</td>\n",
       "      <td>0.000000</td>\n",
       "      <td>1.034483</td>\n",
       "    </tr>\n",
       "    <tr>\n",
       "      <th>SquareFootAreaoftheLot</th>\n",
       "      <td>1000.0</td>\n",
       "      <td>0.150878</td>\n",
       "      <td>0.199138</td>\n",
       "      <td>0.000000</td>\n",
       "      <td>0.051692</td>\n",
       "      <td>0.083412</td>\n",
       "      <td>0.147086</td>\n",
       "      <td>1.000000</td>\n",
       "    </tr>\n",
       "  </tbody>\n",
       "</table>\n",
       "</div>"
      ],
      "text/plain": [
       "                                   count      mean       std       min  \\\n",
       "CentralAir-conditioning           1000.0  0.092000  0.289171  0.000000   \n",
       "Foundation                        1000.0  0.404667  0.306785  0.000000   \n",
       "Condominium                       1000.0  0.981000  0.136593  0.000000   \n",
       "Deck                              1000.0  0.736000  0.441020  0.000000   \n",
       "DesignofHouse                     1000.0  0.064000  0.244875  0.000000   \n",
       "Division                          1000.0  0.572875  0.269831  0.000000   \n",
       "TypeofFinancing                   1000.0  0.083500  0.201726  0.000000   \n",
       "ParkingFacility                   1000.0  0.420000  0.205691  0.000000   \n",
       "PrimarySpaceHeatingSystem         1000.0  0.244667  0.171759  0.000000   \n",
       "MetropolitanArea                  1000.0  0.088000  0.283437  0.000000   \n",
       "ConstructionMethod                1000.0  0.982500  0.109342  0.000000   \n",
       "Patio                             1000.0  0.479000  0.499809  0.000000   \n",
       "Porch                             1000.0  0.457000  0.498397  0.000000   \n",
       "Stories                           1000.0  0.578000  0.494126  0.000000   \n",
       "PrimaryExteriorWallMaterial       1000.0  0.359429  0.221043  0.000000   \n",
       "SecondaryExteriorWallMaterial     1000.0  0.245111  0.321415  0.000000   \n",
       "Bedrooms                          1000.0  0.493667  0.243624  0.000000   \n",
       "Fireplace                         1000.0  0.311500  0.278020  0.000000   \n",
       "FullBathrooms                     1000.0  0.421000  0.198938  0.000000   \n",
       "HalfBathrooms                     1000.0  0.268000  0.263145  0.000000   \n",
       "SaleDate                          1000.0  0.363641  0.264773  0.002380   \n",
       "Weight                            1000.0  0.202616  0.161038 -0.031142   \n",
       "LotValue                          1000.0  0.096881  0.092846  0.000810   \n",
       "SquareFootAreaofFinishedBasement  1000.0  0.021975  0.107451  0.000000   \n",
       "SquareFootAreaoftheLot            1000.0  0.150878  0.199138  0.000000   \n",
       "\n",
       "                                       25%       50%       75%       max  \n",
       "CentralAir-conditioning           0.000000  0.000000  0.000000  1.000000  \n",
       "Foundation                        0.000000  0.666667  0.666667  1.000000  \n",
       "Condominium                       1.000000  1.000000  1.000000  1.000000  \n",
       "Deck                              0.000000  1.000000  1.000000  1.000000  \n",
       "DesignofHouse                     0.000000  0.000000  0.000000  1.000000  \n",
       "Division                          0.375000  0.500000  0.750000  1.000000  \n",
       "TypeofFinancing                   0.000000  0.000000  0.000000  1.000000  \n",
       "ParkingFacility                   0.333333  0.333333  0.666667  1.000000  \n",
       "PrimarySpaceHeatingSystem         0.000000  0.333333  0.333333  1.000000  \n",
       "MetropolitanArea                  0.000000  0.000000  0.000000  1.000000  \n",
       "ConstructionMethod                1.000000  1.000000  1.000000  1.000000  \n",
       "Patio                             0.000000  0.000000  1.000000  1.000000  \n",
       "Porch                             0.000000  0.000000  1.000000  1.000000  \n",
       "Stories                           0.000000  1.000000  1.000000  1.000000  \n",
       "PrimaryExteriorWallMaterial       0.142857  0.285714  0.428571  1.000000  \n",
       "SecondaryExteriorWallMaterial     0.000000  0.000000  0.472222  1.000000  \n",
       "Bedrooms                          0.333333  0.333333  0.666667  1.000000  \n",
       "Fireplace                         0.000000  0.500000  0.500000  1.000000  \n",
       "FullBathrooms                     0.333333  0.333333  0.333333  1.000000  \n",
       "HalfBathrooms                     0.000000  0.500000  0.500000  1.000000  \n",
       "SaleDate                          0.146002  0.288434  0.524036  1.000000  \n",
       "Weight                            0.096886  0.148789  0.276817  0.930796  \n",
       "LotValue                          0.044147  0.068449  0.119077  1.303362  \n",
       "SquareFootAreaofFinishedBasement  0.000000  0.000000  0.000000  1.034483  \n",
       "SquareFootAreaoftheLot            0.051692  0.083412  0.147086  1.000000  "
      ]
     },
     "execution_count": 22,
     "metadata": {},
     "output_type": "execute_result"
    }
   ],
   "source": [
    "# Transform test X\n",
    "test_X_scale = scaler.transform(test_X)\n",
    "test_X_scale = pd.DataFrame(test_X_scale)\n",
    "test_X_scale.columns = test_X.columns\n",
    "\n",
    "test_X_scale.describe().transpose()"
   ]
  },
  {
   "cell_type": "markdown",
   "metadata": {},
   "source": [
    "## Model 1: KNN Regressor"
   ]
  },
  {
   "cell_type": "markdown",
   "metadata": {},
   "source": [
    "### Model Building"
   ]
  },
  {
   "cell_type": "code",
   "execution_count": 23,
   "metadata": {},
   "outputs": [],
   "source": [
    "from sklearn import neighbors\n",
    "\n",
    "# KNN: K=5, default measure of distance (euclidean)\n",
    "knn5 = neighbors.KNeighborsRegressor(n_neighbors=5, \n",
    "                                      weights='uniform', \n",
    "                                      algorithm='auto')"
   ]
  },
  {
   "cell_type": "code",
   "execution_count": 24,
   "metadata": {},
   "outputs": [
    {
     "data": {
      "text/plain": [
       "KNeighborsRegressor(algorithm='auto', leaf_size=30, metric='minkowski',\n",
       "                    metric_params=None, n_jobs=None, n_neighbors=5, p=2,\n",
       "                    weights='uniform')"
      ]
     },
     "execution_count": 24,
     "metadata": {},
     "output_type": "execute_result"
    }
   ],
   "source": [
    "knn5.fit(train_X_scale, train_y)"
   ]
  },
  {
   "cell_type": "code",
   "execution_count": 25,
   "metadata": {},
   "outputs": [],
   "source": [
    "pred_y_knn5 = knn5.predict(test_X_scale)"
   ]
  },
  {
   "cell_type": "code",
   "execution_count": 26,
   "metadata": {},
   "outputs": [
    {
     "data": {
      "text/plain": [
       "76756.62"
      ]
     },
     "execution_count": 26,
     "metadata": {},
     "output_type": "execute_result"
    }
   ],
   "source": [
    "#Mean Absolute Error\n",
    "metrics.mean_absolute_error(test_y, pred_y_knn5)"
   ]
  },
  {
   "cell_type": "code",
   "execution_count": 27,
   "metadata": {},
   "outputs": [
    {
     "data": {
      "text/plain": [
       "12705194724.4"
      ]
     },
     "execution_count": 27,
     "metadata": {},
     "output_type": "execute_result"
    }
   ],
   "source": [
    "#Mean Squared Error\n",
    "metrics.mean_squared_error(test_y, pred_y_knn5)"
   ]
  },
  {
   "cell_type": "code",
   "execution_count": 28,
   "metadata": {},
   "outputs": [
    {
     "data": {
      "text/plain": [
       "0.43548835366415595"
      ]
     },
     "execution_count": 28,
     "metadata": {},
     "output_type": "execute_result"
    }
   ],
   "source": [
    "#R-squared\n",
    "metrics.r2_score(test_y, pred_y_knn5)"
   ]
  },
  {
   "cell_type": "code",
   "execution_count": 29,
   "metadata": {},
   "outputs": [
    {
     "data": {
      "text/plain": [
       "112717.32220204665"
      ]
     },
     "execution_count": 29,
     "metadata": {},
     "output_type": "execute_result"
    }
   ],
   "source": [
    "#Root Mean Squared Error\n",
    "np.sqrt(metrics.mean_squared_error(test_y, pred_y_knn5))"
   ]
  },
  {
   "cell_type": "code",
   "execution_count": 30,
   "metadata": {},
   "outputs": [
    {
     "data": {
      "text/plain": [
       "0.30485730444701914"
      ]
     },
     "execution_count": 30,
     "metadata": {},
     "output_type": "execute_result"
    }
   ],
   "source": [
    "#Mean Absolute Percentage Error\n",
    "np.mean(np.abs(pred_y_knn5 - test_y)/np.abs(test_y))"
   ]
  },
  {
   "cell_type": "markdown",
   "metadata": {},
   "source": [
    "### Model Tunning"
   ]
  },
  {
   "cell_type": "code",
   "execution_count": 31,
   "metadata": {},
   "outputs": [
    {
     "name": "stdout",
     "output_type": "stream",
     "text": [
      "MAE is  91262.0 for k = 1\n",
      "MAE is  81680.4 for k = 2\n",
      "MAE is  79602.53333333334 for k = 3\n",
      "MAE is  78195.8 for k = 4\n",
      "MAE is  76756.62 for k = 5\n",
      "MAE is  76731.26666666668 for k = 6\n",
      "MAE is  76149.12857142856 for k = 7\n",
      "MAE is  75530.4 for k = 8\n",
      "MAE is  75326.2888888889 for k = 9\n",
      "MAE is  75679.28 for k = 10\n",
      "MAE is  75256.48181818181 for k = 11\n",
      "MAE is  75580.625 for k = 12\n",
      "MAE is  75270.8 for k = 13\n",
      "MAE is  75588.17142857143 for k = 14\n",
      "MAE is  75252.02 for k = 15\n",
      "MAE is  75384.2125 for k = 16\n",
      "MAE is  75282.60588235295 for k = 17\n",
      "MAE is  75677.71666666667 for k = 18\n",
      "MAE is  75425.81052631578 for k = 19\n",
      "MAE is  75785.01 for k = 20\n"
     ]
    }
   ],
   "source": [
    "#tunning the model based on Mean Absolute Error\n",
    "for k in range(20):\n",
    "    k = k + 1\n",
    "    knn = neighbors.KNeighborsRegressor(n_neighbors = k, \n",
    "                                         weights='uniform', \n",
    "                                         algorithm='auto')\n",
    "    knn.fit(train_X_scale, train_y)\n",
    "    pred_y = knn.predict(test_X_scale)\n",
    "    print(\"MAE is \", metrics.mean_absolute_error(test_y, pred_y),\"for k =\",k)"
   ]
  },
  {
   "cell_type": "markdown",
   "metadata": {},
   "source": [
    "### Model Testing"
   ]
  },
  {
   "cell_type": "markdown",
   "metadata": {},
   "source": [
    "We have the lowest MAE for k=11"
   ]
  },
  {
   "cell_type": "code",
   "execution_count": 32,
   "metadata": {},
   "outputs": [
    {
     "name": "stdout",
     "output_type": "stream",
     "text": [
      "Mean Absolute Error is 76756.62\n",
      "Mean Squared Error is 12705194724.4\n",
      "R-squared is 0.43548835366415595\n",
      "Root Mean Squared Error is 112717.32220204665\n",
      "Mean Absolute Percentage Error is 0.30485730444701914\n"
     ]
    }
   ],
   "source": [
    "knn_final = neighbors.KNeighborsRegressor(n_neighbors = 11, \n",
    "                                      weights='uniform',                                    \n",
    "                                      algorithm='auto')\n",
    "knn_final.fit(train_X_scale, train_y)\n",
    "pred_y_knn_final = knn_final.predict(test_X_scale)\n",
    "print('Mean Absolute Error is',metrics.mean_absolute_error(test_y, pred_y_knn_final))\n",
    "print('Mean Squared Error is',metrics.mean_squared_error(test_y, pred_y_knn_final))\n",
    "print('R-squared is',metrics.r2_score(test_y, pred_y_knn_final))\n",
    "print('Root Mean Squared Error is',np.sqrt(metrics.mean_squared_error(test_y, pred_y_knn_final)))\n",
    "print('Mean Absolute Percentage Error is',np.mean(np.abs(pred_y_knn_final - test_y)/np.abs(test_y)))"
   ]
  },
  {
   "cell_type": "markdown",
   "metadata": {},
   "source": [
    "## Model 2: Random Forest"
   ]
  },
  {
   "cell_type": "code",
   "execution_count": 33,
   "metadata": {},
   "outputs": [],
   "source": [
    "from sklearn.ensemble import RandomForestRegressor"
   ]
  },
  {
   "cell_type": "markdown",
   "metadata": {},
   "source": [
    "### Model Building"
   ]
  },
  {
   "cell_type": "code",
   "execution_count": 34,
   "metadata": {},
   "outputs": [],
   "source": [
    "# Train an RF classifier\n",
    "rf = RandomForestRegressor(n_estimators=5, max_features=10, random_state=123)"
   ]
  },
  {
   "cell_type": "code",
   "execution_count": 35,
   "metadata": {},
   "outputs": [
    {
     "data": {
      "text/plain": [
       "RandomForestRegressor(bootstrap=True, ccp_alpha=0.0, criterion='mse',\n",
       "                      max_depth=None, max_features=10, max_leaf_nodes=None,\n",
       "                      max_samples=None, min_impurity_decrease=0.0,\n",
       "                      min_impurity_split=None, min_samples_leaf=1,\n",
       "                      min_samples_split=2, min_weight_fraction_leaf=0.0,\n",
       "                      n_estimators=5, n_jobs=None, oob_score=False,\n",
       "                      random_state=123, verbose=0, warm_start=False)"
      ]
     },
     "execution_count": 35,
     "metadata": {},
     "output_type": "execute_result"
    }
   ],
   "source": [
    "rf.fit(train_X,train_y)"
   ]
  },
  {
   "cell_type": "code",
   "execution_count": 36,
   "metadata": {},
   "outputs": [
    {
     "data": {
      "text/plain": [
       "array([1.97464897e-03, 8.22103288e-03, 4.02975473e-04, 3.59064837e-03,\n",
       "       2.58858590e-03, 2.55119093e-02, 3.66205930e-03, 6.11035547e-02,\n",
       "       4.23169227e-03, 8.91462538e-04, 8.53485269e-04, 3.53773964e-03,\n",
       "       4.66561296e-03, 3.76220492e-03, 1.72804250e-02, 1.08540459e-02,\n",
       "       4.53996002e-02, 1.40943776e-02, 4.42111342e-02, 1.95683216e-02,\n",
       "       6.57824476e-02, 2.85598777e-02, 5.80900957e-01, 1.04842455e-02,\n",
       "       3.78669550e-02])"
      ]
     },
     "execution_count": 36,
     "metadata": {},
     "output_type": "execute_result"
    }
   ],
   "source": [
    "# Show feature importance\n",
    "rf.feature_importances_"
   ]
  },
  {
   "cell_type": "code",
   "execution_count": 37,
   "metadata": {},
   "outputs": [
    {
     "data": {
      "text/html": [
       "<div>\n",
       "<style scoped>\n",
       "    .dataframe tbody tr th:only-of-type {\n",
       "        vertical-align: middle;\n",
       "    }\n",
       "\n",
       "    .dataframe tbody tr th {\n",
       "        vertical-align: top;\n",
       "    }\n",
       "\n",
       "    .dataframe thead th {\n",
       "        text-align: right;\n",
       "    }\n",
       "</style>\n",
       "<table border=\"1\" class=\"dataframe\">\n",
       "  <thead>\n",
       "    <tr style=\"text-align: right;\">\n",
       "      <th></th>\n",
       "      <th>importance</th>\n",
       "    </tr>\n",
       "  </thead>\n",
       "  <tbody>\n",
       "    <tr>\n",
       "      <th>LotValue</th>\n",
       "      <td>0.580901</td>\n",
       "    </tr>\n",
       "    <tr>\n",
       "      <th>SaleDate</th>\n",
       "      <td>0.065782</td>\n",
       "    </tr>\n",
       "    <tr>\n",
       "      <th>ParkingFacility</th>\n",
       "      <td>0.061104</td>\n",
       "    </tr>\n",
       "    <tr>\n",
       "      <th>Bedrooms</th>\n",
       "      <td>0.045400</td>\n",
       "    </tr>\n",
       "    <tr>\n",
       "      <th>FullBathrooms</th>\n",
       "      <td>0.044211</td>\n",
       "    </tr>\n",
       "    <tr>\n",
       "      <th>SquareFootAreaoftheLot</th>\n",
       "      <td>0.037867</td>\n",
       "    </tr>\n",
       "    <tr>\n",
       "      <th>Weight</th>\n",
       "      <td>0.028560</td>\n",
       "    </tr>\n",
       "    <tr>\n",
       "      <th>Division</th>\n",
       "      <td>0.025512</td>\n",
       "    </tr>\n",
       "    <tr>\n",
       "      <th>HalfBathrooms</th>\n",
       "      <td>0.019568</td>\n",
       "    </tr>\n",
       "    <tr>\n",
       "      <th>PrimaryExteriorWallMaterial</th>\n",
       "      <td>0.017280</td>\n",
       "    </tr>\n",
       "    <tr>\n",
       "      <th>Fireplace</th>\n",
       "      <td>0.014094</td>\n",
       "    </tr>\n",
       "    <tr>\n",
       "      <th>SecondaryExteriorWallMaterial</th>\n",
       "      <td>0.010854</td>\n",
       "    </tr>\n",
       "    <tr>\n",
       "      <th>SquareFootAreaofFinishedBasement</th>\n",
       "      <td>0.010484</td>\n",
       "    </tr>\n",
       "    <tr>\n",
       "      <th>Foundation</th>\n",
       "      <td>0.008221</td>\n",
       "    </tr>\n",
       "    <tr>\n",
       "      <th>Porch</th>\n",
       "      <td>0.004666</td>\n",
       "    </tr>\n",
       "    <tr>\n",
       "      <th>PrimarySpaceHeatingSystem</th>\n",
       "      <td>0.004232</td>\n",
       "    </tr>\n",
       "    <tr>\n",
       "      <th>Stories</th>\n",
       "      <td>0.003762</td>\n",
       "    </tr>\n",
       "    <tr>\n",
       "      <th>TypeofFinancing</th>\n",
       "      <td>0.003662</td>\n",
       "    </tr>\n",
       "    <tr>\n",
       "      <th>Deck</th>\n",
       "      <td>0.003591</td>\n",
       "    </tr>\n",
       "    <tr>\n",
       "      <th>Patio</th>\n",
       "      <td>0.003538</td>\n",
       "    </tr>\n",
       "    <tr>\n",
       "      <th>DesignofHouse</th>\n",
       "      <td>0.002589</td>\n",
       "    </tr>\n",
       "    <tr>\n",
       "      <th>CentralAir-conditioning</th>\n",
       "      <td>0.001975</td>\n",
       "    </tr>\n",
       "    <tr>\n",
       "      <th>MetropolitanArea</th>\n",
       "      <td>0.000891</td>\n",
       "    </tr>\n",
       "    <tr>\n",
       "      <th>ConstructionMethod</th>\n",
       "      <td>0.000853</td>\n",
       "    </tr>\n",
       "    <tr>\n",
       "      <th>Condominium</th>\n",
       "      <td>0.000403</td>\n",
       "    </tr>\n",
       "  </tbody>\n",
       "</table>\n",
       "</div>"
      ],
      "text/plain": [
       "                                  importance\n",
       "LotValue                            0.580901\n",
       "SaleDate                            0.065782\n",
       "ParkingFacility                     0.061104\n",
       "Bedrooms                            0.045400\n",
       "FullBathrooms                       0.044211\n",
       "SquareFootAreaoftheLot              0.037867\n",
       "Weight                              0.028560\n",
       "Division                            0.025512\n",
       "HalfBathrooms                       0.019568\n",
       "PrimaryExteriorWallMaterial         0.017280\n",
       "Fireplace                           0.014094\n",
       "SecondaryExteriorWallMaterial       0.010854\n",
       "SquareFootAreaofFinishedBasement    0.010484\n",
       "Foundation                          0.008221\n",
       "Porch                               0.004666\n",
       "PrimarySpaceHeatingSystem           0.004232\n",
       "Stories                             0.003762\n",
       "TypeofFinancing                     0.003662\n",
       "Deck                                0.003591\n",
       "Patio                               0.003538\n",
       "DesignofHouse                       0.002589\n",
       "CentralAir-conditioning             0.001975\n",
       "MetropolitanArea                    0.000891\n",
       "ConstructionMethod                  0.000853\n",
       "Condominium                         0.000403"
      ]
     },
     "execution_count": 37,
     "metadata": {},
     "output_type": "execute_result"
    }
   ],
   "source": [
    "# Beautify the display of feature importance\n",
    "feature_importances = pd.DataFrame(rf.feature_importances_,\n",
    "                                   index = train_X.columns,\n",
    "                                   columns=['importance'])\n",
    "feature_importances = feature_importances.sort_values('importance',ascending=False)\n",
    "\n",
    "feature_importances"
   ]
  },
  {
   "cell_type": "code",
   "execution_count": 38,
   "metadata": {},
   "outputs": [
    {
     "data": {
      "text/plain": [
       "<matplotlib.axes._subplots.AxesSubplot at 0x2b282627828>"
      ]
     },
     "execution_count": 38,
     "metadata": {},
     "output_type": "execute_result"
    },
    {
     "data": {
      "image/png": "[encoded data removed]",
      "text/plain": [
       "<Figure size 1080x360 with 1 Axes>"
      ]
     },
     "metadata": {
      "needs_background": "light"
     },
     "output_type": "display_data"
    }
   ],
   "source": [
    "feature_importances.plot(kind = 'bar',figsize=(15,5),\n",
    "                         title='Feature Importance of German Credit Dataset')"
   ]
  },
  {
   "cell_type": "code",
   "execution_count": 39,
   "metadata": {},
   "outputs": [
    {
     "name": "stdout",
     "output_type": "stream",
     "text": [
      "Mean Absolute Error is 49376.86\n",
      "Mean Squared Error is 5170145704.4\n",
      "R-squared is 0.770282350904711\n",
      "Root Mean Squared Error is 71903.72524702735\n",
      "Mean Absolute Percentage Error is 0.19345207638548034\n"
     ]
    }
   ],
   "source": [
    "# Predict on test set\n",
    "pred_y_rf = rf.predict(test_X)\n",
    "print('Mean Absolute Error is',metrics.mean_absolute_error(test_y, pred_y_rf))\n",
    "print('Mean Squared Error is',metrics.mean_squared_error(test_y, pred_y_rf))\n",
    "print('R-squared is',metrics.r2_score(test_y, pred_y_rf))\n",
    "print('Root Mean Squared Error is',np.sqrt(metrics.mean_squared_error(test_y, pred_y_rf)))\n",
    "print('Mean Absolute Percentage Error is',np.mean(np.abs(pred_y_rf - test_y)/np.abs(test_y)))"
   ]
  },
  {
   "cell_type": "markdown",
   "metadata": {},
   "source": [
    "### Model Tunning"
   ]
  },
  {
   "cell_type": "code",
   "execution_count": 40,
   "metadata": {},
   "outputs": [],
   "source": [
    "parameters = {'criterion': ['mse','mae'],\n",
    "              'n_estimators':[10,20,30,40,50,60,70,80,90,100],\n",
    "              'random_state':[123]}"
   ]
  },
  {
   "cell_type": "code",
   "execution_count": 41,
   "metadata": {},
   "outputs": [],
   "source": [
    "rf2 = RandomForestRegressor()"
   ]
  },
  {
   "cell_type": "code",
   "execution_count": 42,
   "metadata": {},
   "outputs": [],
   "source": [
    "# Use a 5-fold cross-validation\n",
    "grid_rf = GridSearchCV(rf2, parameters, cv=5)"
   ]
  },
  {
   "cell_type": "code",
   "execution_count": 43,
   "metadata": {},
   "outputs": [
    {
     "name": "stdout",
     "output_type": "stream",
     "text": [
      "Time Sart:04/24/2020 14:47:53\n",
      "Time End:04/24/2020 15:05:53\n",
      "Execution Time (Seconds):1080.0570487976074\n"
     ]
    }
   ],
   "source": [
    "import time\n",
    "start = time.time()\n",
    "print('Time Sart:'+ time.strftime(\"%m/%d/%Y %H:%M:%S\"))\n",
    "\n",
    "grid_rf.fit(train_X,train_y)\n",
    "\n",
    "end = time.time()\n",
    "print('Time End:'+ time.strftime(\"%m/%d/%Y %H:%M:%S\"))\n",
    "print('Execution Time (Seconds):' + str(end - start))"
   ]
  },
  {
   "cell_type": "code",
   "execution_count": 44,
   "metadata": {},
   "outputs": [
    {
     "data": {
      "text/plain": [
       "{'criterion': 'mae', 'n_estimators': 100, 'random_state': 123}"
      ]
     },
     "execution_count": 44,
     "metadata": {},
     "output_type": "execute_result"
    }
   ],
   "source": [
    "# Show best parameters\n",
    "grid_rf.best_params_"
   ]
  },
  {
   "cell_type": "markdown",
   "metadata": {},
   "source": [
    "### Model testing"
   ]
  },
  {
   "cell_type": "code",
   "execution_count": 46,
   "metadata": {},
   "outputs": [],
   "source": [
    "# Train a new RF with best parameters\n",
    "rf_final = RandomForestRegressor(criterion='mae',n_estimators=100, random_state=123)"
   ]
  },
  {
   "cell_type": "code",
   "execution_count": 47,
   "metadata": {},
   "outputs": [
    {
     "name": "stdout",
     "output_type": "stream",
     "text": [
      "Mean Absolute Error is 44484.9705\n",
      "Mean Squared Error is 4253032472.90325\n",
      "R-squared is 0.8110311242544297\n",
      "Root Mean Squared Error is 65215.2779101895\n",
      "Mean Absolute Percentage Error is 0.1747319674894066\n"
     ]
    }
   ],
   "source": [
    "rf_final.fit(train_X,train_y)\n",
    "# Predict on test set\n",
    "pred_y_rf_final = grid_rf.predict(test_X)\n",
    "print('Mean Absolute Error is',metrics.mean_absolute_error(test_y, pred_y_rf_final))\n",
    "print('Mean Squared Error is',metrics.mean_squared_error(test_y, pred_y_rf_final))\n",
    "print('R-squared is',metrics.r2_score(test_y, pred_y_rf_final))\n",
    "print('Root Mean Squared Error is',np.sqrt(metrics.mean_squared_error(test_y, pred_y_rf_final)))\n",
    "print('Mean Absolute Percentage Error is',np.mean(np.abs(pred_y_rf_final - test_y)/np.abs(test_y)))"
   ]
  },
  {
   "cell_type": "markdown",
   "metadata": {},
   "source": [
    "## Model 3: ANN"
   ]
  },
  {
   "cell_type": "markdown",
   "metadata": {},
   "source": [
    "### Model Building"
   ]
  },
  {
   "cell_type": "code",
   "execution_count": 62,
   "metadata": {},
   "outputs": [],
   "source": [
    "from sklearn import neural_network\n",
    "ann1 = neural_network.MLPRegressor(alpha=1e-5,max_iter=1000,\n",
    "                                   hidden_layer_sizes=(20),\n",
    "                                   random_state=1)"
   ]
  },
  {
   "cell_type": "code",
   "execution_count": 63,
   "metadata": {},
   "outputs": [
    {
     "name": "stderr",
     "output_type": "stream",
     "text": [
      "C:\\Users\\rhak2f\\AppData\\Local\\Programs\\Python\\Python37\\lib\\site-packages\\sklearn\\neural_network\\_multilayer_perceptron.py:571: ConvergenceWarning: Stochastic Optimizer: Maximum iterations (1000) reached and the optimization hasn't converged yet.\n",
      "  % self.max_iter, ConvergenceWarning)\n"
     ]
    },
    {
     "data": {
      "text/plain": [
       "MLPRegressor(activation='relu', alpha=1e-05, batch_size='auto', beta_1=0.9,\n",
       "             beta_2=0.999, early_stopping=False, epsilon=1e-08,\n",
       "             hidden_layer_sizes=20, learning_rate='constant',\n",
       "             learning_rate_init=0.001, max_fun=15000, max_iter=1000,\n",
       "             momentum=0.9, n_iter_no_change=10, nesterovs_momentum=True,\n",
       "             power_t=0.5, random_state=1, shuffle=True, solver='adam',\n",
       "             tol=0.0001, validation_fraction=0.1, verbose=False,\n",
       "             warm_start=False)"
      ]
     },
     "execution_count": 63,
     "metadata": {},
     "output_type": "execute_result"
    }
   ],
   "source": [
    "ann1.fit(train_X_scale, train_y)"
   ]
  },
  {
   "cell_type": "code",
   "execution_count": 64,
   "metadata": {},
   "outputs": [
    {
     "data": {
      "text/plain": [
       "count     1000.000000\n",
       "mean     68514.077159\n",
       "std       9975.271744\n",
       "min      43137.578372\n",
       "25%      60855.371314\n",
       "50%      68185.612412\n",
       "75%      75547.078255\n",
       "max      99597.403401\n",
       "dtype: float64"
      ]
     },
     "execution_count": 64,
     "metadata": {},
     "output_type": "execute_result"
    }
   ],
   "source": [
    "# Predict on test set\n",
    "pred_y1 = ann1.predict(test_X_scale)\n",
    "pd.Series(pred_y1).describe()"
   ]
  },
  {
   "cell_type": "markdown",
   "metadata": {},
   "source": [
    "### Model Tunning"
   ]
  },
  {
   "cell_type": "code",
   "execution_count": 69,
   "metadata": {},
   "outputs": [],
   "source": [
    "parameters = {'alpha': [1e-5],\n",
    "              'batch_size':[32,64,128],\n",
    "              'solver':['lbfgs'],\n",
    "              'learning_rate':['constant', 'adaptive'],\n",
    "              'hidden_layer_sizes':[2,3,4,5,6,7,8,9,10,(1, 1),(2, 2),(3, 3),(1, 1, 1),(2, 2, 2),(3, 3, 3)],\n",
    "              'random_state':[123]}"
   ]
  },
  {
   "cell_type": "code",
   "execution_count": 70,
   "metadata": {},
   "outputs": [],
   "source": [
    "ann2 = neural_network.MLPRegressor(max_iter=1000)"
   ]
  },
  {
   "cell_type": "code",
   "execution_count": 71,
   "metadata": {},
   "outputs": [],
   "source": [
    "# Use a 5-fold cross-validation\n",
    "grid_ann = GridSearchCV(ann2, parameters, cv=5)"
   ]
  },
  {
   "cell_type": "code",
   "execution_count": 72,
   "metadata": {},
   "outputs": [
    {
     "data": {
      "text/plain": [
       "GridSearchCV(cv=5, error_score=nan,\n",
       "             estimator=MLPRegressor(activation='relu', alpha=0.0001,\n",
       "                                    batch_size='auto', beta_1=0.9, beta_2=0.999,\n",
       "                                    early_stopping=False, epsilon=1e-08,\n",
       "                                    hidden_layer_sizes=(100,),\n",
       "                                    learning_rate='constant',\n",
       "                                    learning_rate_init=0.001, max_fun=15000,\n",
       "                                    max_iter=1000, momentum=0.9,\n",
       "                                    n_iter_no_change=10,\n",
       "                                    nesterovs_momentum=True, power_t=0.5,\n",
       "                                    random_state...\n",
       "                                    validation_fraction=0.1, verbose=False,\n",
       "                                    warm_start=False),\n",
       "             iid='deprecated', n_jobs=None,\n",
       "             param_grid={'alpha': [1e-05], 'batch_size': [32, 64, 128],\n",
       "                         'hidden_layer_sizes': [2, 3, 4, 5, 6, 7, 8, 9, 10,\n",
       "                                                (1, 1), (2, 2), (3, 3),\n",
       "                                                (1, 1, 1), (2, 2, 2),\n",
       "                                                (3, 3, 3)],\n",
       "                         'learning_rate': ['constant', 'adaptive'],\n",
       "                         'random_state': [123], 'solver': ['lbfgs']},\n",
       "             pre_dispatch='2*n_jobs', refit=True, return_train_score=False,\n",
       "             scoring=None, verbose=0)"
      ]
     },
     "execution_count": 72,
     "metadata": {},
     "output_type": "execute_result"
    }
   ],
   "source": [
    "grid_ann.fit(train_X,train_y)"
   ]
  },
  {
   "cell_type": "code",
   "execution_count": 75,
   "metadata": {},
   "outputs": [
    {
     "data": {
      "text/plain": [
       "{'alpha': 1e-05,\n",
       " 'batch_size': 32,\n",
       " 'hidden_layer_sizes': 10,\n",
       " 'learning_rate': 'constant',\n",
       " 'random_state': 123,\n",
       " 'solver': 'lbfgs'}"
      ]
     },
     "execution_count": 75,
     "metadata": {},
     "output_type": "execute_result"
    }
   ],
   "source": [
    "# Show best parameters\n",
    "grid_ann.best_params_"
   ]
  },
  {
   "cell_type": "markdown",
   "metadata": {},
   "source": [
    "### Model Testing"
   ]
  },
  {
   "cell_type": "code",
   "execution_count": 78,
   "metadata": {},
   "outputs": [
    {
     "data": {
      "text/plain": [
       "MLPRegressor(activation='relu', alpha=1e-05, batch_size=32, beta_1=0.9,\n",
       "             beta_2=0.999, early_stopping=False, epsilon=1e-08,\n",
       "             hidden_layer_sizes=10, learning_rate='constant',\n",
       "             learning_rate_init=0.001, max_fun=15000, max_iter=1000,\n",
       "             momentum=0.9, n_iter_no_change=10, nesterovs_momentum=True,\n",
       "             power_t=0.5, random_state=123, shuffle=True, solver='lbfgs',\n",
       "             tol=0.0001, validation_fraction=0.1, verbose=False,\n",
       "             warm_start=False)"
      ]
     },
     "execution_count": 78,
     "metadata": {},
     "output_type": "execute_result"
    }
   ],
   "source": [
    "# Train a new RF with best parameters\n",
    "ann_final = neural_network.MLPRegressor(max_iter=1000,alpha= 1e-05,\n",
    " batch_size= 32,\n",
    " hidden_layer_sizes= 10,\n",
    " learning_rate= 'constant',\n",
    " random_state= 123,\n",
    " solver= 'lbfgs')\n",
    "ann_final.fit(train_X_scale, train_y)"
   ]
  },
  {
   "cell_type": "code",
   "execution_count": 79,
   "metadata": {},
   "outputs": [
    {
     "name": "stdout",
     "output_type": "stream",
     "text": [
      "Mean Absolute Error is 48500.967963298186\n",
      "Mean Squared Error is 4855820471.093498\n",
      "R-squared is 0.784248311977152\n",
      "Root Mean Squared Error is 69683.71740294498\n",
      "Mean Absolute Percentage Error is 0.19272588438627988\n"
     ]
    }
   ],
   "source": [
    "pred_y_ann_final = ann_final.predict(test_X_scale)\n",
    "print('Mean Absolute Error is',metrics.mean_absolute_error(test_y, pred_y_ann_final))\n",
    "print('Mean Squared Error is',metrics.mean_squared_error(test_y, pred_y_ann_final))\n",
    "print('R-squared is',metrics.r2_score(test_y, pred_y_ann_final))\n",
    "print('Root Mean Squared Error is',np.sqrt(metrics.mean_squared_error(test_y, pred_y_ann_final)))\n",
    "print('Mean Absolute Percentage Error is',np.mean(np.abs(pred_y_ann_final - test_y)/np.abs(test_y)))"
   ]
  },
  {
   "cell_type": "markdown",
   "metadata": {},
   "source": [
    "# Summary of all Models"
   ]
  },
  {
   "cell_type": "code",
   "execution_count": 80,
   "metadata": {},
   "outputs": [],
   "source": [
    "MAE = [metrics.mean_absolute_error(test_y, pred_y_knn_final),\n",
    "       metrics.mean_absolute_error(test_y, pred_y_rf_final),\n",
    "       metrics.mean_absolute_error(test_y, pred_y_ann_final)]\n",
    "\n",
    "MSE=[metrics.mean_squared_error(test_y, pred_y_knn_final),\n",
    "    metrics.mean_squared_error(test_y, pred_y_rf_final),\n",
    "    metrics.mean_squared_error(test_y, pred_y_ann_final)]\n",
    "\n",
    "RSquared=[metrics.r2_score(test_y, pred_y_knn_final),\n",
    "         metrics.r2_score(test_y, pred_y_rf_final),\n",
    "         metrics.r2_score(test_y, pred_y_ann_final)]\n",
    "\n",
    "RMSE=[np.sqrt(metrics.mean_squared_error(test_y, pred_y_knn_final)),\n",
    "     np.sqrt(metrics.mean_squared_error(test_y, pred_y_rf_final)),\n",
    "     np.sqrt(metrics.mean_squared_error(test_y, pred_y_ann_final))]\n",
    "\n",
    "MAPE=[np.mean(np.abs(pred_y_knn_final - test_y)/np.abs(test_y)),\n",
    "     np.mean(np.abs(pred_y_rf_final - test_y)/np.abs(test_y)),\n",
    "     np.mean(np.abs(pred_y_ann_final - test_y)/np.abs(test_y))]"
   ]
  },
  {
   "cell_type": "code",
   "execution_count": 81,
   "metadata": {},
   "outputs": [
    {
     "data": {
      "text/html": [
       "<div>\n",
       "<style scoped>\n",
       "    .dataframe tbody tr th:only-of-type {\n",
       "        vertical-align: middle;\n",
       "    }\n",
       "\n",
       "    .dataframe tbody tr th {\n",
       "        vertical-align: top;\n",
       "    }\n",
       "\n",
       "    .dataframe thead th {\n",
       "        text-align: right;\n",
       "    }\n",
       "</style>\n",
       "<table border=\"1\" class=\"dataframe\">\n",
       "  <thead>\n",
       "    <tr style=\"text-align: right;\">\n",
       "      <th></th>\n",
       "      <th>MAE</th>\n",
       "      <th>MSE</th>\n",
       "      <th>RSquared</th>\n",
       "      <th>RMSE</th>\n",
       "      <th>MAPE</th>\n",
       "    </tr>\n",
       "  </thead>\n",
       "  <tbody>\n",
       "    <tr>\n",
       "      <th>k-NN</th>\n",
       "      <td>75256.481818</td>\n",
       "      <td>1.209208e+10</td>\n",
       "      <td>0.462730</td>\n",
       "      <td>109964.001495</td>\n",
       "      <td>0.302772</td>\n",
       "    </tr>\n",
       "    <tr>\n",
       "      <th>Random Forest</th>\n",
       "      <td>44484.970500</td>\n",
       "      <td>4.253032e+09</td>\n",
       "      <td>0.811031</td>\n",
       "      <td>65215.277910</td>\n",
       "      <td>0.174732</td>\n",
       "    </tr>\n",
       "    <tr>\n",
       "      <th>ANN</th>\n",
       "      <td>48500.967963</td>\n",
       "      <td>4.855820e+09</td>\n",
       "      <td>0.784248</td>\n",
       "      <td>69683.717403</td>\n",
       "      <td>0.192726</td>\n",
       "    </tr>\n",
       "  </tbody>\n",
       "</table>\n",
       "</div>"
      ],
      "text/plain": [
       "                        MAE           MSE  RSquared           RMSE      MAPE\n",
       "k-NN           75256.481818  1.209208e+10  0.462730  109964.001495  0.302772\n",
       "Random Forest  44484.970500  4.253032e+09  0.811031   65215.277910  0.174732\n",
       "ANN            48500.967963  4.855820e+09  0.784248   69683.717403  0.192726"
      ]
     },
     "execution_count": 81,
     "metadata": {},
     "output_type": "execute_result"
    }
   ],
   "source": [
    "pd.DataFrame({'MAE':MAE, 'MSE':MSE, 'RSquared':RSquared, 'RMSE':RMSE,'MAPE': MAPE},\n",
    "             index = ['k-NN',\n",
    "                      'Random Forest',\n",
    "                      'ANN'])"
   ]
  },
  {
   "cell_type": "markdown",
   "metadata": {},
   "source": [
    "The best model so far is the Random Forest"
   ]
  },
  {
   "cell_type": "code",
   "execution_count": 94,
   "metadata": {},
   "outputs": [
    {
     "data": {
      "image/png": "[encoded data removed]",
      "text/plain": [
       "<Figure size 576x360 with 1 Axes>"
      ]
     },
     "metadata": {
      "needs_background": "light"
     },
     "output_type": "display_data"
    }
   ],
   "source": [
    "plt.figure(figsize=(8,5))\n",
    "plt.scatter(test_y, pred_y_rf_final)\n",
    "plt.xlabel('Actual Price',fontsize=16)\n",
    "plt.ylabel('Predicted Price',fontsize=16)\n",
    "plt.xticks(fontsize=16,rotation=90)\n",
    "plt.yticks(fontsize=16)\n",
    "plt.show()"
   ]
  },
  {
   "cell_type": "code",
   "execution_count": null,
   "metadata": {},
   "outputs": [],
   "source": []
  }
 ],
 "metadata": {
  "kernelspec": {
   "display_name": "Python 3",
   "language": "python",
   "name": "python3"
  },
  "language_info": {
   "codemirror_mode": {
    "name": "ipython",
    "version": 3
   },
   "file_extension": ".py",
   "mimetype": "text/x-python",
   "name": "python",
   "nbconvert_exporter": "python",
   "pygments_lexer": "ipython3",
   "version": "3.7.0"
  }
 },
 "nbformat": 4,
 "nbformat_minor": 2
}
